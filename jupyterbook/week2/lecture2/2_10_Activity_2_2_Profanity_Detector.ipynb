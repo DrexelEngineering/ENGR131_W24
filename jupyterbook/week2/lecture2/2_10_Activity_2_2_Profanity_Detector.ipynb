{
 "cells": [
  {
   "attachments": {},
   "cell_type": "markdown",
   "metadata": {},
   "source": [
    "# 💻 Activity 3.2: Profanity & Word Count Detector\n",
    "\n",
    "## Task 1: Detect & Replace Profanity\n",
    "The growth of public forums has required automated filters to remove profanity and other inappropriate content from the web. We have provided you with two emails from a newsgroup dataset. We would like you to find and remove the profanity using string tools. \n",
    "\n",
    "Since the articles selected do not have profane content we will assume the word \"philosopher\" is profane."
   ]
  },
  {
   "cell_type": "code",
   "execution_count": 1,
   "metadata": {},
   "outputs": [],
   "source": [
    "from sklearn.datasets import fetch_20newsgroups\n",
    "newsgroups_train = fetch_20newsgroups(subset='train', categories = ['sci.med'])\n",
    "Article_1 = newsgroups_train.data[0]\n",
    "Article_2 = newsgroups_train.data[1]"
   ]
  },
  {
   "cell_type": "code",
   "execution_count": 2,
   "metadata": {},
   "outputs": [
    {
     "name": "stdout",
     "output_type": "stream",
     "text": [
      "From: nyeda@cnsvax.uwec.edu (David Nye)\n",
      "Subject: Re: Post Polio Syndrome Information Needed Please !!!\n",
      "Organization: University of Wisconsin Eau Claire\n",
      "Lines: 21\n",
      "\n",
      "[reply to keith@actrix.gen.nz (Keith Stewart)]\n",
      " \n",
      ">My wife has become interested through an acquaintance in Post-Polio\n",
      ">Syndrome This apparently is not recognised in New Zealand and different\n",
      ">symptons ( eg chest complaints) are treated separately. Does anone have\n",
      ">any information on it\n",
      " \n",
      "It would help if you (and anyone else asking for medical information on\n",
      "some subject) could ask specific questions, as no one is likely to type\n",
      "in a textbook chapter covering all aspects of the subject.  If you are\n",
      "looking for a comprehensive review, ask your local hospital librarian.\n",
      "Most are happy to help with a request of this sort.\n",
      " \n",
      "Briefly, this is a condition in which patients who have significant\n",
      "residual weakness from childhood polio notice progression of the\n",
      "weakness as they get older.  One theory is that the remaining motor\n",
      "neurons have to work harder and so die sooner.\n",
      " \n",
      "David Nye (nyeda@cnsvax.uwec.edu).  Midelfort Clinic, Eau Claire WI\n",
      "This is patently absurd; but whoever wishes to become a philosopher\n",
      "must learn not to be frightened by absurdities. -- Bertrand Russell\n",
      "\n"
     ]
    }
   ],
   "source": [
    "print(Article_1)"
   ]
  },
  {
   "cell_type": "code",
   "execution_count": 3,
   "metadata": {},
   "outputs": [
    {
     "name": "stdout",
     "output_type": "stream",
     "text": [
      "From: koreth@spud.Hyperion.COM (Steven Grimm)\n",
      "Subject: Re: Opinions on Allergy (Hay Fever) shots?\n",
      "Organization: Hyperion, Mountain View, CA, USA\n",
      "Lines: 7\n",
      "NNTP-Posting-Host: spud.hyperion.com\n",
      "\n",
      "I had allergy shots for about four years starting as a sophomore in high\n",
      "school.  Before that, I used to get bloody noses, nighttime asthma attacks,\n",
      "and eyes so itchy I couldn't get to sleep.  After about 6 months on the\n",
      "shots, most of those symptoms were gone, and they haven't come back.  I\n",
      "stopped getting the shots (due more to laziness than planning) in college.\n",
      "My allergies got a little worse after that, but are still nowhere near as\n",
      "bad as they used to be.  So yes, the shots do work.\n",
      "\n"
     ]
    }
   ],
   "source": [
    "print(Article_2)"
   ]
  },
  {
   "cell_type": "markdown",
   "metadata": {},
   "source": [
    "1. Determine if there is a profane word in the article?"
   ]
  },
  {
   "cell_type": "code",
   "execution_count": 4,
   "metadata": {
    "tags": [
     "skip-execution"
    ]
   },
   "outputs": [],
   "source": [
    "# Article 1\n",
    "..."
   ]
  },
  {
   "cell_type": "code",
   "execution_count": 5,
   "metadata": {
    "tags": [
     "hide-cell"
    ]
   },
   "outputs": [
    {
     "data": {
      "text/plain": [
       "True"
      ]
     },
     "execution_count": 5,
     "metadata": {},
     "output_type": "execute_result"
    }
   ],
   "source": [
    "\"philosopher\" in Article_1"
   ]
  },
  {
   "cell_type": "code",
   "execution_count": 6,
   "metadata": {
    "tags": [
     "skip-execution"
    ]
   },
   "outputs": [],
   "source": [
    "# Article 2\n",
    "..."
   ]
  },
  {
   "cell_type": "code",
   "execution_count": 7,
   "metadata": {
    "tags": [
     "hide-cell"
    ]
   },
   "outputs": [
    {
     "data": {
      "text/plain": [
       "False"
      ]
     },
     "execution_count": 7,
     "metadata": {},
     "output_type": "execute_result"
    }
   ],
   "source": [
    "\"philosopher\" in Article_2"
   ]
  },
  {
   "cell_type": "markdown",
   "metadata": {},
   "source": [
    "2. Replace the profane word with `****`"
   ]
  },
  {
   "cell_type": "code",
   "execution_count": 8,
   "metadata": {
    "tags": [
     "skip-execution"
    ]
   },
   "outputs": [],
   "source": [
    "# Replace \n",
    "..."
   ]
  },
  {
   "cell_type": "code",
   "execution_count": 9,
   "metadata": {
    "tags": [
     "hide-cell"
    ]
   },
   "outputs": [],
   "source": [
    "Article_1 = Article_1.replace(\"philosopher\", '****')"
   ]
  },
  {
   "cell_type": "code",
   "execution_count": 10,
   "metadata": {
    "tags": [
     "skip-execution"
    ]
   },
   "outputs": [
    {
     "name": "stdout",
     "output_type": "stream",
     "text": [
      "From: nyeda@cnsvax.uwec.edu (David Nye)\n",
      "Subject: Re: Post Polio Syndrome Information Needed Please !!!\n",
      "Organization: University of Wisconsin Eau Claire\n",
      "Lines: 21\n",
      "\n",
      "[reply to keith@actrix.gen.nz (Keith Stewart)]\n",
      " \n",
      ">My wife has become interested through an acquaintance in Post-Polio\n",
      ">Syndrome This apparently is not recognised in New Zealand and different\n",
      ">symptons ( eg chest complaints) are treated separately. Does anone have\n",
      ">any information on it\n",
      " \n",
      "It would help if you (and anyone else asking for medical information on\n",
      "some subject) could ask specific questions, as no one is likely to type\n",
      "in a textbook chapter covering all aspects of the subject.  If you are\n",
      "looking for a comprehensive review, ask your local hospital librarian.\n",
      "Most are happy to help with a request of this sort.\n",
      " \n",
      "Briefly, this is a condition in which patients who have significant\n",
      "residual weakness from childhood polio notice progression of the\n",
      "weakness as they get older.  One theory is that the remaining motor\n",
      "neurons have to work harder and so die sooner.\n",
      " \n",
      "David Nye (nyeda@cnsvax.uwec.edu).  Midelfort Clinic, Eau Claire WI\n",
      "This is patently absurd; but whoever wishes to become a ****\n",
      "must learn not to be frightened by absurdities. -- Bertrand Russell\n",
      "\n",
      "From: koreth@spud.Hyperion.COM (Steven Grimm)\n",
      "Subject: Re: Opinions on Allergy (Hay Fever) shots?\n",
      "Organization: Hyperion, Mountain View, CA, USA\n",
      "Lines: 7\n",
      "NNTP-Posting-Host: spud.hyperion.com\n",
      "\n",
      "I had allergy shots for about four years starting as a sophomore in high\n",
      "school.  Before that, I used to get bloody noses, nighttime asthma attacks,\n",
      "and eyes so itchy I couldn't get to sleep.  After about 6 months on the\n",
      "shots, most of those symptoms were gone, and they haven't come back.  I\n",
      "stopped getting the shots (due more to laziness than planning) in college.\n",
      "My allergies got a little worse after that, but are still nowhere near as\n",
      "bad as they used to be.  So yes, the shots do work.\n",
      "\n"
     ]
    }
   ],
   "source": [
    "# check both articles visually\n",
    "print(Article_1)\n",
    "print(Article_2)"
   ]
  },
  {
   "cell_type": "markdown",
   "metadata": {},
   "source": [
    "## Task 2: Evaluate Word Limit\n",
    "\n",
    "Some forums may like to impose a word limit on posts.\n",
    "\n",
    "Use what you have learned about methods that operate on strings to \n",
    "1. count the number of words, and \n",
    "2. determine if the number of words in each article is greater than the word limit of 200."
   ]
  },
  {
   "cell_type": "code",
   "execution_count": 11,
   "metadata": {
    "tags": [
     "skip-execution"
    ]
   },
   "outputs": [
    {
     "data": {
      "text/plain": [
       "Ellipsis"
      ]
     },
     "execution_count": 11,
     "metadata": {},
     "output_type": "execute_result"
    }
   ],
   "source": [
    "..."
   ]
  },
  {
   "cell_type": "code",
   "execution_count": 18,
   "metadata": {
    "tags": [
     "hide-cell"
    ]
   },
   "outputs": [
    {
     "name": "stdout",
     "output_type": "stream",
     "text": [
      "Article 1 has 180 words\n",
      "Article 2 has 107 words\n"
     ]
    }
   ],
   "source": [
    "print(f\"Article 1 has {len(Article_1.split(' '))} words\")\n",
    "print(f\"Article 2 has {len(Article_2.split(' '))} words\")"
   ]
  },
  {
   "cell_type": "code",
   "execution_count": null,
   "metadata": {},
   "outputs": [],
   "source": []
  }
 ],
 "metadata": {
  "celltoolbar": "Tags",
  "kernelspec": {
   "display_name": "ENGR_131",
   "language": "python",
   "name": "python3"
  },
  "language_info": {
   "codemirror_mode": {
    "name": "ipython",
    "version": 3
   },
   "file_extension": ".py",
   "mimetype": "text/x-python",
   "name": "python",
   "nbconvert_exporter": "python",
   "pygments_lexer": "ipython3",
   "version": "3.10.0"
  },
  "vscode": {
   "interpreter": {
    "hash": "775f42d2c624786ce087f304b32550a3a398124b7164551d1aea823130207773"
   }
  }
 },
 "nbformat": 4,
 "nbformat_minor": 2
}
