{
 "cells": [
  {
   "attachments": {},
   "cell_type": "markdown",
   "metadata": {
    "editable": false
   },
   "source": [
    "# Quiz 2 - Hello World\n"
   ]
  },
  {
   "cell_type": "markdown",
   "metadata": {
    "editable": false
   },
   "source": [
    "### Starting Your Assignment\n",
    "\n",
    "Navigate to the assignment on the course website. Click on the rocket icon to launch the assignment in the JupyterHub."
   ]
  },
  {
   "cell_type": "markdown",
   "metadata": {
    "editable": false
   },
   "source": [
    "## Part 1: Entering Your Information for Credit\n",
    "\n",
    "To receive credit for assignments it is important we can identify your work from others. To do this we will ask you to enter your information in the following code block.\n",
    "\n",
    "### Before you begin\n",
    "\n",
    "Run the block of code at the top of the notebook that imports and sets up the autograder. This will allow you to check your work. \n",
    "\n",
    "**Make sure you run all your code, and run the tests. If you do not run the test you will not get credit for your work.**"
   ]
  },
  {
   "cell_type": "code",
   "execution_count": null,
   "metadata": {
    "tags": []
   },
   "outputs": [],
   "source": [
    "# Please provide your first name, last name, Drexel ID, and Drexel email. Make sure these are provided as strings. \"STRINGS ARE TEXT ENCLOSED IN QUOTATION MARKS.\"\n",
    "\n",
    "# In the assignments you will see sections of code that you need to fill in that are marked with ... (three dots). Replace the ... with your code.\n",
    "first_name = ...\n",
    "last_name = ...\n",
    "drexel_id = ...\n",
    "drexel_email = ...\n"
   ]
  },
  {
   "cell_type": "markdown",
   "metadata": {
    "editable": false
   },
   "source": [
    "## Question 1: Importing Packages and Doing Math\n",
    "\n",
    "The power of python comes from the packages that are available for it. In this question, you will learn how to import packages and use them to do math.\n",
    "\n",
    "Write a Python code to import the `math` package and then use it to calculate the factorial of 8. This uses the `math.factorial` method. \n",
    "\n",
    "### Example 1\n",
    "\n",
    "To help you we provide an example for you to understand the syntax required. All homework assignments will be wrapped in a function for grading purposes. For now, just ignore the `def function_name():` and `return` lines. We will explain them later in the course. For now just focus on the code inside the function.\n",
    "\n",
    "#### Example syntax: \n",
    "\n",
    "We provide an example solution of the following question for you to reference. \n",
    "\n",
    "Write a Python code to import the `math` package and then use it to calculate the natural logarithm of 20. print the result.\n",
    "\n",
    "```python\n",
    "# Import the math package\n",
    "import math\n",
    "\n",
    "def example_1():\n",
    "\n",
    "   # Calculate and print the natural logarithm of 20\n",
    "   log_20 = math.log(20)\n",
    "   output = print(log_20)\n",
    "\n",
    "   return output\n",
    "\n",
    "```\n"
   ]
  },
  {
   "cell_type": "code",
   "execution_count": null,
   "metadata": {
    "tags": []
   },
   "outputs": [],
   "source": [
    "# import required packages here\n",
    "\n",
    "...\n",
    "\n",
    "# This line of code defines a function\n",
    "# DO NOT CHANGE THIS LINE OF CODE\n",
    "def question_1():\n",
    "\n",
    "   # Calculate the square root of 256\n",
    "   # Python is sensitive to indentation, so make your code is indented as provided\n",
    "   factorial_8 = ...\n",
    "\n",
    "   # This line of code returns variables\n",
    "   # DO NOT CHANGE THIS LINE OF CODE\n",
    "   return factorial_8\n",
    "\n",
    "# This line of code calls the function\n",
    "# DO NOT CHANGE THIS LINE OF CODE\n",
    "factorial_8 = question_1()"
   ]
  },
  {
   "cell_type": "markdown",
   "metadata": {
    "editable": false
   },
   "source": [
    "## Question 2: Applying Simple Mathematical Operations\n",
    "\n",
    "Write a Python program that calculates and prints the result of the following operations:\n",
    "- Assign a to the value of 123456\n",
    "- Assign b to the value of 7\n",
    "- Compute how many times 7 can go into 123456.\n",
    "- Compute the remainder of 123456 when divided by 7."
   ]
  },
  {
   "cell_type": "code",
   "execution_count": null,
   "metadata": {
    "tags": []
   },
   "outputs": [],
   "source": [
    "# This line of code defines a function\n",
    "# DO NOT CHANGE THIS LINE OF CODE\n",
    "def question_2():\n",
    "   a = ...\n",
    "   b = ...\n",
    "\n",
    "   # how many times does b go into a?\n",
    "   floor_division = ...\n",
    "   \n",
    "   # what is the remainder?\n",
    "   remainder_result = ...\n",
    "\n",
    "   # This line of code returns variables\n",
    "   # DO NOT CHANGE THIS LINE OF CODE\n",
    "   return (floor_division, remainder_result, a, b)\n",
    "\n",
    "# This line of code calls the function\n",
    "# DO NOT CHANGE THIS CODE\n",
    "output = question_2()\n",
    "\n",
    "\n",
    "# Print the results to help you troubleshoot if needed\n"
   ]
  },
  {
   "cell_type": "markdown",
   "metadata": {
    "editable": false
   },
   "source": [
    "## Question 3: Basic Printing of Strings\n",
    "\n",
    "Print the following sentence in Python: `Go BIRDS!` Make sure to include the exclamation mark."
   ]
  },
  {
   "cell_type": "code",
   "execution_count": null,
   "metadata": {
    "tags": []
   },
   "outputs": [],
   "source": [
    "# This line of code defines a function\n",
    "# DO NOT CHANGE THIS LINE OF CODE\n",
    "def question_3():\n",
    "   \n",
    "   string = ...\n",
    "\n",
    "   output = ...\n",
    "\n",
    "   # This line of code returns variables\n",
    "   # DO NOT CHANGE THIS LINE OF CODE\n",
    "   return string\n",
    "\n",
    "# This line of code calls the function\n",
    "# DO NOT CHANGE THIS LINE OF CODE\n",
    "output = question_3()"
   ]
  },
  {
   "cell_type": "markdown",
   "metadata": {
    "editable": false
   },
   "source": [
    "## Question 4: Assigning Variable and Operations on Variables \n",
    "\n",
    "Create two variables: `a` and `b`. Assign the value 15 to `a` and the value 18 to `b`. Then, create a third variable `c` that stores the multiplication results of `a` and `b`."
   ]
  },
  {
   "cell_type": "code",
   "execution_count": null,
   "metadata": {
    "tags": []
   },
   "outputs": [],
   "source": [
    "# This line of code defines a function\n",
    "# DO NOT CHANGE THIS LINE OF CODE\n",
    "def question_4():\n",
    "   a = ...\n",
    "   b = ...\n",
    "   c = ...\n",
    "   \n",
    "   return a, b, c  \n",
    "\n",
    "# This line of code calls the function\n",
    "# DO NOT CHANGE THIS LINE OF CODE\n",
    "a, b, c = question_4()"
   ]
  },
  {
   "cell_type": "markdown",
   "metadata": {
    "editable": false
   },
   "source": [
    "## Submitting Your Assignment\n",
    "\n",
    "To submit your quiz please use the following link the assignment on GitHub classroom.\n",
    "   \n",
    "Use this [link](https://classroom.github.com/a/VxTy6ZM0) to navigate to the assignment on GitHub classroom.\n",
    "\n",
    "Please submit just your output.log file. No other files are needed.\n",
    "\n",
    "## Viewing your score\n",
    "\n",
    "Each `log` file you have uploaded will have a file with the name of your file + `Grade_Report.md`. You can view this file by clicking on the file name. This will show you the results of the autograder. \n",
    "\n",
    "**Make sure you run your code, and run the tests. If you do not run the test you will not get credit for your work.**\n",
    "\n",
    "```{note}\n",
    "In python and particularly jupyter notebooks it is common that during testing you run cells in a different order, or run cells and modify them. This can cause there to be local variables needed for your solution that would not be recreated on running your code again from scratch. Your assignment will be graded based on running your code from scratch. This means before you submit your assignment you should restart the kernel and run all cells. You can do this by clicking `Kernel` and selecting `Restart and Run All`. If you code does not run as expected after restarting the kernel and running all cells it means you have an error in your code. \n",
    "```\n",
    "\n",
    "## Fin"
   ]
  },
  {
   "cell_type": "markdown",
   "metadata": {
    "editable": false
   },
   "source": []
  }
 ],
 "metadata": {
  "kernelspec": {
   "display_name": "torch",
   "language": "python",
   "name": "python3"
  },
  "language_info": {
   "codemirror_mode": {
    "name": "ipython",
    "version": 3
   },
   "file_extension": ".py",
   "mimetype": "text/x-python",
   "name": "python",
   "nbconvert_exporter": "python",
   "pygments_lexer": "ipython3",
   "version": "3.10.13"
  },
  "otter": {
   "OK_FORMAT": true,
   "tests": {
    "q0-Checking-Your-Name": {
     "name": "q0-Checking-Your-Name",
     "points": null,
     "suites": [
      {
       "cases": [
        {
         "code": ">>> def get_local_part(email):\n...     return email.split('@')[0]\n>>> local_part_email = get_local_part(drexel_email)\n>>> assert local_part_email == drexel_id, f\"The DrexelID extracted from the email '{local_part_email}' does not match the Drexel ID '{drexel_id}'.\"\n",
         "failure_message": "It does not appear that you entered your information correctly. Please try again.",
         "hidden": false,
         "locked": false,
         "points": 0,
         "success_message": "You have entered your information correctly."
        }
       ],
       "scored": true,
       "setup": "",
       "teardown": "",
       "type": "doctest"
      }
     ]
    },
    "q1-Conducting-Simple-Math": {
     "name": "q1-Conducting-Simple-Math",
     "points": null,
     "suites": [
      {
       "cases": [
        {
         "code": ">>> import drexel_jupyter_logger\n>>> a = question_1()\n>>> assert a == 40320\n>>> if a == 40320:\n...     drexel_jupyter_logger.variable_logger_csv('3, 3', 'q1_1')\n... else:\n...     drexel_jupyter_logger.variable_logger_csv('0, 3', 'q1_1')\n",
         "failure_message": "Variables incorrectly defined.",
         "hidden": false,
         "locked": false,
         "points": 3,
         "success_message": "Variables correctly defined."
        }
       ],
       "scored": true,
       "setup": "",
       "teardown": "",
       "type": "doctest"
      }
     ]
    },
    "q2-Applying-Simple-Mathematical-Operations": {
     "name": "q2-Applying-Simple-Mathematical-Operations",
     "points": null,
     "suites": [
      {
       "cases": [
        {
         "code": ">>> import drexel_jupyter_logger\n>>> output = question_2()\n>>> expected_values = (123456, 7)\n>>> statement = output[2:] == expected_values\n>>> assert statement\n>>> if statement:\n...     drexel_jupyter_logger.variable_logger_csv('1, 1', 'q2_1')\n... else:\n...     drexel_jupyter_logger.variable_logger_csv('0, 1', 'q2_1')\n",
         "failure_message": "The variables are not implemented correctly.",
         "hidden": false,
         "locked": false,
         "points": 1,
         "success_message": "The variables are implemented correctly."
        },
        {
         "code": ">>> import drexel_jupyter_logger\n>>> output = question_2()\n>>> solution = 17636\n>>> statement = output[0] == solution\n>>> assert statement\n>>> if statement:\n...     drexel_jupyter_logger.variable_logger_csv('2, 2', 'q2_2')\n... else:\n...     drexel_jupyter_logger.variable_logger_csv('0, 2', 'q2_2')\n",
         "failure_message": "The floor division is implemented correctly.",
         "hidden": false,
         "locked": false,
         "points": 2,
         "success_message": "The floor division is implemented correctly."
        }
       ],
       "scored": true,
       "setup": "",
       "teardown": "",
       "type": "doctest"
      }
     ]
    },
    "q3-Basic-Printing-of-Strings": {
     "name": "q3-Basic-Printing-of-Strings",
     "points": null,
     "suites": [
      {
       "cases": [
        {
         "code": ">>> from unittest.mock import patch\n>>> import drexel_jupyter_logger\n>>> with patch('builtins.print') as mock_print:\n...     string = question_3()\n...     mock_print.assert_called_once_with(string)\n...     first_call_args = mock_print.call_args_list[0]\n...     first_printed_string = first_call_args[0][0]\n...     if string == first_printed_string:\n...         drexel_jupyter_logger.variable_logger_csv('1, 1', 'q3_1')\n...     else:\n...         drexel_jupyter_logger.variable_logger_csv('0, 1', 'q3_1')\n",
         "failure_message": "Your code does not prints a string.",
         "hidden": false,
         "locked": false,
         "points": 1,
         "success_message": "Your code prints a string."
        }
       ],
       "scored": true,
       "setup": "",
       "teardown": "",
       "type": "doctest"
      }
     ]
    },
    "q4-Assigning-Variable-and-Operations-on-Variables": {
     "name": "q4-Assigning-Variable-and-Operations-on-Variables",
     "points": null,
     "suites": [
      {
       "cases": [
        {
         "code": ">>> import drexel_jupyter_logger\n>>> (a, b, c) = question_4()\n>>> number_a = 15\n>>> number_b = 18\n>>> statement = a == number_a and b == number_b\n>>> assert statement\n>>> if statement:\n...     drexel_jupyter_logger.variable_logger_csv('1, 1', 'q4_1')\n... else:\n...     drexel_jupyter_logger.variable_logger_csv('0, 1', 'q4_1')\n",
         "failure_message": "The variable a is not correctly assigned.",
         "hidden": false,
         "locked": false,
         "points": 1,
         "success_message": "The variable a is correctly assigned."
        }
       ],
       "scored": true,
       "setup": "",
       "teardown": "",
       "type": "doctest"
      }
     ]
    }
   }
  },
  "vscode": {
   "interpreter": {
    "hash": "6c85558113b53c129e108b4bd8e5af9b1125141b2f5c4ff4283ce45d32702647"
   }
  }
 },
 "nbformat": 4,
 "nbformat_minor": 2
}
