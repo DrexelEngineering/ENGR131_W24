{
 "cells": [
  {
   "cell_type": "code",
   "execution_count": null,
   "metadata": {
    "deletable": false,
    "editable": false
   },
   "outputs": [],
   "source": [
    "# Initialize Otter\n",
    "import otter\n",
    "grader = otter.Notebook(\"lab_1-assignment-workflow.ipynb\")"
   ]
  },
  {
   "attachments": {},
   "cell_type": "markdown",
   "metadata": {},
   "source": [
    "# Lab 1 - Using Jupyter Notebooks and Workflow for turning in Assignments\n",
    "\n",
    "In this class we will be using Jupyter Notebooks for completing homeworks. This homework assignment will make sure you are comfortable using these tools. \n",
    "\n",
    "Jupyter notebooks are Java-Script Object Notation files that allow you to create documents to move and transport code and documentation that can be run interactively. The postfix for the file is `.ipynb`, you can think of this like a word document for python. \n",
    "\n",
    "In this homework assignment we want you to demonstrate your proficiency using this system. We will provide you some code that allows you to create your own personalized T-shirt logo. \n"
   ]
  },
  {
   "cell_type": "markdown",
   "metadata": {},
   "source": [
    "\n",
    "## Part 0: Instructions for Assignments in the Course\n",
    "\n",
    "Computers work by following instructions exactly. Even the smallest of mistakes can cause a computer program not to work entirely. In this class we will expect that all of your work follows instructions exactly. We will provide many ways for you to check that you have not made a simple mistake in your assignments, however, just like a computer program if you do not follow instructions exactly you may not receive credit for your work. It is important that you read and understand all instructions for all assignments. \n",
    "\n",
    "Regrades and resubmissions will only be considered if there was an error in the submission or grading process. If instructions are not exactly followed this is not a valid reason for a regrade or resubmission.\n",
    "\n",
    "### Quiz and Test Taking\n",
    "\n",
    "For quizzes and test you will be required to record your quiz and exam to ensure you are using only allowed resources. We will be using a monitoring software. For each assignment where monitoring is required you will be provided with a special link to access the assignment. You will be required to open this link in Google Chrome - other web browsers (specifically Safari are not supported). You will be required to share your entire screen and record yourself on video. If you do not have a webcam you will be required to purchase one. To receive credit for monitored assignment you will be required to start the recording before you open the assignment and end the recording after you have submitted the assignment on GitHub classroom.\n",
    "\n",
    "### Starting Your Assignment\n",
    "\n",
    "[Click this link to start your assignment](https://online.wiseattend.com/student/testLink?c=ENGR131&k=8553)"
   ]
  },
  {
   "cell_type": "markdown",
   "metadata": {},
   "source": [
    "## Part 1: Entering Your Information for Credit\n",
    "\n",
    "To receive credit for assignments it is important we can identify your work from others. To do this we will ask you to enter your information in the following code block."
   ]
  },
  {
   "cell_type": "code",
   "execution_count": null,
   "metadata": {
    "tags": []
   },
   "outputs": [],
   "source": [
    "# Please provide your first name, last name, Drexel ID, and Drexel email. Make sure these are provided as strings. \"STRINGS ARE TEXT ENCLOSED IN QUOTATION MARKS.\"\n",
    "\n",
    "# In the assignments you will see sections of code that you need to fill in that are marked with ... (three dots). Replace the ... with your code.\n",
    "import random\n",
    "first_name = ...\n",
    "last_name = ...\n",
    "drexel_id = ...\n",
    "drexel_email = ...\n"
   ]
  },
  {
   "cell_type": "code",
   "execution_count": null,
   "metadata": {
    "deletable": false,
    "editable": false,
    "tags": [
     "otter-ignore"
    ]
   },
   "outputs": [],
   "source": [
    "grader.check(\"q0-Your-Name\")"
   ]
  },
  {
   "cell_type": "markdown",
   "metadata": {},
   "source": [
    "## Part 2: Building Your T-Shirt Logo\n",
    "\n",
    "Instructions: \n",
    "1. Open the notebook from the course website using the Jupyterhub. You can do this by clicking on the rocket ship and selecting jupyterhub.\n",
    "2. Copy and paste the provided code. \n",
    "\n",
    "```python\n",
    "import numpy as np\n",
    "from PIL import Image, ImageDraw, ImageFont\n",
    "import skimage\n",
    "from skimage.transform import rescale, resize, downscale_local_mean\n",
    "#import matplotlib.pyplot as plt\n",
    "\n",
    "class your_branded_shirt(): \n",
    "    \n",
    "    def __init__(self, validation = False):\n",
    "        \n",
    "        # identifies the location of the drexel dragon file\n",
    "        image_filename = \"./drexel_dragon.png\"\n",
    "\n",
    "        # loads the drexel dragon file into a numpy array\n",
    "        self.image = skimage.io.imread(image_filename)\n",
    "                \n",
    "        self.font = (\"./arial.TTF\")\n",
    "        \n",
    "        self.validation = validation\n",
    "        \n",
    "\n",
    "    def color_random(self):\n",
    "        \n",
    "        # selects a random int between 0,255 with size of 3 for RGB.\n",
    "    color = np.random.choice(range(255), size=3).astype(\"uint8\")\n",
    "        \n",
    "        # makes sure the color is not too blue to conceal the drexel logo\n",
    "        if color[2] > 150:\n",
    "            color[2] = 150\n",
    "\n",
    "        # returns the color    \n",
    "        return color\n",
    "\n",
    "\n",
    "    def rgb_to_hex(self, rgb):\n",
    "        # function to convert RGB to hex\n",
    "        return \"%02x%02x%02x\" % rgb\n",
    "\n",
    "\n",
    "    def image_canvas(self, text, size):\n",
    "\n",
    "        # Create font\n",
    "        pil_font = ImageFont.truetype(self.font, size=size, encoding=\"unic\")\n",
    "\n",
    "        # gets size of the text\n",
    "        _, _, text_width, text_height = pil_font.getbbox(text)\n",
    "\n",
    "        # creates a canvas based on the size of the text\n",
    "        return np.zeros((text_height, text_width + len(text) // 2, 3), dtype=\"uint8\")\n",
    "\n",
    "\n",
    "    def text_phantom(self, text, size):\n",
    "\n",
    "        # Create font\n",
    "        pil_font = ImageFont.truetype(self.font, size=size, encoding=\"unic\")\n",
    "        _, _, text_width, text_height = pil_font.getbbox(text)\n",
    "\n",
    "        # create a blank canvas with extra space between lines\n",
    "        canvas = Image.new(\"RGB\", [text_width, text_height], (255, 255, 255))\n",
    "\n",
    "        # draw the text onto the canvas\n",
    "        draw = ImageDraw.Draw(canvas)\n",
    "\n",
    "        offset = (0, 0)\n",
    "\n",
    "        # Calls the function to choose a random color\n",
    "        color_ = self.color_random()\n",
    "\n",
    "        # converts the color from RGB to hex\n",
    "        color = \"#\" + self.rgb_to_hex((color_[0], color_[1], color_[2]))\n",
    "        \n",
    "        # draws the text\n",
    "        draw.text(offset, text, font=pil_font, fill=color)\n",
    "\n",
    "        # Convert the canvas into an array with values in [0, 1]\n",
    "        return 255 - np.asarray(canvas)\n",
    "\n",
    "\n",
    "    def multicolor_image(self, text, height):\n",
    "        \n",
    "        # creates the canvas\n",
    "        out = self.image_canvas(text, height)\n",
    "        \n",
    "        # sets an initial position\n",
    "        pos = 0\n",
    "\n",
    "        # for loop that goes around each letter in the text\n",
    "        for i in text:\n",
    "            letter = self.text_phantom(i, height)\n",
    "\n",
    "            #Add the letter to the image\n",
    "            out[0 : letter.shape[0], pos : pos + letter.shape[1], :] = letter\n",
    "            \n",
    "            # adjusts the position so the letters do not overlap\n",
    "            pos += letter.shape[1]\n",
    "\n",
    "        return out\n",
    "\n",
    "\n",
    "    def build_image(self, name):\n",
    "    \n",
    "        # creates a 256,256,3 image where 3 represents RGB\n",
    "        bkgr = np.zeros((256, 265, 3), dtype=\"uint8\")\n",
    "\n",
    "        # Sets the background to be a random color\n",
    "        bkgr[:, :, :] = self.color_random()\n",
    "\n",
    "        # Resizes the image to fit within the frame\n",
    "        image_resized = resize(self.image, (106, 150), anti_aliasing=True)\n",
    "\n",
    "        # places the drexel dragon image in the correct location\n",
    "        bkgr[3:109, (256 - 150) // 2 : (256 - 150) // 2 + 150][\n",
    "            image_resized[:, :, :-1].sum(axis=2) < 2\n",
    "        ] = (image_resized[:, :, :-1] * 255).astype(\"uint8\")[\n",
    "            image_resized[:, :, :-1].sum(axis=2) < 2\n",
    "        ]\n",
    "\n",
    "        # writes the word congratulations as multicolored text\n",
    "        out = self.multicolor_image(\"Congratulations!\", 33)\n",
    "\n",
    "        # adds the word congratulations to the image under the dragon\n",
    "        bkgr[\n",
    "            126 : 126 + out.shape[0],\n",
    "            (256 - out.shape[1]) // 2 : (256 - out.shape[1]) // 2 + out.shape[1],\n",
    "        ][out.sum(axis=2) > 0.1] = out.astype(\"uint8\")[out.sum(axis=2) > 0.1]\n",
    "\n",
    "        # moves the starting y position down a line\n",
    "        y = 126 + out.shape[0]\n",
    "\n",
    "        # You type your comment here for what this line of code does. \n",
    "        out = self.multicolor_image(name, 33)\n",
    "\n",
    "        # Adds your name to the image\n",
    "        bkgr[\n",
    "            y + 10 : y + 10 + out.shape[0],\n",
    "            (256 - out.shape[1]) // 2 : (256 - out.shape[1]) // 2 + out.shape[1],\n",
    "        ][out.sum(axis=2) > 0.1] = out.astype(\"uint8\")[out.sum(axis=2) > 0.1]\n",
    "        \n",
    "        if self.validation:\n",
    "            image = bkgr\n",
    "        else:\n",
    "            # makes the image\n",
    "            image = plt.imshow(bkgr)\n",
    "            \n",
    "            # saves the image\n",
    "            plt.savefig(f'{name}_image.png')\n",
    "        \n",
    "        # returns the plot \n",
    "        return image\n",
    "\n",
    "```\n",
    "\n",
    "3. As you can see we have used `#` to add comments to the code. This is an important part of your assignments and grade. Comments show us that you not only completed the assignments but understand the code. \n",
    "4. The following code has 3 problems which need to be fixed so that it can run. We would like you to get comfortable reading error messages and using the `friendly.jupyter` to help you discover your errors. There are small errors or corrections that need to be made on lines 5, 25, and 130. \n",
    "\n",
    "Hint: you can simply view the line numbers by pressing `shift + l` when in a cell. You can toggle between typing and edit mode using the `esc` key.\n",
    "\n",
    "5. You need to instantiate the the class by typing `shirt =  your_branded_shirt()`\n",
    "\n",
    "6. We would like you to call the `shirt.build_image` function to produce your image. You do this by typing `shirt.build_image(\"Your Name\")` into a new cell after running the copied code. You replace \\<Your Name\\> with your actual name. Make sure your name is in `\"` as this defines a string of characters in python. \n",
    "\n",
    "Hint: cells can be run by pressing `shift` + `enter`\n",
    "\n",
    "7. To turn in the assignment please download the `.ipynb` file and your image from the jupyter hub. You will then need to upload the files to the assignment on github classroom. Please name your files `YOURDREXELUSERNAME_HW1.ipynb` and `YOURDREXELUSERNAME_image.png`. Where you replace your drexel username with your actual drexel username. Due to the size of the class we will be using an automatic grading system. Upon submission your assignment will be graded, and a score file will appear in your git repository. This score file will tell you if you have passed all of the tests. If you have not passed all of the tests you can resubmit your assignment as many times as you would like before the due date. Assignments will not be accepted after the due date unless prior arrangements have been made with the instructors. "
   ]
  },
  {
   "cell_type": "markdown",
   "metadata": {},
   "source": [
    "Run the following code by pressing `shift + enter`, this is a module that helps explain errors to you."
   ]
  },
  {
   "cell_type": "code",
   "execution_count": null,
   "metadata": {
    "tags": [
     "otter_ignore",
     "skip-execution"
    ]
   },
   "outputs": [],
   "source": [
    "from friendly.jupyter import *"
   ]
  },
  {
   "cell_type": "markdown",
   "metadata": {},
   "source": [
    "**Question 1: Make Your Branded Shirt**\n",
    "\n"
   ]
  },
  {
   "cell_type": "code",
   "execution_count": null,
   "metadata": {
    "tags": []
   },
   "outputs": [],
   "source": [
    "# Paste your code here\n",
    "\n",
    "..."
   ]
  },
  {
   "cell_type": "code",
   "execution_count": null,
   "metadata": {
    "tags": []
   },
   "outputs": [],
   "source": [
    "# Your command to run build image goes here\n",
    "\n",
    "..."
   ]
  },
  {
   "cell_type": "code",
   "execution_count": null,
   "metadata": {
    "deletable": false,
    "editable": false,
    "tags": [
     "otter-ignore"
    ]
   },
   "outputs": [],
   "source": [
    "grader.check(\"q1-Make Your Branded Shirt\")"
   ]
  }
 ],
 "metadata": {
  "kernelspec": {
   "display_name": "torch",
   "language": "python",
   "name": "python3"
  },
  "language_info": {
   "codemirror_mode": {
    "name": "ipython",
    "version": 3
   },
   "file_extension": ".py",
   "mimetype": "text/x-python",
   "name": "python",
   "nbconvert_exporter": "python",
   "pygments_lexer": "ipython3",
   "version": "3.10.13"
  },
  "otter": {
   "OK_FORMAT": true,
   "tests": {
    "q0-Your-Name": {
     "name": "q0-Your-Name",
     "points": null,
     "suites": [
      {
       "cases": [
        {
         "code": ">>> def get_local_part(email):\n...     return email.split('@')[0]\n>>> local_part_email = get_local_part(drexel_email)\n>>> assert local_part_email == drexel_id, f\"The DrexelID extracted from the email '{local_part_email}' does not match the Drexel ID '{drexel_id}'.\"\n",
         "failure_message": "It does not appear that you entered your information correctly. Please try again.",
         "hidden": false,
         "locked": false,
         "points": 5,
         "success_message": "You have entered your information correctly."
        }
       ],
       "scored": true,
       "setup": "",
       "teardown": "",
       "type": "doctest"
      }
     ]
    },
    "q1-Make Your Branded Shirt": {
     "name": "q1-Make Your Branded Shirt",
     "points": null,
     "suites": [
      {
       "cases": [
        {
         "code": ">>> np.random.seed(42)\n>>> random.seed(42)\n>>> shirt = your_branded_shirt(42)\n>>> assert all([102, 179, 92] == shirt.color_random())\n",
         "failure_message": "Color random incorrectly implemented.",
         "hidden": false,
         "locked": false,
         "points": 1,
         "success_message": "Color random correctly implemented."
        },
        {
         "code": ">>> np.random.seed(50)\n>>> random.seed(42)\n>>> shirt = your_branded_shirt(validation=True)\n>>> color = shirt.color_random()\n>>> assert 'b0e08b' == shirt.rgb_to_hex((color[0], color[1], color[2]))\n",
         "failure_message": "rgb_to_hex random incorrectly implemented.",
         "hidden": false,
         "locked": false,
         "points": 1,
         "success_message": "rgb_to_hex random correctly implemented."
        },
        {
         "code": ">>> np.random.seed(39)\n>>> random.seed(42)\n>>> shirt = your_branded_shirt(39)\n>>> assert shirt.multicolor_image('Drexel', 40).flatten().sum() == 430370\n",
         "failure_message": "multicolor_image random incorrectly implemented.",
         "hidden": false,
         "locked": false,
         "points": 1,
         "success_message": "multicolor_image random correctly implemented."
        },
        {
         "code": ">>> np.random.seed(63)\n>>> random.seed(42)\n>>> shirt = your_branded_shirt()\n>>> assert 211 == np.max(shirt.text_phantom('Engr_131', 40))\n",
         "failure_message": "text_phantom random incorrectly implemented.",
         "hidden": false,
         "locked": false,
         "points": 3,
         "success_message": "text_phantom random correctly implemented."
        }
       ],
       "scored": true,
       "setup": "",
       "teardown": "",
       "type": "doctest"
      }
     ]
    }
   }
  },
  "vscode": {
   "interpreter": {
    "hash": "6c85558113b53c129e108b4bd8e5af9b1125141b2f5c4ff4283ce45d32702647"
   }
  }
 },
 "nbformat": 4,
 "nbformat_minor": 2
}
