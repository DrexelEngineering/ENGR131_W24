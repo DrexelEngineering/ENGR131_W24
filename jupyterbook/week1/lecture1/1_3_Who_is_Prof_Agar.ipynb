{
 "cells": [
  {
   "attachments": {},
   "cell_type": "markdown",
   "metadata": {},
   "source": [
    "# 📝 Who is Professor Agar"
   ]
  },
  {
   "cell_type": "code",
   "execution_count": 3,
   "metadata": {
    "tags": [
     "hide-input"
    ]
   },
   "outputs": [
    {
     "data": {
      "text/html": [
       "<iframe src=\"https://www.slideshare.net/slideshow/embed_code/key/nrmn4NRY0slYOS?hostedIn=slideshare&page=upload\" width=\"1200\" height=\"800\" frameborder=\"1\" marginwidth=\"0\" marginheight=\"0\" scrolling=\"no\"></iframe>"
      ],
      "text/plain": [
       "<IPython.core.display.HTML object>"
      ]
     },
     "execution_count": 3,
     "metadata": {},
     "output_type": "execute_result"
    }
   ],
   "source": [
    "from IPython.display import HTML\n",
    "\n",
    "HTML('<iframe src=\"https://www.slideshare.net/slideshow/embed_code/key/nrmn4NRY0slYOS?hostedIn=slideshare&page=upload\" width=\"1200\" height=\"800\" frameborder=\"1\" marginwidth=\"0\" marginheight=\"0\" scrolling=\"no\"></iframe>')"
   ]
  },
  {
   "cell_type": "markdown",
   "metadata": {},
   "source": [
    "[Direct Link]( https://drexel0-my.sharepoint.com/:p:/g/personal/jca92_drexel_edu/EQY_rcGHdp5AlDXUk7WXGhUBsrIOExSzdIS8-IiLFX63tg)"
   ]
  },
  {
   "cell_type": "code",
   "execution_count": null,
   "metadata": {},
   "outputs": [],
   "source": []
  }
 ],
 "metadata": {
  "celltoolbar": "Tags",
  "kernelspec": {
   "display_name": "engr131",
   "language": "python",
   "name": "python3"
  },
  "language_info": {
   "codemirror_mode": {
    "name": "ipython",
    "version": 3
   },
   "file_extension": ".py",
   "mimetype": "text/x-python",
   "name": "python",
   "nbconvert_exporter": "python",
   "pygments_lexer": "ipython3",
   "version": "3.10.8"
  },
  "vscode": {
   "interpreter": {
    "hash": "db982e328663a2db3b6f47ccd278f30154ccd8de8e195897b14b89b93466dc3c"
   }
  }
 },
 "nbformat": 4,
 "nbformat_minor": 2
}
