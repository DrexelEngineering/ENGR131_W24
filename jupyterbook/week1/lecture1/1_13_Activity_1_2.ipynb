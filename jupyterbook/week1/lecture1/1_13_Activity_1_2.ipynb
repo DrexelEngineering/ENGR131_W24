{
 "cells": [
  {
   "cell_type": "markdown",
   "id": "9eb5d83f",
   "metadata": {},
   "source": [
    "# 💻 Activity: Practice with Variables and Operators\n",
    "\n",
    "## 1.2.1 Using Variables to Make a Price List\n",
    "\n",
    "You are working for your favorite grocer and they want you to calculate the price of goods at checkout. Here is a list of prices:\n",
    "\n",
    "| Item | Price per pound |\n",
    "|---|---|\n",
    "| Apples | \\$1.50 |\n",
    "| Oranges | \\$2.00 |\n",
    "| Bananas | \\$0.75 |\n",
    "| Carrots | \\$1.25 |\n",
    "| Beef | \\$5.00 |\n",
    "| Salmon | \\$8.00 |\n",
    "| Shrimp | \\$9.00 |\n",
    "\n",
    "<br>\n",
    "\n",
    "| Item | Quantity | Price |\n",
    "|---|---|---|\n",
    "| Bread | 1 loaf | \\$3.00 |\n",
    "| Milk | 1 gallon | \\$3.50 |\n",
    "| Eggs | 1 dozen | \\$3.00 |\n",
    "| Cheese | 1 lb | \\$5.00 |\n",
    "| Yogurt | 6 pack | \\$4.50 |\n",
    "\n",
    "\n",
    "\n",
    "Purchases:\n",
    "\n",
    "| Item | Quantity |\n",
    "|---|---|\n",
    "| Apples | 3 lbs |\n",
    "| Oranges | 2 lbs |\n",
    "| Bananas | 1 lb |\n",
    "| Carrots | 0.5 lb |\n",
    "| Bread | 1 loaf |\n",
    "| Milk | 1 gallon |\n",
    "| Eggs | 1 dozen |\n",
    "| Cheese | 1 lb |\n",
    "| Yogurt | 6 pack |\n",
    "\n",
    "A. Write a python script to calculate your bill.\n",
    "B. Write a print statement the prints the total cost of your bill."
   ]
  },
  {
   "cell_type": "code",
   "execution_count": null,
   "id": "13d8665e",
   "metadata": {},
   "outputs": [],
   "source": [
    "# your solution goes here"
   ]
  },
  {
   "cell_type": "markdown",
   "id": "15df086b",
   "metadata": {},
   "source": [
    "## 1.2.2 Planning for Paving a Driveway\n",
    "\n",
    "You are tasked with ordering asphalt to pave a driveway that is 12 feet wide, and 28 feet long. You want the end pavement to be 3 inches thick. When water is added to mix the asphalt it expands by 20\\% in volume, after pouring the asphalt reduces in volume by 31 percent. How much asphalt mix will you need to purchase. If it costs $1.03/cubic ft., what is the cost? You should include a safety factor (an excess) of 10\\% for material lost during processing. "
   ]
  },
  {
   "cell_type": "code",
   "execution_count": null,
   "id": "db708dc1",
   "metadata": {},
   "outputs": [],
   "source": [
    "# your solution goes here"
   ]
  },
  {
   "cell_type": "markdown",
   "id": "0346fb94",
   "metadata": {},
   "source": [
    "After you do the calculation your boss runs back to you and says he found a product that expands by 30 percent on mixing and shrinks by 12 percent on setting. The problem is it cost $1.40/cubic ft.. Which product should you go with?"
   ]
  },
  {
   "cell_type": "code",
   "execution_count": null,
   "id": "6b02e202",
   "metadata": {},
   "outputs": [],
   "source": [
    "# your solution goes here"
   ]
  }
 ],
 "metadata": {
  "kernelspec": {
   "display_name": "Python 3 (ipykernel)",
   "language": "python",
   "name": "python3"
  },
  "language_info": {
   "codemirror_mode": {
    "name": "ipython",
    "version": 3
   },
   "file_extension": ".py",
   "mimetype": "text/x-python",
   "name": "python",
   "nbconvert_exporter": "python",
   "pygments_lexer": "ipython3",
   "version": "3.10.0"
  },
  "varInspector": {
   "cols": {
    "lenName": 16,
    "lenType": 16,
    "lenVar": 40
   },
   "kernels_config": {
    "python": {
     "delete_cmd_postfix": "",
     "delete_cmd_prefix": "del ",
     "library": "var_list.py",
     "varRefreshCmd": "print(var_dic_list())"
    },
    "r": {
     "delete_cmd_postfix": ") ",
     "delete_cmd_prefix": "rm(",
     "library": "var_list.r",
     "varRefreshCmd": "cat(var_dic_list()) "
    }
   },
   "types_to_exclude": [
    "module",
    "function",
    "builtin_function_or_method",
    "instance",
    "_Feature"
   ],
   "window_display": false
  },
  "vscode": {
   "interpreter": {
    "hash": "db982e328663a2db3b6f47ccd278f30154ccd8de8e195897b14b89b93466dc3c"
   }
  }
 },
 "nbformat": 4,
 "nbformat_minor": 5
}
