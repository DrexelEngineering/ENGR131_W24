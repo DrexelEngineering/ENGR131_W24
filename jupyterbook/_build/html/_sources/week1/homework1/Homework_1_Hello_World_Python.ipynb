{
  "cells": [
    {
      "cell_type": "code",
      "execution_count": null,
      "metadata": {
        "deletable": false,
        "editable": false
      },
      "outputs": [],
      "source": [
        "# Initialize Otter\n",
        "import otter\n",
        "grader = otter.Notebook(\"Homework_1_Hello_World_Python.ipynb\")"
      ]
    },
    {
      "attachments": {},
      "cell_type": "markdown",
      "metadata": {
        "deletable": false,
        "editable": false
      },
      "source": [
        "# Homework 1 - Hello World in Python\n",
        "\n",
        "Python is a simple - compared to others - programming language. It is a good language to start with. In this homework, you will learn how to write a simple program in Python. The goal of this homework is to get you familiar with the programming environment and the tools we will use in this course. You will also learn how to do basic operations in Python.\n",
        "\n",
        "```{note}\n",
        "We realize that generative AI tools like ChatGPT are highly capable of solving all problems in this class. ChatGPT is a helpful tool to facilitate learning new approaches and coding concepts. However, ChatGPT has its limits, and the more you learn, the better your prompts will be. This will allow you to solve more complex problems faster. In this course we are expecting you to have a detailed understanding of the concepts covered in the homework. This will be tested in the quizzes and exams, where ChatGPT will not be available. Past experience has shown that students who rely on ChatGPT for homeworks and do not learn the concepts, struggle in the quizzes and exams.\n",
        "```\n"
      ]
    },
    {
      "cell_type": "markdown",
      "metadata": {
        "deletable": false,
        "editable": false
      },
      "source": [
        "## Starting Your Assignment\n",
        "\n",
        "Navigate to the assignment on the course website. Click on the rocket icon to launch the assignment in the JupyterHub."
      ]
    },
    {
      "cell_type": "markdown",
      "metadata": {
        "deletable": false,
        "editable": false
      },
      "source": [
        "## Part 1: Entering Your Information for Credit\n",
        "\n",
        "To receive credit for assignments it is important we can identify your work from others. To do this we will ask you to enter your information in the following code block.\n",
        "\n",
        "### Before you begin\n",
        "\n",
        "Run the block of code at the top of the notebook that imports and sets up the autograder. This will allow you to check your work. "
      ]
    },
    {
      "cell_type": "code",
      "execution_count": null,
      "metadata": {
        "tags": [
          "skip-execution"
        ]
      },
      "outputs": [],
      "source": [
        "# Please provide your first name, last name, Drexel ID, and Drexel email. Make sure these are provided as strings. \"STRINGS ARE TEXT ENCLOSED IN QUOTATION MARKS.\"\n",
        "\n",
        "# In the assignments you will see sections of code that you need to fill in that are marked with ... (three dots). Replace the ... with your code.\n",
        "first_name = ...\n",
        "last_name = ...\n",
        "drexel_id = ...\n",
        "drexel_email = ...\n"
      ]
    },
    {
      "cell_type": "code",
      "execution_count": null,
      "metadata": {
        "deletable": false,
        "editable": false,
        "tags": [
          "skip-execution"
        ]
      },
      "outputs": [],
      "source": [
        "grader.check(\"q0-Checking-Your-Name\")"
      ]
    },
    {
      "cell_type": "code",
      "execution_count": null,
      "metadata": {
        "tags": [
          "otter_ignore",
          "skip-execution"
        ]
      },
      "outputs": [],
      "source": [
        "from friendly.jupyter import *"
      ]
    },
    {
      "cell_type": "markdown",
      "metadata": {
        "deletable": false,
        "editable": false
      },
      "source": [
        "## Question 1: Importing Packages and Doing Math\n",
        "\n",
        "The power of python comes from the packages that are available for it. In this question, you will learn how to import packages and use them to do math.\n",
        "\n",
        "Write a Python code to import the `math` package and then use it to calculate the square root of 256. Print the result.\n",
        "\n",
        "### Example 1\n",
        "\n",
        "To help you we provide an example for you to understand the syntax required. All homework assignments will be wrapped in a function for grading purposes. For now, just ignore the `def function_name():` and `return` lines. We will explain them later in teh course. For now just focus on the code inside the function.\n",
        "\n",
        "#### Question: \n",
        "\n",
        "Write a Python code to import the `math` package and then use it to calculate the natural logarithm of 20. print the result.\n",
        "\n",
        "```python\n",
        "# Import the math package\n",
        "import math\n",
        "\n",
        "def example_1():\n",
        "\n",
        "   # Calculate and print the natural logarithm of 20\n",
        "   log_20 = math.log(20)\n",
        "   output = print(log_20)\n",
        "\n",
        "   return output\n",
        "\n",
        "```\n"
      ]
    },
    {
      "cell_type": "code",
      "execution_count": null,
      "metadata": {
        "tags": [
          "skip-execution"
        ]
      },
      "outputs": [],
      "source": [
        "# import required packages here\n",
        "\n",
        "...\n",
        "\n",
        "# This line of code defines a function\n",
        "# DO NOT CHANGE THIS LINE OF CODE\n",
        "def question_1(printing=True):\n",
        "\n",
        "   # Calculate the square root of 256\n",
        "   # Python is sensitive to indentation, so make your code is indented as provided\n",
        "   sqrt_256 = ...\n",
        "   \n",
        "   # This is an if statement that controls if the output is printed\n",
        "   # DO NOT CHANGE THIS LINE OF CODE\n",
        "   if printing:\n",
        "      \n",
        "      # print the output of the result\n",
        "      output = ...\n",
        "\n",
        "   # This line of code returns variables\n",
        "   # DO NOT CHANGE THIS LINE OF CODE\n",
        "   return sqrt_256\n",
        "\n",
        "# This line of code calls the function\n",
        "# DO NOT CHANGE THIS LINE OF CODE\n",
        "sqrt_256 = question_1()"
      ]
    },
    {
      "cell_type": "code",
      "execution_count": null,
      "metadata": {
        "deletable": false,
        "editable": false,
        "tags": [
          "skip-execution"
        ]
      },
      "outputs": [],
      "source": [
        "grader.check(\"q1-Conducting-Simple-Math\")"
      ]
    },
    {
      "cell_type": "markdown",
      "metadata": {
        "deletable": false,
        "editable": false
      },
      "source": [
        "## Question 2: Applying Simple Mathematical Operations\n",
        "\n",
        "Write a Python program that calculates and prints the result of the following operations:\n",
        "- The sum of a=15 and b=23.\n",
        "- The product of c=12 and d=4.\n",
        "- The division of e=48 by f=6.\n",
        "- The remainder when g=17 is divided by h=5."
      ]
    },
    {
      "cell_type": "code",
      "execution_count": null,
      "metadata": {
        "tags": [
          "skip-execution"
        ]
      },
      "outputs": [],
      "source": [
        "# This line of code defines a function\n",
        "# DO NOT CHANGE THIS LINE OF CODE\n",
        "def question_2():\n",
        "   a = ...\n",
        "   b = ...\n",
        "   c = ...\n",
        "   d = ...\n",
        "   e = ...\n",
        "   f = ...\n",
        "   g = ...\n",
        "   h = ...\n",
        "\n",
        "   sum_result = ...\n",
        "   product_result = ...\n",
        "   division_result = ...\n",
        "   remainder_result = ...\n",
        "\n",
        "   # This line of code returns variables\n",
        "   # DO NOT CHANGE THIS LINE OF CODE\n",
        "   return (sum_result, product_result, division_result, remainder_result, a, b, c, d, e, f, g, h)\n",
        "\n",
        "# This line of code calls the function\n",
        "# DO NOT CHANGE THIS CODE\n",
        "output = question_2()\n",
        "# Print the results\n",
        "print(\"Sum result:\", output[0])\n",
        "print(\"Product result:\", output[1])\n",
        "print(\"Division result:\", output[2])\n",
        "print(\"Remainder result:\", output[3])"
      ]
    },
    {
      "cell_type": "code",
      "execution_count": null,
      "metadata": {
        "deletable": false,
        "editable": false,
        "tags": [
          "skip-execution"
        ]
      },
      "outputs": [],
      "source": [
        "grader.check(\"q2-Applying-Simple-Mathematical-Operations\")"
      ]
    },
    {
      "cell_type": "markdown",
      "metadata": {
        "deletable": false,
        "editable": false
      },
      "source": [
        "## Question 3: Basic Printing of Strings\n",
        "\n",
        "Print the following sentence in Python: `Hello, Python world!` Make sure to include the exclamation mark."
      ]
    },
    {
      "cell_type": "code",
      "execution_count": null,
      "metadata": {
        "tags": [
          "skip-execution"
        ]
      },
      "outputs": [],
      "source": [
        "# This line of code defines a function\n",
        "# DO NOT CHANGE THIS LINE OF CODE\n",
        "def question_3():\n",
        "   \n",
        "   string = ...\n",
        "\n",
        "   output = ...\n",
        "\n",
        "   # This line of code returns variables\n",
        "   # DO NOT CHANGE THIS LINE OF CODE\n",
        "   return output, string\n",
        "\n",
        "# This line of code calls the function\n",
        "# DO NOT CHANGE THIS LINE OF CODE\n",
        "output = question_3()"
      ]
    },
    {
      "cell_type": "code",
      "execution_count": null,
      "metadata": {
        "deletable": false,
        "editable": false,
        "tags": [
          "skip-execution"
        ]
      },
      "outputs": [],
      "source": [
        "grader.check(\"q3-Basic-Printing-of-Strings\")"
      ]
    },
    {
      "cell_type": "markdown",
      "metadata": {
        "deletable": false,
        "editable": false
      },
      "source": [
        "## Question 4: Assigning Variable and Operations on Variables \n",
        "\n",
        "Create two variables: `a` and `b`. Assign the value 10 to `a` and the value 20 to `b`. Then, create a third variable `c` that stores the sum of `a` and `b`. Print the value of `c`."
      ]
    },
    {
      "cell_type": "code",
      "execution_count": null,
      "metadata": {
        "tags": [
          "skip-execution"
        ]
      },
      "outputs": [],
      "source": [
        "# This line of code defines a function\n",
        "# DO NOT CHANGE THIS LINE OF CODE\n",
        "def question_4(printing=True):\n",
        "   a = ...\n",
        "   b = ...\n",
        "   c = ...\n",
        "   \n",
        "   # This is an if statement that controls if the output is printed\n",
        "   # DO NOT CHANGE THIS LINE OF CODE\n",
        "   if printing:\n",
        "   \n",
        "      # your print statement\n",
        "      ...\n",
        "   \n",
        "   return a, b, c \n",
        "\n",
        "# This line of code calls the function\n",
        "# DO NOT CHANGE THIS LINE OF CODE\n",
        "a, b, c = question_4()"
      ]
    },
    {
      "cell_type": "code",
      "execution_count": null,
      "metadata": {
        "deletable": false,
        "editable": false,
        "tags": [
          "skip-execution"
        ]
      },
      "outputs": [],
      "source": [
        "grader.check(\"q4-Assigning-Variable-and-Operations-on-Variables\")"
      ]
    },
    {
      "cell_type": "markdown",
      "metadata": {
        "deletable": false,
        "editable": false
      },
      "source": [
        "## Question 5: Printing Text with Variables\n",
        "\n",
        "Create a variable named `course` and assign it the value \"Drexel ENGR131\". Then, print the following sentence using this variable: \"I am currently taking [course].\""
      ]
    },
    {
      "cell_type": "code",
      "execution_count": null,
      "metadata": {
        "tags": [
          "skip-execution"
        ]
      },
      "outputs": [],
      "source": [
        "# This line of code defines a function\n",
        "# DO NOT CHANGE THIS LINE OF CODE\n",
        "def question_5(*args, printing=True):\n",
        "   \n",
        "   ...\n",
        "   \n",
        "   # This line of code allows us to modify your variable so we can test you did not hard code the problem\n",
        "   # DO NOT CHANGE THIS CODE\n",
        "   if args:\n",
        "      course += args[0]\n",
        "   \n",
        "   # This is an if statement that controls if the output is printed\n",
        "   # DO NOT CHANGE THIS LINE OF CODE\n",
        "   if printing:\n",
        "      \n",
        "      # your print statement, make sure it is at this indentation level\n",
        "      ...\n",
        "\n",
        "\n",
        "\n",
        "   # This line of code returns variables\n",
        "   # DO NOT CHANGE THIS LINE OF CODE\n",
        "   return course\n",
        "\n",
        "# This line of code calls the function\n",
        "# DO NOT CHANGE THIS LINE OF CODE\n",
        "output = question_5()"
      ]
    },
    {
      "cell_type": "code",
      "execution_count": null,
      "metadata": {
        "deletable": false,
        "editable": false,
        "tags": [
          "skip-execution"
        ]
      },
      "outputs": [],
      "source": [
        "grader.check(\"q5-Printing-Text-with-Variables\")"
      ]
    },
    {
      "cell_type": "markdown",
      "metadata": {
        "deletable": false,
        "editable": false
      },
      "source": [
        "## Submitting Your Assignment\n",
        "\n",
        "To submit your assignment please use the following link the assignment on GitHub classroom.\n",
        "   \n",
        "Use this [link](https://classroom.github.com/a/1NXJctSt) to navigate to the assignment on GitHub classroom.\n",
        "\n",
        "If you need further instructions on submitting your assignment please look at Lab 1. \n",
        "\n",
        "## Viewing your score\n",
        "\n",
        "Each `.ipynb` file you have uploaded will have a file with the name of your file + `Grade_Report.md`. You can view this file by clicking on the file name. This will show you the results of the autograder. \n",
        "\n",
        "![](./figs/submitting_12.png)\n",
        "\n",
        "We have both public and hidden tests. You will be able to see the score of both tests, but not the specific details of why the test passed or failed. \n",
        "\n",
        "```{note}\n",
        "In python and particularly jupyter notebooks it is common that during testing you run cells in a different order, or run cells and modify them. This can cause there to be local variables needed for your solution that would not be recreated on running your code again from scratch. Your assignment will be graded based on running your code from scratch. This means before you submit your assignment you should restart the kernel and run all cells. You can do this by clicking `Kernel` and selecting `Restart and Run All`. If you code does not run as expected after restarting the kernel and running all cells it means you have an error in your code. \n",
        "```\n",
        "\n",
        "## Fin"
      ]
    },
    {
      "cell_type": "markdown",
      "metadata": {
        "deletable": false,
        "editable": false
      },
      "source": []
    }
  ],
  "metadata": {
    "kernelspec": {
      "display_name": "torch",
      "language": "python",
      "name": "python3"
    },
    "language_info": {
      "codemirror_mode": {
        "name": "ipython",
        "version": 3
      },
      "file_extension": ".py",
      "mimetype": "text/x-python",
      "name": "python",
      "nbconvert_exporter": "python",
      "pygments_lexer": "ipython3",
      "version": "3.10.13"
    },
    "otter": {
      "OK_FORMAT": true,
      "tests": {
        "q0-Checking-Your-Name": {
          "name": "q0-Checking-Your-Name",
          "points": null,
          "suites": [
            {
              "cases": [
                {
                  "code": ">>> def get_local_part(email):\n...     return email.split('@')[0]\n>>> local_part_email = get_local_part(drexel_email)\n>>> assert local_part_email == drexel_id, f\"The DrexelID extracted from the email '{local_part_email}' does not match the Drexel ID '{drexel_id}'.\"\n",
                  "failure_message": "It does not appear that you entered your information correctly. Please try again.",
                  "hidden": false,
                  "locked": false,
                  "points": 0,
                  "success_message": "You have entered your information correctly."
                }
              ],
              "scored": true,
              "setup": "",
              "teardown": "",
              "type": "doctest"
            }
          ]
        },
        "q1-Conducting-Simple-Math": {
          "name": "q1-Conducting-Simple-Math",
          "points": null,
          "suites": [
            {
              "cases": [
                {
                  "code": ">>> a = question_1(printing=False)\n>>> assert a == 16\n",
                  "failure_message": "Variables incorrectly defined.",
                  "hidden": false,
                  "locked": false,
                  "points": 1,
                  "success_message": "Variables correctly defined."
                },
                {
                  "code": ">>> from unittest.mock import patch\n>>> with patch('builtins.print') as mock_print:\n...     a = question_1()\n...     mock_print.assert_called_once_with(a)\n",
                  "failure_message": "Your code does not prints the result of sqrt_256.",
                  "hidden": false,
                  "locked": false,
                  "points": 2,
                  "success_message": "Your code prints the result of sqrt_256."
                }
              ],
              "scored": true,
              "setup": "",
              "teardown": "",
              "type": "doctest"
            }
          ]
        },
        "q2-Applying-Simple-Mathematical-Operations": {
          "name": "q2-Applying-Simple-Mathematical-Operations",
          "points": null,
          "suites": [
            {
              "cases": [
                {
                  "code": ">>> output = question_2()\n>>> expected_values = (15, 23, 12, 4, 48, 6, 17, 5)\n>>> assert output[4:] == expected_values\n",
                  "failure_message": "The variables are not implemented correctly.",
                  "hidden": false,
                  "locked": false,
                  "points": 2,
                  "success_message": "The variables are implemented correctly."
                },
                {
                  "code": ">>> output = question_2()\n>>> solution = 38\n>>> assert output[0] == solution\n",
                  "failure_message": "The sum of a and b is incorrect.",
                  "hidden": false,
                  "locked": false,
                  "points": 2,
                  "success_message": "The sum of a and b is correct."
                },
                {
                  "code": ">>> output = question_2()\n>>> solution = 48\n>>> assert output[1] == solution\n",
                  "failure_message": "The product of c and d is incorrect.",
                  "hidden": false,
                  "locked": false,
                  "points": 2,
                  "success_message": "The product of c and d is correct."
                }
              ],
              "scored": true,
              "setup": "",
              "teardown": "",
              "type": "doctest"
            }
          ]
        },
        "q3-Basic-Printing-of-Strings": {
          "name": "q3-Basic-Printing-of-Strings",
          "points": null,
          "suites": [
            {
              "cases": [
                {
                  "code": ">>> from unittest.mock import patch\n>>> with patch('builtins.print') as mock_print:\n...     (a, string) = question_3()\n...     mock_print.assert_called_once_with(string)\n",
                  "failure_message": "Your code does not prints a string.",
                  "hidden": false,
                  "locked": false,
                  "points": 2,
                  "success_message": "Your code prints a string."
                }
              ],
              "scored": true,
              "setup": "",
              "teardown": "",
              "type": "doctest"
            }
          ]
        },
        "q4-Assigning-Variable-and-Operations-on-Variables": {
          "name": "q4-Assigning-Variable-and-Operations-on-Variables",
          "points": null,
          "suites": [
            {
              "cases": [
                {
                  "code": ">>> (a, b, c) = question_4(printing=False)\n>>> number = 10\n>>> assert a == number\n",
                  "failure_message": "The variable a is not correctly assigned.",
                  "hidden": false,
                  "locked": false,
                  "points": 2,
                  "success_message": "The variable a is correctly assigned."
                },
                {
                  "code": ">>> (a, b, c) = question_4(printing=False)\n>>> number = 20\n>>> assert b == number\n",
                  "failure_message": "The variable b is not correctly assigned.",
                  "hidden": false,
                  "locked": false,
                  "points": 2,
                  "success_message": "The variable b is correctly assigned."
                }
              ],
              "scored": true,
              "setup": "",
              "teardown": "",
              "type": "doctest"
            }
          ]
        },
        "q5-Printing-Text-with-Variables": {
          "name": "q5-Printing-Text-with-Variables",
          "points": null,
          "suites": [
            {
              "cases": [
                {
                  "code": ">>> output = question_5(printing=False)\n>>> expected_initial_course = 'Drexel ENGR131'\n>>> assert output == expected_initial_course\n",
                  "failure_message": "The variable 'course' is not correctly defined.",
                  "hidden": false,
                  "locked": false,
                  "points": 2,
                  "success_message": "The variable 'course' is correctly defined."
                },
                {
                  "code": ">>> from unittest.mock import patch\n>>> test_string = ''\n>>> with patch('builtins.print') as mock_print:\n...     course = question_5(test_string)\n...     mock_print.assert_called_once_with(f'I am currently taking Drexel ENGR131{test_string}.')\n",
                  "failure_message": "The print statement is not correct.",
                  "hidden": false,
                  "locked": false,
                  "points": 2,
                  "success_message": "The print statement is correct."
                }
              ],
              "scored": true,
              "setup": "",
              "teardown": "",
              "type": "doctest"
            }
          ]
        }
      }
    },
    "vscode": {
      "interpreter": {
        "hash": "6c85558113b53c129e108b4bd8e5af9b1125141b2f5c4ff4283ce45d32702647"
      }
    }
  },
  "nbformat": 4,
  "nbformat_minor": 2
}
