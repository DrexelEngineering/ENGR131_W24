{
 "cells": [
  {
<<<<<<< HEAD
=======
   "attachments": {},
>>>>>>> 7b689596f64861861ba6f58390b3c28b26af9cad
   "cell_type": "markdown",
   "metadata": {},
   "source": [
    "# 📝 Debugging in Python\n",
    "\n",
<<<<<<< HEAD
    "When you write complex code with functions, you are more likely to encounter hidden bugs."
   ]
  },
  {
=======
    "When you write complex code with functions you are more likely to encounter hidden bugs"
   ]
  },
  {
   "attachments": {},
>>>>>>> 7b689596f64861861ba6f58390b3c28b26af9cad
   "cell_type": "markdown",
   "metadata": {},
   "source": [
    "Debuggers are effective tools to identify problems by stepping through code one step at a time."
   ]
  },
  {
<<<<<<< HEAD
=======
   "attachments": {},
>>>>>>> 7b689596f64861861ba6f58390b3c28b26af9cad
   "cell_type": "markdown",
   "metadata": {},
   "source": [
    "Consider the code:"
   ]
  },
  {
   "cell_type": "code",
<<<<<<< HEAD
   "execution_count": 1,
   "metadata": {},
   "outputs": [
    {
     "name": "stdout",
     "output_type": "stream",
     "text": [
      "10\n"
=======
   "execution_count": null,
   "metadata": {},
   "outputs": [
    {
     "ename": "",
     "evalue": "",
     "output_type": "error",
     "traceback": [
      "\u001b[1;31mRunning cells with 'base' requires ipykernel package.\n",
      "\u001b[1;31mRun the following command to install 'ipykernel' into the Python environment. \n",
      "\u001b[1;31mCommand: 'conda install -n base ipykernel --update-deps --force-reinstall'"
>>>>>>> 7b689596f64861861ba6f58390b3c28b26af9cad
     ]
    }
   ],
   "source": [
    "x = 20\n",
    "\n",
    "\n",
    "def my_function(value):\n",
    "    y = value\n",
    "    z = y + 3\n",
    "    print(z)\n",
    "\n",
    "\n",
    "my_function(7)\n"
   ]
  },
  {
<<<<<<< HEAD
   "cell_type": "markdown",
   "metadata": {},
   "source": [
    "Assume we wanted to figure out why `z` is not returning the value we expect. You might want to see what the value `y` is."
   ]
  },
  {
   "cell_type": "markdown",
   "metadata": {},
   "source": [
    "Since `y` is a local variable, you do not have direct access. You need to add a breakpoint and use a debugger reveal the inner workings of your code."
   ]
  },
  {
=======
   "attachments": {},
   "cell_type": "markdown",
   "metadata": {},
   "source": [
    "Assume we wanted to figure out why z is not returning the value we expect. You might want to see what the value y is."
   ]
  },
  {
   "attachments": {},
   "cell_type": "markdown",
   "metadata": {},
   "source": [
    "Since Y is a local variable you do not have direct access. You need to add a breakpoint and use a debugger reveal the inner workings of your code."
   ]
  },
  {
   "attachments": {},
>>>>>>> 7b689596f64861861ba6f58390b3c28b26af9cad
   "cell_type": "markdown",
   "metadata": {},
   "source": [
    "## Using the Debugger in JupyterHub"
   ]
  },
  {
<<<<<<< HEAD
=======
   "attachments": {},
>>>>>>> 7b689596f64861861ba6f58390b3c28b26af9cad
   "cell_type": "markdown",
   "metadata": {},
   "source": [
    "1. Click the bug on the right panel.\n",
    "\n",
    "![](images/Debugger_1.png)"
   ]
  },
  {
<<<<<<< HEAD
=======
   "attachments": {},
>>>>>>> 7b689596f64861861ba6f58390b3c28b26af9cad
   "cell_type": "markdown",
   "metadata": {},
   "source": [
    "2. Click the bug inside your notebook\n",
    "\n",
    "![](images/Debugger_2.png)"
   ]
  },
  {
<<<<<<< HEAD
=======
   "attachments": {},
>>>>>>> 7b689596f64861861ba6f58390b3c28b26af9cad
   "cell_type": "markdown",
   "metadata": {},
   "source": [
    "3. Add a breakpoint - This is where you want your code to stop\n",
    "\n",
    "![](images/breakpoints.png)"
   ]
  },
  {
<<<<<<< HEAD
=======
   "attachments": {},
>>>>>>> 7b689596f64861861ba6f58390b3c28b26af9cad
   "cell_type": "markdown",
   "metadata": {},
   "source": [
    "4. You can step through the program and reveal the variable as they are assigned\n",
    "\n",
    "![](images/Step_in.png)"
   ]
  },
  {
<<<<<<< HEAD
=======
   "attachments": {},
>>>>>>> 7b689596f64861861ba6f58390b3c28b26af9cad
   "cell_type": "markdown",
   "metadata": {},
   "source": [
    "It is best to use the debugger only when necessary because it slows down the computation on your kernel and uses a lot of memory. "
   ]
  }
 ],
 "metadata": {
  "kernelspec": {
<<<<<<< HEAD
   "display_name": "Python 3 (ipykernel)",
=======
   "display_name": "base",
>>>>>>> 7b689596f64861861ba6f58390b3c28b26af9cad
   "language": "python",
   "name": "python3"
  },
  "language_info": {
<<<<<<< HEAD
   "codemirror_mode": {
    "name": "ipython",
    "version": 3
   },
   "file_extension": ".py",
   "mimetype": "text/x-python",
   "name": "python",
   "nbconvert_exporter": "python",
   "pygments_lexer": "ipython3",
   "version": "3.11.5"
  },
  "varInspector": {
   "cols": {
    "lenName": 16,
    "lenType": 16,
    "lenVar": 40
   },
   "kernels_config": {
    "python": {
     "delete_cmd_postfix": "",
     "delete_cmd_prefix": "del ",
     "library": "var_list.py",
     "varRefreshCmd": "print(var_dic_list())"
    },
    "r": {
     "delete_cmd_postfix": ") ",
     "delete_cmd_prefix": "rm(",
     "library": "var_list.r",
     "varRefreshCmd": "cat(var_dic_list()) "
    }
   },
   "types_to_exclude": [
    "module",
    "function",
    "builtin_function_or_method",
    "instance",
    "_Feature"
   ],
   "window_display": false
  },
=======
   "name": "python",
   "version": "3.10.8 (main, Nov 24 2022, 14:13:03) [GCC 11.2.0]"
  },
  "orig_nbformat": 4,
>>>>>>> 7b689596f64861861ba6f58390b3c28b26af9cad
  "vscode": {
   "interpreter": {
    "hash": "d7d046052154998ca7dd3d9af52f7220fee50748c9a05b256540159ca8eb430c"
   }
  }
 },
 "nbformat": 4,
 "nbformat_minor": 2
}
