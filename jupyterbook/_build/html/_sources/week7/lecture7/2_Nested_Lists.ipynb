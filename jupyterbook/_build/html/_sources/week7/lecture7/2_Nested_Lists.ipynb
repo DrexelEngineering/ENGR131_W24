{
 "cells": [
  {
   "attachments": {},
   "cell_type": "markdown",
   "metadata": {
    "slideshow": {
     "slide_type": "slide"
    }
   },
   "source": [
    "# Accessing Items in a List\n"
   ]
  },
  {
   "attachments": {},
   "cell_type": "markdown",
   "metadata": {
    "slideshow": {
     "slide_type": "subslide"
    }
   },
   "source": [
    "## Consider a Circuit with Resistors in Series\n",
    "\n",
    "Let's use a circuit with 9 volts of energy and three different resistors in series. \n",
    "\n",
    "![image](https://www.allaboutcircuits.com/uploads/thumbnails/Figure_1._Series_circuit_with_a_battery_and_three_resistors__.jpg)\n",
    "\n",
    "Let's use nested lists to store information about the circuit."
   ]
  },
  {
   "cell_type": "code",
   "execution_count": 1,
   "metadata": {
    "slideshow": {
     "slide_type": "fragment"
    }
   },
   "outputs": [],
   "source": [
    "# create each list individually before nesting\n",
    "r1 = [3, \"series\", 1, 2]\n",
    "r2 = [10, \"series\", 2, 3]\n",
    "r3 = [5, \"series\", 3, 4]\n",
    "\n",
    "# make a nested list of the resistors in the circuit\n",
    "circuitSeries = [r1, r2, r3]\n"
   ]
  },
  {
   "attachments": {},
   "cell_type": "markdown",
   "metadata": {
    "slideshow": {
     "slide_type": "subslide"
    }
   },
   "source": [
    "Ohm's Law shows that the voltage (E) is equal to current (I) multiplied by resistance (R).\n",
    "\n",
    "$E = IR$"
   ]
  },
  {
   "attachments": {},
   "cell_type": "markdown",
   "metadata": {
    "slideshow": {
     "slide_type": "subslide"
    }
   },
   "source": [
    "Let's apply Ohm's Law to find the current going through each resistor and append it to the nested list."
   ]
  },
  {
   "cell_type": "code",
   "execution_count": 4,
   "metadata": {
    "slideshow": {
     "slide_type": "fragment"
    }
   },
   "outputs": [
    {
     "name": "stdout",
     "output_type": "stream",
     "text": [
      "[3, 'series', 1, 2, 3.0]\n"
     ]
    }
   ],
   "source": [
    "# voltage through the circuit\n",
    "V = 9\n",
    "\n",
    "# current through first resistor\n",
    "circuitSeries[0].append(V / circuitSeries[0][0])\n",
    "\n",
    "print(circuitSeries[0])\n"
   ]
  },
  {
   "cell_type": "code",
   "execution_count": 5,
   "metadata": {
    "slideshow": {
     "slide_type": "fragment"
    }
   },
   "outputs": [
    {
     "name": "stdout",
     "output_type": "stream",
     "text": [
      "18\n"
     ]
    }
   ],
   "source": [
    "# total resistance and current\n",
    "totalResistance = 0\n",
    "\n",
    "for resistor in circuitSeries:\n",
    "    totalResistance += resistor[0]\n",
    "\n",
    "print(totalResistance)\n"
   ]
  }
 ],
 "metadata": {
  "celltoolbar": "Slideshow",
  "kernelspec": {
   "display_name": "ENGR_131",
   "language": "python",
   "name": "python3"
  },
  "language_info": {
   "codemirror_mode": {
    "name": "ipython",
    "version": 3
   },
   "file_extension": ".py",
   "mimetype": "text/x-python",
   "name": "python",
   "nbconvert_exporter": "python",
   "pygments_lexer": "ipython3",
   "version": "3.10.0"
  },
  "vscode": {
   "interpreter": {
    "hash": "775f42d2c624786ce087f304b32550a3a398124b7164551d1aea823130207773"
   }
  }
 },
 "nbformat": 4,
 "nbformat_minor": 2
}
