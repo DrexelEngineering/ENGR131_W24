{
 "cells": [
  {
   "cell_type": "code",
   "execution_count": null,
   "metadata": {
    "deletable": false,
    "editable": false
   },
   "outputs": [],
   "source": [
    "# Initialize Otter\n",
    "import otter\n",
    "grader = otter.Notebook(\"lab7-DNA.ipynb\")"
   ]
  },
  {
   "attachments": {},
   "cell_type": "markdown",
   "metadata": {
    "editable": false
   },
   "source": [
    "# Lab 7: DNA Analysis\n",
    "\n",
    "This lab involves using dictionaries and strings to create a perform message encryption and decryption.\n",
    "\n"
   ]
  },
  {
   "cell_type": "markdown",
   "metadata": {
    "editable": false
   },
   "source": [
    "## Entering Your Information for Credit\n",
    "\n",
    "To receive credit for assignments it is important we can identify your work from others. To do this we will ask you to enter your information in the following code block.\n",
    "\n",
    "### Before you begin\n",
    "\n",
    "Run the block of code at the top of the notebook that imports and sets up the autograder. This will allow you to check your work. "
   ]
  },
  {
   "cell_type": "code",
   "execution_count": null,
   "metadata": {
    "tags": []
   },
   "outputs": [],
   "source": [
    "# Please provide your first name, last name, Drexel ID, and Drexel email. Make sure these are provided as strings. \"STRINGS ARE TEXT ENCLOSED IN QUOTATION MARKS.\"\n",
    "\n",
    "# In the assignments you will see sections of code that you need to fill in that are marked with ... (three dots). Replace the ... with your code.\n",
    "first_name = ...\n",
    "last_name = ...\n",
    "drexel_id = ...\n",
    "drexel_email = ...\n"
   ]
  },
  {
   "cell_type": "code",
   "execution_count": null,
   "metadata": {
    "deletable": false,
    "editable": false,
    "tags": [
     "skip-execution"
    ]
   },
   "outputs": [],
   "source": [
    "grader.check(\"q0-Checking-Your-Name\")"
   ]
  },
  {
   "cell_type": "markdown",
   "metadata": {
    "editable": false
   },
   "source": [
    "**Introduction** \n",
    "\n",
    "In simple terms, your genetic code is a long string of characters drawn from a four-character alphabet `ACGT`, where each letter signifies a particular nucleic acid. Your skills using Python to manipulate strings can be used to perform analyses of genetic code. In this lab, you will write three functions that process a sample string of nucleic acid symbols in three particular ways."
   ]
  },
  {
   "cell_type": "markdown",
   "metadata": {
    "deletable": false,
    "editable": false
   },
   "source": [
    "**Task 1: Base Counts** \n",
    "\n",
    "It can be important to count the number of times each nucleic acid occurs in a string of DNA. You will write a function which takes in a string of DNA and counts the number of times each base (`A`,`C`,`G`, or `T`) occurs. The function returns a dictionary where each key is a letter and its value is the number of times it occurs in the sequence. \n",
    "\n",
    "Write python code to do the following:\n",
    "\n",
    "* Complete a function called `base_counts` which takes in a DNA string `s` of unknown length. \n",
    "* First, initialize a dictionary with keys `\"A\"`,`\"C\"`,`\"G\"`, and `\"T\"`, each having a value of `0`.\n",
    "* Loop through the characters in string `s` and count each base by updating its value in the dictionary.\n",
    "* Finally, return the resulting dictionary of base counts.\n",
    "* Note: you may assume the string contains only the characters (`A`,`C`,`G`, and `T`).\n",
    "* Note: If any base does not occur in the string, that base should still be included in the dictionary, with a value of 0. \n",
    "\n",
    "Your code replaces the prompt:  `...`"
   ]
  },
  {
   "cell_type": "code",
   "execution_count": null,
   "metadata": {
    "tags": []
   },
   "outputs": [],
   "source": [
    "def base_counts(s):\n",
    "    ...\n",
    "\n",
    "# use this to check your results\n",
    "base_counts(\"AATTC\")"
   ]
  },
  {
   "cell_type": "code",
   "execution_count": null,
   "metadata": {
    "deletable": false,
    "editable": false,
    "tags": [
     "skip-execution"
    ]
   },
   "outputs": [],
   "source": [
    "grader.check(\"task1-base-counts\")"
   ]
  },
  {
   "cell_type": "markdown",
   "metadata": {
    "deletable": false,
    "editable": false
   },
   "source": [
    "**Task 2: Pair Counts** \n",
    "\n",
    "In this next task you will count how many times pairs of bases occur in a string. Since there are 4 unique letters in the genetic code, there are 16 possible unique two-letter pairs. You will count pairs using a dictionary where the keys are two-character pairs (`\"AA\"`, `\"AC\"`, `\"AG\"`, etc.) and the values are the number of times each pair is observed. Note that every letter (except the very first and very last) is in two pairs: one where it is the first letter and the other where it is the second letter.\n",
    "\n",
    "Write python code to do the following:\n",
    "\n",
    "* Complete a function called `pair_counts` which again takes in a DNA string `s` of unknown length. \n",
    "* First, initialize a dictionary with keys (`\"AA\"`, `\"AC\"`, `\"AG\"`, etc.), each having a value of `0`.\n",
    "* Loop through each pair in string `s` and count each by updating its value in the dictionary.\n",
    "* Finally, return the resulting dictionary of pair counts.\n",
    "* Note: you may assume the string contains only the characters (`A`,`C`,`G`, and `T`).\n",
    "* Note: As before, if any pair does not occur in the string, that pair should still be included in the dictionary, with a value of 0.\n",
    "\n",
    "Hint: To loop through pairs in a string, consider looping over the index values the first base in each pair. If `i` is the index of the first base, then `s[i:i+2]` slices the pair.\n",
    "\n",
    "Your code replaces the prompt:  `...`\n"
   ]
  },
  {
   "cell_type": "code",
   "execution_count": null,
   "metadata": {
    "tags": []
   },
   "outputs": [],
   "source": [
    "def pair_counts(s):\n",
    "    ...\n",
    "\n",
    "# use this to check your results\n",
    "pair_counts(\"AATTC\")"
   ]
  },
  {
   "cell_type": "code",
   "execution_count": null,
   "metadata": {
    "deletable": false,
    "editable": false,
    "tags": [
     "skip-execution"
    ]
   },
   "outputs": [],
   "source": [
    "grader.check(\"task2-pair-counts\")"
   ]
  },
  {
   "cell_type": "markdown",
   "metadata": {
    "deletable": false,
    "editable": false
   },
   "source": [
    "**Task 3: Number of Stops**  \n",
    "\n",
    "Triplets of DNA bases are called codons. Certain codons signal a stopping message and are called \"stop codons.\" The following three-letter sequences are stop codons: `\"TAG\"`, `\"TGA\"`, `\"TAA\"`. Your final task is to count the number of times a stop codon occurs in a DNA string. \n",
    "\n",
    "Write python code to do the following:\n",
    "\n",
    "* Complete a function called `num_stops` which takes in a DNA string `s` of unknown length. \n",
    "* Initialize the count by setting a variable to zero. (You don't need a dictionary since you are only making one count.)\n",
    "* Loop through each triplet in string `s` and increment the count whenever a stop codon is encountered.\n",
    "* Finally, return the integer number of stops.\n",
    "* Note: you may assume the string contains only the characters (`A`,`C`,`G`, and `T`).\n",
    "\n",
    "Hint: You can loop through triplets in a string just like pairs, by looping over the index values the first base in each triplet. If `i` is the index of the first base, then `s[i:i+3]` slices the triplet.\n",
    "\n",
    "Your code replaces the prompt:  `...`\n"
   ]
  },
  {
   "cell_type": "code",
   "execution_count": null,
   "metadata": {
    "tags": []
   },
   "outputs": [],
   "source": [
    "def num_stops(s):\n",
    "    ...\n",
    "\n",
    "# use this to check your results\n",
    "ex_string = \"ATTTGAAATATGAATGTTAAGATGA\"\n",
    "print(f\"{num_stops(ex_string)} stops detected in {ex_string}.\")"
   ]
  },
  {
   "cell_type": "code",
   "execution_count": null,
   "metadata": {
    "deletable": false,
    "editable": false,
    "tags": [
     "skip-execution"
    ]
   },
   "outputs": [],
   "source": [
    "grader.check(\"task3-num-stops\")"
   ]
  },
  {
   "cell_type": "markdown",
   "metadata": {
    "editable": false
   },
   "source": [
    "## Submitting Your Assignment\n",
    "\n",
    "To submit your assignment please use the following link the assignment on GitHub classroom.\n",
    "   \n",
    "Use this [link](https://classroom.github.com/a/sNazlilU) to navigate to the assignment on GitHub classroom.\n",
    "\n",
    "If you need further instructions on submitting your assignment please look at Lab 1. \n",
    "\n",
    "## Viewing your score\n",
    "\n",
    "**It is your responsibility to ensure that your grade report shows correctly. We can only provide corrections to grades if a grading error is determined. If you do not receive a grade report your grade has not been recorded. It is your responsibility either resubmit the assignment correctly or contact the instructors before the assignment due date.**\n",
    "\n",
    "Each `.ipynb` file you have uploaded will have a file with the name of your file + `Grade_Report.md`. You can view this file by clicking on the file name. This will show you the results of the autograder. \n",
    "\n",
    "We have both public and hidden tests. You will be able to see the score of both tests, but not the specific details of why the test passed or failed. \n",
    "\n",
    "```{note}\n",
    "In python and particularly jupyter notebooks it is common that during testing you run cells in a different order, or run cells and modify them. This can cause there to be local variables needed for your solution that would not be recreated on running your code again from scratch. Your assignment will be graded based on running your code from scratch. This means before you submit your assignment you should restart the kernel and run all cells. You can do this by clicking `Kernel` and selecting `Restart and Run All`. If you code does not run as expected after restarting the kernel and running all cells it means you have an error in your code. \n",
    "```\n",
    "\n",
    "## Fin"
   ]
  }
 ],
 "metadata": {
  "kernelspec": {
   "display_name": "Python 3",
   "language": "python",
   "name": "python3"
  },
  "language_info": {
   "codemirror_mode": {
    "name": "ipython",
    "version": 3
   },
   "file_extension": ".py",
   "mimetype": "text/x-python",
   "name": "python",
   "nbconvert_exporter": "python",
   "pygments_lexer": "ipython3",
   "version": "3.9.6 (default, Sep 26 2022, 11:37:49) \n[Clang 14.0.0 (clang-1400.0.29.202)]"
  },
  "otter": {
   "OK_FORMAT": true,
   "tests": {
    "q0-Checking-Your-Name": {
     "name": "q0-Checking-Your-Name",
     "points": null,
     "suites": [
      {
       "cases": [
        {
         "code": ">>> def get_local_part(email):\n...     return email.split('@')[0]\n>>> local_part_email = get_local_part(drexel_email)\n>>> assert local_part_email == drexel_id, f\"The DrexelID extracted from the email '{local_part_email}' does not match the Drexel ID '{drexel_id}'.\"\n",
         "failure_message": "It does not appear that you entered your information correctly. Please try again.",
         "hidden": false,
         "locked": false,
         "points": 0,
         "success_message": "You have entered your information correctly."
        }
       ],
       "scored": true,
       "setup": "",
       "teardown": "",
       "type": "doctest"
      }
     ]
    },
    "task1-base-counts": {
     "name": "task1-base-counts",
     "points": null,
     "suites": [
      {
       "cases": [
        {
         "code": ">>> d = base_counts('')\n>>> assert len(d.keys()) == 4 and d['A'] == 0 and (d['C'] == 0) and (d['G'] == 0) and (d['T'] == 0)\n",
         "hidden": false,
         "locked": false,
         "points": 1,
         "success_message": "base_counts(\"\") is correct."
        },
        {
         "code": ">>> d = base_counts('ACA')\n>>> assert len(d.keys()) == 4 and d['A'] == 2 and (d['C'] == 1) and (d['G'] == 0) and (d['T'] == 0)\n",
         "hidden": false,
         "locked": false,
         "points": 1,
         "success_message": "base_counts(\"ACA\") is correct."
        },
        {
         "code": ">>> d = base_counts('CGGGTGGGT')\n>>> assert len(d.keys()) == 4 and d['A'] == 0 and (d['C'] == 1) and (d['G'] == 6) and (d['T'] == 2)\n",
         "hidden": false,
         "locked": false,
         "points": 1,
         "success_message": "base_counts(\"CGGGTGGGT\") is correct."
        },
        {
         "code": ">>> d = base_counts('ACGTCGCGCGTAAAAGATGTGTGCCCTAGCGCGCTATCGCGCGATAGA')\n>>> assert len(d.keys()) == 4 and d['A'] == 11 and (d['C'] == 13) and (d['G'] == 15) and (d['T'] == 9)\n",
         "hidden": false,
         "locked": false,
         "points": 1,
         "success_message": "base_counts(\"CGGGTGGGT\") is correct."
        }
       ],
       "scored": true,
       "setup": "",
       "teardown": "",
       "type": "doctest"
      }
     ]
    },
    "task2-pair-counts": {
     "name": "task2-pair-counts",
     "points": null,
     "suites": [
      {
       "cases": [
        {
         "code": ">>> answer = {'AA': 0, 'AC': 0, 'AG': 0, 'AT': 0, 'CA': 0, 'CC': 0, 'CG': 0, 'CT': 0, 'GA': 0, 'GC': 0, 'GG': 0, 'GT': 0, 'TA': 0, 'TC': 0, 'TG': 0, 'TT': 0}\n>>> assert pair_counts('C') == answer\n",
         "hidden": false,
         "locked": false,
         "points": 1,
         "success_message": "pair_counts(\"C\") is correct."
        },
        {
         "code": ">>> answer = {'AA': 0, 'AC': 2, 'AG': 0, 'AT': 0, 'CA': 1, 'CC': 0, 'CG': 0, 'CT': 0, 'GA': 0, 'GC': 0, 'GG': 0, 'GT': 0, 'TA': 0, 'TC': 0, 'TG': 0, 'TT': 0}\n>>> assert pair_counts('ACAC') == answer\n",
         "hidden": false,
         "locked": false,
         "points": 1,
         "success_message": "pair_counts(\"ACAC\") is correct."
        },
        {
         "code": ">>> answer = {'AA': 1, 'AC': 3, 'AG': 5, 'AT': 1, 'CA': 2, 'CC': 0, 'CG': 5, 'CT': 3, 'GA': 5, 'GC': 5, 'GG': 2, 'GT': 0, 'TA': 1, 'TC': 3, 'TG': 0, 'TT': 1}\n>>> assert pair_counts('AAGAGAGAGAGGCGCGCTACTCTCACGCGGCATTCGAC') == answer\n",
         "hidden": false,
         "locked": false,
         "points": 1,
         "success_message": "pair_counts(\"AAGAGAGAGAGGCGCGCTACTCTCACGCGGCATTCGAC\") is correct."
        },
        {
         "code": ">>> answer = {'AA': 4, 'AC': 0, 'AG': 0, 'AT': 3, 'CA': 0, 'CC': 0, 'CG': 0, 'CT': 0, 'GA': 0, 'GC': 0, 'GG': 0, 'GT': 0, 'TA': 4, 'TC': 0, 'TG': 0, 'TT': 4}\n>>> assert pair_counts('TTAATTAATTAATTAA') == answer\n",
         "hidden": false,
         "locked": false,
         "points": 1,
         "success_message": "pair_counts(\"TTAATTAATTAATTAA\") is correct."
        },
        {
         "code": ">>> answer = {'AA': 0, 'AC': 0, 'AG': 0, 'AT': 0, 'CA': 0, 'CC': 0, 'CG': 1, 'CT': 0, 'GA': 0, 'GC': 0, 'GG': 0, 'GT': 1, 'TA': 1, 'TC': 0, 'TG': 0, 'TT': 0}\n>>> assert pair_counts('CGTA') == answer\n",
         "hidden": false,
         "locked": false,
         "points": 1,
         "success_message": "pair_counts(\"CGTA\") is correct."
        }
       ],
       "scored": true,
       "setup": "",
       "teardown": "",
       "type": "doctest"
      }
     ]
    },
    "task3-num-stops": {
     "name": "task3-num-stops",
     "points": null,
     "suites": [
      {
       "cases": [
        {
         "code": ">>> assert num_stops('AT') == 0\n",
         "hidden": false,
         "locked": false,
         "points": 1,
         "success_message": "num_stops(\"AT\") is correct."
        },
        {
         "code": ">>> assert num_stops('ATAA') == 1\n",
         "hidden": false,
         "locked": false,
         "points": 1,
         "success_message": "num_stops(\"ATAA\") is correct."
        },
        {
         "code": ">>> assert num_stops('ATAAGAGATTTGATATATGCCCTAGCTATATTCGAATCTCTTCGATTACG') == 3\n",
         "hidden": false,
         "locked": false,
         "points": 1,
         "success_message": "num_stops(\"ATAAGAGATTTGATATATGCCCTAGCTATATTCGAATCTCTTCGATTACG\") is correct."
        },
        {
         "code": ">>> assert num_stops('ATAATAATAATAATGATTTGGATTGAATGGGATGATGATTATCTAGAC') == 9\n",
         "hidden": false,
         "locked": false,
         "points": 1,
         "success_message": "num_stops(\"ATAATAATAATAATGATTTGGATTGAATGGGATGATGATTATCTAGAC\") is correct."
        }
       ],
       "scored": true,
       "setup": "",
       "teardown": "",
       "type": "doctest"
      }
     ]
    }
   }
  },
  "varInspector": {
   "cols": {
    "lenName": 16,
    "lenType": 16,
    "lenVar": 40
   },
   "kernels_config": {
    "python": {
     "delete_cmd_postfix": "",
     "delete_cmd_prefix": "del ",
     "library": "var_list.py",
     "varRefreshCmd": "print(var_dic_list())"
    },
    "r": {
     "delete_cmd_postfix": ") ",
     "delete_cmd_prefix": "rm(",
     "library": "var_list.r",
     "varRefreshCmd": "cat(var_dic_list()) "
    }
   },
   "types_to_exclude": [
    "module",
    "function",
    "builtin_function_or_method",
    "instance",
    "_Feature"
   ],
   "window_display": false
  },
  "vscode": {
   "interpreter": {
    "hash": "31f2aee4e71d21fbe5cf8b01ff0e069b9275f58929596ceb00d14d90e3e16cd6"
   }
  }
 },
 "nbformat": 4,
 "nbformat_minor": 4
}
