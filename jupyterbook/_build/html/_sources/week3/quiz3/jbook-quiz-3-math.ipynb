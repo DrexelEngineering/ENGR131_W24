{
 "cells": [
  {
   "attachments": {},
   "cell_type": "markdown",
   "metadata": {
    "editable": false
   },
   "source": [
    "# ⌛️ Quiz 3 - Using Python to Solve Math Problems\n",
    "\n",
    "This quiz will explore using python's capabilities for mathematical calculations.\n",
    "\n",
    "\n",
    "## Instructions\n",
    "\n",
    "You will click on the following link to start your quiz. Do not start the quiz before your lab section. We have checks in place to ensure that you do not start the quiz early. If you do, you will receive a 0 on the quiz. Furthermore, it could be considered an academic integrity violation.\n",
    "\n",
    "[CLICK HERE TO START YOUR QUIZ IN LAB](https://online.wiseattend.com/student/testLink?c=ENGR131&k=2801) \n",
    "\n"
   ]
  },
  {
   "cell_type": "markdown",
   "metadata": {
    "editable": false
   },
   "source": [
    "## Part 1: Entering Your Information for Credit\n",
    "\n",
    "To receive credit for assignments it is important we can identify your work from others. To do this we will ask you to enter your information in the following code block.\n",
    "\n",
    "### Before you begin\n",
    "\n",
    "Run the block of code at the top of the notebook that imports and sets up the autograder. This will allow you to check your work. "
   ]
  },
  {
   "cell_type": "code",
   "execution_count": null,
   "metadata": {
    "tags": [
     "skip-execution"
    ]
   },
   "outputs": [],
   "source": [
    "# Please provide your first name, last name, Drexel ID, and Drexel email. Make sure these are provided as strings. \"STRINGS ARE TEXT ENCLOSED IN QUOTATION MARKS.\"\n",
    "\n",
    "# In the assignments you will see sections of code that you need to fill in that are marked with ... (three dots). Replace the ... with your code.\n",
    "first_name = ...\n",
    "last_name = ...\n",
    "drexel_id = ...\n",
    "drexel_email = ...\n"
   ]
  },
  {
   "attachments": {},
   "cell_type": "markdown",
   "metadata": {
    "deletable": false,
    "editable": false
   },
   "source": [
    "**Question 1: Calculate the voltage across a capacitor** \n",
    "\n",
    "The charging or discharging behavior of a capacitor in a resistor-capacitor circuit is given by\n",
    "\n",
    "$$ V_{\\text{cap}}(t) = V_{\\text{supply}} \\cdot \\left(1 - e^{-\\frac{t}{RC}}\\right)\n",
    " $$\n",
    "\n",
    "where $V(t)$ is the voltage across the capacitor at time $t$ in seconds, $V_{\\text{supply}}$ is the supply voltage in volts, $R$ is the resistance in ohms, and $C$ is the capacitance in farads.\n",
    "\n",
    "Write python code to do the following:\n",
    "\n",
    "* Define variables: `V_supply = 12`, `R = 1000`, and `C = 0.001`. \n",
    "* Calculate the voltage across the capacitor at `t = 5` seconds based on the equation above.\n",
    "* Store the final value in a variable called `V_cap`.\n",
    "\n",
    "\n",
    "Note: Your code should be indented under what's called the function definition: `def question_1():`. This helps the autograder run all the code you write by calling a single name. (Functions will be taught in future weeks.). \n",
    "\n",
    "Note: Python cares about **Tabs** make sure the spacing is correct. If you get an `Indention Error` it likely means your spacing is not correct. \n",
    "\n",
    "Your solution should look like this: \n",
    "\n",
    "```python\n",
    "def question ():\n",
    "    line1 = line1_code # line 1 of code\n",
    "    line2 = line2_code # line 2 of code\n",
    "\n",
    "    return x, y, z # variables to return separated by commas\n",
    "```\n",
    "\n",
    "Your code replaces the prompt:  `...`"
   ]
  },
  {
   "cell_type": "code",
   "execution_count": null,
   "metadata": {
    "tags": [
     "skip-execution"
    ]
   },
   "outputs": [],
   "source": [
    "import numpy as np\n",
    "\n",
    "# define a function called question_1 to be used for grading\n",
    "def question_1():\n",
    "\n",
    "    ...\n",
    "\n",
    "    # The following line outputs these values from the function so that they can be accessed by the grader\n",
    "    return t, V_supply, R, C, V_cap\n"
   ]
  },
  {
   "attachments": {},
   "cell_type": "markdown",
   "metadata": {
    "deletable": false,
    "editable": false
   },
   "source": [
    "**Question 2: Using Python as a calculator** \n",
    "\n",
    "We have seen how Python can be used to evaluate mathematical expressions. This problem provides practice incorporating various mathematical functions and constants.  \n",
    "\n",
    "\n",
    "Write python code to do the following:\n",
    "\n",
    "* Define variables: `a = 2`, `b = -7`, and `x = 3`\n",
    "* For each of the quantities $E_0$ through $E_2$, construct a one-line Python expression that computes the value and assigns it to a variable. (You should perform your computations using the variable names $a$, $b$, and $c$ instead of their numerical values). In Python, we will use variable names `E0` through `E2` to store the values $E_0$ through $E_2$. Definitions of the variables `E0` through `E2` have been started for you in the template.\n",
    "\n",
    "$\\text{i.  } E_0 = \\arcsin(\\sin(a))$\n",
    "\n",
    "$\\text{ii.  } E_1 = \\cos(b^2)$\n",
    "\n",
    "$\\text{iii.  } E_2 = \\log_{10} \\left(\\left|3x\\right|\\right)$\n",
    "\n",
    "You should use the `NumPy` library for the required mathematical functions. You can discover the necessary functions using the [Numpy Documentation](https://numpy.org/doc/stable/reference/)\n",
    "\n",
    "We have used the standard `NumPy` convention `import numpy as np`, thus, for example the `cos` function is used by typing `np.cos(<value>)`\n",
    "\n",
    "Again, your code should be indented under the function definition: `def question_3():`.\n",
    "\n",
    "Your code replaces the prompt:  `...`"
   ]
  },
  {
   "cell_type": "code",
   "execution_count": null,
   "metadata": {
    "tags": [
     "skip-execution"
    ]
   },
   "outputs": [],
   "source": [
    "# import the np library to be used\n",
    "import numpy as np\n",
    "\n",
    "# define a function called question_3 to be used for grading\n",
    "def question_3():\n",
    "\n",
    "    a = ...\n",
    "    b = ...\n",
    "    x = ...\n",
    "\n",
    "    E0 = ...\n",
    "    E1 = ...\n",
    "    E2 = ...\n",
    "\n",
    "    # output these values from the function so that they can be accessed by the grader\n",
    "    return a, b, x, E0, E1, E2"
   ]
  },
  {
   "cell_type": "markdown",
   "metadata": {
    "editable": false
   },
   "source": [
    "## Submitting Your Assignment\n",
    "\n",
    "To submit your assignment please use the following link the assignment on GitHub classroom.\n",
    "   \n",
    "Use this [link](https://classroom.github.com/a/Ogj3mdLq) to navigate to the assignment on GitHub classroom.\n",
    "\n",
    "**Please submit just your output.log file. No other files are needed.**\n",
    "\n",
    "\n",
    "If you need further instructions on submitting your assignment, please ask your TA during lab. \n",
    "\n",
    "## Viewing your score\n",
    "\n",
    "Each `log` file you have uploaded will have a file with the name of your file + `Grade_Report.md`. You can view this file by clicking on the file name. This will show you the results of the autograder. \n",
    "\n",
    "**Make sure you run your code, and run the tests. If you do not run the test you will not get credit for your work.**\n",
    "\n",
    "```{note}\n",
    "In python and particularly jupyter notebooks it is common that during testing you run cells in a different order, or run cells and modify them. This can cause there to be local variables needed for your solution that would not be recreated on running your code again from scratch. Your assignment will be graded based on running your code from scratch. This means before you submit your assignment you should restart the kernel and run all cells. You can do this by clicking `Kernel` and selecting `Restart and Run All`. If you code does not run as expected after restarting the kernel and running all cells it means you have an error in your code. \n",
    "```\n",
    "\n",
    "## Fin"
   ]
  },
  {
   "cell_type": "markdown",
   "metadata": {
    "editable": false
   },
   "source": []
  }
 ],
 "metadata": {
  "kernelspec": {
   "display_name": "base",
   "language": "python",
   "name": "python3"
  },
  "language_info": {
   "codemirror_mode": {
    "name": "ipython",
    "version": 3
   },
   "file_extension": ".py",
   "mimetype": "text/x-python",
   "name": "python",
   "nbconvert_exporter": "python",
   "pygments_lexer": "ipython3",
   "version": "3.10.13"
  },
  "otter": {
   "OK_FORMAT": true,
   "tests": {
    "q0-Checking-Your-Name": {
     "name": "q0-Checking-Your-Name",
     "points": null,
     "suites": [
      {
       "cases": [
        {
         "code": ">>> def get_local_part(email):\n...     return email.split('@')[0]\n>>> local_part_email = get_local_part(drexel_email)\n>>> assert local_part_email == drexel_id, f\"The DrexelID extracted from the email '{local_part_email}' does not match the Drexel ID '{drexel_id}'.\"\n>>> if local_part_email == drexel_id:\n...     import drexel_jupyter_logger\n...     drexel_jupyter_logger.variable_logger_csv(first_name, 'info')\n...     drexel_jupyter_logger.variable_logger_csv(last_name, 'info')\n...     drexel_jupyter_logger.variable_logger_csv(drexel_id, 'info')\n...     drexel_jupyter_logger.variable_logger_csv(drexel_email, 'info')\n",
         "failure_message": "It does not appear that you entered your information correctly. Please try again.",
         "hidden": false,
         "locked": false,
         "points": 0,
         "success_message": "You have entered your information correctly."
        }
       ],
       "scored": true,
       "setup": "",
       "teardown": "",
       "type": "doctest"
      }
     ]
    },
    "q1-interest": {
     "name": "q1-interest",
     "points": 2,
     "suites": [
      {
       "cases": [
        {
         "code": ">>> import drexel_jupyter_logger\n>>> (t, V_supply, R, C, V_cap) = question_1()\n>>> assert t == 5 and V_supply == 12 and (R == 1000) and (C == 0.001)\n>>> if t == 5 and V_supply == 12 and (R == 1000) and (C == 0.001):\n...     drexel_jupyter_logger.variable_logger_csv('1, 1', 'q1_1')\n... else:\n...     drexel_jupyter_logger.variable_logger_csv('0, 1', 'q1_1')\n",
         "failure_message": "Variables incorrectly defined.",
         "hidden": false,
         "locked": false,
         "points": 1,
         "success_message": "Variables correctly defined."
        },
        {
         "code": ">>> import numpy as np\n>>> import drexel_jupyter_logger\n>>> (t, V_supply, R, C, V_cap) = question_1()\n>>> assert np.isclose(sum([t, V_supply, R, C, V_cap]), 1028.920144636011)\n>>> if np.isclose(sum([t, V_supply, R, C, V_cap]), 1028.920144636011):\n...     drexel_jupyter_logger.variable_logger_csv('1, 1', 'q1_2')\n... else:\n...     drexel_jupyter_logger.variable_logger_csv('0, 1', 'q1_2')\n",
         "failure_message": "Final answer is incorrect.",
         "hidden": false,
         "locked": false,
         "points": 1,
         "success_message": "Final answer is correct."
        }
       ],
       "scored": true,
       "setup": "",
       "teardown": "",
       "type": "doctest"
      }
     ]
    },
    "q3-calculator": {
     "name": "q3-calculator",
     "points": 11,
     "suites": [
      {
       "cases": [
        {
         "code": ">>> (a, b, x, E0, E1, E2) = question_3()\n>>> import drexel_jupyter_logger\n>>> assert a == 2 and b == -7 and (x == 3)\n>>> if a == 2 and b == -7 and (x == 3):\n...     drexel_jupyter_logger.variable_logger_csv('1, 1', 'q2_1')\n... else:\n...     drexel_jupyter_logger.variable_logger_csv('0, 1', 'q2_1')\n",
         "failure_message": "Variables incorrectly defined.",
         "hidden": false,
         "locked": false,
         "points": 1,
         "success_message": "Variables correctly defined."
        },
        {
         "code": ">>> import numpy as np\n>>> import drexel_jupyter_logger\n>>> (a, b, x, E0, E1, E2) = question_3()\n>>> assert np.isclose(sum([a, b, x, E0]), -0.8584073464102067)\n>>> if np.isclose(sum([a, b, x, E0]), -0.8584073464102067):\n...     drexel_jupyter_logger.variable_logger_csv('1, 1', 'q2_2')\n... else:\n...     drexel_jupyter_logger.variable_logger_csv('0, 1', 'q2_2')\n",
         "failure_message": "E0 answer incorrect.",
         "hidden": false,
         "locked": false,
         "points": 1,
         "success_message": "E0 answer correct."
        },
        {
         "code": ">>> import drexel_jupyter_logger\n>>> import numpy as np\n>>> (a, b, x, E0, E1, E2) = question_3()\n>>> assert np.isclose(sum([a, b, x, E1]), -1.6994074562563628)\n>>> if np.isclose(sum([a, b, x, E1]), -1.6994074562563628):\n...     drexel_jupyter_logger.variable_logger_csv('1, 1', 'q2_3')\n... else:\n...     drexel_jupyter_logger.variable_logger_csv('0, 1', 'q2_3')\n",
         "failure_message": "E1 answer incorrect.",
         "hidden": false,
         "locked": false,
         "points": 1,
         "success_message": "E1 answer correct."
        },
        {
         "code": ">>> import drexel_jupyter_logger\n>>> import numpy as np\n>>> (a, b, x, E0, E1, E2) = question_3()\n>>> assert np.isclose(sum([a, b, x, E2]), -1.0457574905606752)\n>>> if np.isclose(sum([a, b, x, E2]), -1.0457574905606752):\n...     drexel_jupyter_logger.variable_logger_csv('1, 1', 'q2_4')\n... else:\n...     drexel_jupyter_logger.variable_logger_csv('0, 1', 'q2_4')\n",
         "failure_message": "E2 answer incorrect.",
         "hidden": false,
         "locked": false,
         "points": 1,
         "success_message": "E2 answer correct."
        }
       ],
       "scored": true,
       "setup": "",
       "teardown": "",
       "type": "doctest"
      }
     ]
    }
   }
  },
  "varInspector": {
   "cols": {
    "lenName": 16,
    "lenType": 16,
    "lenVar": 40
   },
   "kernels_config": {
    "python": {
     "delete_cmd_postfix": "",
     "delete_cmd_prefix": "del ",
     "library": "var_list.py",
     "varRefreshCmd": "print(var_dic_list())"
    },
    "r": {
     "delete_cmd_postfix": ") ",
     "delete_cmd_prefix": "rm(",
     "library": "var_list.r",
     "varRefreshCmd": "cat(var_dic_list()) "
    }
   },
   "types_to_exclude": [
    "module",
    "function",
    "builtin_function_or_method",
    "instance",
    "_Feature"
   ],
   "window_display": false
  },
  "vscode": {
   "interpreter": {
    "hash": "d7d046052154998ca7dd3d9af52f7220fee50748c9a05b256540159ca8eb430c"
   }
  }
 },
 "nbformat": 4,
 "nbformat_minor": 4
}
