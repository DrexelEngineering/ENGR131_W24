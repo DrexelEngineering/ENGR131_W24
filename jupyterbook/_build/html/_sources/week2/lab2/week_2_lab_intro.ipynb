{
 "cells": [
  {
   "attachments": {},
   "cell_type": "markdown",
   "metadata": {},
   "source": [
    "# 📝 Week 2 - Lab Intro\n",
    "\n",
    "In this lab introduction we will briefly revisit some of the key topics from lecture and discuss the map function, which is used in the lab assignment."
   ]
  },
  {
   "attachments": {},
   "cell_type": "markdown",
   "metadata": {
    "slideshow": {
     "slide_type": "subslide"
    }
   },
   "source": [
    "## Strings"
   ]
  },
  {
   "attachments": {},
   "cell_type": "markdown",
   "metadata": {},
   "source": [
    "The string data type stores a string of characters. Create a string by enclosing text in single or double quotes. "
   ]
  },
  {
   "cell_type": "code",
   "execution_count": null,
   "metadata": {
    "tags": [
     "skip-execution"
    ]
   },
   "outputs": [],
   "source": [
    "s1 = \"This is an example string\"\n",
    "s2 = 'So is this'"
   ]
  },
  {
   "attachments": {},
   "cell_type": "markdown",
   "metadata": {},
   "source": [
    "Find the string length with ```len()```."
   ]
  },
  {
   "cell_type": "code",
   "execution_count": null,
   "metadata": {
    "tags": [
     "skip-execution"
    ]
   },
   "outputs": [],
   "source": [
    "alphabet = \"abcdefghijklmnopqrstuvwxyz\"\n",
    "print(len(alphabet))"
   ]
  },
  {
   "attachments": {},
   "cell_type": "markdown",
   "metadata": {},
   "source": [
    "The position of each letter in a string is called its index and starts at 0\n",
    "\n",
    "You can also use negative indices. A negative index counts from the end."
   ]
  },
  {
   "cell_type": "code",
   "execution_count": null,
   "metadata": {
    "tags": [
     "skip-execution"
    ]
   },
   "outputs": [],
   "source": [
    "# Get the 1st letter of the alphabet \n",
    "print(alphabet[0])\n",
    "\n",
    "# Get the 4th letter of the alphabet \n",
    "print(alphabet[3]) \n",
    "\n",
    "# Get the 26th letter of the alphabet \n",
    "print(alphabet[25])\n",
    "\n",
    "# Get the 26th letter of the alphabet\n",
    "print(alphabet[len(alphabet)-1])\n",
    "\n",
    "# Get the 26th letter of the alphabet\n",
    "print(alphabet[-1])\n",
    "\n",
    "# Get the 25th letter of the alphabet\n",
    "print(alphabet[-2])\n",
    "\n",
    "# Get the 1st letter of the alphabet\n",
    "print(alphabet[-len(alphabet)])"
   ]
  },
  {
   "attachments": {},
   "cell_type": "markdown",
   "metadata": {},
   "source": [
    "You can slice strings by supplying indices in square brackets. \n",
    "\n",
    "To slice a list ```L``` from a start index ```start``` up to (but not including) index ```stop``` with a step size of ```step```, do the following:\n",
    "\n",
    "```L[start:stop:step]```"
   ]
  },
  {
   "cell_type": "code",
   "execution_count": null,
   "metadata": {
    "tags": [
     "skip-execution"
    ]
   },
   "outputs": [],
   "source": [
    "# Slice from index 0 up to (not including 5)\n",
    "print(alphabet[:5]) \n",
    "\n",
    "# You can also write this as:\n",
    "print(alphabet[0:5]) \n",
    "\n",
    "# Slice from index 5 to the end\n",
    "print(alphabet[5:])\n",
    "\n",
    "# You can also write this as:\n",
    "print(alphabet[5:len(alphabet)])\n",
    "\n",
    "# Slice from index 0 to the end, stepping by 2\n",
    "print(alphabet[::2])\n",
    "\n",
    "# You could also write this as:\n",
    "print(alphabet[0:len(alphabet):2])\n",
    "\n",
    "# Reverse a string\n",
    "print(alphabet[::-1])"
   ]
  },
  {
   "attachments": {},
   "cell_type": "markdown",
   "metadata": {},
   "source": [
    "You can use f-string formatting to easily include variable values in a string"
   ]
  },
  {
   "cell_type": "code",
   "execution_count": null,
   "metadata": {
    "tags": [
     "skip-execution"
    ]
   },
   "outputs": [],
   "source": [
    "year = 2024\n",
    "year_message = f\"The current year is {year}.\"\n",
    "\n",
    "print(year_message)"
   ]
  },
  {
   "attachments": {},
   "cell_type": "markdown",
   "metadata": {
    "slideshow": {
     "slide_type": "subslide"
    }
   },
   "source": [
    "## Lists and dictionaries"
   ]
  },
  {
   "attachments": {},
   "cell_type": "markdown",
   "metadata": {},
   "source": [
    "Lists are ordered collections of data. Dictionaries are a data structure that have (key, value) pairs."
   ]
  },
  {
   "cell_type": "code",
   "execution_count": null,
   "metadata": {
    "slideshow": {
     "slide_type": "fragment"
    },
    "tags": [
     "skip-execution"
    ]
   },
   "outputs": [],
   "source": [
    "# this is a list\n",
    "L = [\"abc\", 42, True] \n",
    "\n",
    "# this is a dictionary\n",
    "D = {\n",
    "    \"color\": \"green\",\n",
    "    \"number\": 12,\n",
    "    \"result\": True\n",
    "}"
   ]
  },
  {
   "attachments": {},
   "cell_type": "markdown",
   "metadata": {},
   "source": [
    "Square brackets are used to access values in a list or dictionary."
   ]
  },
  {
   "cell_type": "code",
   "execution_count": null,
   "metadata": {
    "tags": [
     "skip-execution"
    ]
   },
   "outputs": [],
   "source": [
    "# get the list item at index 1\n",
    "print(L[1])\n",
    "\n",
    "# get the dictionary item at key \"color\"\n",
    "print(D[\"color\"])"
   ]
  },
  {
   "attachments": {},
   "cell_type": "markdown",
   "metadata": {
    "slideshow": {
     "slide_type": "subslide"
    }
   },
   "source": [
    "## Map function"
   ]
  },
  {
   "attachments": {},
   "cell_type": "markdown",
   "metadata": {},
   "source": [
    "We can use the map function to apply the same function to all elements of a list."
   ]
  },
  {
   "attachments": {},
   "cell_type": "markdown",
   "metadata": {},
   "source": [
    "### Example: squaring a list of numbers"
   ]
  },
  {
   "cell_type": "code",
   "execution_count": null,
   "metadata": {
    "tags": [
     "skip-execution"
    ]
   },
   "outputs": [],
   "source": [
    "# a simple fucntion that squares a number\n",
    "def square(x):\n",
    "    return x**2 "
   ]
  },
  {
   "cell_type": "code",
   "execution_count": null,
   "metadata": {
    "tags": [
     "skip-execution"
    ]
   },
   "outputs": [],
   "source": [
    "L = [0,1,2,3,4,5,6,7,8,9,10]\n",
    "\n",
    "print(map(square, L))"
   ]
  },
  {
   "attachments": {},
   "cell_type": "markdown",
   "metadata": {},
   "source": [
    "The map function returns a map object that can be converted to a list as follows:"
   ]
  },
  {
   "cell_type": "code",
   "execution_count": null,
   "metadata": {
    "tags": [
     "skip-execution"
    ]
   },
   "outputs": [],
   "source": [
    "squared_L = list(map(square, L))\n",
    "print(squared_L)"
   ]
  }
 ],
 "metadata": {
  "celltoolbar": "Slideshow",
  "kernelspec": {
   "display_name": "Python 3 (ipykernel)",
   "language": "python",
   "name": "python3"
  },
  "language_info": {
   "codemirror_mode": {
    "name": "ipython",
    "version": 3
   },
   "file_extension": ".py",
   "mimetype": "text/x-python",
   "name": "python",
   "nbconvert_exporter": "python",
   "pygments_lexer": "ipython3",
   "version": "3.11.6"
  },
  "varInspector": {
   "cols": {
    "lenName": 16,
    "lenType": 16,
    "lenVar": 40
   },
   "kernels_config": {
    "python": {
     "delete_cmd_postfix": "",
     "delete_cmd_prefix": "del ",
     "library": "var_list.py",
     "varRefreshCmd": "print(var_dic_list())"
    },
    "r": {
     "delete_cmd_postfix": ") ",
     "delete_cmd_prefix": "rm(",
     "library": "var_list.r",
     "varRefreshCmd": "cat(var_dic_list()) "
    }
   },
   "types_to_exclude": [
    "module",
    "function",
    "builtin_function_or_method",
    "instance",
    "_Feature"
   ],
   "window_display": false
  },
  "vscode": {
   "interpreter": {
    "hash": "513b23069d29a61750765eb13a612a21c520ffec067bf4e4e6fd69787237414d"
   }
  }
 },
 "nbformat": 4,
 "nbformat_minor": 4
}
