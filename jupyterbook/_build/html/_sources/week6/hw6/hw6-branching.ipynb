{
 "cells": [
  {
   "cell_type": "code",
   "execution_count": null,
   "metadata": {
    "deletable": false,
    "editable": false,
    "tags": [
     "skip-execution"
    ]
   },
   "outputs": [],
   "source": [
    "# Initialize Otter\n",
    "import otter\n",
    "grader = otter.Notebook(\"hw6-branching.ipynb\")"
   ]
  },
  {
   "attachments": {},
   "cell_type": "markdown",
   "metadata": {
    "editable": false
   },
   "source": [
    "# Homework 6\n",
    "\n",
    "This assignment includes three problems on the topic of branching.\n",
    "\n"
   ]
  },
  {
   "cell_type": "markdown",
   "metadata": {
    "editable": false
   },
   "source": [
    "## Entering Your Information for Credit\n",
    "\n",
    "To receive credit for assignments it is important we can identify your work from others. To do this we will ask you to enter your information in the following code block.\n",
    "\n",
    "### Before you begin\n",
    "\n",
    "Run the block of code at the top of the notebook that imports and sets up the autograder. This will allow you to check your work. "
   ]
  },
  {
   "cell_type": "code",
   "execution_count": null,
   "metadata": {
    "tags": [
     "skip-execution"
    ]
   },
   "outputs": [],
   "source": [
    "# Please provide your first name, last name, Drexel ID, and Drexel email. Make sure these are provided as strings. \"STRINGS ARE TEXT ENCLOSED IN QUOTATION MARKS.\"\n",
    "\n",
    "# In the assignments you will see sections of code that you need to fill in that are marked with ... (three dots). Replace the ... with your code.\n",
    "first_name = ...\n",
    "last_name = ...\n",
    "drexel_id = ...\n",
    "drexel_email = ...\n"
   ]
  },
  {
   "cell_type": "code",
   "execution_count": null,
   "metadata": {
    "deletable": false,
    "editable": false,
    "tags": [
     "skip-execution"
    ]
   },
   "outputs": [],
   "source": [
    "grader.check(\"q0-Checking-Your-Name\")"
   ]
  },
  {
   "cell_type": "markdown",
   "metadata": {
    "deletable": false,
    "editable": false
   },
   "source": [
    "**Question 1: Grade Calculator** \n",
    "\n",
    "Your task is to write a funciton accepts an integer score and returns a string of the letter grade that score corresponds to. The mapping of score ranges to letter grades is:\n",
    "\n",
    "<center>\n",
    "\n",
    "| Score | Letter Grade |\n",
    "| --- | --- |\n",
    "| 95-100 | A+ |\n",
    "| 90-94 | A |\n",
    "| 80-89 | B+ |\n",
    "| 70-79 | B |\n",
    "| 60-69 | C+ |\n",
    "| 50-59 | C |\n",
    "| 0-49 | F |\n",
    "\n",
    "</center>\n",
    "\n",
    "\n",
    "\n",
    "\n",
    "(Important note: This is just an example, not the letter grade mapping for this course.)\n",
    "\n",
    "\n",
    "Write python code to do the following:\n",
    "\n",
    "* Define a function called `letter_grade` which accepts one input argument, an integer score `s`\n",
    "* Implement your function so that it returns the proper letter grade for an input score\n",
    "* You may assume the input `s` is an integer, but if `s` is outside the bounds $[0, 100]$, your function should return the message: `\"invalid score\"` \n",
    "\n",
    "\n",
    "Your code replaces the prompt:  `...`"
   ]
  },
  {
   "cell_type": "code",
   "execution_count": null,
   "metadata": {
    "tags": [
     "skip-execution"
    ]
   },
   "outputs": [],
   "source": [
    "...\n"
   ]
  },
  {
   "cell_type": "code",
   "execution_count": null,
   "metadata": {
    "deletable": false,
    "editable": false,
    "tags": [
     "skip-execution"
    ]
   },
   "outputs": [],
   "source": [
    "grader.check(\"q1-grade-calculator\")"
   ]
  },
  {
   "cell_type": "markdown",
   "metadata": {
    "deletable": false,
    "editable": false
   },
   "source": [
    "**Question 2: Leap Year** \n",
    "\n",
    "A year in the modern Gregorian Calendar consists of 365 days. In reality, the earth takes longer to rotate around the sun. To account for the difference in time, every 4 years, a leap year takes place. A leap year is when a year has 366 days: An extra day, February 29th. The requirements for a given year to be a leap year are:\n",
    "\n",
    "1) The year must be divisible by 4\n",
    "2) If the year is a century year (1700, 1800, etc.), the year must be evenly divisible by 400\n",
    "\n",
    "Some examples:\n",
    "- 1600, 1712, and 2016 are all leap years\n",
    "- 2002 is not a leap year (not divisible by 4)\n",
    "- 1900 is not a leap year (1900 is a century year not divisible by 400)\n",
    "\n",
    "Your task is to code a function that identifies whether or not a year is a leap year.\n",
    "\n",
    "Write python code to do the following:\n",
    "\n",
    "* Define a function called ``is_leap_year`` which accepts one input argument, an integer year `y`\n",
    "* Implement your function so that it returns `True` if the the year `y` is a leap year and otherwise returns `False`\n",
    "\n",
    "\n",
    "Your code replaces the prompt:  `...`\n",
    "\n"
   ]
  },
  {
   "cell_type": "code",
   "execution_count": null,
   "metadata": {
    "tags": [
     "skip-execution"
    ]
   },
   "outputs": [],
   "source": [
    "..."
   ]
  },
  {
   "cell_type": "code",
   "execution_count": null,
   "metadata": {
    "deletable": false,
    "editable": false,
    "tags": [
     "skip-execution"
    ]
   },
   "outputs": [],
   "source": [
    "grader.check(\"q2-leap-year\")"
   ]
  },
  {
   "cell_type": "markdown",
   "metadata": {
    "deletable": false,
    "editable": false
   },
   "source": [
    "**Question 3: Seasons** \n",
    "\n",
    "The date ranges for the seasons are as follows:\n",
    "\n",
    "<center>\n",
    "\n",
    "| Season | Date Range |\n",
    "| --- | --- |\n",
    "| `spring` | March 20 - June 20 |\n",
    "| `summer` | June 21 - September 21 |\n",
    "| `autumn` | September 22 - December 20 |\n",
    "| `winter` | December 21 - March 19 |\n",
    "\n",
    "</center>\n",
    "\n",
    "Your task is to write a function that takes in a date and returns the season that the date falls in.\n",
    "\n",
    "Write python code to do the following:\n",
    "\n",
    "* Define a function called `get_season` that takes as input arguments a string `m` and an integer `d`\n",
    "* The function should determine the season the date given by month `m` and day `d` \n",
    "    * For example, if `m = \"march\"` and `d = 27`, the function should return \"`spring`\"\n",
    "* You must check that `m` and `d` form a valid date. If not, return \"`invalid`\"\n",
    "\n",
    "You may assume the month `m` is in all lowercase\n",
    "\n",
    "\n",
    "Your code replaces the prompt:  `...`"
   ]
  },
  {
   "cell_type": "code",
   "execution_count": null,
   "metadata": {
    "tags": [
     "skip-execution"
    ]
   },
   "outputs": [],
   "source": [
    "..."
   ]
  },
  {
   "cell_type": "code",
   "execution_count": null,
   "metadata": {
    "deletable": false,
    "editable": false,
    "tags": [
     "skip-execution"
    ]
   },
   "outputs": [],
   "source": [
    "grader.check(\"q3-seasons\")"
   ]
  },
  {
   "cell_type": "markdown",
   "metadata": {
    "editable": false
   },
   "source": [
    "## Submitting Your Assignment\n",
    "\n",
    "To submit your assignment please use the following link the assignment on GitHub classroom.\n",
    "   \n",
    "Use this [link](https://classroom.github.com/a/IKI75-Wo) to navigate to the assignment on GitHub classroom.\n",
    "\n",
    "If you need further instructions on submitting your assignment please look at Lab 1. \n",
    "\n",
    "## Viewing your score\n",
    "\n",
    "**It is your responsibility to ensure that your grade report shows correctly. We can only provide corrections to grades if a grading error is determined. If you do not receive a grade report your grade has not been recorded. It is your responsibility either resubmit the assignment correctly or contact the instructors before the assignment due date.**\n",
    "\n",
    "Each `.ipynb` file you have uploaded will have a file with the name of your file + `Grade_Report.md`. You can view this file by clicking on the file name. This will show you the results of the autograder. \n",
    "\n",
    "We have both public and hidden tests. You will be able to see the score of both tests, but not the specific details of why the test passed or failed. \n",
    "\n",
    "```{note}\n",
    "In python and particularly jupyter notebooks it is common that during testing you run cells in a different order, or run cells and modify them. This can cause there to be local variables needed for your solution that would not be recreated on running your code again from scratch. Your assignment will be graded based on running your code from scratch. This means before you submit your assignment you should restart the kernel and run all cells. You can do this by clicking `Kernel` and selecting `Restart and Run All`. If you code does not run as expected after restarting the kernel and running all cells it means you have an error in your code. \n",
    "```\n",
    "\n",
    "## Fin"
   ]
  },
  {
   "cell_type": "markdown",
   "metadata": {
    "editable": false
   },
   "source": []
  }
 ],
 "metadata": {
  "kernelspec": {
   "display_name": "engr131",
   "language": "python",
   "name": "python3"
  },
  "language_info": {
   "codemirror_mode": {
    "name": "ipython",
    "version": 3
   },
   "file_extension": ".py",
   "mimetype": "text/x-python",
   "name": "python",
   "nbconvert_exporter": "python",
   "pygments_lexer": "ipython3",
   "version": "3.10.8 | packaged by conda-forge | (main, Nov 22 2022, 08:27:35) [Clang 14.0.6 ]"
  },
  "otter": {
   "OK_FORMAT": true,
   "tests": {
    "q0-Checking-Your-Name": {
     "name": "q0-Checking-Your-Name",
     "points": null,
     "suites": [
      {
       "cases": [
        {
         "code": ">>> def get_local_part(email):\n...     return email.split('@')[0]\n>>> local_part_email = get_local_part(drexel_email)\n>>> assert local_part_email == drexel_id, f\"The DrexelID extracted from the email '{local_part_email}' does not match the Drexel ID '{drexel_id}'.\"\n",
         "failure_message": "It does not appear that you entered your information correctly. Please try again.",
         "hidden": false,
         "locked": false,
         "points": 0,
         "success_message": "You have entered your information correctly."
        }
       ],
       "scored": true,
       "setup": "",
       "teardown": "",
       "type": "doctest"
      }
     ]
    },
    "q1-grade-calculator": {
     "name": "q1-grade-calculator",
     "points": 9,
     "suites": [
      {
       "cases": [
        {
         "code": ">>> assert letter_grade(-1) == 'invalid score'\n",
         "hidden": false,
         "locked": false,
         "points": 1,
         "success_message": "Function correctly returns the 'invalid score' string for negative input."
        },
        {
         "code": ">>> assert letter_grade(101) == 'invalid score'\n",
         "hidden": false,
         "locked": false,
         "points": 1,
         "success_message": "Function correctly returns the 'invalid score' string for input > 100."
        },
        {
         "code": ">>> assert letter_grade(97) == 'A+'\n",
         "hidden": false,
         "locked": false,
         "points": 1,
         "success_message": "letter_grade(97) is correct."
        },
        {
         "code": ">>> assert letter_grade(90) == 'A'\n",
         "hidden": false,
         "locked": false,
         "points": 1,
         "success_message": "letter_grade(90) is correct."
        },
        {
         "code": ">>> assert letter_grade(88) == 'B+'\n",
         "hidden": false,
         "locked": false,
         "points": 1,
         "success_message": "letter_grade(88) is correct."
        },
        {
         "code": ">>> assert letter_grade(72) == 'B'\n",
         "hidden": false,
         "locked": false,
         "points": 1,
         "success_message": "letter_grade(72) is correct."
        },
        {
         "code": ">>> assert letter_grade(60) == 'C+'\n",
         "hidden": false,
         "locked": false,
         "points": 1,
         "success_message": "letter_grade(60) is correct."
        },
        {
         "code": ">>> assert letter_grade(59) == 'C'\n",
         "hidden": false,
         "locked": false,
         "points": 1,
         "success_message": "letter_grade(59) is correct."
        },
        {
         "code": ">>> assert letter_grade(0) == 'F'\n",
         "hidden": false,
         "locked": false,
         "points": 1,
         "success_message": "letter_grade(0) is correct."
        }
       ],
       "scored": true,
       "setup": "",
       "teardown": "",
       "type": "doctest"
      }
     ]
    },
    "q2-leap-year": {
     "name": "q2-leap-year",
     "points": 5,
     "suites": [
      {
       "cases": [
        {
         "code": ">>> assert is_leap_year(1954) == False\n",
         "hidden": false,
         "locked": false,
         "points": 1,
         "success_message": "is_leap_year(1954) is correct."
        },
        {
         "code": ">>> assert is_leap_year(2017) == False\n",
         "hidden": false,
         "locked": false,
         "points": 1,
         "success_message": "is_leap_year(2017) is correct."
        },
        {
         "code": ">>> assert is_leap_year(1800) == False\n",
         "hidden": false,
         "locked": false,
         "points": 1,
         "success_message": "is_leap_year(1800) is correct."
        },
        {
         "code": ">>> assert is_leap_year(1212) == True\n",
         "hidden": false,
         "locked": false,
         "points": 1,
         "success_message": "is_leap_year(1800) is correct."
        },
        {
         "code": ">>> assert is_leap_year(1200) == True\n",
         "hidden": false,
         "locked": false,
         "points": 1,
         "success_message": "is_leap_year(1800) is correct."
        }
       ],
       "scored": true,
       "setup": "",
       "teardown": "",
       "type": "doctest"
      }
     ]
    },
    "q3-seasons": {
     "name": "q3-seasons",
     "points": 8,
     "suites": [
      {
       "cases": [
        {
         "code": ">>> assert get_season('april', 11) == 'spring'\n",
         "hidden": false,
         "locked": false,
         "points": 1,
         "success_message": "get_season(\"april\", 11) is correct."
        },
        {
         "code": ">>> assert get_season('march', 3) == 'winter'\n",
         "hidden": false,
         "locked": false,
         "points": 1,
         "success_message": "get_season(\"march\", 3) is correct."
        },
        {
         "code": ">>> assert get_season('word', 21) == 'invalid'\n",
         "hidden": false,
         "locked": false,
         "points": 1,
         "success_message": "get_season(\"word\", 21) is correct."
        },
        {
         "code": ">>> assert get_season('february', 30) == 'invalid'\n",
         "hidden": false,
         "locked": false,
         "points": 1,
         "success_message": "get_season(\"february\", 30) is correct."
        },
        {
         "code": ">>> assert get_season('june', 21) == 'summer'\n",
         "hidden": false,
         "locked": false,
         "points": 1,
         "success_message": "get_season(\"june\", 21) is correct."
        },
        {
         "code": ">>> assert get_season('november', 7) == 'autumn'\n",
         "hidden": false,
         "locked": false,
         "points": 1,
         "success_message": "get_season(\"november\", 7) is correct."
        },
        {
         "code": ">>> assert get_season('september', 0) == 'invalid'\n",
         "hidden": false,
         "locked": false,
         "points": 1,
         "success_message": "get_season(\"september\", 0) is correct."
        },
        {
         "code": ">>> assert get_season('december', -1) == 'invalid'\n",
         "hidden": false,
         "locked": false,
         "points": 1,
         "success_message": "get_season(\"december\", -1) is correct."
        }
       ],
       "scored": true,
       "setup": "",
       "teardown": "",
       "type": "doctest"
      }
     ]
    }
   }
  },
  "varInspector": {
   "cols": {
    "lenName": 16,
    "lenType": 16,
    "lenVar": 40
   },
   "kernels_config": {
    "python": {
     "delete_cmd_postfix": "",
     "delete_cmd_prefix": "del ",
     "library": "var_list.py",
     "varRefreshCmd": "print(var_dic_list())"
    },
    "r": {
     "delete_cmd_postfix": ") ",
     "delete_cmd_prefix": "rm(",
     "library": "var_list.r",
     "varRefreshCmd": "cat(var_dic_list()) "
    }
   },
   "types_to_exclude": [
    "module",
    "function",
    "builtin_function_or_method",
    "instance",
    "_Feature"
   ],
   "window_display": false
  },
  "vscode": {
   "interpreter": {
    "hash": "6a0ce902ec1b836c748f6f45e439265664d32456bd8f9cc005804ba2748aa9ba"
   }
  }
 },
 "nbformat": 4,
 "nbformat_minor": 4
}
