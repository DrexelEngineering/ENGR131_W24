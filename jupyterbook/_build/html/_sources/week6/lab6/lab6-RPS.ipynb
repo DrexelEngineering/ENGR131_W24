{
 "cells": [
  {
   "cell_type": "code",
   "execution_count": null,
   "metadata": {
    "deletable": false,
    "editable": false,
    "tags": [
     "skip-execution"
    ]
   },
   "outputs": [],
   "source": [
    "# Initialize Otter\n",
    "import otter\n",
    "grader = otter.Notebook(\"lab6-RPS.ipynb\")"
   ]
  },
  {
   "attachments": {},
   "cell_type": "markdown",
   "metadata": {
    "editable": false
   },
   "source": [
    "# Lab 6: Rock, Paper, Scissors Game\n",
    "\n",
    "In this lab you will use branching to complete a playable game of rock paper scissors.\n",
    "\n"
   ]
  },
  {
   "cell_type": "markdown",
   "metadata": {
    "editable": false
   },
   "source": [
    "## Entering Your Information for Credit\n",
    "\n",
    "To receive credit for assignments it is important we can identify your work from others. To do this we will ask you to enter your information in the following code block.\n",
    "\n",
    "### Before you begin\n",
    "\n",
    "Run the block of code at the top of the notebook that imports and sets up the autograder. This will allow you to check your work. "
   ]
  },
  {
   "cell_type": "code",
   "execution_count": null,
   "metadata": {
    "tags": [
     "skip-execution"
    ]
   },
   "outputs": [],
   "source": [
    "# Please provide your first name, last name, Drexel ID, and Drexel email. Make sure these are provided as strings. \"STRINGS ARE TEXT ENCLOSED IN QUOTATION MARKS.\"\n",
    "\n",
    "# In the assignments you will see sections of code that you need to fill in that are marked with ... (three dots). Replace the ... with your code.\n",
    "first_name = ...\n",
    "last_name = ...\n",
    "drexel_id = ...\n",
    "drexel_email = ...\n"
   ]
  },
  {
   "cell_type": "code",
   "execution_count": null,
   "metadata": {
    "deletable": false,
    "editable": false,
    "tags": [
     "skip-execution"
    ]
   },
   "outputs": [],
   "source": [
    "grader.check(\"q0-Checking-Your-Name\")"
   ]
  },
  {
   "cell_type": "code",
   "execution_count": null,
   "metadata": {
    "tags": [
     "skip-execution"
    ]
   },
   "outputs": [],
   "source": [
    "import random"
   ]
  },
  {
   "cell_type": "markdown",
   "metadata": {
    "editable": false
   },
   "source": [
    "### History of Rock, Paper, Scissors\n",
    "\n",
    "Rock paper scissors (also known by other orderings of the three items, with \"rock\" sometimes being called \"stone,\" or as Rochambeau, roshambo, or ro-sham-bo) is a hand game originating from China, usually played between two people, in which each player simultaneously forms one of three shapes with an outstretched hand. These shapes are \"rock\" (a closed fist), \"paper\" (a flat hand), and \"scissors\" (a fist with the index finger and middle finger extended, forming a V). \"Scissors\" is identical to the two-fingered V sign (also indicating \"victory\" or \"peace\") except that it is pointed horizontally instead of being held upright in the air.\n",
    "\n",
    "A simultaneous, zero-sum game, each round has three possible outcomes: a tie, a win or a loss. A player who decides to play rock will beat another player who has chosen scissors (\"rock crushes scissors\" or \"breaks scissors\" or sometimes \"blunts scissors\"), but will lose to one who has played paper (\"paper covers rock\"); a play of paper will lose to a play of scissors (\"scissors cuts paper\"). If both players choose the same shape, the game is tied and is usually immediately replayed to break the tie. The game spread from China while developing different variants in signs over time.\n"
   ]
  },
  {
   "cell_type": "markdown",
   "metadata": {
    "deletable": false,
    "editable": false
   },
   "source": [
    "**Task 1: Check for valid input** \n",
    "\n",
    "In your game of Rock, Paper, Scissors, it will be the player vs. the computer. The player will make their selection each round by typing either `\"rock\"`, `\"paper\"`, or `\"scissors\"`. The first task is to write a function that checks to make sure that the input entered by the player is valid.\n",
    "\n",
    "Write python code to do the following:\n",
    "\n",
    "* Complete the function called `valid_input` which takes as input a string `player_choice`.\n",
    "* The function should return `True` if `player_choice` equals `\"rock\"`, `\"paper\"`, or `\"scissors\"`.\n",
    "* Otherwise the function should return `False`. \n",
    "\n",
    "Your code replaces the prompt:  `...`"
   ]
  },
  {
   "cell_type": "code",
   "execution_count": null,
   "metadata": {
    "tags": [
     "skip-execution"
    ]
   },
   "outputs": [],
   "source": [
    "def valid_input(player_choice):\n",
    "    ...\n",
    "\n",
    "# use this to check your results\n",
    "valid_input(\"paper\")"
   ]
  },
  {
   "cell_type": "code",
   "execution_count": null,
   "metadata": {
    "deletable": false,
    "editable": false,
    "tags": [
     "skip-execution"
    ]
   },
   "outputs": [],
   "source": [
    "grader.check(\"task1-input\")"
   ]
  },
  {
   "cell_type": "markdown",
   "metadata": {
    "deletable": false,
    "editable": false
   },
   "source": [
    "**Task 2: Get Round Result Message** \n",
    "\n",
    "In each round, we want to display a result message that explains the outcome. Your next task is to write a function to determine the message that should displayed based on the choices of the player and computer. The table below shows the message to display if the player and computer choose different options. \n",
    "\n",
    "<center>\n",
    "\n",
    "| `player_choice` | `computer_choice` | `message` |\n",
    "| --- | --- | --- |\n",
    "| `\"rock\"` | `\"paper\"` | `\"You lose! Paper covers rock.\"` |\n",
    "| `\"rock\"` | `\"scissors\"` | `\"You win! Rock crushes scissors.\"` |\n",
    "| `\"paper\"` | `\"rock\"` | `\"You win! Paper covers rock.\"` |\n",
    "| `\"paper\"` | `\"scissors\"` | `\"You lose! Scissors cuts paper.\"` |\n",
    "| `\"scissors\"` | `\"rock\"` | `\"You lose! Rock crushes scissors.\"` |\n",
    "| `\"scissors\"` | `\"paper\"` | `\"You win! Scissors cuts paper.\"` |\n",
    "\n",
    "</center>\n",
    "\n",
    "If the player and the computer make the same choice, the the displayed message should be:\n",
    "`\"It's a tie!\"` \n",
    "\n",
    "Write python code to do the following:\n",
    "\n",
    "* Complete the function called `round_message` which takes in two strings, `player_choice` and `computer_choice`.\n",
    "* If the player and computer choose different options, the function should return a string containing the appropriate message based on the table above.\n",
    "* If the player and computer choose the same, then the tie message above should be returned.\n",
    "\n",
    "Your code replaces the prompt:  `...`"
   ]
  },
  {
   "cell_type": "code",
   "execution_count": null,
   "metadata": {
    "tags": [
     "skip-execution"
    ]
   },
   "outputs": [],
   "source": [
    "def round_message(player_choice, computer_choice):\n",
    "    ...\n",
    "\n",
    "# use this to check your results\n",
    "round_message(\"paper\", \"scissors\")"
   ]
  },
  {
   "cell_type": "code",
   "execution_count": null,
   "metadata": {
    "deletable": false,
    "editable": false,
    "tags": [
     "skip-execution"
    ]
   },
   "outputs": [],
   "source": [
    "grader.check(\"task2-round-message\")"
   ]
  },
  {
   "cell_type": "markdown",
   "metadata": {
    "deletable": false,
    "editable": false
   },
   "source": [
    "**Task 3: Get Final Message** \n",
    "\n",
    "The game will be played in rounds until one player has reached a score of 2. When the game ends, a final message is displayed indicating whether the player won or lost. Your final task is to write the function that determines this final message based on the score.\n",
    "\n",
    "Write python code to do the following:\n",
    "\n",
    "* Complete the function called `final_message` which takes in two integers, `player_score` and `computer_score`.\n",
    "* If the `player_score` is greater than `computer_score`, return the string: `\"You won the game!\"`\n",
    "* If the `player_score` is less than `computer_score`, return the string: `\"You lost the game!\"` \n",
    "* You don't need to worry about handling a tie, since the game will only end when someone has won.\n",
    "\n",
    "Your code replaces the prompt:  `...`"
   ]
  },
  {
   "cell_type": "code",
   "execution_count": null,
   "metadata": {
    "tags": [
     "skip-execution"
    ]
   },
   "outputs": [],
   "source": [
    "def final_message(player_score, computer_score):\n",
    "    ...\n",
    "\n",
    "# use this to check your results\n",
    "final_message(2,0)"
   ]
  },
  {
   "cell_type": "code",
   "execution_count": null,
   "metadata": {
    "deletable": false,
    "editable": false,
    "tags": [
     "skip-execution"
    ]
   },
   "outputs": [],
   "source": [
    "grader.check(\"task3-final-message\")"
   ]
  },
  {
   "cell_type": "markdown",
   "metadata": {
    "editable": false
   },
   "source": [
    "# Play the game!\n",
    "Once you've completed the three tasks above, run the code below to play the game. Read through the commented code carefully and try to follow the logic of the implementation."
   ]
  },
  {
   "cell_type": "code",
   "execution_count": null,
   "metadata": {
    "tags": [
     "otter-ignore",
     "skip-execution"
    ]
   },
   "outputs": [],
   "source": [
    "# imports randomint package to select a random integer\n",
    "from random import randint\n",
    "\n",
    "# a list of choices the compute can pick from\n",
    "choices = [\"rock\", \"paper\", \"scissors\"]\n",
    "\n",
    "# initialize the score to 0/0\n",
    "player_score = 0\n",
    "computer_score = 0\n",
    "\n",
    "# initialize the round number to 1\n",
    "round = 1\n",
    "\n",
    "# keep playing while nobody has a score == 2\n",
    "while player_score < 2 and computer_score < 2:\n",
    "\n",
    "    # print the round number\n",
    "    print(f\"Round {round}\\n-------\")\n",
    "\n",
    "    # loop forever! (until we break out)\n",
    "    while True:\n",
    "        # get input from the player\n",
    "        player_choice = input(\"Your choice:\")\n",
    "        # if the input is valid, break out of the while loop\n",
    "        if valid_input(player_choice):\n",
    "            break\n",
    "        # otherwise warn the player of invalid input and have them try again\n",
    "        else:\n",
    "            print(\"Invalid input. Must be \\\"rock\\\", \\\"paper\\\" or \\\"scissors\\\". Try again.\")\n",
    "    \n",
    "    # have a computer make a random selection from the choices\n",
    "    computer_choice = choices[randint(0,2)]\n",
    "\n",
    "    # print out the player and computer choices\n",
    "    print(f\"Player choice: {player_choice}\")\n",
    "    print(f\"Computer choice: {computer_choice}\")\n",
    "\n",
    "    # get and store the round result message\n",
    "    message = round_message(player_choice, computer_choice)\n",
    "\n",
    "    # print the message\n",
    "    print(message)\n",
    "\n",
    "    # use the round result message to tell who won\n",
    "    # split the message at the spaces to get a list of words\n",
    "    # The second word (at index 1) is \"win!\" or \"lose!\" indicating the result\n",
    "    if message.split()[1] == \"win!\":\n",
    "        # add 1 to the player score\n",
    "        player_score += 1\n",
    "    elif message.split()[1] == \"lose!\":\n",
    "        # add 1 to the computer score\n",
    "        computer_score += 1\n",
    "\n",
    "    # increment the round number\n",
    "    round += 1\n",
    "    # print an empty line\n",
    "    print()\n",
    "\n",
    "# get and print the final message\n",
    "print(final_message(player_score, computer_score))\n",
    "# print the score\n",
    "print(f\"Final score | You : {player_score} | Computer : {computer_score} |\")"
   ]
  },
  {
   "cell_type": "markdown",
   "metadata": {
    "editable": false
   },
   "source": [
    "## Submitting Your Assignment\n",
    "\n",
    "To submit your assignment please use the following link the assignment on GitHub classroom.\n",
    "   \n",
    "Use this [link](https://classroom.github.com/a/IKI75-Wo) to navigate to the assignment on GitHub classroom.\n",
    "\n",
    "If you need further instructions on submitting your assignment please look at Lab 1. \n",
    "\n",
    "## Viewing your score\n",
    "\n",
    "**It is your responsibility to ensure that your grade report shows correctly. We can only provide corrections to grades if a grading error is determined. If you do not receive a grade report your grade has not been recorded. It is your responsibility either resubmit the assignment correctly or contact the instructors before the assignment due date.**\n",
    "\n",
    "Each `.ipynb` file you have uploaded will have a file with the name of your file + `Grade_Report.md`. You can view this file by clicking on the file name. This will show you the results of the autograder. \n",
    "\n",
    "We have both public and hidden tests. You will be able to see the score of both tests, but not the specific details of why the test passed or failed. \n",
    "\n",
    "```{note}\n",
    "In python and particularly jupyter notebooks it is common that during testing you run cells in a different order, or run cells and modify them. This can cause there to be local variables needed for your solution that would not be recreated on running your code again from scratch. Your assignment will be graded based on running your code from scratch. This means before you submit your assignment you should restart the kernel and run all cells. You can do this by clicking `Kernel` and selecting `Restart and Run All`. If you code does not run as expected after restarting the kernel and running all cells it means you have an error in your code. \n",
    "```\n",
    "\n",
    "## Fin"
   ]
  }
 ],
 "metadata": {
  "kernelspec": {
   "display_name": "Python 3",
   "language": "python",
   "name": "python3"
  },
  "language_info": {
   "codemirror_mode": {
    "name": "ipython",
    "version": 3
   },
   "file_extension": ".py",
   "mimetype": "text/x-python",
   "name": "python",
   "nbconvert_exporter": "python",
   "pygments_lexer": "ipython3",
   "version": "3.10.13"
  },
  "otter": {
   "OK_FORMAT": true,
   "tests": {
    "q0-Checking-Your-Name": {
     "name": "q0-Checking-Your-Name",
     "points": null,
     "suites": [
      {
       "cases": [
        {
         "code": ">>> def get_local_part(email):\n...     return email.split('@')[0]\n>>> local_part_email = get_local_part(drexel_email)\n>>> assert local_part_email == drexel_id, f\"The DrexelID extracted from the email '{local_part_email}' does not match the Drexel ID '{drexel_id}'.\"\n",
         "failure_message": "It does not appear that you entered your information correctly. Please try again.",
         "hidden": false,
         "locked": false,
         "points": 0,
         "success_message": "You have entered your information correctly."
        }
       ],
       "scored": true,
       "setup": "",
       "teardown": "",
       "type": "doctest"
      }
     ]
    },
    "task1-input": {
     "name": "task1-input",
     "points": null,
     "suites": [
      {
       "cases": [
        {
         "code": ">>> assert valid_input('rock')\n",
         "hidden": false,
         "locked": false,
         "points": 1,
         "success_message": "valid_input(\"rock\") is correct."
        },
        {
         "code": ">>> assert not valid_input('Rock')\n",
         "hidden": false,
         "locked": false,
         "points": 1,
         "success_message": "valid_input(\"Rock\") is correct."
        },
        {
         "code": ">>> assert not valid_input(' paper')\n",
         "hidden": false,
         "locked": false,
         "points": 1,
         "success_message": "valid_input(\" paper\") is correct."
        },
        {
         "code": ">>> assert valid_input('scissors')\n",
         "hidden": false,
         "locked": false,
         "points": 1,
         "success_message": "valid_input(\"scissors\") is correct."
        },
        {
         "code": ">>> assert not valid_input('scissor')\n",
         "hidden": false,
         "locked": false,
         "points": 1,
         "success_message": "valid_input(\"scissor\") is correct."
        }
       ],
       "scored": true,
       "setup": "",
       "teardown": "",
       "type": "doctest"
      }
     ]
    },
    "task2-round-message": {
     "name": "task2-round-message",
     "points": null,
     "suites": [
      {
       "cases": [
        {
         "code": ">>> assert round_message('rock', 'paper') == 'You lose! Paper covers rock.'\n",
         "hidden": false,
         "locked": false,
         "points": 1,
         "success_message": "round_message(\"rock\", \"paper\") is correct."
        },
        {
         "code": ">>> assert round_message('rock', 'scissors') == 'You win! Rock crushes scissors.'\n",
         "hidden": false,
         "locked": false,
         "points": 1,
         "success_message": "round_message(\"rock\", \"scissors\") is correct."
        },
        {
         "code": ">>> assert round_message('paper', 'rock') == 'You win! Paper covers rock.'\n",
         "hidden": false,
         "locked": false,
         "points": 1,
         "success_message": "round_message(\"rock\", \"scissors\") is correct."
        },
        {
         "code": ">>> assert round_message('paper', 'scissors') == 'You lose! Scissors cuts paper.'\n",
         "hidden": false,
         "locked": false,
         "points": 1,
         "success_message": "round_message(\"rock\", \"scissors\") is correct."
        },
        {
         "code": ">>> assert round_message('scissors', 'rock') == 'You lose! Rock crushes scissors.'\n",
         "hidden": false,
         "locked": false,
         "points": 1,
         "success_message": "round_message(\"rock\", \"scissors\") is correct."
        },
        {
         "code": ">>> assert round_message('scissors', 'paper') == 'You win! Scissors cuts paper.'\n",
         "hidden": false,
         "locked": false,
         "points": 1,
         "success_message": "round_message(\"rock\", \"scissors\") is correct."
        },
        {
         "code": ">>> assert round_message('paper', 'paper') == \"It's a tie!\"\n",
         "hidden": false,
         "locked": false,
         "points": 1,
         "success_message": "round_message(\"paper\", \"paper\") is correct."
        }
       ],
       "scored": true,
       "setup": "",
       "teardown": "",
       "type": "doctest"
      }
     ]
    },
    "task3-final-message": {
     "name": "task3-final-message",
     "points": null,
     "suites": [
      {
       "cases": [
        {
         "code": ">>> assert final_message(2, 0) == 'You won the game!'\n",
         "hidden": false,
         "locked": false,
         "points": 1,
         "success_message": "final_message(2,0) is correct."
        },
        {
         "code": ">>> assert final_message(2, 1) == 'You won the game!'\n",
         "hidden": false,
         "locked": false,
         "points": 1,
         "success_message": "final_message(2,0) is correct."
        },
        {
         "code": ">>> assert final_message(0, 2) == 'You lost the game!'\n",
         "hidden": false,
         "locked": false,
         "points": 1,
         "success_message": "final_message(2,0) is correct."
        },
        {
         "code": ">>> assert final_message(1, 2) == 'You lost the game!'\n",
         "hidden": false,
         "locked": false,
         "points": 1,
         "success_message": "final_message(2,0) is correct."
        }
       ],
       "scored": true,
       "setup": "",
       "teardown": "",
       "type": "doctest"
      }
     ]
    }
   }
  },
  "varInspector": {
   "cols": {
    "lenName": 16,
    "lenType": 16,
    "lenVar": 40
   },
   "kernels_config": {
    "python": {
     "delete_cmd_postfix": "",
     "delete_cmd_prefix": "del ",
     "library": "var_list.py",
     "varRefreshCmd": "print(var_dic_list())"
    },
    "r": {
     "delete_cmd_postfix": ") ",
     "delete_cmd_prefix": "rm(",
     "library": "var_list.r",
     "varRefreshCmd": "cat(var_dic_list()) "
    }
   },
   "types_to_exclude": [
    "module",
    "function",
    "builtin_function_or_method",
    "instance",
    "_Feature"
   ],
   "window_display": false
  },
  "vscode": {
   "interpreter": {
    "hash": "31f2aee4e71d21fbe5cf8b01ff0e069b9275f58929596ceb00d14d90e3e16cd6"
   }
  }
 },
 "nbformat": 4,
 "nbformat_minor": 4
}
