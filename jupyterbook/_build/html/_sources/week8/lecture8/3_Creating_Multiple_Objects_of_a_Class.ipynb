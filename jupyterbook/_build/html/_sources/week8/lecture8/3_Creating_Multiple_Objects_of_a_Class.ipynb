{
 "cells": [
  {
   "attachments": {},
   "cell_type": "markdown",
   "metadata": {
    "slideshow": {
     "slide_type": "slide"
    }
   },
   "source": [
    "# 📝Creating Multiple Objects of a Class\n",
    "\n",
    "- A very powerful utility of classes is that you can instantiate multiple instances of a class with different attributes.\n"
   ]
  },
  {
   "attachments": {},
   "cell_type": "markdown",
   "metadata": {
    "slideshow": {
     "slide_type": "fragment"
    }
   },
   "source": [
    "- This allows you to build scaffolding that supports information, functions, and methods in ways that can be written once and reused.\n"
   ]
  },
  {
   "attachments": {},
   "cell_type": "markdown",
   "metadata": {
    "slideshow": {
     "slide_type": "fragment"
    }
   },
   "source": [
    "As you learn more, you can start to appreciate things you have seen before in new ways. Let's return to the group randomization assignment we did in Lab 1.\n"
   ]
  },
  {
   "cell_type": "markdown",
   "metadata": {
    "slideshow": {
     "slide_type": "fragment"
    }
   },
   "source": [
    "1. We start by importing some functions\n"
   ]
  },
  {
   "cell_type": "code",
   "execution_count": 1,
   "metadata": {
    "slideshow": {
     "slide_type": "fragment"
    },
    "tags": [
     "skip-execution"
    ]
   },
   "outputs": [],
   "source": [
    "# import the scientific computing library numpy and give it the nickname np\n",
    "import numpy as np\n",
    "import random\n",
    "import csv\n"
   ]
  },
  {
   "attachments": {},
   "cell_type": "markdown",
   "metadata": {
    "slideshow": {
     "slide_type": "subslide"
    }
   },
   "source": [
    "2. Let's build a class `student` that contains the information about the students in the class.\n"
   ]
  },
  {
   "cell_type": "code",
   "execution_count": 2,
   "metadata": {
    "slideshow": {
     "slide_type": "fragment"
    },
    "tags": [
     "skip-execution"
    ]
   },
   "outputs": [],
   "source": [
    "# create a python class called Student\n",
    "class Student:\n",
    "\n",
    "    # create a constructor for the Student class that has arguments: leader, partners, and name\n",
    "    def __init__(self, name, number, leader=0, partners=None):\n",
    "\n",
    "        # stores the name in a data member called self.name\n",
    "\n",
    "        self.name = name\n",
    "        self.leader = leader\n",
    "        self.partners = partners\n",
    "        self.number = number\n",
    "\n",
    "    # create a method called _leader\n",
    "    def _leader(self):\n",
    "\n",
    "        # increment the value of self.leader by 1\n",
    "        self.leader += 1"
   ]
  },
  {
   "attachments": {},
   "cell_type": "markdown",
   "metadata": {
    "slideshow": {
     "slide_type": "subslide"
    }
   },
   "source": [
    "3. We build a class `Groups` that defines each group in the class.\n"
   ]
  },
  {
   "cell_type": "code",
   "execution_count": 3,
   "metadata": {
    "slideshow": {
     "slide_type": "fragment"
    },
    "tags": [
     "skip-execution"
    ]
   },
   "outputs": [],
   "source": [
    "class Groups:\n",
    "    def __init__(self, group_number, group_size, group_members, group_leader):\n",
    "        self.group_number = group_number\n",
    "        self.group_size = group_size\n",
    "        self.group_member = group_members\n",
    "        self.group_leader = group_leader"
   ]
  },
  {
   "attachments": {},
   "cell_type": "markdown",
   "metadata": {
    "slideshow": {
     "slide_type": "subslide"
    },
    "tags": [
     "skip-execution"
    ]
   },
   "source": [
    "4. We load a list of Baby Names.\n"
   ]
  },
  {
   "cell_type": "code",
   "execution_count": 4,
   "metadata": {
    "slideshow": {
     "slide_type": "fragment"
    },
    "tags": [
     "skip-execution"
    ]
   },
   "outputs": [],
   "source": [
    "path = \"./baby-names-by-state.csv\"\n",
    "\n",
    "# open the file at the specified path for reading and give it the name f\n",
    "with open(path, \"r\") as f:\n",
    "    # create a csv reader object to read the comma-separated file\n",
    "    reader = csv.reader(f, delimiter=\",\")\n",
    "    headers = next(reader)\n",
    "    data = np.array(list(reader))\n",
    "\n",
    "names_ = np.unique(data[:, 2])\n"
   ]
  },
  {
   "attachments": {},
   "cell_type": "markdown",
   "metadata": {
    "slideshow": {
     "slide_type": "subslide"
    }
   },
   "source": [
    "5. We can now build a list that contains all of the instantiated student objects.\n"
   ]
  },
  {
   "cell_type": "code",
   "execution_count": null,
   "metadata": {
    "slideshow": {
     "slide_type": "fragment"
    },
    "tags": [
     "skip-execution"
    ]
   },
   "outputs": [],
   "source": [
    "students = []\n",
    "\n",
    "for i, name in enumerate(names_):\n",
    "    students.append(Student(name, i))"
   ]
  }
 ],
 "metadata": {
  "celltoolbar": "Slideshow",
  "kernelspec": {
   "display_name": "Python 3 (ipykernel)",
   "language": "python",
   "name": "python3"
  },
  "language_info": {
   "codemirror_mode": {
    "name": "ipython",
    "version": 3
   },
   "file_extension": ".py",
   "mimetype": "text/x-python",
   "name": "python",
   "nbconvert_exporter": "python",
   "pygments_lexer": "ipython3",
   "version": "3.10.13"
  }
 },
 "nbformat": 4,
 "nbformat_minor": 2
}
