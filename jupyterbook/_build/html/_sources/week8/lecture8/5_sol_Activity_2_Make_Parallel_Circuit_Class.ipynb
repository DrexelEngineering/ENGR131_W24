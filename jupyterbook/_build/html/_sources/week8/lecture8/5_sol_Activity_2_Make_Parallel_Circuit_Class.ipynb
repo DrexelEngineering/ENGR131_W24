{
 "cells": [
  {
   "attachments": {},
   "cell_type": "markdown",
   "metadata": {
    "slideshow": {
     "slide_type": "slide"
    }
   },
   "source": [
    "# 💻 Activity: Create a Class for Parallel Circuits\n",
    "\n",
    "We built a class for circuits in series. Use what you learned last week about circuits with resistors in parallel and what you now know about classes to construct a class for circuits in parallel."
   ]
  },
  {
   "attachments": {},
   "cell_type": "markdown",
   "metadata": {
    "slideshow": {
     "slide_type": "fragment"
    }
   },
   "source": [
    "Consider this circuit with 9 volts of energy and three different resistors in parallel. \n",
    "\n",
    "![image](https://www.allaboutcircuits.com/uploads/thumbnails/Figure_1._Parallel_circuit_with_a_battery_and_three_resistors_.jpg)\n"
   ]
  },
  {
   "cell_type": "markdown",
   "metadata": {
    "slideshow": {
     "slide_type": "fragment"
    }
   },
   "source": [
    "1. Build a class for a parallel type circuit called `ParallelCircuit` that \n",
    "- holds information about a circuit with resistors in parallel and \n",
    "- calculates the total resistance, current, and voltages across each resistor.\n",
    "\n",
    "2. Add to the `ParallelCircuit` class a method that allows the resistance of each resistor to be associated with the circuit.\n",
    "\n",
    "3. Add to the `ParallelCircuit` class a method to the class to calculate the total resistance.\n",
    "\n",
    "4. Add to the `ParallelCircuit` class methods that calculate the current flowing through the circuit or the voltage across each resistor.\n"
   ]
  },
  {
   "cell_type": "code",
   "execution_count": null,
   "metadata": {
    "slideshow": {
     "slide_type": "fragment"
    },
    "tags": [
     "skip-execution"
    ]
   },
   "outputs": [],
   "source": [
    "# create a class object\n",
    "class ParallelCircuit:\n",
    "    # create a constructor for the ParallelCircuit class\n",
    "    def __init__(self):\n",
    "        self.components = []  # List to store resistances of the circuit components\n",
    "\n",
    "    # create a method that adds a resistor to an instantiation of the ParallelCircuit class\n",
    "    def add_resistor(self, resistance):\n",
    "        \"\"\"Add a resistor to the circuit.\"\"\"\n",
    "        self.components.append(resistance)\n",
    "\n",
    "    # create a method that sums the list `components` of an instantiation of the ParallelCircuit class\n",
    "    def total_equivalent_resistance(self):\n",
    "        \"\"\"Calculate the total equivalent resistance in the parallel circuit.\"\"\"\n",
    "        inverse_total = sum([1.0 / r for r in self.components])\n",
    "        if inverse_total > 0:\n",
    "            return 1.0 / inverse_total\n",
    "        else:\n",
    "            return float('inf')  # Infinite resistance if no components\n",
    "\n",
    "    # create a method that calculates the current flowing through an instantiation of the ParallelCircuit class\n",
    "    def circuit_current(self, voltage):\n",
    "        \"\"\"Calculate the total current flowing from the voltage source.\"\"\"\n",
    "        equivalent_resistance = self.total_equivalent_resistance()\n",
    "        if equivalent_resistance > 0:\n",
    "            return voltage / equivalent_resistance\n",
    "        else:\n",
    "            return 0\n",
    "\n",
    "    # create a method that calculates the voltage across each resistor an instantiation of the ParallelCircuit class\n",
    "    def component_currents(self, voltage):\n",
    "        \"\"\"Calculate the current through each resistor in the parallel circuit.\"\"\"\n",
    "        return [voltage / r for r in self.components]\n"
   ]
  },
  {
   "attachments": {},
   "cell_type": "markdown",
   "metadata": {
    "slideshow": {
     "slide_type": "subslide"
    }
   },
   "source": [
    "5. Apply this class to revisit the circuit with 9 volts of energy and three different resistors in parallel that we considered with nested lists last week. \n",
    "\n",
    "![image](https://www.allaboutcircuits.com/uploads/thumbnails/Figure_1._Parallel_circuit_with_a_battery_and_three_resistors_.jpg)\n"
   ]
  },
  {
   "cell_type": "code",
   "execution_count": 5,
   "metadata": {
    "slideshow": {
     "slide_type": "fragment"
    },
    "tags": [
     "skip-execution"
    ]
   },
   "outputs": [],
   "source": [
    "# instantiate the class\n",
    "circuit = ParallelCircuitCircuit()\n",
    "\n",
    "# use the add_resistor method to construct the circuit\n",
    "circuit.add_resistor(10000)  # Add a 3000 ohm resistor\n",
    "circuit.add_resistor(2000)  # Add a 10000 ohm resistor\n",
    "circuit.add_resistor(1000)   # Add a 5000 ohm resistor"
   ]
  },
  {
   "cell_type": "code",
   "execution_count": null,
   "metadata": {},
   "outputs": [],
   "source": [
    "# apply the total_resistance method to the instantiation of the class\n",
    "total_resistance = circuit.total_resistance()\n",
    "print(f\"Total Resistance: {total_resistance} Ohms\")\n",
    "\n",
    "# apply the circuit_current method to the instantiation of the class\n",
    "voltage_source = 9  # 9V voltage source\n",
    "current = circuit.circuit_current(voltage_source)\n",
    "print(f\"Circuit Current: {current} A\")\n",
    "\n",
    "# apply the component_voltages method to the instantiation of the class\n",
    "voltages = circuit.component_voltages(voltage_source)\n",
    "print(f\"Voltages across each component: {voltages}\")"
   ]
  }
 ],
 "metadata": {
  "celltoolbar": "Slideshow",
  "kernelspec": {
   "display_name": "Python 3 (ipykernel)",
   "language": "python",
   "name": "python3"
  },
  "language_info": {
   "codemirror_mode": {
    "name": "ipython",
    "version": 3
   },
   "file_extension": ".py",
   "mimetype": "text/x-python",
   "name": "python",
   "nbconvert_exporter": "python",
   "pygments_lexer": "ipython3",
   "version": "3.10.8"
  }
 },
 "nbformat": 4,
 "nbformat_minor": 2
}
