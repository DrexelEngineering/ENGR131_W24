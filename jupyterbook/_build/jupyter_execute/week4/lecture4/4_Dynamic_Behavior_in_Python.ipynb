{
 "cells": [
  {
   "attachments": {},
   "cell_type": "markdown",
   "metadata": {
    "slideshow": {
     "slide_type": "slide"
    }
   },
   "source": [
    "# 📝 Dynamic Behavior in Python\n",
    "\n",
    "Python includes a lot of flexibility and can adjust DataTypes and behaviors based on valid operations on inputs provided. "
   ]
  },
  {
   "cell_type": "markdown",
   "metadata": {
    "slideshow": {
     "slide_type": "subslide"
    }
   },
   "source": [
    "## *args\n",
    "\n",
    "Sometimes when you build functions you do not know how many inputs you will have. This can be handled usings *args."
   ]
  },
  {
   "cell_type": "markdown",
   "metadata": {
    "slideshow": {
     "slide_type": "fragment"
    }
   },
   "source": [
    "```{note}\n",
    "Any *variable can be used for *args, it is convention and good practice to use *args\n",
    "```"
   ]
  },
  {
   "cell_type": "code",
   "execution_count": 1,
   "metadata": {
    "slideshow": {
     "slide_type": "fragment"
    }
   },
   "outputs": [
    {
     "name": "stdout",
     "output_type": "stream",
     "text": [
      "5 <class 'tuple'>\n"
     ]
    }
   ],
   "source": [
    "def add(*args):\n",
    "    print(sum(args), type(args))\n",
    "\n",
    "\n",
    "add(2, 3)\n"
   ]
  },
  {
   "cell_type": "markdown",
   "metadata": {
    "slideshow": {
     "slide_type": "subslide"
    }
   },
   "source": [
    "## **kwargs\n",
    "\n",
    "Sometimes you want to input an arbitrary number of key-value pairs. This can be done with the **kwargs input."
   ]
  },
  {
   "cell_type": "markdown",
   "metadata": {
    "slideshow": {
     "slide_type": "fragment"
    }
   },
   "source": [
    "```{note}\n",
    "Any **variable can be used for **kwargs, it is convention and good practice to use *kwargs\n",
    "```"
   ]
  },
  {
   "cell_type": "code",
   "execution_count": 2,
   "metadata": {
    "slideshow": {
     "slide_type": "fragment"
    }
   },
   "outputs": [
    {
     "name": "stdout",
     "output_type": "stream",
     "text": [
      "{'two': 2, 'three': 3}\n",
      "5\n"
     ]
    }
   ],
   "source": [
    "def add(**kwargs):\n",
    "    print(kwargs)  # this is a dictionary\n",
    "    print(sum(kwargs.values()))\n",
    "\n",
    "\n",
    "add(two=2, three=3)\n"
   ]
  },
  {
   "cell_type": "markdown",
   "metadata": {
    "slideshow": {
     "slide_type": "subslide"
    }
   },
   "source": [
    "## *args and **kwargs\n",
    "\n",
    "You can use predefined inputs, *args, and **kwargs together. Python will choose the right input. "
   ]
  },
  {
   "cell_type": "code",
   "execution_count": 3,
   "metadata": {
    "slideshow": {
     "slide_type": "fragment"
    }
   },
   "outputs": [
    {
     "name": "stdout",
     "output_type": "stream",
     "text": [
      "the sum is:kwargs is: 5\n",
      "the sum is:args is: 0\n"
     ]
    }
   ],
   "source": [
    "def add(text, *args, **kwargs):\n",
    "    print(text + f\"kwargs is: {sum(kwargs.values())}\")\n",
    "    print(text + f\"args is: {sum(args)}\")\n",
    "\n",
    "\n",
    "add(\"the sum is:\", two=2, three=3)\n"
   ]
  },
  {
   "cell_type": "code",
   "execution_count": 4,
   "metadata": {
    "slideshow": {
     "slide_type": "fragment"
    }
   },
   "outputs": [
    {
     "name": "stdout",
     "output_type": "stream",
     "text": [
      "the sum is:kwargs is: 0\n",
      "the sum is:args is: 5\n"
     ]
    }
   ],
   "source": [
    "add(\"the sum is:\", 2, 3)\n"
   ]
  },
  {
   "cell_type": "code",
   "execution_count": 5,
   "metadata": {
    "slideshow": {
     "slide_type": "fragment"
    }
   },
   "outputs": [
    {
     "name": "stdout",
     "output_type": "stream",
     "text": [
      "the sum is:kwargs is: 1003\n",
      "the sum is:args is: 102\n"
     ]
    }
   ],
   "source": [
    "add(\"the sum is:\", 2, 100, three=3, _1k=1000)\n"
   ]
  },
  {
   "cell_type": "markdown",
   "metadata": {
    "slideshow": {
     "slide_type": "fragment"
    }
   },
   "source": [
    "```{note}\n",
    "*args and **kwargs are much more useful with iterators which you will learn about soon.\n",
    "```"
   ]
  },
  {
   "cell_type": "markdown",
   "metadata": {
    "slideshow": {
     "slide_type": "slide"
    }
   },
   "source": [
    "# Dynamic Typing\n",
    "\n",
    "Within functions it is possible to input different DataTypes as inputs and as long a python can infer a valid operation and DataType it will automatically adjust"
   ]
  },
  {
   "cell_type": "code",
   "execution_count": 6,
   "metadata": {
    "slideshow": {
     "slide_type": "fragment"
    }
   },
   "outputs": [],
   "source": [
    "def multiplier(x, y):\n",
    "    print(f\"multiplier ({x}, {y}) is {x * y}\")\n",
    "    print(type(x * y))\n"
   ]
  },
  {
   "cell_type": "code",
   "execution_count": 7,
   "metadata": {
    "slideshow": {
     "slide_type": "fragment"
    }
   },
   "outputs": [
    {
     "name": "stdout",
     "output_type": "stream",
     "text": [
      "multiplier (3, 2) is 6\n",
      "<class 'int'>\n"
     ]
    }
   ],
   "source": [
    "multiplier(3, 2)\n"
   ]
  },
  {
   "cell_type": "code",
   "execution_count": 8,
   "metadata": {
    "slideshow": {
     "slide_type": "fragment"
    }
   },
   "outputs": [
    {
     "name": "stdout",
     "output_type": "stream",
     "text": [
      "multiplier (3.14, 2) is 6.28\n",
      "<class 'float'>\n"
     ]
    }
   ],
   "source": [
    "multiplier(3.14, 2)\n"
   ]
  },
  {
   "cell_type": "code",
   "execution_count": 9,
   "metadata": {
    "slideshow": {
     "slide_type": "fragment"
    }
   },
   "outputs": [
    {
     "name": "stdout",
     "output_type": "stream",
     "text": [
      "multiplier (Drexel Dragons , 3) is Drexel Dragons Drexel Dragons Drexel Dragons \n",
      "<class 'str'>\n"
     ]
    }
   ],
   "source": [
    "multiplier(\"Drexel Dragons \", 3)\n"
   ]
  }
 ],
 "metadata": {
  "celltoolbar": "Slideshow",
  "kernelspec": {
   "display_name": "torch",
   "language": "python",
   "name": "python3"
  },
  "language_info": {
   "codemirror_mode": {
    "name": "ipython",
    "version": 3
   },
   "file_extension": ".py",
   "mimetype": "text/x-python",
   "name": "python",
   "nbconvert_exporter": "python",
   "pygments_lexer": "ipython3",
   "version": "3.10.13"
  },
  "vscode": {
   "interpreter": {
    "hash": "6c85558113b53c129e108b4bd8e5af9b1125141b2f5c4ff4283ce45d32702647"
   }
  }
 },
 "nbformat": 4,
 "nbformat_minor": 2
}