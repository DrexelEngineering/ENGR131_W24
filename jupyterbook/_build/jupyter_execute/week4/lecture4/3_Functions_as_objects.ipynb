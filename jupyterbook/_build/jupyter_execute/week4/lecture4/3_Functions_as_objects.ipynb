{
 "cells": [
  {
   "cell_type": "markdown",
   "metadata": {
    "slideshow": {
     "slide_type": "slide"
    }
   },
   "source": [
    "# 📝Functions as Objects"
   ]
  },
  {
   "cell_type": "markdown",
   "metadata": {
    "slideshow": {
     "slide_type": "fragment"
    }
   },
   "source": [
    "Let's build a function to draw a drexel dragon."
   ]
  },
  {
   "cell_type": "code",
   "execution_count": 1,
   "metadata": {
    "slideshow": {
     "slide_type": "fragment"
    }
   },
   "outputs": [],
   "source": [
    "def drexel_dragons():\n",
    "    print(\n",
    "        \"\"\"         \n",
    "\n",
    "           /\\_/\\   _   ()_()  wWw  wW    Ww wWw  W  W        _   ()_()            \\/       .-.   \\\\\\  ///  oo_    \n",
    "          / o o \\   /||_ (O o)  (O)_(O)\\  /(O)(O)_(O)(O)      /||_ (O o)    /)     (OO)    c(O_O)c ((O)(O)) /  _)-< \n",
    "     /\\   \\~(*)~/     /o_) |^_\\  / __)`. \\/ .' / __) ||         /o_) |^_\\  (o)(O) ,'.--.)  ,'.---.`, | \\ ||  \\__ `.  \n",
    "     //\\\\  /     \\   / |(\\ |(_))/ (     \\  /  / (    | \\       / |(\\ |(_))  //\\\\ / /|_|_\\ / /|_|_|\\ \\||\\\\||     `. | \n",
    "     //  \\\\(       )  | | ))|  /(  _)    /  \\ (  _)   |  `.     | | ))|  /  |(__)|| \\_.--. | \\_____/ ||| \\ |     _| | \n",
    "     //    \\/\\~*.*~/   | |// )|\\\\ \\ \\_  .' /\\ `.\\ \\_  (.-.__)    | |// )|\\\\  /,-. |'.   \\) \\'. `---' .`||  ||  ,-'   | \n",
    "     //__/\\_/   \\      \\__/ (/  \\) \\__)(_.'  `._)\\__)  `-'       \\__/ (/  \\)-'   ''  `-.(_.'  `-...-' (_/  \\_)(_..--'  \"\"\"\n",
    "    )\n"
   ]
  },
  {
   "cell_type": "markdown",
   "metadata": {
    "slideshow": {
     "slide_type": "subslide"
    }
   },
   "source": [
    "Let's assign `drexel_dragons` to a variable `Penn`"
   ]
  },
  {
   "cell_type": "code",
   "execution_count": 2,
   "metadata": {
    "slideshow": {
     "slide_type": "fragment"
    }
   },
   "outputs": [],
   "source": [
    "Penn = drexel_dragons\n"
   ]
  },
  {
   "cell_type": "markdown",
   "metadata": {
    "slideshow": {
     "slide_type": "fragment"
    }
   },
   "source": [
    "**Why did this not run?**"
   ]
  },
  {
   "cell_type": "markdown",
   "metadata": {
    "slideshow": {
     "slide_type": "fragment"
    }
   },
   "source": [
    "```{toggle}\n",
    "We just assigned this to a variable that is an object of the function `drexel_dragons`\n",
    "```"
   ]
  },
  {
   "cell_type": "markdown",
   "metadata": {
    "slideshow": {
     "slide_type": "fragment"
    }
   },
   "source": [
    "We can discover what the object is by printing the type"
   ]
  },
  {
   "cell_type": "code",
   "execution_count": 3,
   "metadata": {
    "slideshow": {
     "slide_type": "fragment"
    }
   },
   "outputs": [
    {
     "name": "stdout",
     "output_type": "stream",
     "text": [
      "<class 'function'>\n"
     ]
    }
   ],
   "source": [
    "print(type(Penn))\n"
   ]
  },
  {
   "cell_type": "markdown",
   "metadata": {
    "slideshow": {
     "slide_type": "fragment"
    }
   },
   "source": [
    "Or running it by calling the function"
   ]
  },
  {
   "cell_type": "code",
   "execution_count": 4,
   "metadata": {
    "slideshow": {
     "slide_type": "fragment"
    }
   },
   "outputs": [
    {
     "name": "stdout",
     "output_type": "stream",
     "text": [
      "         \n",
      "\n",
      "           /\\_/\\   _   ()_()  wWw  wW    Ww wWw  W  W        _   ()_()            \\/       .-.   \\\\  ///  oo_    \n",
      "          / o o \\   /||_ (O o)  (O)_(O)\\  /(O)(O)_(O)(O)      /||_ (O o)    /)     (OO)    c(O_O)c ((O)(O)) /  _)-< \n",
      "     /\\   \\~(*)~/     /o_) |^_\\  / __)`. \\/ .' / __) ||         /o_) |^_\\  (o)(O) ,'.--.)  ,'.---.`, | \\ ||  \\__ `.  \n",
      "     //\\  /     \\   / |(\\ |(_))/ (     \\  /  / (    | \\       / |(\\ |(_))  //\\ / /|_|_\\ / /|_|_|\\ \\||\\||     `. | \n",
      "     //  \\(       )  | | ))|  /(  _)    /  \\ (  _)   |  `.     | | ))|  /  |(__)|| \\_.--. | \\_____/ ||| \\ |     _| | \n",
      "     //    \\/\\~*.*~/   | |// )|\\ \\ \\_  .' /\\ `.\\ \\_  (.-.__)    | |// )|\\  /,-. |'.   \\) '. `---' .`||  ||  ,-'   | \n",
      "     //__/\\_/   \\      \\__/ (/  \\) \\__)(_.'  `._)\\__)  `-'       \\__/ (/  \\)-'   ''  `-.(_.'  `-...-' (_/  \\_)(_..--'  \n"
     ]
    }
   ],
   "source": [
    "Penn()\n"
   ]
  },
  {
   "cell_type": "markdown",
   "metadata": {
    "slideshow": {
     "slide_type": "subslide"
    }
   },
   "source": [
    "## Reassigning Functions\n",
    "\n",
    "We can assign functions to a different variable"
   ]
  },
  {
   "cell_type": "code",
   "execution_count": 5,
   "metadata": {
    "slideshow": {
     "slide_type": "fragment"
    }
   },
   "outputs": [],
   "source": [
    "drexel = drexel_dragons\n"
   ]
  },
  {
   "cell_type": "code",
   "execution_count": 6,
   "metadata": {
    "slideshow": {
     "slide_type": "fragment"
    }
   },
   "outputs": [
    {
     "data": {
      "text/plain": [
       "True"
      ]
     },
     "execution_count": 6,
     "metadata": {},
     "output_type": "execute_result"
    }
   ],
   "source": [
    "drexel is Penn\n"
   ]
  },
  {
   "cell_type": "code",
   "execution_count": 7,
   "metadata": {
    "slideshow": {
     "slide_type": "fragment"
    }
   },
   "outputs": [
    {
     "data": {
      "text/plain": [
       "True"
      ]
     },
     "execution_count": 7,
     "metadata": {},
     "output_type": "execute_result"
    }
   ],
   "source": [
    "drexel == Penn\n"
   ]
  },
  {
   "cell_type": "markdown",
   "metadata": {
    "slideshow": {
     "slide_type": "subslide"
    }
   },
   "source": [
    "## Functions in Data Structures\n",
    "\n",
    "Data Structures are objects that store other objects: List, Tuples, Dictionaries, Sets"
   ]
  },
  {
   "cell_type": "markdown",
   "metadata": {
    "slideshow": {
     "slide_type": "fragment"
    }
   },
   "source": [
    "Since functions are objects, they can be stored in data structures."
   ]
  },
  {
   "cell_type": "code",
   "execution_count": 8,
   "metadata": {
    "slideshow": {
     "slide_type": "fragment"
    }
   },
   "outputs": [
    {
     "data": {
      "text/plain": [
       "[<function __main__.drexel_dragons()>, <function __main__.drexel_dragons()>]"
      ]
     },
     "execution_count": 8,
     "metadata": {},
     "output_type": "execute_result"
    }
   ],
   "source": [
    "[Penn, drexel]\n"
   ]
  },
  {
   "cell_type": "markdown",
   "metadata": {
    "slideshow": {
     "slide_type": "slide"
    }
   },
   "source": [
    "## Functions calling Functions\n",
    "\n",
    "Functions can be called by other functions. A good example of this is the function `map`"
   ]
  },
  {
   "cell_type": "markdown",
   "metadata": {
    "slideshow": {
     "slide_type": "fragment"
    }
   },
   "source": [
    "`map()` function returns a map object (which is an iterator) of the results after applying the given function to each item of a given iterable (list, tuple etc.)."
   ]
  },
  {
   "cell_type": "code",
   "execution_count": 9,
   "metadata": {
    "slideshow": {
     "slide_type": "fragment"
    }
   },
   "outputs": [],
   "source": [
    "import numpy as np\n",
    "import matplotlib.pyplot as plt\n",
    "\n",
    "\n",
    "def sig(x):\n",
    "    return 1 / (1 + np.exp(-x))\n"
   ]
  },
  {
   "cell_type": "code",
   "execution_count": 10,
   "metadata": {
    "slideshow": {
     "slide_type": "fragment"
    }
   },
   "outputs": [
    {
     "data": {
      "text/plain": [
       "[<matplotlib.lines.Line2D at 0x7f5d337839a0>]"
      ]
     },
     "execution_count": 10,
     "metadata": {},
     "output_type": "execute_result"
    },
    {
     "data": {
      "image/png": "[encoded data removed]",
      "text/plain": [
       "<Figure size 640x480 with 1 Axes>"
      ]
     },
     "metadata": {},
     "output_type": "display_data"
    }
   ],
   "source": [
    "x = np.random.uniform(-5, 5, 100)\n",
    "plt.plot(x, np.array(list(map(sig, x))), \"s\")\n"
   ]
  },
  {
   "cell_type": "markdown",
   "metadata": {
    "slideshow": {
     "slide_type": "slide"
    }
   },
   "source": [
    "## Function Scope\n",
    "\n",
    "A variable is only available from inside the region in which it was created."
   ]
  },
  {
   "cell_type": "markdown",
   "metadata": {
    "slideshow": {
     "slide_type": "subslide"
    }
   },
   "source": [
    "### Local Scope\n",
    "\n",
    "A variable created inside a function belongs to the *local scope* of that function and can only be used inside that function."
   ]
  },
  {
   "cell_type": "markdown",
   "metadata": {
    "slideshow": {
     "slide_type": "fragment"
    }
   },
   "source": [
    "A variable created inside a function is available inside that function:\n",
    "\n"
   ]
  },
  {
   "cell_type": "code",
   "execution_count": 11,
   "metadata": {
    "slideshow": {
     "slide_type": "fragment"
    }
   },
   "outputs": [
    {
     "name": "stdout",
     "output_type": "stream",
     "text": [
      "300\n"
     ]
    }
   ],
   "source": [
    "def myfunc():\n",
    "    x = 300\n",
    "    print(x)\n",
    "    \n",
    "\n",
    "myfunc()\n"
   ]
  },
  {
   "cell_type": "markdown",
   "metadata": {
    "slideshow": {
     "slide_type": "subslide"
    }
   },
   "source": [
    "### Global Scope\n",
    "\n",
    "A variable created in the main body of the Python code is a global variable and belongs to the global scope.\n"
   ]
  },
  {
   "cell_type": "markdown",
   "metadata": {
    "slideshow": {
     "slide_type": "fragment"
    }
   },
   "source": [
    "\n",
    "Global variables are available from within any scope, global and local."
   ]
  },
  {
   "cell_type": "markdown",
   "metadata": {
    "slideshow": {
     "slide_type": "fragment"
    }
   },
   "source": [
    "A variable created outside of a function is global and can be used by anyone:\n"
   ]
  },
  {
   "cell_type": "code",
   "execution_count": 12,
   "metadata": {
    "slideshow": {
     "slide_type": "fragment"
    }
   },
   "outputs": [
    {
     "name": "stdout",
     "output_type": "stream",
     "text": [
      "300\n",
      "300\n"
     ]
    }
   ],
   "source": [
    "x = 300\n",
    "\n",
    "\n",
    "def myfunc():\n",
    "    print(x)\n",
    "\n",
    "\n",
    "myfunc()\n",
    "\n",
    "print(x)\n"
   ]
  },
  {
   "cell_type": "markdown",
   "metadata": {
    "slideshow": {
     "slide_type": "subslide"
    }
   },
   "source": [
    "### Common Mistakes\n",
    "\n",
    "You cannot access a locally defined variable from outside of a function, as it does not exist"
   ]
  },
  {
   "cell_type": "code",
   "execution_count": null,
   "metadata": {
    "slideshow": {
     "slide_type": "fragment"
    },
    "tags": [
     "skip-execution"
    ]
   },
   "outputs": [],
   "source": [
    "x = 300\n",
    "\n",
    "\n",
    "def my_function():\n",
    "    print(x)\n",
    "    y = 200\n",
    "    print(y)\n",
    "\n",
    "\n",
    "y\n"
   ]
  },
  {
   "cell_type": "code",
   "execution_count": null,
   "metadata": {},
   "outputs": [],
   "source": []
  }
 ],
 "metadata": {
  "celltoolbar": "Tags",
  "kernelspec": {
   "display_name": "Python 3 (ipykernel)",
   "language": "python",
   "name": "python3"
  },
  "language_info": {
   "codemirror_mode": {
    "name": "ipython",
    "version": 3
   },
   "file_extension": ".py",
   "mimetype": "text/x-python",
   "name": "python",
   "nbconvert_exporter": "python",
   "pygments_lexer": "ipython3",
   "version": "3.10.13"
  },
  "varInspector": {
   "cols": {
    "lenName": 16,
    "lenType": 16,
    "lenVar": 40
   },
   "kernels_config": {
    "python": {
     "delete_cmd_postfix": "",
     "delete_cmd_prefix": "del ",
     "library": "var_list.py",
     "varRefreshCmd": "print(var_dic_list())"
    },
    "r": {
     "delete_cmd_postfix": ") ",
     "delete_cmd_prefix": "rm(",
     "library": "var_list.r",
     "varRefreshCmd": "cat(var_dic_list()) "
    }
   },
   "types_to_exclude": [
    "module",
    "function",
    "builtin_function_or_method",
    "instance",
    "_Feature"
   ],
   "window_display": false
  },
  "vscode": {
   "interpreter": {
    "hash": "775f42d2c624786ce087f304b32550a3a398124b7164551d1aea823130207773"
   }
  }
 },
 "nbformat": 4,
 "nbformat_minor": 2
}