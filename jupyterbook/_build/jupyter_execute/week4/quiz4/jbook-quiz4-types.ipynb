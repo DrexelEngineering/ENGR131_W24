{
 "cells": [
  {
   "attachments": {},
   "cell_type": "markdown",
   "metadata": {
    "editable": false
   },
   "source": [
    "# ⌛️ Quiz 4 - Understanding Data Types\n",
    "\n",
    "This quiz evaluates your mastery of data types and indexing arrays.\n",
    "\n"
   ]
  },
  {
   "cell_type": "markdown",
   "metadata": {
    "editable": false
   },
   "source": [
    "## Instructions\n",
    "\n",
    "You will click on the following link to start your quiz. Do not start the quiz before your lab section. We have checks in place to ensure that you do not start the quiz early. If you do, you will receive a 0 on the quiz. Furthermore, it could be considered an academic integrity violation.\n",
    "\n",
    "[CLICK HERE TO START YOUR QUIZ IN LAB](https://online.wiseattend.com/student/testLink?c=ENGR131&k=9964) \n",
    "\n"
   ]
  },
  {
   "cell_type": "markdown",
   "metadata": {
    "editable": false
   },
   "source": [
    "## Entering Your Information for Credit\n",
    "\n",
    "To receive credit for assignments it is important we can identify your work from others. To do this we will ask you to enter your information in the following code block.\n",
    "\n",
    "### Before you begin\n",
    "\n",
    "Run the block of code at the top of the notebook that imports and sets up the autograder. This will allow you to check your work. "
   ]
  },
  {
   "cell_type": "code",
   "execution_count": null,
   "metadata": {
    "tags": [
     "skip-execution"
    ]
   },
   "outputs": [],
   "source": [
    "# Please provide your first name, last name, Drexel ID, and Drexel email. Make sure these are provided as strings. \"STRINGS ARE TEXT ENCLOSED IN QUOTATION MARKS.\"\n",
    "\n",
    "# In the assignments you will see sections of code that you need to fill in that are marked with ... (three dots). Replace the ... with your code.\n",
    "first_name = ...\n",
    "last_name = ...\n",
    "drexel_id = ...\n",
    "drexel_email = ...\n"
   ]
  },
  {
   "cell_type": "markdown",
   "metadata": {
    "deletable": false,
    "editable": false
   },
   "source": [
    "**Question 1: Chemical Reaction** \n",
    "\n",
    "\n",
    "A first-order chemical reaction of substance $A$ produces $B$. The reaction can be represented as:\n",
    "\n",
    "$$ aA \\rightarrow bB $$\n",
    "\n",
    "where:\n",
    "- $ a $ is the stoichiometric coefficient of the reactant $ A $.\n",
    "- $ b $ is the stoichiometric coefficient of the product $ B $.\n",
    "- $ A_0 $ is the initial concentration of $ A $.\n",
    "\n",
    "The amount of product $ B $ formed is directly related to the amount of reactant $ A $ consumed, based on their stoichiometric relationship. \n",
    "\n",
    "$$ B = A \\frac{b}{a} $$\n",
    "\n",
    "Complete the function to calculates the amount of $ B $ formed from the initial amount of $ A $.\n",
    "\n",
    "In this example, for every 2 moles of A, 3 moles of B are produced. The function `calculate_product_amount` calculates the amount of B formed from the given initial concentration of A. This calculation assumes that all of A is consumed in the reaction.\n",
    "\n",
    "Write code that \n",
    "- asserts that all of the initial $A$ reacts in a variable `reacted_A`.\n",
    "- applies stoichiometry to determine the amount of $B$ produced following the equation above. Save to a variable `product_B`.\n",
    "- generates a brief report of the B produced for a given initial amount of A. Save to a variable `report`.\n",
    "\n",
    "`\"The amount of product B formed: ____ mol B.\"`\n",
    "\n",
    "The value should be reported with **two digits** after the decimal point. You should use a string formatting expression to do this.\n",
    "\n",
    "Write python code to do the following:\n",
    "\n",
    "Your code replaces the prompt: `...`"
   ]
  },
  {
   "cell_type": "code",
   "execution_count": null,
   "metadata": {
    "tags": [
     "skip-execution"
    ]
   },
   "outputs": [],
   "source": [
    "# This line creates a function called caffeine_levels which has 2 arguments: amt and hours\n",
    "def calculate_product_amount():\n",
    "    \"\"\"\n",
    "    Calculate the amount of product B formed in the reaction aA -> bB.\n",
    "\n",
    "    Args:\n",
    "    a (int): Stoichiometric coefficient of A.\n",
    "    b (int): Stoichiometric coefficient of B.\n",
    "    A0 (float): Initial concentration of A in moles.\n",
    "\n",
    "    Returns:\n",
    "    float: Amount of product B formed in moles.\n",
    "    \"\"\"\n",
    "    # Stoichiometric coefficients\n",
    "    a = 2  # stoichiometric coefficient of A\n",
    "    b = 3  # stoichiometric coefficient of B\n",
    "\n",
    "    # initial concentration\n",
    "    A0 = 4.0  # mol A\n",
    "\n",
    "    ...\n",
    "\n",
    "    return a, b, reacted_A, product_B, report\n",
    "\n",
    "\n",
    "a, b, reacted, product, report = calculate_product_amount()\n"
   ]
  },
  {
   "cell_type": "markdown",
   "metadata": {
    "deletable": false,
    "editable": false
   },
   "source": [
    "**Question 2: Select portions of sensor data** \n",
    "\n",
    "Engineers often use sensors that provide a reading across a surface. For instance, a materials scientist may look at a quantity across a surface, or environmental engineers may be interested in rainfall across a region.\n",
    "\n",
    "You will select different poritons of a randomly-populated, two-dimensional array of length 5 in each dimension.\n",
    "\n",
    "Write python code to do the following:\n",
    "\n",
    "* assign `specific_sensor_reading` the reading of the sensor at third row and fourth column\n",
    "* assign `row_sensors` the sensor readings in the fourth row \n",
    "* assign `column_sensors` the sensor readings in the third column\n",
    "* assign `sub_grid` the sensor readings in a 2 rows by 3 columns sub-grid from top-left corner\n",
    "\n",
    "Your code replaces the prompt: `...`"
   ]
  },
  {
   "cell_type": "code",
   "execution_count": null,
   "metadata": {
    "tags": [
     "skip-execution"
    ]
   },
   "outputs": [],
   "source": [
    "import numpy as np\n",
    "\n",
    "# This line creates a function called parse_phone_number which has 1 argument: S\n",
    "def question_2(seed=None):\n",
    "    # Set the seed for reproducibility\n",
    "    np.random.seed(seed)\n",
    "\n",
    "    # Generate a 5x5 grid of sensor readings\n",
    "    sensor_grid = np.random.rand(5, 5) * 100\n",
    "\n",
    "    ...\n",
    "    # this line outputs the parsed number from the function\n",
    "    return specific_sensor_reading, row_sensors, column_sensors, sub_grid\n"
   ]
  },
  {
   "cell_type": "markdown",
   "metadata": {
    "editable": false
   },
   "source": [
    "## Submitting Your Assignment\n",
    "\n",
    "To submit your assignment please use the following link the assignment on GitHub classroom.\n",
    "   \n",
    "Use this [link](https://classroom.github.com/a/Rs4szIJ7) add link to navigate to the assignment on GitHub classroom.\n",
    "\n",
    "If you need further instructions on submitting your assignment please look at Lab 1. \n",
    "\n",
    "## Viewing your score\n",
    "\n",
    "Each `.ipynb` file you have uploaded will have a file with the name of your file + `Grade_Report.md`. You can view this file by clicking on the file name. This will show you the results of the autograder. \n",
    "\n",
    "We have both public and hidden tests. You will be able to see the score of both tests, but not the specific details of why the test passed or failed. \n",
    "\n",
    "```{note}\n",
    "In python and particularly jupyter notebooks it is common that during testing you run cells in a different order, or run cells and modify them. This can cause there to be local variables needed for your solution that would not be recreated on running your code again from scratch. Your assignment will be graded based on running your code from scratch. This means before you submit your assignment you should restart the kernel and run all cells. You can do this by clicking `Kernel` and selecting `Restart and Run All`. If you code does not run as expected after restarting the kernel and running all cells it means you have an error in your code. \n",
    "```\n",
    "\n",
    "## Fin"
   ]
  }
 ],
 "metadata": {
  "kernelspec": {
   "display_name": "Python 3",
   "language": "python",
   "name": "python3"
  },
  "language_info": {
   "codemirror_mode": {
    "name": "ipython",
    "version": 3
   },
   "file_extension": ".py",
   "mimetype": "text/x-python",
   "name": "python",
   "nbconvert_exporter": "python",
   "pygments_lexer": "ipython3",
   "version": "3.10.13"
  },
  "otter": {
   "OK_FORMAT": true,
   "tests": {
    "q0-Checking-Your-Name": {
     "name": "q0-Checking-Your-Name",
     "points": null,
     "suites": [
      {
       "cases": [
        {
         "code": ">>> def get_local_part(email):\n...     return email.split('@')[0]\n>>> local_part_email = get_local_part(drexel_email)\n>>> assert local_part_email == drexel_id, f\"The DrexelID extracted from the email '{local_part_email}' does not match the Drexel ID '{drexel_id}'.\"\n>>> if local_part_email == drexel_id:\n...     import drexel_jupyter_logger\n...     assignment = 'Quiz4'\n...     drexel_jupyter_logger.variable_logger_csv(assignment, 'info')\n...     drexel_jupyter_logger.variable_logger_csv(first_name, 'info')\n...     drexel_jupyter_logger.variable_logger_csv(last_name, 'info')\n...     drexel_jupyter_logger.variable_logger_csv(drexel_id, 'info')\n...     drexel_jupyter_logger.variable_logger_csv(drexel_email, 'info')\n",
         "failure_message": "It does not appear that you entered your information correctly. Please try again.",
         "hidden": false,
         "locked": false,
         "points": 0,
         "success_message": "You have entered your information correctly."
        }
       ],
       "scored": true,
       "setup": "",
       "teardown": "",
       "type": "doctest"
      }
     ]
    },
    "q1-reaction": {
     "name": "q1-reaction",
     "points": 10,
     "suites": [
      {
       "cases": [
        {
         "code": ">>> import drexel_jupyter_logger\n>>> assert len(calculate_product_amount()) == 5\n>>> if len(calculate_product_amount()) == 5:\n...     drexel_jupyter_logger.variable_logger_csv('1, 1', 'q1_1')\n... else:\n...     drexel_jupyter_logger.variable_logger_csv('0, 1', 'q1_1')\n",
         "hidden": false,
         "locked": false,
         "points": 1,
         "success_message": "Function correctly returns five objects."
        },
        {
         "code": ">>> import drexel_jupyter_logger\n>>> expected_output = 6.0\n>>> assert calculate_product_amount()[3] == expected_output, 'Test Case 1 Failed'\n>>> if calculate_product_amount()[3] == expected_output:\n...     drexel_jupyter_logger.variable_logger_csv('4, 4', 'q1_2')\n... else:\n...     drexel_jupyter_logger.variable_logger_csv('0, 4', 'q1_2')\n",
         "hidden": false,
         "locked": false,
         "points": 4,
         "success_message": "Product amount is correct."
        },
        {
         "code": ">>> import drexel_jupyter_logger\n>>> (a, b, reacted, product, report) = calculate_product_amount()\n>>> expectedreport = 'The amount of product B formed: 6.00 mol B.'\n>>> assert report == expectedreport, 'Print statement is incorrect'\n>>> if report == expectedreport:\n...     drexel_jupyter_logger.variable_logger_csv('5, 5', 'q1_3')\n... else:\n...     drexel_jupyter_logger.variable_logger_csv('0, 5', 'q1_3')\n",
         "hidden": false,
         "locked": false,
         "points": 5,
         "success_message": "Report is correct."
        }
       ],
       "scored": true,
       "setup": "",
       "teardown": "",
       "type": "doctest"
      }
     ]
    },
    "q2-sensor-selection": {
     "name": "q2-sensor-selection",
     "points": 11,
     "suites": [
      {
       "cases": [
        {
         "code": ">>> import drexel_jupyter_logger\n>>> (specific_sensor_reading, row_sensors, column_sensors, sub_grid) = question_2(42)\n>>> assert type(specific_sensor_reading) == np.float64 and len(row_sensors) == 5 and (len(column_sensors) == 5) and (sub_grid.shape == (2, 3))\n>>> if type(specific_sensor_reading) == np.float64 and len(row_sensors) == 5 and (len(column_sensors) == 5) and (sub_grid.shape == (2, 3)):\n...     drexel_jupyter_logger.variable_logger_csv('3, 3', 'q2_1')\n... else:\n...     drexel_jupyter_logger.variable_logger_csv('0, 3', 'q2_1')\n\nReading of sensor at the third row and fourth column: 21.233911067827616\n\nSensor readings in the fourth row: [18.34045099 30.4242243  52.47564316 43.19450186 29.12291402]\n\nSensor readings in the third column: [73.19939418 86.61761458 83.24426408 52.47564316 29.21446485]\n\n2x3 Sub-grid from top-left corner:\n [[37.45401188 95.07143064 73.19939418]\n [15.59945203  5.80836122 86.61761458]]\n",
         "hidden": false,
         "locked": false,
         "points": 3,
         "success_message": "Function correctly returns types."
        },
        {
         "code": ">>> import drexel_jupyter_logger\n>>> (specific_sensor_reading, row_sensors, column_sensors, sub_grid) = question_2(42)\n>>> assert np.isclose(specific_sensor_reading, 21.233911067827616)\n>>> if np.isclose(specific_sensor_reading, 21.233911067827616):\n...     drexel_jupyter_logger.variable_logger_csv('2, 2', 'q2_2')\n... else:\n...     drexel_jupyter_logger.variable_logger_csv('0, 2', 'q2_2')\n\nReading of sensor at the third row and fourth column: 21.233911067827616\n\nSensor readings in the fourth row: [18.34045099 30.4242243  52.47564316 43.19450186 29.12291402]\n\nSensor readings in the third column: [73.19939418 86.61761458 83.24426408 52.47564316 29.21446485]\n\n2x3 Sub-grid from top-left corner:\n [[37.45401188 95.07143064 73.19939418]\n [15.59945203  5.80836122 86.61761458]]\n",
         "hidden": false,
         "locked": false,
         "points": 2,
         "success_message": "specific_sensor_reading is correct."
        },
        {
         "code": ">>> import drexel_jupyter_logger\n>>> (specific_sensor_reading, row_sensors, column_sensors, sub_grid) = question_2(42)\n>>> assert np.isclose(np.sum(row_sensors), 173.55773432853672)\n>>> if np.isclose(np.sum(row_sensors), 173.55773432853672):\n...     drexel_jupyter_logger.variable_logger_csv('2, 2', 'q2_3')\n... else:\n...     drexel_jupyter_logger.variable_logger_csv('0, 2', 'q2_3')\n\nReading of sensor at the third row and fourth column: 21.233911067827616\n\nSensor readings in the fourth row: [18.34045099 30.4242243  52.47564316 43.19450186 29.12291402]\n\nSensor readings in the third column: [73.19939418 86.61761458 83.24426408 52.47564316 29.21446485]\n\n2x3 Sub-grid from top-left corner:\n [[37.45401188 95.07143064 73.19939418]\n [15.59945203  5.80836122 86.61761458]]\n",
         "hidden": false,
         "locked": false,
         "points": 2,
         "success_message": "row is correct."
        },
        {
         "code": ">>> import drexel_jupyter_logger\n>>> (specific_sensor_reading, row_sensors, column_sensors, sub_grid) = question_2(42)\n>>> assert np.isclose(np.sum(column_sensors), 324.75138085542176)\n>>> if np.isclose(np.sum(column_sensors), 324.75138085542176):\n...     drexel_jupyter_logger.variable_logger_csv('2, 2', 'q2_4')\n... else:\n...     drexel_jupyter_logger.variable_logger_csv('0, 2', 'q2_4')\n\nReading of sensor at the third row and fourth column: 21.233911067827616\n\nSensor readings in the fourth row: [18.34045099 30.4242243  52.47564316 43.19450186 29.12291402]\n\nSensor readings in the third column: [73.19939418 86.61761458 83.24426408 52.47564316 29.21446485]\n\n2x3 Sub-grid from top-left corner:\n [[37.45401188 95.07143064 73.19939418]\n [15.59945203  5.80836122 86.61761458]]\n",
         "hidden": false,
         "locked": false,
         "points": 2,
         "success_message": "row is correct."
        },
        {
         "code": ">>> import drexel_jupyter_logger\n>>> (specific_sensor_reading, row_sensors, column_sensors, sub_grid) = question_2(42)\n>>> assert np.isclose(np.sum(sub_grid), 313.75026453480206)\n>>> if np.isclose(np.sum(sub_grid), 313.75026453480206):\n...     drexel_jupyter_logger.variable_logger_csv('2, 2', 'q2_5')\n... else:\n...     drexel_jupyter_logger.variable_logger_csv('0, 2', 'q2_5')\n\nReading of sensor at the third row and fourth column: 21.233911067827616\n\nSensor readings in the fourth row: [18.34045099 30.4242243  52.47564316 43.19450186 29.12291402]\n\nSensor readings in the third column: [73.19939418 86.61761458 83.24426408 52.47564316 29.21446485]\n\n2x3 Sub-grid from top-left corner:\n [[37.45401188 95.07143064 73.19939418]\n [15.59945203  5.80836122 86.61761458]]\n",
         "hidden": false,
         "locked": false,
         "points": 2,
         "success_message": "row is correct."
        }
       ],
       "scored": true,
       "setup": "",
       "teardown": "",
       "type": "doctest"
      }
     ]
    }
   }
  },
  "varInspector": {
   "cols": {
    "lenName": 16,
    "lenType": 16,
    "lenVar": 40
   },
   "kernels_config": {
    "python": {
     "delete_cmd_postfix": "",
     "delete_cmd_prefix": "del ",
     "library": "var_list.py",
     "varRefreshCmd": "print(var_dic_list())"
    },
    "r": {
     "delete_cmd_postfix": ") ",
     "delete_cmd_prefix": "rm(",
     "library": "var_list.r",
     "varRefreshCmd": "cat(var_dic_list()) "
    }
   },
   "types_to_exclude": [
    "module",
    "function",
    "builtin_function_or_method",
    "instance",
    "_Feature"
   ],
   "window_display": false
  },
  "vscode": {
   "interpreter": {
    "hash": "31f2aee4e71d21fbe5cf8b01ff0e069b9275f58929596ceb00d14d90e3e16cd6"
   }
  }
 },
 "nbformat": 4,
 "nbformat_minor": 4
}