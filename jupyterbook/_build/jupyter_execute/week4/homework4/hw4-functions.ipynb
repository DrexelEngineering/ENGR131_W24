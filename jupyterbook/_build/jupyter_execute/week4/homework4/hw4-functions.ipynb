{
 "cells": [
  {
   "cell_type": "code",
   "execution_count": 1,
   "metadata": {
    "deletable": false,
    "editable": false
   },
   "outputs": [],
   "source": [
    "# Initialize Otter\n",
    "import otter\n",
    "grader = otter.Notebook(\"hw4-functions.ipynb\")"
   ]
  },
  {
   "attachments": {},
   "cell_type": "markdown",
   "metadata": {},
   "source": [
    "# 🏡📝 Homework 4 - Functions\n",
    "\n",
    "This assignment includes three problems on the topic of functions.\n",
    "\n"
   ]
  },
  {
   "attachments": {},
   "cell_type": "markdown",
   "metadata": {},
   "source": [
    "## Entering Your Information for Credit\n",
    "\n",
    "To receive credit for assignments, it is important we can identify your work from others. To do this, we will ask you to enter your information in the following code block.\n",
    "\n",
    "### Before you begin\n",
    "\n",
    "Run the block of code at the top of the notebook that imports and sets up the autograder. This will allow you to check your work. "
   ]
  },
  {
   "cell_type": "code",
   "execution_count": null,
   "metadata": {
    "tags": [
     "skip-execution"
    ]
   },
   "outputs": [],
   "source": [
    "# Please provide your first name, last name, Drexel ID, and Drexel email. Make sure these are provided as strings. \"STRINGS ARE TEXT ENCLOSED IN QUOTATION MARKS.\"\n",
    "\n",
    "# In the assignments you will see sections of code that you need to fill in that are marked with ... (three dots). Replace the ... with your code.\n",
    "first_name = ...\n",
    "last_name = ...\n",
    "drexel_id = ...\n",
    "drexel_email = ...\n"
   ]
  },
  {
   "cell_type": "code",
   "execution_count": null,
   "metadata": {
    "deletable": false,
    "editable": false,
    "tags": [
     "skip-execution"
    ]
   },
   "outputs": [],
   "source": [
    "grader.check(\"q0-Checking-Your-Name\")"
   ]
  },
  {
   "attachments": {},
   "cell_type": "markdown",
   "metadata": {
    "deletable": false,
    "editable": false
   },
   "source": [
    "**Question 1: Volume of a Sphere** \n",
    "\n",
    "The volume of a sphere with radius $r$ is calculated using the equation:\n",
    "\n",
    "$$ V = \\frac{4}{3} \\pi r^3$$\n",
    "\n",
    "Write python code to do the following:\n",
    "\n",
    "* Define a function called `sphere_volume` which accepts one input argument `r`\n",
    "* Implement your function so that it returns the volume of a sphere with radius $r$\n",
    "\n",
    "\n",
    "Your code replaces the prompt:  `...`"
   ]
  },
  {
   "cell_type": "code",
   "execution_count": null,
   "metadata": {
    "tags": [
     "skip-execution"
    ]
   },
   "outputs": [],
   "source": [
    "...\n"
   ]
  },
  {
   "cell_type": "code",
   "execution_count": null,
   "metadata": {
    "deletable": false,
    "editable": false,
    "tags": [
     "skip-execution"
    ]
   },
   "outputs": [],
   "source": [
    "grader.check(\"q1-sphere\")"
   ]
  },
  {
   "cell_type": "markdown",
   "metadata": {
    "deletable": false,
    "editable": false
   },
   "source": [
    "**Question 2: Simple Statistics** \n",
    "\n",
    "If you have a list which contains $N$ values, $x_1$ through $x_N$, the mean $\\mu$ is calculated as follows:\n",
    "\n",
    "$$ \\mu = \\sum_{i=1}^{N} \\frac{x_{i}}{N}  $$ \n",
    "\n",
    "To calculate the standard deviation of the data, you use the formula:\n",
    "\n",
    "$$ \\sigma = \\sqrt{ \\sum_{i=1}^{N} \\frac{\\left(x_{i} - \\mu \\right) ^ 2}{N - 1} } $$\n",
    "\n",
    "Note: Python actually has a built-in `statistics` library that can be used to compute the mean $\\mu$ and standard deviation $\\sigma$. The code below uses the library to compute these statsics from a list of numbers `L`:\n",
    "\n"
   ]
  },
  {
   "cell_type": "code",
   "execution_count": null,
   "metadata": {
    "deletable": false,
    "editable": false,
    "tags": [
     "skip-execution"
    ]
   },
   "outputs": [],
   "source": [
    "import statistics\n",
    "\n",
    "L = [1,2,3,4,5]\n",
    "\n",
    "print(statistics.mean(L))\n",
    "print(statistics.stdev(L))"
   ]
  },
  {
   "cell_type": "markdown",
   "metadata": {
    "deletable": false,
    "editable": false
   },
   "source": [
    "For this problem, the goal is to implement your own function which computes these statistics. You may not use the `statistics` library in your code (or any other library that can compute these statistics automatically), but may find it useful for checking your answer. A partial function is provided below and you are asked to complete it.\n",
    "\n",
    "Your task is to do the following:\n",
    "\n",
    "* Read the provided code and the comments\n",
    "* Add a single line of code, indented under the first for loop, which adds to the `mean` variable the value: $\\frac{x_i}{N}$  \n",
    "* Add a single line of code, indented under the first for loop, which adds to the `std` variable the value: $\\frac{\\left(x_{i} - \\mu \\right) ^ 2}{N - 1}$ \n",
    "* Return from the function a tuple containing ($\\mu$, $\\sigma$)\n",
    "\n",
    "Your code replaces the prompt:  `...`"
   ]
  },
  {
   "cell_type": "code",
   "execution_count": null,
   "metadata": {
    "tags": [
     "skip-execution"
    ]
   },
   "outputs": [],
   "source": [
    "def stats(L):\n",
    "    \"\"\"This function takes in a list L and returns a tuple containing its (mean, standard deviation)\"\"\"\n",
    "\n",
    "    N = len(L) # Compute the length of list L using the len() function, and store it in N.\n",
    "    mean = 0  # Set a variable called mean to zero. We will add to this variable until it accumulates its proper value.\n",
    "    std = 0   # Set a variable called std to zero. We will add to this variable until it accumulates its proper value.\n",
    "\n",
    "    \n",
    "    # The following for loop iterates over every value of x_i\n",
    "    for x_i in L:\n",
    "        # Your code below will add the appropriate value to mean and store the result back in mean  \n",
    "        ...\n",
    "\n",
    "    # The following for loop iterates over every value of x_i\n",
    "    for x_i in L:\n",
    "        # Your code below will add the appropriate value to std and store the result back in std \n",
    "        ...\n",
    "        \n",
    "    std = std ** (1/2) # To arrive at the standard deviation, we must take the square root of the accumulated value.\n",
    "\n",
    "    # Your code below should return a tuple containing the mean and standard deviation.\n",
    "    ..."
   ]
  },
  {
   "cell_type": "code",
   "execution_count": null,
   "metadata": {
    "deletable": false,
    "editable": false,
    "tags": [
     "skip-execution"
    ]
   },
   "outputs": [],
   "source": [
    "grader.check(\"q2-stats\")"
   ]
  },
  {
   "cell_type": "markdown",
   "metadata": {
    "deletable": false,
    "editable": false
   },
   "source": [
    "**Question 3: Kinetic Energy** \n",
    "\n",
    "The kinetic energy of an object $E_k$ of an object is computed using its mass $m$ and velocity $v$ using the following equation: \n",
    "\n",
    "$$ E_k = \\frac{1}{2} m v^2  $$ \n",
    "\n",
    "\n",
    "Write python code to do the following:\n",
    "\n",
    "* Define a function called `kinetic_energy` that takes input arguments `m` and `v`\n",
    "* The function should return the kinetic energy\n",
    "\n",
    "Your code replaces the prompt:  `...`"
   ]
  },
  {
   "cell_type": "code",
   "execution_count": null,
   "metadata": {
    "tags": [
     "skip-execution"
    ]
   },
   "outputs": [],
   "source": [
    "..."
   ]
  },
  {
   "cell_type": "code",
   "execution_count": null,
   "metadata": {
    "deletable": false,
    "editable": false,
    "tags": [
     "skip-execution"
    ]
   },
   "outputs": [],
   "source": [
    "grader.check(\"q3-kinetic\")"
   ]
  },
  {
   "attachments": {},
   "cell_type": "markdown",
   "metadata": {},
   "source": [
    "## Submitting Your Assignment\n",
    "\n",
    "To submit your assignment please use the following link the assignment on GitHub classroom.\n",
    "   \n",
    "Use this [link](https://classroom.github.com/a/3Iyryq83) to navigate to the assignment on GitHub classroom.\n",
    "\n",
    "If you need further instructions on submitting your assignment please look at Lab 1. \n",
    "\n",
    "## Viewing your score\n",
    "\n",
    "Each `.ipynb` file you have uploaded will have a file with the name of your file + `Grade_Report.md`. You can view this file by clicking on the file name. This will show you the results of the autograder. \n",
    "\n",
    "Please make sure there are no spaces in the filename that you are submitting.\n",
    "\n",
    "We have both public and hidden tests. You will be able to see the score of both tests, but not the specific details of why the test passed or failed. \n",
    "\n",
    "```{note}\n",
    "In python and particularly jupyter notebooks it is common that during testing you run cells in a different order, or run cells and modify them. This can cause there to be local variables needed for your solution that would not be recreated on running your code again from scratch. Your assignment will be graded based on running your code from scratch. This means before you submit your assignment you should restart the kernel and run all cells. You can do this by clicking `Kernel` and selecting `Restart and Run All`. If you code does not run as expected after restarting the kernel and running all cells it means you have an error in your code. \n",
    "```\n",
    "\n",
    "## Fin"
   ]
  }
 ],
 "metadata": {
  "kernelspec": {
   "display_name": "base",
   "language": "python",
   "name": "python3"
  },
  "language_info": {
   "codemirror_mode": {
    "name": "ipython",
    "version": 3
   },
   "file_extension": ".py",
   "mimetype": "text/x-python",
   "name": "python",
   "nbconvert_exporter": "python",
   "pygments_lexer": "ipython3",
   "version": "3.11.8"
  },
  "otter": {
   "OK_FORMAT": true,
   "tests": {
    "q0-Checking-Your-Name": {
     "name": "q0-Checking-Your-Name",
     "points": null,
     "suites": [
      {
       "cases": [
        {
         "code": ">>> def get_local_part(email):\n...     return email.split('@')[0]\n>>> local_part_email = get_local_part(drexel_email)\n>>> assert local_part_email == drexel_id, f\"The DrexelID extracted from the email '{local_part_email}' does not match the Drexel ID '{drexel_id}'.\"\n",
         "failure_message": "It does not appear that you entered your information correctly. Please try again.",
         "hidden": false,
         "locked": false,
         "points": 0,
         "success_message": "You have entered your information correctly."
        }
       ],
       "scored": true,
       "setup": "",
       "teardown": "",
       "type": "doctest"
      }
     ]
    },
    "q1-sphere": {
     "name": "q1-sphere",
     "points": 5,
     "suites": [
      {
       "cases": [
        {
         "code": ">>> assert type(sphere_volume(0)) == type(1.0)\n",
         "hidden": false,
         "locked": false,
         "points": 1,
         "success_message": "Function correctly returns a numerical value."
        },
        {
         "code": ">>> import math\n>>> assert sphere_volume(1) == 4 / 3 * math.pi\n",
         "hidden": false,
         "locked": false,
         "points": 2,
         "success_message": "sphere_volume(1)."
        }
       ],
       "scored": true,
       "setup": "",
       "teardown": "",
       "type": "doctest"
      }
     ]
    },
    "q2-stats": {
     "name": "q2-stats",
     "points": 6,
     "suites": [
      {
       "cases": [
        {
         "code": ">>> ret = stats([0, 0, 0, 0, 0])\n>>> assert type(ret) == type((1, 2))\n>>> assert len(ret) == 2\n",
         "hidden": false,
         "locked": false,
         "points": 1,
         "success_message": "Function correctly returns a tuple of length 2."
        },
        {
         "code": ">>> ret = stats([0, 0, 0, 0, 0])\n>>> assert type(ret[0]) == type(0.0)\n>>> assert type(ret[1]) == type(0.0)\n",
         "hidden": false,
         "locked": false,
         "points": 1,
         "success_message": "Function correctly returns a tuple of numbers."
        },
        {
         "code": ">>> import numpy as np\n>>> (m, s) = stats([1, 2, 3, 4, 5])\n>>> assert np.isclose(m, 3.0)\n>>> assert np.isclose(s, 1.5811388300841898)\n",
         "hidden": false,
         "locked": false,
         "points": 2,
         "success_message": "Function correctly computes mean and standard deviation of [1,2,3,4,5]."
        }
       ],
       "scored": true,
       "setup": "",
       "teardown": "",
       "type": "doctest"
      }
     ]
    },
    "q3-kinetic": {
     "name": "q3-kinetic",
     "points": 5,
     "suites": [
      {
       "cases": [
        {
         "code": ">>> assert type(kinetic_energy(0, 0)) == type(1.0)\n",
         "hidden": false,
         "locked": false,
         "points": 1,
         "success_message": "Function correctly returns a numerical value."
        },
        {
         "code": ">>> import numpy as np\n>>> assert np.isclose(kinetic_energy(2, 2), 4)\n",
         "hidden": false,
         "locked": false,
         "points": 2,
         "success_message": "sphere_volume(1)."
        },
        {
         "code": ">>> import numpy as np\n>>> assert np.isclose(kinetic_energy(5.5, 13.6), 508.63999999999993)\n",
         "hidden": false,
         "locked": false,
         "points": 2,
         "success_message": "sphere_volume(1)."
        }
       ],
       "scored": true,
       "setup": "",
       "teardown": "",
       "type": "doctest"
      }
     ]
    }
   }
  },
  "varInspector": {
   "cols": {
    "lenName": 16,
    "lenType": 16,
    "lenVar": 40
   },
   "kernels_config": {
    "python": {
     "delete_cmd_postfix": "",
     "delete_cmd_prefix": "del ",
     "library": "var_list.py",
     "varRefreshCmd": "print(var_dic_list())"
    },
    "r": {
     "delete_cmd_postfix": ") ",
     "delete_cmd_prefix": "rm(",
     "library": "var_list.r",
     "varRefreshCmd": "cat(var_dic_list()) "
    }
   },
   "types_to_exclude": [
    "module",
    "function",
    "builtin_function_or_method",
    "instance",
    "_Feature"
   ],
   "window_display": false
  },
  "vscode": {
   "interpreter": {
    "hash": "ba2b02761b2743d1e8cc183b6b82a17285fab3a37856337b0c29b415449d9b08"
   }
  }
 },
 "nbformat": 4,
 "nbformat_minor": 4
}