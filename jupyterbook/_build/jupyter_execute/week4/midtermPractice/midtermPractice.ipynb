{
 "cells": [
  {
   "attachments": {},
   "cell_type": "markdown",
   "metadata": {
    "tags": []
   },
   "source": [
    "# 💪 Midterm Practice\n",
    "\n",
    "This midterm will assess your mastery of the course content in Weeks 1-4.\n",
    "\n",
    "\n",
    "## Instructions\n",
    "\n",
    "You will be provided a link to click to start your midterm at 8 am on Monday, February 5. \n",
    "\n",
    "Note: For each question, your code should be indented under what is called the function definition: `def question_1():`. When the autograder is provided, it will help the autograder run all the code you write by calling a single name. \n",
    "\n",
    "Note: Python cares about **Tabs**. Make sure spacing is correct in your functions. If you get an `Indention Error` it likely means your spacing is not correct. \n",
    "\n",
    "Your solution should look like this: \n",
    "\n",
    "```python\n",
    "# DO NOT ALTER lines of code defining the function\n",
    "def question ():\n",
    "    line1 = line1_code # line 1 of code\n",
    "    line2 = line2_code # line 2 of code\n",
    "\n",
    "    # DO NOT ALTER lines of code in the return statement\n",
    "    return x, y, z # variables to return separated by commas\n",
    "```\n",
    "\n",
    "**Your code replaces the prompt:  `...`**\n",
    "\n"
   ]
  },
  {
   "cell_type": "markdown",
   "metadata": {},
   "source": [
    "## Part 1: Entering Your Information for Credit\n",
    "\n",
    "To receive credit for assignments, it is important we can identify your work from others. To do this, we will ask you to enter your information in the following code block.\n",
    "\n",
    "### Before you begin\n",
    "\n",
    "Run the block of code at the top of the notebook that imports and sets up the autograder. This will allow you to check your work. "
   ]
  },
  {
   "cell_type": "code",
   "execution_count": null,
   "metadata": {
    "tags": [
     "skip-execution"
    ]
   },
   "outputs": [],
   "source": [
    "# Please provide your first name, last name, Drexel ID, and Drexel email. Make sure these are provided as strings. \"STRINGS ARE TEXT ENCLOSED IN QUOTATION MARKS.\"\n",
    "\n",
    "# In the assignments you will see sections of code that you need to fill in that are marked with ... (three dots). Replace the ... with your code.\n",
    "first_name = \"Person\"  \n",
    "last_name = \"Doe\"   \n",
    "drexel_id = \"pad123\"   \n",
    "drexel_email = \"pad123@drexel.edu\"  \n"
   ]
  },
  {
   "cell_type": "markdown",
   "metadata": {},
   "source": [
    "**Question 1: Identify python objects** \n",
    "*8 points*\n",
    "\n",
    "Many kinds of objects exist in python. Among others, we have covered the following objects:\n",
    "\n",
    "- list \n",
    "- function \n",
    "- dictionary\n",
    "- float\n",
    "- array\n",
    "- variable\n",
    "- integer\n",
    "- string\n",
    "\n",
    "In the code cell below, write a list that contains *in order* the exact name that is shown above *as a string* that corresponds to the description given below.\n",
    "\n",
    "index 0: a simple human-readable reference to a python object\n",
    "\n",
    "index 1: a mutable grid of values with th same data type\n",
    "\n",
    "index 2: a number that has a decimal point\n",
    "\n",
    "index 3: a series of characters interpreted literally"
   ]
  },
  {
   "cell_type": "code",
   "execution_count": null,
   "metadata": {
    "tags": [
     "skip-execution"
    ]
   },
   "outputs": [],
   "source": [
    "# define a function called question_1 to be used for grading\n",
    "def question_1():\n",
    "\n",
    "    objectNames = ...\n",
    "\n",
    "    # The following line outputs these values from the function so that they can be accessed by the grader\n",
    "    return objectNames\n"
   ]
  },
  {
   "cell_type": "markdown",
   "metadata": {},
   "source": [
    "**Question 2: Create logical statements** \n",
    "*9 points*\n",
    "\n",
    "Developing logical statements is essential to coding, especially controlling the flow of a program. \n",
    "\n",
    "In the code cell below, complete the statements by altering only the `...` to ensure that the `True` or `False` specified in the comment above the section of code is achieved."
   ]
  },
  {
   "cell_type": "code",
   "execution_count": null,
   "metadata": {
    "tags": [
     "skip-execution"
    ]
   },
   "outputs": [],
   "source": [
    "def question_2():\n",
    "\n",
    "    # complete the statement so that logic1 is True\n",
    "    a = {'three':3}\n",
    "    b = 3\n",
    "    logic1 = (b ... a['three'])\n",
    "\n",
    "    # complete the statement so that logic2 is False\n",
    "    c = 8\n",
    "    d = \"8\"\n",
    "    logic2 = (c ... d)\n",
    "   \n",
    "    # complete the statement so that logic3 is True\n",
    "    e = \"Drexel\"\n",
    "    f = \"drexel\"\n",
    "    logic3 = (e ... f)\n",
    "\n",
    "    # The following line outputs these values from the function so that they can be accessed by the grader\n",
    "    return logic1, logic2, logic3"
   ]
  },
  {
   "cell_type": "markdown",
   "metadata": {},
   "source": [
    "**Question 3: Unit conversion with a dictionary** \n",
    "*10 points*\n",
    "\n",
    "As an engineer, you will often need to conduct unit conversions. For instance, a value measurement may be in feet that you need in inches or meters. \n",
    "\n",
    "A dictionary can be an efficient way to store conversion factors and access them for converting values from one unit to another. \n",
    "\n",
    "Write a function named `unit_conversion` that uses the dictionary `conversion_factors` to print the value to two decimal places with the original units and the converted value to two decimal places with the converted units. \n",
    "\n",
    "For instance, the function should print the following for the test input included below:\n",
    "\n",
    "`10.00 meters is equal to 32.81 feet.`\n",
    "\n",
    "**Do not print any other statements or the autograder will not work.**"
   ]
  },
  {
   "cell_type": "code",
   "execution_count": 58,
   "metadata": {
    "tags": [
     "skip-execution"
    ]
   },
   "outputs": [],
   "source": [
    "import numpy as np\n",
    "import warnings\n",
    "\n",
    "# define a function called unit_conversion to be used for grading\n",
    "def unit_conversion(value, from_unit, to_unit):\n",
    "    # Define conversion factors for common units\n",
    "    conversion_factors = {\n",
    "        # Length\n",
    "        'meters': {'meters': 1, 'feet': 3.28084, 'inches': 39.3701, 'centimeters': 100},\n",
    "        'feet': {'meters': 0.3048, 'feet': 1, 'inches': 12, 'centimeters': 30.48},\n",
    "        'inches': {'meters': 0.0254, 'feet': 0.0833333, 'inches': 1, 'centimeters': 2.54},\n",
    "        'centimeters': {'meters': 0.01, 'feet': 0.0328084, 'inches': 0.393701, 'centimeters': 1},\n",
    "        # Mass\n",
    "        'kilograms': {'kilograms': 1, 'pounds': 2.20462, 'grams': 1000},\n",
    "        'pounds': {'kilograms': 0.453592, 'pounds': 1, 'grams': 453.592},\n",
    "        'grams': {'kilograms': 0.001, 'pounds': 0.00220462, 'grams': 1},\n",
    "    }\n",
    "\n",
    "    # Check if the units are in the conversion factors dictionary\n",
    "    if from_unit in conversion_factors and to_unit in conversion_factors[from_unit]:\n",
    "    \n",
    "        # Perform the conversion\n",
    "        converted_value = ...\n",
    "        print(...)\n",
    "    else:\n",
    "        print(\"Invalid units for conversion.\")\n",
    "        return warnings.warn(\"Invalid units for conversion.\")\n",
    "\n",
    "    # The following line outputs the value from the function so that they can be accessed by the grader\n",
    "    return converted_value\n",
    "\n",
    "# Check the usage:\n",
    "value_to_convert = 10\n",
    "original_unit = 'meters'\n",
    "target_unit = 'feet'\n",
    "\n",
    "converted_value = unit_conversion(value_to_convert, original_unit, target_unit)"
   ]
  },
  {
   "attachments": {},
   "cell_type": "markdown",
   "metadata": {},
   "source": [
    "**Question 4: Calculate the vertical component of a force** \n",
    "*10 points*\n",
    "\n",
    "Forces are often represented as vectors that can be broken down into horizontal and vertical components. The sine function is used when calculating the vertical component, especially when the force is applied at an angle.\n",
    "\n",
    "For example, if we have a force `F` applied at an angle `θ` (in degrees) to the horizontal, the vertical component of the force `F_vertical` can be calculated as:\n",
    "\n",
    "$$ F_{vertical} = F \\cdot \\sin(\\theta) $$\n",
    "\n",
    "Write python code to do the following inside the `question_4` function below:\n",
    "\n",
    "* Define the magnitude of the force, `F`, as 100 Newtons (with a DataType INT) and the angle, `theta`, as 78 degrees (with a DataType FLOAT).\n",
    "* Convert the angle `theta` to radians using the `math.radians` function because the `math.sin` function expects the angle in radians.\n",
    "* Calculate the vertical component of the force, `F_vertical`, in Newtons."
   ]
  },
  {
   "cell_type": "code",
   "execution_count": 77,
   "metadata": {
    "tags": [
     "skip-execution"
    ]
   },
   "outputs": [],
   "source": [
    "import numpy as np\n",
    "import math\n",
    "\n",
    "# define a function called question_4 to be used for grading\n",
    "def question_4():\n",
    "\n",
    "    ...\n",
    "\n",
    "    # The following line outputs these values from the function so that they can be accessed by the grader\n",
    "    return F, theta, theta_radians, F_vertical\n",
    "\n",
    "F, theta, theta_radians, F_vertical = question_4()"
   ]
  },
  {
   "attachments": {},
   "cell_type": "markdown",
   "metadata": {},
   "source": [
    "**Question 5: Using Python as a calculator** \n",
    "\n",
    "We have seen how Python can be used to evaluate mathematical expressions. This problem provides practice incorporating various mathematical functions and constants.  \n",
    "\n",
    "\n",
    "Write python code to do the following:\n",
    "\n",
    "* Define variables: `a = 3`, `b = -2`, and `x = 1`\n",
    "* For each of the quantities $E_0$ through $E_2$, construct a one-line Python expression that computes the value and assigns it to a variable. (You should perform your computations using the variable names $a$, $b$, and $c$ instead of their numerical values). In Python, we will use variable names `E0` through `E2` to store the values $E_0$ through $E_2$. Definitions of the variables `E0` through `E2` have been started for you in the template.\n",
    "\n",
    "$\\text{i.  } E_0 = ln(4a+b)$\n",
    "\n",
    "$\\text{ii.  } E_1 = \\cos \\left( \\left( \\frac{\\pi}{6a} \\right)^2 \\right)$\n",
    "\n",
    "$\\text{i.  } E_2 = \\sqrt{x^2+a^2+b^2}$\n",
    "\n",
    "You should use the `NumPy` library for the required mathematical functions. \n",
    "\n",
    "We have used the standard `NumPy` convention `import numpy as np`, thus, for example the `cos` function is used by typing `np.cos(<value>)`\n",
    "\n",
    "Again, your code should be indented under the function definition: `def question_5():`.\n",
    "\n",
    "Your code replaces the prompt:  `...`"
   ]
  },
  {
   "cell_type": "code",
   "execution_count": 86,
   "metadata": {
    "tags": [
     "skip-execution"
    ]
   },
   "outputs": [],
   "source": [
    "# import the np library to be used\n",
    "import numpy as np\n",
    "\n",
    "# define a function called question_3 to be used for grading\n",
    "def question_5():\n",
    "\n",
    "    ...\n",
    "    \n",
    "    # output these values from the function so that they can be accessed by the grader\n",
    "    return a, b, x, E0, E1, E2"
   ]
  },
  {
   "cell_type": "markdown",
   "metadata": {},
   "source": [
    "**Question 6: Analyzing Temperature Distribution Data** \n",
    "\n",
    "In thermal analysis, engineers often deal with temperature distribution across different materials or regions. For example, a mechanical engineer might analyze the temperature distribution across a metal plate, or a civil engineer might be interested in temperature variations across a building's surface.\n",
    "\n",
    "You are given a randomly-populated, two-dimensional array representing temperature data, `temperature_grid`, with a length of 6 in each dimension.\n",
    "\n",
    "Write Python code to do the following:\n",
    " * assign `specific_temperature` the temperature reading at the second row and fifth column.\n",
    " * assign `row_temperatures` the temperature readings in the fifth row.\n",
    " * assign `column_temperatures` the temperature readings in the second column.\n",
    " * assign `sub_matrix` the temperature readings in a 3 row by 2 column sub-matrix starting from the second row and third column.\n",
    "\n",
    "Your code should replace this prompt: ..."
   ]
  },
  {
   "cell_type": "code",
   "execution_count": 108,
   "metadata": {
    "tags": [
     "skip-execution"
    ]
   },
   "outputs": [],
   "source": [
    "import numpy as np\n",
    " \n",
    "def question_6(seed=None):\n",
    "    # Set the seed for reproducibility, if provided\n",
    "    if seed is not None:\n",
    "        np.random.seed(seed)\n",
    " \n",
    "    ...\n",
    " \n",
    "    return specific_temperature, row_temperatures, column_temperatures, sub_matrix\n"
   ]
  },
  {
   "cell_type": "markdown",
   "metadata": {},
   "source": [
    "## Submitting Your Assignment\n",
    "\n",
    "To submit your assignment, you will use a provided link for GitHub classroom.\n",
    "   \n",
    "**Please submit just your output.log file. No other files are needed.**\n",
    "\n",
    "If you need further instructions on submitting your assignment, please ask your TA during lab *before the midterm*. \n",
    "\n",
    "## Viewing your score\n",
    "\n",
    "Each `log` file you have uploaded will have a file with the name of your file + `Grade_Report.md`. You can view this file by clicking on the file name. This will show you the results of the autograder. \n",
    "\n",
    "**You will show your grade report to leave the exam room.**\n",
    "\n",
    "```{note}\n",
    "In python and particularly jupyter notebooks it is common that during testing you run cells in a different order, or run cells and modify them. This can cause there to be local variables needed for your solution that would not be recreated on running your code again from scratch. Your assignment will be graded based on running your code from scratch. This means before you submit your assignment you should restart the kernel and run all cells. You can do this by clicking `Kernel` and selecting `Restart and Run All`. If you code does not run as expected after restarting the kernel and running all cells it means you have an error in your code. \n",
    "```\n",
    "\n",
    "## Fin"
   ]
  },
  {
   "cell_type": "markdown",
   "metadata": {},
   "source": []
  }
 ],
 "metadata": {
  "kernelspec": {
   "display_name": "base",
   "language": "python",
   "name": "python3"
  },
  "language_info": {
   "codemirror_mode": {
    "name": "ipython",
    "version": 3
   },
   "file_extension": ".py",
   "mimetype": "text/x-python",
   "name": "python",
   "nbconvert_exporter": "python",
   "pygments_lexer": "ipython3",
   "version": "3.10.13"
  },
  "varInspector": {
   "cols": {
    "lenName": 16,
    "lenType": 16,
    "lenVar": 40
   },
   "kernels_config": {
    "python": {
     "delete_cmd_postfix": "",
     "delete_cmd_prefix": "del ",
     "library": "var_list.py",
     "varRefreshCmd": "print(var_dic_list())"
    },
    "r": {
     "delete_cmd_postfix": ") ",
     "delete_cmd_prefix": "rm(",
     "library": "var_list.r",
     "varRefreshCmd": "cat(var_dic_list()) "
    }
   },
   "types_to_exclude": [
    "module",
    "function",
    "builtin_function_or_method",
    "instance",
    "_Feature"
   ],
   "window_display": false
  },
  "vscode": {
   "interpreter": {
    "hash": "d7d046052154998ca7dd3d9af52f7220fee50748c9a05b256540159ca8eb430c"
   }
  }
 },
 "nbformat": 4,
 "nbformat_minor": 4
}