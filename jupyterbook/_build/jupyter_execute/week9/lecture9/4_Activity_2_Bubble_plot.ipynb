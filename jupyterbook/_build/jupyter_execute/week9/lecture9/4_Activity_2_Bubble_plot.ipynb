{
 "cells": [
  {
   "cell_type": "markdown",
   "metadata": {
    "editable": false
   },
   "source": [
    "# 💻 Activity: Making a Updated Bubble Plot of Engineering Jobs\n",
    "\n",
    "In this activity, we will make a bubble plot of more recent Bureau of Labor Statistics data for projected engineering jobs. \n",
    "\n",
    "Again, add code where there are `...`"
   ]
  },
  {
   "cell_type": "code",
   "execution_count": null,
   "metadata": {
    "tags": [
     "skip-execution"
    ]
   },
   "outputs": [],
   "source": [
    "# import the scientific computing packages with their conventional nicknames\n",
    "import numpy as np\n",
    "import matplotlib.pyplot as plt\n",
    "import pandas as pd"
   ]
  },
  {
   "cell_type": "markdown",
   "metadata": {
    "editable": false
   },
   "source": [
    "## 0. Read data\n",
    "\n",
    "The Bureau of Labor Statistics makes projections about the growth of jobs in given areas. These data need to be read into this Jupyter Notebook to plot them.\n",
    "\n",
    "Dataframes are the structure that pandas uses, which is helpful for columns and rows of different kinds of data."
   ]
  },
  {
   "cell_type": "code",
   "execution_count": null,
   "metadata": {
    "tags": [
     "skip-execution"
    ]
   },
   "outputs": [],
   "source": [
    "# read the employment projection data \n",
    "path = \"./data/employment-projections.csv\"\n",
    "\n",
    "# open the file at the specified path for reading and give it the name f\n",
    "with open(path, \"r\") as f:\n",
    "    # create a pandas dataframe from the comma-separated file\n",
    "    df = pd.read_csv(f, delimiter=\",\")\n",
    "\n",
    "# shows the first 5 lines of the pandas dataframe\n",
    "df.head()"
   ]
  },
  {
   "cell_type": "markdown",
   "metadata": {
    "editable": false
   },
   "source": [
    "## 1. Make a simple plot\n",
    "\n",
    "The next step is to make a simple bubble plot, which is just a scatter plot with the markers sized by another dimension of the data.\n",
    "\n",
    "Like the one we saw earlier in class, we want to see the employment percent change, 2021-2031, on the x-axis, the median annual wage, 2021, on the y-axis, and the number of jobs in 2021 influencing the size of the marker. \n",
    "\n",
    "- To select any set of these values from the dataframe, just use `df` to refer to the dataframe and the string of the column title inside `[]` to choose which one. \n",
    "\n",
    "- Secondly, choose a colormap that is built into `matplotlib` as the argument `cmap='...'`.\n",
    "\n",
    "- You can choose a different alpha (between 0.0 and 1.0) to see if you prefer a more transparent set of bubbles."
   ]
  },
  {
   "cell_type": "code",
   "execution_count": null,
   "metadata": {
    "tags": [
     "skip-execution"
    ]
   },
   "outputs": [],
   "source": [
    "# Create bubble plot of the median annual wage against the percent change in employment with the markers sized by employment in 2021\n",
    "fig, ax = plt.subplots(figsize=(10, 6))\n",
    "\n",
    "# use the title of the appropriate column in the output above to replace the ...\n",
    "employment2021size = (df['...']*2).tolist()\n",
    "\n",
    "# use the title of the appropriate columns in the output above to replace the ...'s\n",
    "bubble = ax.scatter(df['...'], df['...'], s=employment2021size, c=range(len(df)), cmap='...', alpha=0.9)\n",
    "\n",
    "plt.show()"
   ]
  },
  {
   "cell_type": "markdown",
   "metadata": {
    "editable": false
   },
   "source": [
    "## 2. Add axes labels and a title\n",
    "\n",
    "The next step is to add informative labels and a title. \n",
    "\n",
    "- Copy your code from up above to replace the commented, incomplete code.\n",
    "\n",
    "- Fill in the four `...` to label the axes and make an appropriate title."
   ]
  },
  {
   "cell_type": "code",
   "execution_count": null,
   "metadata": {
    "tags": [
     "skip-execution"
    ]
   },
   "outputs": [],
   "source": [
    "# Set axes labels and title\n",
    "\n",
    "# copy your completed code from the task 1\n",
    "#fig, ax = plt.subplots(figsize=(10, 6))\n",
    "#\n",
    "#employment2021size = (df['...']*2).tolist()\n",
    "#\n",
    "#bubble = ax.scatter(df['...'], df['...'], s=employment2021size, c=range(len(df)), cmap='...', alpha=0.9)\n",
    "\n",
    "ax.set_xlabel('...')\n",
    "ax.set_...('...')\n",
    "ax.set_title('...')\n",
    "\n",
    "plt.show()"
   ]
  },
  {
   "cell_type": "markdown",
   "metadata": {
    "editable": false
   },
   "source": [
    "## 3. Label the points and interpret\n",
    "The final step is to label each of the bubbles. \n",
    "\n",
    "- Copy your code from up above to replace the commented, incomplete code.\n",
    "\n",
    "- Fill in the four `...` to label the axes and make an appropriate title."
   ]
  },
  {
   "cell_type": "code",
   "execution_count": null,
   "metadata": {
    "tags": [
     "skip-execution"
    ]
   },
   "outputs": [],
   "source": [
    "# Set axis labels and title\n",
    "\n",
    "# copy your completed code from the task 1\n",
    "#fig, ax = plt.subplots(figsize=(10, 6))\n",
    "#\n",
    "#employment2021size = (df['...']*2).tolist()\n",
    "#\n",
    "#bubble = ax.scatter(df['...'], df['...'], s=employment2021size, c=range(len(df)), cmap='...', alpha=0.9)\n",
    "#\n",
    "#ax.set_xlabel('...')\n",
    "#ax.set_...('...')\n",
    "#ax.set_title('...')\n",
    "\n",
    "# Add labels to bubbles\n",
    "for i, row in df.iterrows():\n",
    "    # first ... should be the string referring to the x-axis data\n",
    "    # second ... should be the string referring to the y-axis data \n",
    "    # third ... shold be the string referring to the type of engineer \n",
    "    # feel free to choose different locations for the labels by changing right to left or bottom to top\n",
    "    ax.text(row['...'], row['...'], row['...'], ha='right', va='bottom')\n",
    "\n",
    "plt.show()"
   ]
  },
  {
   "cell_type": "markdown",
   "metadata": {
    "editable": false
   },
   "source": [
    "### What kind of engineering does this suggest would be likely to have more jobs when you graduate than now? "
   ]
  }
 ],
 "metadata": {
  "kernelspec": {
   "display_name": "Python 3 (ipykernel)",
   "language": "python",
   "name": "python3"
  },
  "language_info": {
   "codemirror_mode": {
    "name": "ipython",
    "version": 3
   },
   "file_extension": ".py",
   "mimetype": "text/x-python",
   "name": "python",
   "nbconvert_exporter": "python",
   "pygments_lexer": "ipython3",
   "version": "3.11.8"
  },
  "varInspector": {
   "cols": {
    "lenName": 16,
    "lenType": 16,
    "lenVar": 40
   },
   "kernels_config": {
    "python": {
     "delete_cmd_postfix": "",
     "delete_cmd_prefix": "del ",
     "library": "var_list.py",
     "varRefreshCmd": "print(var_dic_list())"
    },
    "r": {
     "delete_cmd_postfix": ") ",
     "delete_cmd_prefix": "rm(",
     "library": "var_list.r",
     "varRefreshCmd": "cat(var_dic_list()) "
    }
   },
   "types_to_exclude": [
    "module",
    "function",
    "builtin_function_or_method",
    "instance",
    "_Feature"
   ],
   "window_display": false
  }
 },
 "nbformat": 4,
 "nbformat_minor": 2
}