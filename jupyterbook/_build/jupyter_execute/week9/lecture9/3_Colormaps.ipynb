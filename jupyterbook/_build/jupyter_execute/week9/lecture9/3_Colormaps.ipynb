{
 "cells": [
  {
   "cell_type": "markdown",
   "metadata": {
    "slideshow": {
     "slide_type": "slide"
    }
   },
   "source": [
    "# 📝 Choices for Figures\n",
    "\n",
    "- Many choices are necessary when visualizing data. Here, we'll discuss the type of visualization and the color scale representing a dimension of the data.\n"
   ]
  },
  {
   "cell_type": "markdown",
   "metadata": {},
   "source": [
    "## Types of Graphs\n"
   ]
  },
  {
   "cell_type": "markdown",
   "metadata": {},
   "source": [
    "- [Data to Viz](https://www.data-to-viz.com/) provides a helpful decision tree for selecting the appropriate visualization.\n",
    "\n",
    "- Then, examples of each kind of plot are provided along with tips on how to use them appropriately."
   ]
  },
  {
   "cell_type": "markdown",
   "metadata": {},
   "source": [
    "## Choosing Colors for your Figures"
   ]
  },
  {
   "cell_type": "markdown",
   "metadata": {},
   "source": [
    "### Why do colormaps matter?\n",
    "\n",
    "- Your interpretation of the colormap represents a dimension of the data.\n",
    "\n",
    "- Use of **an inappropriate colormap** is like having a non-linear y-axis!\n",
    "\n",
    "![title](figs/heart_disease.png)\n"
   ]
  },
  {
   "cell_type": "markdown",
   "metadata": {},
   "source": [
    "#### Perceptually uniform colormaps [Viridis]\n",
    "\n",
    "![title](Figs/viridis.png)\n"
   ]
  },
  {
   "cell_type": "markdown",
   "metadata": {},
   "source": [
    "- Python has packages, such as [`palettable`](https://jiffyclub.github.io/palettable) for finding excellent color maps for color scales.\n",
    "\n",
    "- [Colorbrewer](https://colorbrewer2.org/#type=diverging&scheme=PuOr&n=9) has an interactive interface for choosing the appropriate color map, which can then be imported using the `colorbrewer` module in `palettable`. It provides guidance with colorblindness and gray scale printing in mind.\n",
    "\n",
    "    - If the data are all positive or negative on a number line (e.g., linear, log), a *sequential* color map is appropriate.\n",
    "\n",
    "    - If the data range from negative to positive on a number line (e.g., linear, log), a *diverging* color map is appropriate.\n",
    "\n",
    "    - If the data are qualitative, *only then* is a color scheme with unrelated colors adjacent to one another appropriate.\n",
    "\n"
   ]
  }
 ],
 "metadata": {
  "celltoolbar": "Slideshow",
  "kernelspec": {
   "display_name": "Python 3 (ipykernel)",
   "language": "python",
   "name": "python3"
  },
  "language_info": {
   "codemirror_mode": {
    "name": "ipython",
    "version": 3
   },
   "file_extension": ".py",
   "mimetype": "text/x-python",
   "name": "python",
   "nbconvert_exporter": "python",
   "pygments_lexer": "ipython3",
   "version": "3.10.8"
  },
  "varInspector": {
   "cols": {
    "lenName": 16,
    "lenType": 16,
    "lenVar": 40
   },
   "kernels_config": {
    "python": {
     "delete_cmd_postfix": "",
     "delete_cmd_prefix": "del ",
     "library": "var_list.py",
     "varRefreshCmd": "print(var_dic_list())"
    },
    "r": {
     "delete_cmd_postfix": ") ",
     "delete_cmd_prefix": "rm(",
     "library": "var_list.r",
     "varRefreshCmd": "cat(var_dic_list()) "
    }
   },
   "types_to_exclude": [
    "module",
    "function",
    "builtin_function_or_method",
    "instance",
    "_Feature"
   ],
   "window_display": false
  }
 },
 "nbformat": 4,
 "nbformat_minor": 2
}