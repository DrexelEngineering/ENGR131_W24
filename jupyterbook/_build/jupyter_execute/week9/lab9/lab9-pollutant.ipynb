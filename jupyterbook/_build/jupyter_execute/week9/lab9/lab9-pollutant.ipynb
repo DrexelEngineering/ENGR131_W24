{
 "cells": [
  {
   "cell_type": "code",
   "execution_count": null,
   "metadata": {
    "deletable": false,
    "editable": false,
    "tags": [
     "skip-execution"
    ]
   },
   "outputs": [],
   "source": [
    "# Initialize Otter\n",
    "import otter\n",
    "grader = otter.Notebook(\"lab9-pollutant.ipynb\")"
   ]
  },
  {
   "cell_type": "markdown",
   "metadata": {
    "editable": false
   },
   "source": [
    "# Lab 9: Pollutant Triangulation\n",
    "\n",
    "This lab uses classes to solve a problem involving pollutant triangulation.\n",
    "\n"
   ]
  },
  {
   "cell_type": "markdown",
   "metadata": {
    "editable": false
   },
   "source": [
    "## Entering Your Information for Credit\n",
    "\n",
    "To receive credit for assignments it is important we can identify your work from others. To do this we will ask you to enter your information in the following code block.\n",
    "\n",
    "### Before you begin\n",
    "\n",
    "Run the block of code at the top of the notebook that imports and sets up the autograder. This will allow you to check your work. "
   ]
  },
  {
   "cell_type": "code",
   "execution_count": null,
   "metadata": {
    "tags": [
     "skip-execution"
    ]
   },
   "outputs": [],
   "source": [
    "# Please provide your first name, last name, Drexel ID, and Drexel email. Make sure these are provided as strings. \"STRINGS ARE TEXT ENCLOSED IN QUOTATION MARKS.\"\n",
    "\n",
    "# In the assignments you will see sections of code that you need to fill in that are marked with ... (three dots). Replace the ... with your code.\n",
    "first_name = ...\n",
    "last_name = ...\n",
    "drexel_id = ...\n",
    "drexel_email = ...\n"
   ]
  },
  {
   "cell_type": "code",
   "execution_count": null,
   "metadata": {
    "deletable": false,
    "editable": false,
    "tags": [
     "skip-execution"
    ]
   },
   "outputs": [],
   "source": [
    "grader.check(\"q0-Checking-Your-Name\")"
   ]
  },
  {
   "cell_type": "code",
   "execution_count": null,
   "metadata": {
    "tags": [
     "skip-execution"
    ]
   },
   "outputs": [],
   "source": [
    "import drexel_jupyter_logger\n",
    "import matplotlib.pyplot as plt\n",
    "import numpy as np\n",
    "# import IPython.display as ipd"
   ]
  },
  {
   "attachments": {},
   "cell_type": "markdown",
   "metadata": {
    "editable": false
   },
   "source": [
    "## Use triangulation to locate pollutant source\n",
    "\n",
    "Triangulation, such as used in GPS positioning uses three points and two distances to calculate the location of an unknown point.\n",
    "\n",
    "Now, let's suppose that the unknown point is actually a point source for some pollutant X, and at time 0 it\n",
    "releases a burst of Chemical X. Assume no wind, and that X diffuses freely from its release point. \n",
    "\n",
    "Suppose that we have measurement devices at the three points 1, 2, and 3 that track the concentration of X as a function of time, and that the concentration of X is detected to peak at times $t_1$, $t_2$, and $t_3$, at each point, respectively. Can we determine the location of the evil point source?"
   ]
  },
  {
   "attachments": {},
   "cell_type": "markdown",
   "metadata": {
    "deletable": false,
    "editable": false
   },
   "source": [
    "## Task 1: Make a class for point in pollutant system\n",
    "\n",
    "In this system, we have collected data at points $(x_1,y_1)$, $(x_2,y_2)$, and $(x_3,y_3)$, at times $t_1$, $t_2$, and $t_3$ respectively. We would like to encapsulate this data, and find a way to extract distance using the diffusivity of $X$ $(D_X)$.\n",
    "\n",
    "Let's make the assumption that the time intervals $(t_i)$ scale with the square of the distance $(d_i)$ divided by the diffusivity of $X$ $(D_X)$:\n",
    "\n",
    "$$ t_i ~ \\frac{d_i^2}{D_X} $$\n",
    "\n",
    "We can express the diffusivity using the following diffusion constant:\n",
    "\n",
    "$$ K = \\sqrt{D_X} $$\n",
    "\n",
    "That satisfies the conditions\n",
    "\n",
    "$$ d_1 = K\\sqrt{t_1} $$\n",
    "\n",
    "$$ d_2 = K\\sqrt{t_2} $$\n",
    "\n",
    "$$ d_3 = K\\sqrt{t_3} $$\n",
    "\n",
    "Write python code to do the following:\n",
    "\n",
    "* Define a class called `Point`\n",
    "* Define the class constructor to accept as argument the floats `x,y,t`, in that order. Make sure your parameters are in the right order! Store each value in a data member, so that they can be used in other methods. \n",
    "* Define a method called `diffusion_distance` which accepts as input the constant `K`, and returns the distance calculated using the Point member `self.t`.\n",
    "\n",
    "Your code replaces the prompt:  `...`"
   ]
  },
  {
   "cell_type": "code",
   "execution_count": null,
   "metadata": {
    "tags": [
     "skip-execution"
    ]
   },
   "outputs": [],
   "source": [
    "...\n",
    "\n",
    "# Create point objects P1, P2, P3\n",
    "Pt1 = Point(0,1,1)\n",
    "Pt2 = Point(1,0,2)\n",
    "Pt3 = Point(2,3,2)\n",
    "\n",
    "print(f'Members of P1: ({Pt1.x},{Pt1.y},{Pt1.t})')\n",
    "\n",
    "# Solve diffusion distance\n",
    "dist1 = Pt1.diffusion_distance(2.5)\n",
    "print('Calculate diffusion distance of P1:', dist1)\n",
    "\n",
    "# Plot P1,P2,P3\n",
    "plt.clf()\n",
    "plt.plot(Pt1.x,Pt1.y,'ro')\n",
    "plt.plot(Pt2.x,Pt2.y,'b*')\n",
    "plt.plot(Pt3.x,Pt3.y,'k+')\n",
    "plt.grid()"
   ]
  },
  {
   "cell_type": "code",
   "execution_count": null,
   "metadata": {
    "deletable": false,
    "editable": false,
    "tags": [
     "skip-execution"
    ]
   },
   "outputs": [],
   "source": [
    "grader.check(\"task1-Point-class\")"
   ]
  },
  {
   "attachments": {},
   "cell_type": "markdown",
   "metadata": {
    "deletable": false,
    "editable": false
   },
   "source": [
    "## Task 2: Make a class to triangulate between 3 points\n",
    "\n",
    "In the previous task, we determined how to calculate the distance between a point and a pollutant source, given diffusion constant $K$ and time $t$. How can we use this information to find the location of a pollutant source?\n",
    "\n",
    "**Intro to Triangulation** \n",
    "\n",
    "Triangulation is the process of locating an unknown point given two know points, and two known distances.\n",
    "\n",
    "Consider two points $(x_1,y_1)$ and $(x_2,y_2$).\n",
    "\n",
    "Let $(x,y)$ be an unknown point whose respective distances to the two points, $d_1$ and $d_2$, are known. The Pythagorean theorem allows us to express $x$ and $y$ (the coordinates of the unknown point) in terms of $(x_1,y_1)$, $(x_2,y_2)$, $d_1$, and $d_2$:\n",
    "$$ d_1^{2} = (x - x_1)^{2} + (y - y_1)^{2}$$\n",
    "$$ d_2^{2} = (x - x_2)^{2} + (y - y_2)^{2}$$\n",
    "\n",
    "\n",
    "Inverting these two formulae to make them explicit in $x$ and $y$ is really a lot of fun, but it takes a while. Here is the final result:\n",
    "$$ x_{\\pm} = \\frac{1}{2(1 + b^2)} \\left[ 2 [x_1 - b(a - y_1)] \\pm [4(b(a - y_1) - x_1)^2 - 4(1 + b^2)(x_1^{2} - d_1^{2} + (y_1 - a)^{2})]^{\\frac{1}{2}} \\right] $$\n",
    "$$ y_{\\pm} = a + bx_{\\pm} $$\n",
    "\n",
    "where\n",
    "$$ a = \\frac{d_1^{2} - d_2^{2} - [(x_1^{2} + y_1^{2}) - (x_2^{2} + y_2^{2})]}{2(y_2 - y_1)} $$\n",
    "\n",
    "and \n",
    "$$ b = - \\frac{x_2 - x_1}{y_2 - y_1} $$\n",
    "\n",
    "Note that the two possible values for $x$, $x_+$ and $x_-$, arise from the positive and negative sense of the square root, and the value of $y$ derives from its particular $x$. So because of the power of 2 in the Pythagorean theorem, we find that there are **two possible points**, $(x_+, y_+)$ and $(x_-, y_-)$, that are each $d_1$ from $(x_1, y_1)$ and $d_2$ from $(x_2, y_2)$. These are shown by the star and cross in the figure below.\n",
    "\n",
    "\"Triangulation\" refers to the fact that we need a **third** known point to decide which of $(x_+, y_+)$ and $(x_-, y_-)$ is our sought-after point. We would like the final unknown point to be the one that is closer to $(x_3, y_3)$, shown as the star in the figure below:\n",
    "\n",
    "<div>\n",
    "<img src=\"https://raw.githubusercontent.com/DrexelEngineering/ENGR131_W2023/main/jupyterbook/week9/lab8/Triangulation4.PNG\" width=\"400\"/>\n",
    "<div>\n",
    "    \n",
    "Write a python code to do the following:\n",
    "* Create a class `Point_System`\n",
    "* Define the class constructor to accept as argument the Point objects `P1`,`P2`, and `P3`, in that order. Store each value in a data member, so that they can be used in other methods. \n",
    "* Define a method called `pythagoras` which accepts as input and `x1,y1,x2,y2`, which are the coordinates of the points `self.P1` and `self.P2`. This method should return the euclidean distance between the two points.\n",
    "* Define a method called `a_b` which accepts as input the distances between a point and `self.P1` and `self.P2`, as `d1` and `d2` respectively. This method should return the tuple `a,b`, calculated with the equation above.\n",
    "* Define a method called `x_y` which accepts as input the distances between a point and `self.P1` and `self.P2`, as `d1` and `d2` respectively. This method should return the tuple `xm,ym,xp,yp`, which are the \"minus\" coordinates `(xm,ym)` and \"plus\" coordinates `(xp,yp)` of a point, calculated with the equation above. \n",
    "* Define a method called `triangulate` which accepts as input the distances between a point and `self.P1` and `self.P2`, as `d1` and `d2` respectively. This method should return the tuple `xf,yf`, the coordinate closest to the third point, `self.P3`.\n",
    "    1. Calculate the potential coordinates of a point the distance `d1` from point `self.P1`, and distance `d2` from `self.P2` using the method we defined, `x_y`.  Assign this to the variables `xm,ym,xp,yp`.\n",
    "    2. Assign a variable `d3m` to be the distance between the estimated \"minus\" coordinate `xm,ym` and the point `self.P3`\n",
    "    3. Assign a variable `d3p` to be the distance between the estimated \"plus\" coordinate `xp,yp` and the point `self.P3`\n",
    "    4. Check whether `d3m` or `d3p` is smaller. Set the corresponding $(x,y)$ coordinates to variables `xf,yf`\n",
    "    5. Return the final triangulated coordinates, `xf,yf`.\n",
    "\n",
    "Your code replaces the prompt:  `...`"
   ]
  },
  {
   "cell_type": "code",
   "execution_count": null,
   "metadata": {
    "deletable": false,
    "editable": false,
    "tags": [
     "skip-execution"
    ]
   },
   "outputs": [],
   "source": []
  },
  {
   "cell_type": "code",
   "execution_count": null,
   "metadata": {
    "tags": [
     "skip-execution"
    ]
   },
   "outputs": [],
   "source": [
    "...\n",
    "    \n",
    "# create Point object P1, P2, P3\n",
    "Pt1 = Point(0,1,1)\n",
    "Pt2 = Point(1,0,2)\n",
    "Pt3 = Point(2,3,2)\n",
    "\n",
    "# Create Point_System object System, using P1, P2, P3 as inputs\n",
    "System = Point_System(Pt1,Pt2,Pt3)\n",
    "\n",
    "# Plot points Point_System objects P1, P2, P3\n",
    "plt.clf()\n",
    "plt.plot(System.P1.x,System.P1.y,'ro')\n",
    "plt.plot(System.P2.x,System.P2.y,'b*')\n",
    "plt.plot(System.P3.x,System.P3.y,'k+')\n",
    "plt.grid()"
   ]
  },
  {
   "cell_type": "code",
   "execution_count": null,
   "metadata": {
    "deletable": false,
    "editable": false,
    "tags": [
     "skip-execution"
    ]
   },
   "outputs": [],
   "source": [
    "grader.check(\"task2-System-class\")"
   ]
  },
  {
   "attachments": {},
   "cell_type": "markdown",
   "metadata": {
    "deletable": false,
    "editable": false
   },
   "source": [
    "## Task 3: Predict location of pollutant and diffusivity\n",
    "\n",
    "Our system consists of three points, $P_1=(-4,7), P_2=(-5,-6), P_3=(9,1)$, and a pollution source with unknown coordinates and diffusion coefficient $K$. After the release of the chemical, the pollution peaked at the three points at times $300,400,500$ respectively. We want to estimate $K$ and the coordinates of the pollutant.\n",
    "\n",
    "We can achieve this using an iterative process that slowly modifies K by multiplying it by a change factor $\\epsilon$, and recalculates the predicted coordinates. The process will repeat until K is modified by less than a factor of $10^{-6}$ (In other words, the code runs if $|K-K\\epsilon|>K10^{-6}$). Write a code to do the following:\n",
    "\n",
    "* Create `Point` objects `P1`, `P2` and `P3`, initialized with the coordinates and times given above\n",
    "* Create a `Point_System` object `Sys` initialized with point objects `P1`, `P2` and `P3`.\n",
    "* We are satisfied with our guess when K changes by less than a factor of $10^{-6}$ per iteration. Assign this value to variable `criteria`. This variable will not change!\n",
    "* Assign 1.0 as our initial guess of `K`\n",
    "* Assign `criteria` $10^{-6}$ as our initial change factor, `epsilon`\n",
    "* Write a loop that runs until K is modified by less than a factor of $10^{-6}$. Inside, the loop performs the following steps:\n",
    "  1. Compute the distances of `d1`, `d2`, and `d3` with the given values of K.\n",
    "  2. Use triangulation to find the points `xf,yf`, which are the correct distance from P1 and P2, and closest to P3.\n",
    "  3. Compute the distance `d3_`, which is the distance between `(xf,yf)` and `P3`.\n",
    "  4. Calculate our change factor `epsilon` using the following equation: $\\epsilon=\\sqrt{d_{3\\ guess}/d_{3\\ true}}$.\n",
    "  5. print the values of `d3_`, `d3`, `epsilon`, and `K`.\n",
    "  6. Change $K$ to $K\\epsilon$.\n",
    "\n",
    "Your code replaces the prompt:  `...`\n"
   ]
  },
  {
   "cell_type": "code",
   "execution_count": null,
   "metadata": {
    "tags": [
     "skip-execution"
    ]
   },
   "outputs": [],
   "source": [
    "# Define Variables\n",
    "...\n",
    "\n",
    "# create loop that modifies K\n",
    "...\n",
    "\n",
    "# Print the estimated diffusivity\n",
    "print(f'Diffusivity of X is about {K**2:.3f}')\n",
    "# Print the estimated location of the point source\n",
    "print(f'Evil point source is ({xf:.3f},{yf:.3f})')"
   ]
  },
  {
   "cell_type": "code",
   "execution_count": null,
   "metadata": {
    "deletable": false,
    "editable": false,
    "tags": [
     "skip-execution"
    ]
   },
   "outputs": [],
   "source": [
    "grader.check(\"task3-predict\")"
   ]
  },
  {
   "cell_type": "markdown",
   "metadata": {
    "deletable": false,
    "editable": false
   },
   "source": [
    "Take a look at the points and the pollutant source"
   ]
  },
  {
   "cell_type": "code",
   "execution_count": null,
   "metadata": {
    "deletable": false,
    "editable": false,
    "tags": [
     "skip-execution"
    ]
   },
   "outputs": [],
   "source": [
    "import matplotlib.pyplot as plt\n",
    "\n",
    "plt.clf()\n",
    "plt.xlim([min([P1.x,P2.x,P3.x,xf])-1,max([P1.x,P2.x,P3.x,xf])+1])\n",
    "plt.ylim([min([P1.y,P2.y,P3.y,yf])-1,max([P1.y,P2.y,P3.y,yf])+1])\n",
    "plt.plot(P1.x,P1.y,'bo')\n",
    "plt.plot(P2.x,P2.y,'go')\n",
    "plt.plot(P3.x,P3.y,'co')\n",
    "plt.plot(xf,yf,'ro')\n",
    "\n",
    "plt.plot([P1.x,xf],[P1.y,yf],'k-')\n",
    "plt.plot([P2.x,xf],[P2.y,yf],'k-')\n",
    "plt.plot([P3.x,xf],[P3.y,yf],'k-')\n",
    "\n",
    "plt.annotate('P1',xy=(P1.x,P1.y))\n",
    "plt.annotate('P2',xy=(P2.x,P2.y))\n",
    "plt.annotate('P3',xy=(P3.x,P3.y))\n",
    "plt.annotate('evil point source',xy=(xf,yf))\n",
    "plt.show()\n"
   ]
  },
  {
   "cell_type": "markdown",
   "metadata": {
    "deletable": false,
    "editable": false
   },
   "source": [
    "## Submitting Your Assignment\n",
    "\n",
    "To submit your assignment please use the following link the assignment on GitHub classroom.\n",
    "   \n",
    "Use this [link](https://classroom.github.com/a/wVbN8SwU) to navigate to the assignment on GitHub classroom.\n",
    "\n",
    "If you need further instructions on submitting your assignment please look at Lab 1. \n",
    "\n",
    "## Viewing your score\n",
    "\n",
    "**It is your responsibility to ensure that your grade report shows correctly. We can only provide corrections to grades if a grading error is determined. If you do not receive a grade report your grade has not been recorded. It is your responsibility either resubmit the assignment correctly or contact the instructors before the assignment due date.**\n",
    "\n",
    "Each `.ipynb` file you have uploaded will have a file with the name of your file + `Grade_Report.md`. You can view this file by clicking on the file name. This will show you the results of the autograder. \n",
    "\n",
    "We have both public and hidden tests. You will be able to see the score of both tests, but not the specific details of why the test passed or failed. \n",
    "\n",
    "```{note}\n",
    "In python and particularly jupyter notebooks it is common that during testing you run cells in a different order, or run cells and modify them. This can cause there to be local variables needed for your solution that would not be recreated on running your code again from scratch. Your assignment will be graded based on running your code from scratch. This means before you submit your assignment you should restart the kernel and run all cells. You can do this by clicking `Kernel` and selecting `Restart and Run All`. If you code does not run as expected after restarting the kernel and running all cells it means you have an error in your code. \n",
    "```\n",
    "\n",
    "## Fin"
   ]
  }
 ],
 "metadata": {
  "kernelspec": {
   "display_name": "torch",
   "language": "python",
   "name": "python3"
  },
  "language_info": {
   "codemirror_mode": {
    "name": "ipython",
    "version": 3
   },
   "file_extension": ".py",
   "mimetype": "text/x-python",
   "name": "python",
   "nbconvert_exporter": "python",
   "pygments_lexer": "ipython3",
   "version": "3.10.13"
  },
  "otter": {
   "OK_FORMAT": true,
   "tests": {
    "q0-Checking-Your-Name": {
     "name": "q0-Checking-Your-Name",
     "points": null,
     "suites": [
      {
       "cases": [
        {
         "code": ">>> def get_local_part(email):\n...     return email.split('@')[0]\n>>> local_part_email = get_local_part(drexel_email)\n>>> assert local_part_email == drexel_id, f\"The DrexelID extracted from the email '{local_part_email}' does not match the Drexel ID '{drexel_id}'.\"\n",
         "failure_message": "It does not appear that you entered your information correctly. Please try again.",
         "hidden": false,
         "locked": false,
         "points": 0,
         "success_message": "You have entered your information correctly."
        }
       ],
       "scored": true,
       "setup": "",
       "teardown": "",
       "type": "doctest"
      }
     ]
    },
    "task1-Point-class": {
     "name": "task1-Point-class",
     "points": null,
     "suites": [
      {
       "cases": [
        {
         "code": ">>> import numpy as np\n>>> import drexel_jupyter_logger\n>>> P = Point(1, 2, 3)\n>>> drexel_jupyter_logger.variable_logger(P)\n>>> assert np.all(np.isclose(P.x, 1))\n",
         "hidden": false,
         "locked": false,
         "points": 1,
         "success_message": "Point.x is correct."
        },
        {
         "code": ">>> import numpy as np\n>>> P = Point(1, 2, 3)\n>>> import drexel_jupyter_logger\n>>> drexel_jupyter_logger.variable_logger(P)\n>>> assert np.all(np.isclose(P.y, 2))\n",
         "hidden": false,
         "locked": false,
         "points": 1,
         "success_message": "Point.y is correct."
        },
        {
         "code": ">>> import numpy as np\n>>> P = Point(1, 2, 3)\n>>> import drexel_jupyter_logger\n>>> drexel_jupyter_logger.variable_logger(P.t)\n>>> assert np.all(np.isclose(P.t, 3))\n",
         "hidden": false,
         "locked": false,
         "points": 1,
         "success_message": "Point.t is correct."
        },
        {
         "code": ">>> import numpy as np\n>>> P = Point(1, 2, 3)\n>>> answer = P.diffusion_distance(0)\n>>> import drexel_jupyter_logger\n>>> drexel_jupyter_logger.variable_logger(answer)\n>>> assert np.all(np.isclose(answer, 0))\n",
         "hidden": false,
         "locked": false,
         "points": 2,
         "success_message": "P.diffusion_distance(0) is correct."
        },
        {
         "code": ">>> import numpy as np\n>>> P = Point(1, 2, 3)\n>>> answer = P.diffusion_distance(4)\n>>> import drexel_jupyter_logger\n>>> drexel_jupyter_logger.variable_logger(answer)\n>>> assert np.all(np.isclose(answer, 6.928203230275509))\n",
         "hidden": false,
         "locked": false,
         "points": 2,
         "success_message": "P.diffusion_distance(4) is correct."
        }
       ],
       "scored": true,
       "setup": "",
       "teardown": "",
       "type": "doctest"
      }
     ]
    },
    "task2-System-class": {
     "name": "task2-System-class",
     "points": null,
     "suites": [
      {
       "cases": [
        {
         "code": ">>> import numpy as np\n>>> P_Sys = Point_System(Point(0, 1, 1), Point(1, 0, 2), Point(2, 3, 2))\n>>> import drexel_jupyter_logger\n>>> drexel_jupyter_logger.variable_logger(P_Sys)\n>>> assert np.all(np.isclose((P_Sys.P1.x, P_Sys.P1.y, P_Sys.P1.t), (0, 1, 1)))\n",
         "hidden": false,
         "locked": false,
         "points": 1,
         "success_message": "Point_System.P1.x is correct."
        },
        {
         "code": ">>> import numpy as np\n>>> P_Sys = Point_System(Point(0, 1, 1), Point(1, 0, 2), Point(2, 3, 2))\n>>> import drexel_jupyter_logger\n>>> drexel_jupyter_logger.variable_logger(P_Sys)\n>>> assert np.all(np.isclose((P_Sys.P2.x, P_Sys.P2.y, P_Sys.P2.t), (1, 0, 2)))\n",
         "hidden": false,
         "locked": false,
         "points": 1,
         "success_message": "Point_System.P1.y is correct."
        },
        {
         "code": ">>> import numpy as np\n>>> P_Sys = Point_System(Point(0, 1, 1), Point(1, 0, 2), Point(2, 3, 2))\n>>> import drexel_jupyter_logger\n>>> drexel_jupyter_logger.variable_logger(P_Sys)\n>>> assert np.all(np.isclose((P_Sys.P3.x, P_Sys.P3.y, P_Sys.P3.t), (2, 3, 2)))\n",
         "hidden": false,
         "locked": false,
         "points": 1,
         "success_message": "Point_System.P1.t is correct."
        },
        {
         "code": ">>> import numpy as np\n>>> P_Sys = Point_System(Point(0, 1, 1), Point(1, 0, 2), Point(2, 3, 2))\n>>> answer = P_Sys.pythagoras(0, 0, 0, 0)\n>>> import drexel_jupyter_logger\n>>> drexel_jupyter_logger.variable_logger(answer)\n>>> assert np.all(np.isclose(answer, 0))\n",
         "hidden": false,
         "locked": false,
         "points": 1,
         "success_message": "Point_System.pythagoras(0,0,0,0) is correct."
        },
        {
         "code": ">>> import numpy as np\n>>> P_Sys = Point_System(Point(0, 1, 1), Point(1, 0, 2), Point(2, 3, 2))\n>>> answer = P_Sys.pythagoras(-2, 3, 4, 1)\n>>> import drexel_jupyter_logger\n>>> drexel_jupyter_logger.variable_logger(answer)\n>>> assert np.all(np.isclose(answer, 6.324555320336759))\n",
         "hidden": false,
         "locked": false,
         "points": 1,
         "success_message": "Point_System.pythagoras(-2,3,4,1) is correct."
        },
        {
         "code": ">>> import numpy as np\n>>> P_Sys = Point_System(Point(0, 1, 1), Point(1, 0, 2), Point(2, 3, 2))\n>>> answer = P_Sys.a_b(1, 2)\n>>> import drexel_jupyter_logger\n>>> drexel_jupyter_logger.variable_logger(answer)\n>>> assert np.all(np.isclose(answer, (1.5, 1.0)))\n",
         "hidden": false,
         "locked": false,
         "points": 1,
         "success_message": "Point_System.a_b(1,2) is correct."
        },
        {
         "code": ">>> import numpy as np\n>>> P_Sys = Point_System(Point(0, 1, 1), Point(1, 0, 2), Point(2, 3, 2))\n>>> answer = P_Sys.a_b(3, 0.6)\n>>> import drexel_jupyter_logger\n>>> drexel_jupyter_logger.variable_logger(answer)\n>>> assert np.all(np.isclose(answer, (-4.32, 1.0)))\n",
         "hidden": false,
         "locked": false,
         "points": 1,
         "success_message": "Point_System.a_b(3,.6) is correct."
        },
        {
         "code": ">>> import numpy as np\n>>> P_Sys = Point_System(Point(0, 1, 1), Point(1, 0, 2), Point(2, 3, 2))\n>>> answer = P_Sys.x_y(1, 2)\n>>> import drexel_jupyter_logger\n>>> drexel_jupyter_logger.variable_logger(answer)\n>>> assert np.all(np.isclose(answer, (-0.9114378277661477, 0.5885621722338523, 0.4114378277661477, 1.9114378277661477)))\n",
         "hidden": false,
         "locked": false,
         "points": 1,
         "success_message": "Point_System.x_y(1,2) is correct."
        },
        {
         "code": ">>> import numpy as np\n>>> P_Sys = Point_System(Point(0, 1, 1), Point(1, 0, 2), Point(2, 3, 2))\n>>> answer = P_Sys.x_y(3, 2.5)\n>>> import drexel_jupyter_logger\n>>> drexel_jupyter_logger.variable_logger(answer)\n>>> assert np.all(np.isclose(answer, (-0.5702951388031541, -1.945295138803154, 2.945295138803154, 1.570295138803154)))\n",
         "hidden": false,
         "locked": false,
         "points": 1,
         "success_message": "Point_System.x_y(3,2.5) is correct."
        },
        {
         "code": ">>> import numpy as np\n>>> P_Sys = Point_System(Point(0, 1, 1), Point(1, 0, 2), Point(2, 3, 2))\n>>> answer = P_Sys.triangulate(1, 2)\n>>> import drexel_jupyter_logger\n>>> drexel_jupyter_logger.variable_logger(answer)\n>>> assert np.all(np.isclose(answer, (0.4114378277661477, 1.9114378277661477)))\n",
         "hidden": false,
         "locked": false,
         "points": 1,
         "success_message": "Point_System.triangulate(1,2) is correct."
        },
        {
         "code": ">>> import numpy as np\n>>> P_Sys = Point_System(Point(0, 1, 1), Point(1, 0, 2), Point(2, 3, 2))\n>>> answer = P_Sys.triangulate(3, 2.5)\n>>> import drexel_jupyter_logger\n>>> drexel_jupyter_logger.variable_logger(answer)\n>>> assert np.all(np.isclose(answer, (2.945295138803154, 1.570295138803154)))\n",
         "hidden": false,
         "locked": false,
         "points": 1,
         "success_message": "Point_System.triangulate(3,.6) is correct."
        }
       ],
       "scored": true,
       "setup": "",
       "teardown": "",
       "type": "doctest"
      }
     ]
    },
    "task3-predict": {
     "name": "task3-predict",
     "points": null,
     "suites": [
      {
       "cases": [
        {
         "code": ">>> import numpy as np\n>>> import drexel_jupyter_logger\n>>> drexel_jupyter_logger.variable_logger(P1.x)\n>>> drexel_jupyter_logger.variable_logger(P1.y)\n>>> drexel_jupyter_logger.variable_logger(P1.t)\n>>> assert np.all(np.isclose((P1.x, P1.y, P1.t), (-4, 7, 300))) and np.all(np.isclose((P2.x, P2.y, P2.t), (-5, -6, 400))) and np.all(np.isclose((P3.x, P3.y, P3.t), (9, 1, 500)))\n",
         "hidden": false,
         "locked": false,
         "points": 1,
         "success_message": "Point_System.P1.x is correct."
        },
        {
         "code": ">>> import numpy as np\n>>> import drexel_jupyter_logger\n>>> drexel_jupyter_logger.variable_logger(Sys)\n>>> assert np.all(np.isclose((Sys.P1.x, Sys.P1.y, Sys.P1.t), (-4, 7, 300))) and np.all(np.isclose((Sys.P2.x, Sys.P2.y, Sys.P2.t), (-5, -6, 400))) and np.all(np.isclose((Sys.P3.x, Sys.P3.y, Sys.P3.t), (9, 1, 500)))\n",
         "hidden": false,
         "locked": false,
         "points": 1,
         "success_message": "Point_System.P1.y is correct."
        },
        {
         "code": ">>> import numpy as np\n>>> import drexel_jupyter_logger\n>>> drexel_jupyter_logger.variable_logger(d3_)\n>>> assert np.all(np.isclose((d3_, d3, epsilon, K), (9.287116394970834, 9.287105071075722, 1.0000006096567, 0.4153319650621666)))\n",
         "hidden": false,
         "locked": false,
         "points": 8,
         "success_message": "loop construction is correct."
        }
       ],
       "scored": true,
       "setup": "",
       "teardown": "",
       "type": "doctest"
      }
     ]
    }
   }
  },
  "varInspector": {
   "cols": {
    "lenName": 16,
    "lenType": 16,
    "lenVar": 40
   },
   "kernels_config": {
    "python": {
     "delete_cmd_postfix": "",
     "delete_cmd_prefix": "del ",
     "library": "var_list.py",
     "varRefreshCmd": "print(var_dic_list())"
    },
    "r": {
     "delete_cmd_postfix": ") ",
     "delete_cmd_prefix": "rm(",
     "library": "var_list.r",
     "varRefreshCmd": "cat(var_dic_list()) "
    }
   },
   "types_to_exclude": [
    "module",
    "function",
    "builtin_function_or_method",
    "instance",
    "_Feature"
   ],
   "window_display": false
  },
  "vscode": {
   "interpreter": {
    "hash": "6c85558113b53c129e108b4bd8e5af9b1125141b2f5c4ff4283ce45d32702647"
   }
  }
 },
 "nbformat": 4,
 "nbformat_minor": 4
}