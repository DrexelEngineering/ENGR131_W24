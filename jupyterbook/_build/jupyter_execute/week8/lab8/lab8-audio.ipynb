{
 "cells": [
  {
   "cell_type": "code",
   "execution_count": null,
   "metadata": {
    "deletable": false,
    "editable": false,
    "tags": [
     "skip-execution"
    ]
   },
   "outputs": [],
   "source": [
    "# Initialize Otter\n",
    "import otter\n",
    "grader = otter.Notebook(\"lab8-audio.ipynb\")"
   ]
  },
  {
   "attachments": {},
   "cell_type": "markdown",
   "metadata": {
    "editable": false
   },
   "source": [
    "# Lab 8: Audio Synthesis with Numpy\n",
    "\n",
    "This lab explores using loops to synthesize different types of audio waveform in python.\n",
    "\n"
   ]
  },
  {
   "cell_type": "markdown",
   "metadata": {
    "editable": false
   },
   "source": [
    "## Entering Your Information for Credit\n",
    "\n",
    "To receive credit for assignments it is important we can identify your work from others. To do this we will ask you to enter your information in the following code block.\n",
    "\n",
    "### Before you begin\n",
    "\n",
    "Run the block of code at the top of the notebook that imports and sets up the autograder. This will allow you to check your work. "
   ]
  },
  {
   "cell_type": "code",
   "execution_count": null,
   "metadata": {
    "tags": [
     "skip-execution"
    ]
   },
   "outputs": [],
   "source": [
    "# Please provide your first name, last name, Drexel ID, and Drexel email. Make sure these are provided as strings. \"STRINGS ARE TEXT ENCLOSED IN QUOTATION MARKS.\"\n",
    "\n",
    "# In the assignments you will see sections of code that you need to fill in that are marked with ... (three dots). Replace the ... with your code.\n",
    "first_name = ...\n",
    "last_name = ...\n",
    "drexel_id = ...\n",
    "drexel_email = ...\n"
   ]
  },
  {
   "cell_type": "code",
   "execution_count": null,
   "metadata": {
    "deletable": false,
    "editable": false,
    "tags": [
     "skip-execution"
    ]
   },
   "outputs": [],
   "source": [
    "grader.check(\"q0-Checking-Your-Name\")"
   ]
  },
  {
   "cell_type": "code",
   "execution_count": null,
   "metadata": {
    "tags": [
     "skip-execution"
    ]
   },
   "outputs": [],
   "source": [
    "import matplotlib.pyplot as plt\n",
    "import numpy as np\n",
    "import IPython.display as ipd"
   ]
  },
  {
   "cell_type": "markdown",
   "metadata": {
    "editable": false
   },
   "source": [
    "**Generating a Sine Wave** \n",
    "\n",
    "A sine wave $s(t)$ with amplitude $A$ and frequency $f$ can be computed using the following equation:\n",
    "\n",
    "$$ s(t) = A sin(2 \\pi f t)$$\n",
    "\n",
    "\n",
    "\n",
    "In python, we can compute an array of values of the sine function by making $t$ be an array of time values.\n",
    "\n",
    "For instance, the following code sets `t` to be an array of $16000$ values lienaarly spaced from 0 to 1. (A few of these values are shown when we print `t` below.)\n"
   ]
  },
  {
   "cell_type": "code",
   "execution_count": null,
   "metadata": {
    "tags": [
     "skip-execution"
    ]
   },
   "outputs": [],
   "source": [
    "# creates an array of 16000 time values from 0 to 1\n",
    "t = np.linspace(0, 1, num=16000, endpoint=False) \n",
    "\n",
    "print(t)"
   ]
  },
  {
   "cell_type": "markdown",
   "metadata": {
    "editable": false
   },
   "source": [
    "Now we can plug our `t` array in into our equation to get a sine wave `s`:"
   ]
  },
  {
   "cell_type": "code",
   "execution_count": null,
   "metadata": {
    "tags": [
     "skip-execution"
    ]
   },
   "outputs": [],
   "source": [
    "# amplitude of 1.0\n",
    "A = 1.0 \n",
    "# frequency of 440.0\n",
    "f = 440.0\n",
    "\n",
    "# compute sine wave from equation\n",
    "s = A * np.sin(2 * np.pi * f * t) "
   ]
  },
  {
   "cell_type": "markdown",
   "metadata": {
    "editable": false
   },
   "source": [
    "Now if we print `s`, it might be difficult to tell that it's a sine wave..."
   ]
  },
  {
   "cell_type": "code",
   "execution_count": null,
   "metadata": {
    "tags": [
     "skip-execution"
    ]
   },
   "outputs": [],
   "source": [
    "print(s)"
   ]
  },
  {
   "cell_type": "markdown",
   "metadata": {
    "editable": false
   },
   "source": [
    "So let's plot it!"
   ]
  },
  {
   "cell_type": "code",
   "execution_count": null,
   "metadata": {
    "tags": [
     "skip-execution"
    ]
   },
   "outputs": [],
   "source": [
    "# plot sinusoid s\n",
    "plt.plot(s)\n",
    "# show just the first 100 values\n",
    "plt.xlim(0,100)"
   ]
  },
  {
   "cell_type": "markdown",
   "metadata": {
    "editable": false
   },
   "source": [
    "We can listen to the sine wave audio with the code below. (The sampling rate 16000 needs to be provided to specify how quickly we want to play the audio samples.)"
   ]
  },
  {
   "cell_type": "code",
   "execution_count": null,
   "metadata": {
    "tags": [
     "skip-execution"
    ]
   },
   "outputs": [],
   "source": [
    "# we must provide \n",
    "ipd.Audio(s, rate=16000)"
   ]
  },
  {
   "cell_type": "code",
   "execution_count": null,
   "metadata": {
    "tags": [
     "skip-execution"
    ]
   },
   "outputs": [],
   "source": [
    "ipd.Audio(s, rate=16000)"
   ]
  },
  {
   "cell_type": "markdown",
   "metadata": {
    "deletable": false,
    "editable": false
   },
   "source": [
    "**Task 1: Approximating a Square Wave with Sinusoids** \n",
    "\n",
    "A square wave is a waveform that alternates steadily between two fixed values. We can compute a square wave $q(t)$ with fundamental frequency $f$ using the following infinite sum of sinusoids: \n",
    "\n",
    "$$ q(t) = \\sum_{k=0}^{\\infty} \\frac{sin(2 \\pi (2k+1) f t)}{2k+1}$$\n",
    "\n",
    "Usually it is a good option to use a `for` loop when implementing a mathematical sum in python. However, this sum goes to inifinity: we can't compute infinite loops. We can get an approximation of a square wave by summing just the first $K$ terms:\n",
    "\n",
    "$$ q(t) \\approx \\sum_{k=0}^{K-1} \\frac{sin(2 \\pi (2k+1) f t)}{2k+1}$$\n",
    "\n",
    "Write python code to do the following:\n",
    "\n",
    "* Complete the function called ``square_wave`` which returns an approximate square wave based on input arguments (a fundamental frequency `f` and a number of terms `K`).\n",
    "* Loop over the desired number of terms `K`.\n",
    "* For each term, calculate the appropriate sinusoid and add it to the provided starting array `q`. \n",
    "* For the input time value $t$ in the equation above, use the provided array of tiem values `t`. \n",
    "* The function returns the approximate square wave q. \n",
    "\n",
    "Your code replaces the prompt:  `...`\n",
    "\n",
    "\n"
   ]
  },
  {
   "cell_type": "code",
   "execution_count": null,
   "metadata": {
    "tags": [
     "skip-execution"
    ]
   },
   "outputs": [],
   "source": [
    "\n",
    "\n",
    "def square_wave(f,K):\n",
    "\n",
    "    # initialize our square wave q to be all zeros\n",
    "    q = np.zeros((16000,))\n",
    "\n",
    "    # create an array of linearly spaced time values\n",
    "    t = np.linspace(0, 1, num=16000, endpoint=False) \n",
    "\n",
    "\n",
    "    # loop over all desired values of k\n",
    "    # add each sinusoid to q\n",
    "    ...\n",
    "\n",
    "    # return square wave q\n",
    "    return q\n",
    "\n",
    "# plot a square wave\n",
    "plt.plot(square_wave(440,200))\n",
    "# show just the first 100 values\n",
    "plt.xlim(0,100)"
   ]
  },
  {
   "cell_type": "code",
   "execution_count": null,
   "metadata": {
    "deletable": false,
    "editable": false,
    "tags": [
     "skip-execution"
    ]
   },
   "outputs": [],
   "source": [
    "grader.check(\"task1-square\")"
   ]
  },
  {
   "cell_type": "markdown",
   "metadata": {
    "editable": false
   },
   "source": [
    "Listen to a $200$-term square wave approximation with fundamental frequency $440$. In electronic music, square wave synthesizers are often used to provide a hollow, distorted sound."
   ]
  },
  {
   "cell_type": "code",
   "execution_count": null,
   "metadata": {
    "tags": [
     "skip-execution"
    ]
   },
   "outputs": [],
   "source": [
    "ipd.Audio(square_wave(440,200), rate=16000)"
   ]
  },
  {
   "cell_type": "markdown",
   "metadata": {
    "deletable": false,
    "editable": false
   },
   "source": [
    "**Task 2: Sum of Harmonic Sinusoids** \n",
    "\n",
    "The square wave is just one waveform the can be constructed using a sum of sinusoids. In general, any periodic waveform $w(t)$ can be approximated using the following equation: \n",
    "\n",
    "$$ w(t) \\approx \\sum_{k=0}^{K-1}  A_k sin(2 \\pi (k+1) f t)$$\n",
    "\n",
    "Where $A_k$ is an amplitude value that is different for each term. Your task is to make a function that computes $w(t)$ given a fundamental frequency $f$ and a list of amplitude values $A_k$. The number of terms $K$ will be inferred by the length of the list of amplitudes.\n",
    "\n",
    "Write python code to do the following:\n",
    "\n",
    "* Define a function called ``waveform`` which accepts as input a fundamental frequency `f`, and a list of amplitudes `A`.\n",
    "* First, initialize an empty array `w` of $16000$ zeros, as in previous tasks.\n",
    "* Then create an array `t` of $16000$ linearly-spaced time values, as in previous tasks.\n",
    "* Loop through all values of $k$, adding on the appropriate sinusoid.\n",
    "* Return the final waveform `w`\n",
    "\n",
    "\n",
    "Your code replaces the prompt:  `...`\n"
   ]
  },
  {
   "cell_type": "code",
   "execution_count": null,
   "metadata": {
    "tags": [
     "skip-execution"
    ]
   },
   "outputs": [],
   "source": [
    "...\n",
    "\n",
    "# plot a square wave with the first 3 nonzero terms\n",
    "plt.plot(waveform(440,[1,0,(1/3),0,(1/5)]))\n",
    "# show just the first 100 values\n",
    "plt.xlim(0,100);"
   ]
  },
  {
   "cell_type": "code",
   "execution_count": null,
   "metadata": {
    "deletable": false,
    "editable": false,
    "tags": [
     "skip-execution"
    ]
   },
   "outputs": [],
   "source": [
    "grader.check(\"task2-sinesum\")"
   ]
  },
  {
   "cell_type": "markdown",
   "metadata": {
    "deletable": false,
    "editable": false
   },
   "source": [
    "**Task 3: Musical Sequence** \n",
    "\n",
    "Your final task involves using the waveform function you made to generate sequences of musical notes. \n",
    "\n",
    "Music software often uses a protocol called MIDI (Musical Instrument Digital Interface) to format messages related to music. MIDI uses a numbering scheme for the notes on a piano, so that every note has a unique pitch value. Each pitch $p$ is an integer in $[0,127]$. The following equation shows how to compute the fundamental frequency $f$ for a note with MIDI pitch value $p$:\n",
    "\n",
    "$$ f = 440 * 2^{(p - 69) / 12} $$\n",
    "\n",
    "In this problem, you will complete a function called `music_sequence` which creates a waveform containing a sequence of musical notes. The input to the function will be a list of MIDI pitch values.\n",
    "\n",
    "Write python code to do the following:\n",
    "\n",
    "* Complete the function called ``music_sequence`` which accepts as input a list of MIDI pitch values `P`.\n",
    "* Loop through all the pitch values in list `P`\n",
    "* For each pitch $p$, compute its frequency $f$ using the equation above\n",
    "* Using the computed frequency $f$ and the provided amplitude list `A`, generate a waveform using the `waveform` function from the previous task \n",
    "* Append each waveform to the sequence list, which has been initialized for you\n",
    "* The provided code concatenates the sequence of notes and returns the final waveform\n",
    "\n",
    "\n",
    "Your code replaces the prompt:  `...`\n"
   ]
  },
  {
   "cell_type": "code",
   "execution_count": null,
   "metadata": {
    "tags": [
     "skip-execution"
    ]
   },
   "outputs": [],
   "source": [
    "def music_sequence(P):\n",
    "\n",
    "    # initialize a empty list for our sequence of notes\n",
    "    sequence = []\n",
    "    # use this list of amplitudes A when generating waveforms\n",
    "    # it gives the notes an organ-like sound\n",
    "    A = [1, 0, 0, (1/4), 0, 0, 0, (1/8), 0, 0, 0, (1/12)]\n",
    "\n",
    "    # loop over all pitches in P and compute each frequency\n",
    "    # using the frequency and list A, generate a waveform\n",
    "    # append the waveform to the sequence list\n",
    "    ...\n",
    "\n",
    "    return np.concatenate(sequence, axis=0)\n",
    "\n",
    "# listen to the music sequence\n",
    "ipd.Audio(music_sequence([60,62,64,65,67,69,71,72]), rate=16000)"
   ]
  },
  {
   "cell_type": "code",
   "execution_count": null,
   "metadata": {
    "deletable": false,
    "editable": false,
    "tags": [
     "skip-execution"
    ]
   },
   "outputs": [],
   "source": [
    "grader.check(\"task3-musical-scale\")"
   ]
  },
  {
   "cell_type": "markdown",
   "metadata": {
    "editable": false
   },
   "source": [
    "## Submitting Your Assignment\n",
    "\n",
    "To submit your assignment please use the following link the assignment on GitHub classroom.\n",
    "   \n",
    "Use this [link](https://classroom.github.com/a/z3RZvJ06) to navigate to the assignment on GitHub classroom.\n",
    "\n",
    "If you need further instructions on submitting your assignment please look at Lab 1. \n",
    "\n",
    "## Viewing your score\n",
    "\n",
    "**It is your responsibility to ensure that your grade report shows correctly. We can only provide corrections to grades if a grading error is determined. If you do not receive a grade report your grade has not been recorded. It is your responsibility either resubmit the assignment correctly or contact the instructors before the assignment due date.**\n",
    "\n",
    "Each `.ipynb` file you have uploaded will have a file with the name of your file + `Grade_Report.md`. You can view this file by clicking on the file name. This will show you the results of the autograder. \n",
    "\n",
    "We have both public and hidden tests. You will be able to see the score of both tests, but not the specific details of why the test passed or failed. \n",
    "\n",
    "```{note}\n",
    "In python and particularly jupyter notebooks it is common that during testing you run cells in a different order, or run cells and modify them. This can cause there to be local variables needed for your solution that would not be recreated on running your code again from scratch. Your assignment will be graded based on running your code from scratch. This means before you submit your assignment you should restart the kernel and run all cells. You can do this by clicking `Kernel` and selecting `Restart and Run All`. If you code does not run as expected after restarting the kernel and running all cells it means you have an error in your code. \n",
    "```\n",
    "\n",
    "## Fin"
   ]
  }
 ],
 "metadata": {
  "kernelspec": {
   "display_name": "Python 3",
   "language": "python",
   "name": "python3"
  },
  "language_info": {
   "codemirror_mode": {
    "name": "ipython",
    "version": 3
   },
   "file_extension": ".py",
   "mimetype": "text/x-python",
   "name": "python",
   "nbconvert_exporter": "python",
   "pygments_lexer": "ipython3",
   "version": "3.10.13"
  },
  "otter": {
   "OK_FORMAT": true,
   "tests": {
    "q0-Checking-Your-Name": {
     "name": "q0-Checking-Your-Name",
     "points": null,
     "suites": [
      {
       "cases": [
        {
         "code": ">>> def get_local_part(email):\n...     return email.split('@')[0]\n>>> local_part_email = get_local_part(drexel_email)\n>>> assert local_part_email == drexel_id, f\"The DrexelID extracted from the email '{local_part_email}' does not match the Drexel ID '{drexel_id}'.\"\n",
         "failure_message": "It does not appear that you entered your information correctly. Please try again.",
         "hidden": false,
         "locked": false,
         "points": 0,
         "success_message": "You have entered your information correctly."
        }
       ],
       "scored": true,
       "setup": "",
       "teardown": "",
       "type": "doctest"
      }
     ]
    },
    "task1-square": {
     "name": "task1-square",
     "points": null,
     "suites": [
      {
       "cases": [
        {
         "code": ">>> z = np.zeros((16000,))\n>>> assert np.shape(z) == np.shape(square_wave(440, 2))\n",
         "hidden": false,
         "locked": false,
         "points": 1,
         "success_message": "Output is numpy array of correct shape."
        },
        {
         "code": ">>> z = np.zeros((16000,))\n>>> test_q = square_wave(440, 2)\n>>> assert not np.isclose(test_q, z).all()\n",
         "hidden": false,
         "locked": false,
         "points": 1,
         "success_message": "Output q was updated (is not still zero)."
        },
        {
         "code": ">>> test_q = square_wave(440, 4)\n>>> sol_q = np.zeros((16000,))\n>>> t = np.linspace(0, 1, num=16000, endpoint=False)\n>>> K = 4\n>>> f = 440\n>>> for k in range(1, K + 1):\n...     sol_q += np.sin(2 * np.pi * (2 * k - 1) * f * t) / (2 * k - 1)\n>>> assert np.isclose(test_q, sol_q).all()\n",
         "hidden": false,
         "locked": false,
         "points": 1,
         "success_message": "Output is correct for f=440 and K=4."
        },
        {
         "code": ">>> test_q = square_wave(500, 15)\n>>> sol_q = np.zeros((16000,))\n>>> t = np.linspace(0, 1, num=16000, endpoint=False)\n>>> K = 15\n>>> f = 500\n>>> for k in range(1, K + 1):\n...     sol_q += np.sin(2 * np.pi * (2 * k - 1) * f * t) / (2 * k - 1)\n>>> assert np.isclose(test_q, sol_q).all()\n",
         "hidden": false,
         "locked": false,
         "points": 1,
         "success_message": "Output is correct for f=500 and K=15."
        }
       ],
       "scored": true,
       "setup": "",
       "teardown": "",
       "type": "doctest"
      }
     ]
    },
    "task2-sinesum": {
     "name": "task2-sinesum",
     "points": null,
     "suites": [
      {
       "cases": [
        {
         "code": ">>> z = np.zeros((16000,))\n>>> assert np.shape(z) == np.shape(waveform(100, [1, 2, 3]))\n",
         "hidden": false,
         "locked": false,
         "points": 1,
         "success_message": "Output is numpy array of correct shape."
        },
        {
         "code": ">>> test_w = waveform(100, [1, 2, 3])\n>>> f = 100\n>>> A = [1, 2, 3]\n>>> sol_w = np.zeros((16000,))\n>>> t = np.linspace(0, 1, num=16000, endpoint=False)\n>>> for k in range(len(A)):\n...     sol_w += A[k] * np.sin(2 * np.pi * (k + 1) * f * t)\n>>> assert np.isclose(test_w, sol_w).all()\n",
         "hidden": false,
         "locked": false,
         "points": 1,
         "success_message": "Output is correct for f=100 and A=[1,2,3]."
        },
        {
         "code": ">>> test_w = waveform(440, [0, 1, 0, 1 / 3, 0, 1 / 5])\n>>> f = 440\n>>> A = [0, 1, 0, 1 / 3, 0, 1 / 5]\n>>> sol_w = np.zeros((16000,))\n>>> t = np.linspace(0, 1, num=16000, endpoint=False)\n>>> for k in range(len(A)):\n...     sol_w += A[k] * np.sin(2 * np.pi * (k + 1) * f * t)\n>>> assert np.isclose(test_w, sol_w).all()\n",
         "hidden": false,
         "locked": false,
         "points": 1,
         "success_message": "Output is correct for f=440 and A=[0,1,0,(1/3),0,(1/5)]."
        },
        {
         "code": ">>> test_w = waveform(250.333, [1, 0, 0.5, 0.5, 0, 1, 0.75, 0.25])\n>>> f = 250.333\n>>> A = [1, 0, 0.5, 0.5, 0, 1, 0.75, 0.25]\n>>> sol_w = np.zeros((16000,))\n>>> t = np.linspace(0, 1, num=16000, endpoint=False)\n>>> for k in range(len(A)):\n...     sol_w += A[k] * np.sin(2 * np.pi * (k + 1) * f * t)\n>>> assert np.isclose(test_w, sol_w).all()\n",
         "hidden": false,
         "locked": false,
         "points": 1,
         "success_message": "Output is correct for f=250.333 and A=[1, 0, 0.5, 0.5, 0, 1, 0.75, 0.25]."
        }
       ],
       "scored": true,
       "setup": "",
       "teardown": "",
       "type": "doctest"
      }
     ]
    },
    "task3-musical-scale": {
     "name": "task3-musical-scale",
     "points": null,
     "suites": [
      {
       "cases": [
        {
         "code": ">>> z = np.zeros((16000 * 8,))\n>>> assert np.shape(z) == np.shape(music_sequence([1, 1, 1, 1, 1, 1, 1, 1]))\n",
         "hidden": false,
         "locked": false,
         "points": 1,
         "success_message": "Output is numpy array of correct shape."
        },
        {
         "code": ">>> test_seq = music_sequence([60, 64, 67, 72])\n>>> A = [1, 0, 0, 1 / 4, 0, 0, 0, 1 / 8, 0, 0, 0, 1 / 12]\n>>> P = [60, 64, 67, 72]\n>>> sol_seq = []\n>>> for p in P:\n...     f = 440 * 2 ** ((p - 69) / 12)\n...     sol_seq.append(waveform(f, A))\n>>> sol_seq = np.concatenate(sol_seq, axis=0)\n>>> assert np.isclose(test_seq, sol_seq).all()\n",
         "hidden": false,
         "locked": false,
         "points": 1,
         "success_message": "Output is correct for P=[60,64,67,72]."
        },
        {
         "code": ">>> test_seq = music_sequence([1, 2, 3, 4, 5, 6, 7, 8, 9, 10, 11, 12])\n>>> A = [1, 0, 0, 1 / 4, 0, 0, 0, 1 / 8, 0, 0, 0, 1 / 12]\n>>> P = [1, 2, 3, 4, 5, 6, 7, 8, 9, 10, 11, 12]\n>>> sol_seq = []\n>>> for p in P:\n...     f = 440 * 2 ** ((p - 69) / 12)\n...     sol_seq.append(waveform(f, A))\n>>> sol_seq = np.concatenate(sol_seq, axis=0)\n>>> assert np.isclose(test_seq, sol_seq).all()\n",
         "hidden": false,
         "locked": false,
         "points": 1,
         "success_message": "Output is correct for P=[1,2,3,4,5,6,7,8,9,10,11,12]."
        },
        {
         "code": ">>> test_seq = music_sequence([9, 43, 17, 64, 88, 86])\n>>> A = [1, 0, 0, 1 / 4, 0, 0, 0, 1 / 8, 0, 0, 0, 1 / 12]\n>>> P = [9, 43, 17, 64, 88, 86]\n>>> sol_seq = []\n>>> for p in P:\n...     f = 440 * 2 ** ((p - 69) / 12)\n...     sol_seq.append(waveform(f, A))\n>>> sol_seq = np.concatenate(sol_seq, axis=0)\n>>> assert np.isclose(test_seq, sol_seq).all()\n",
         "hidden": false,
         "locked": false,
         "points": 1,
         "success_message": "Output is correct for P=[9,43,17,64,88,86]."
        }
       ],
       "scored": true,
       "setup": "",
       "teardown": "",
       "type": "doctest"
      }
     ]
    }
   }
  },
  "varInspector": {
   "cols": {
    "lenName": 16,
    "lenType": 16,
    "lenVar": 40
   },
   "kernels_config": {
    "python": {
     "delete_cmd_postfix": "",
     "delete_cmd_prefix": "del ",
     "library": "var_list.py",
     "varRefreshCmd": "print(var_dic_list())"
    },
    "r": {
     "delete_cmd_postfix": ") ",
     "delete_cmd_prefix": "rm(",
     "library": "var_list.r",
     "varRefreshCmd": "cat(var_dic_list()) "
    }
   },
   "types_to_exclude": [
    "module",
    "function",
    "builtin_function_or_method",
    "instance",
    "_Feature"
   ],
   "window_display": false
  },
  "vscode": {
   "interpreter": {
    "hash": "31f2aee4e71d21fbe5cf8b01ff0e069b9275f58929596ceb00d14d90e3e16cd6"
   }
  }
 },
 "nbformat": 4,
 "nbformat_minor": 4
}