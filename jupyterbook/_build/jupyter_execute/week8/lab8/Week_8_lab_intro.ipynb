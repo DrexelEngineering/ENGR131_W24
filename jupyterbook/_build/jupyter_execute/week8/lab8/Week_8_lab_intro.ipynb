{
 "cells": [
  {
   "cell_type": "markdown",
   "id": "b5959c27",
   "metadata": {
    "editable": false
   },
   "source": [
    "# 📝 Week 8 - Lab Intro\n",
    "\n",
    "In this lab introduction we will briefly review how Arrays and broadcasting for this lab"
   ]
  },
  {
   "cell_type": "code",
   "execution_count": 1,
   "id": "8829102b",
   "metadata": {
    "tags": [
     "skip-execution"
    ]
   },
   "outputs": [],
   "source": [
    "import numpy as np\n",
    "import matplotlib.pyplot as plt"
   ]
  },
  {
   "cell_type": "markdown",
   "id": "c37e69b9",
   "metadata": {
    "editable": false
   },
   "source": [
    "## Creating Arrays"
   ]
  },
  {
   "cell_type": "markdown",
   "id": "42b2731d",
   "metadata": {
    "editable": false
   },
   "source": [
    "### Creating an array of zeros,\n",
    "We often want an empty array to begin iterative calculations. We can use `np.zeros()` to create an array of zeros. If you forget what the inputs are, hover over the function, and press `shift + tab` to view the docstring."
   ]
  },
  {
   "cell_type": "code",
   "execution_count": 2,
   "id": "3a04becb",
   "metadata": {
    "tags": [
     "skip-execution"
    ]
   },
   "outputs": [
    {
     "name": "stdout",
     "output_type": "stream",
     "text": [
      "[0. 0. 0. 0. 0. 0. 0. 0. 0. 0.]\n"
     ]
    }
   ],
   "source": [
    "print(np.zeros(10))"
   ]
  },
  {
   "cell_type": "code",
   "execution_count": 3,
   "id": "78feb34b",
   "metadata": {
    "tags": [
     "skip-execution"
    ]
   },
   "outputs": [
    {
     "name": "stdout",
     "output_type": "stream",
     "text": [
      "[[0. 0. 0.]\n",
      " [0. 0. 0.]]\n"
     ]
    }
   ],
   "source": [
    "print(np.zeros((2,3)))"
   ]
  },
  {
   "cell_type": "markdown",
   "id": "42f7004d",
   "metadata": {
    "editable": false
   },
   "source": [
    "### Creating an array with equal spacing\n",
    "To make an array with equal spacing, use `np.linspace()`. This method can only create 1D arrays."
   ]
  },
  {
   "cell_type": "code",
   "execution_count": 4,
   "id": "701e1cf8",
   "metadata": {
    "tags": [
     "skip-execution"
    ]
   },
   "outputs": [
    {
     "name": "stdout",
     "output_type": "stream",
     "text": [
      "[0.         0.02040816 0.04081633 0.06122449 0.08163265 0.10204082\n",
      " 0.12244898 0.14285714 0.16326531 0.18367347 0.20408163 0.2244898\n",
      " 0.24489796 0.26530612 0.28571429 0.30612245 0.32653061 0.34693878\n",
      " 0.36734694 0.3877551  0.40816327 0.42857143 0.44897959 0.46938776\n",
      " 0.48979592 0.51020408 0.53061224 0.55102041 0.57142857 0.59183673\n",
      " 0.6122449  0.63265306 0.65306122 0.67346939 0.69387755 0.71428571\n",
      " 0.73469388 0.75510204 0.7755102  0.79591837 0.81632653 0.83673469\n",
      " 0.85714286 0.87755102 0.89795918 0.91836735 0.93877551 0.95918367\n",
      " 0.97959184 1.        ]\n"
     ]
    }
   ],
   "source": [
    "print(np.linspace(0,1))"
   ]
  },
  {
   "cell_type": "markdown",
   "id": "6cbb0ef7",
   "metadata": {
    "editable": false,
    "tags": []
   },
   "source": [
    "The default number of points is 50. If we want to change the number of points, we can use input `num=...`"
   ]
  },
  {
   "cell_type": "code",
   "execution_count": 5,
   "id": "84634934",
   "metadata": {
    "tags": [
     "skip-execution"
    ]
   },
   "outputs": [
    {
     "name": "stdout",
     "output_type": "stream",
     "text": [
      "[0.         0.11111111 0.22222222 0.33333333 0.44444444 0.55555556\n",
      " 0.66666667 0.77777778 0.88888889 1.        ]\n"
     ]
    }
   ],
   "source": [
    "print(np.linspace(0,1,num=10))"
   ]
  },
  {
   "cell_type": "markdown",
   "id": "e911d15a",
   "metadata": {
    "editable": false,
    "tags": []
   },
   "source": [
    "If we want to exclude the endpoint, we can use input `endpoint=False`."
   ]
  },
  {
   "cell_type": "code",
   "execution_count": 6,
   "id": "b2f4cbfc",
   "metadata": {
    "tags": [
     "skip-execution"
    ]
   },
   "outputs": [
    {
     "name": "stdout",
     "output_type": "stream",
     "text": [
      "[0.  0.1 0.2 0.3 0.4 0.5 0.6 0.7 0.8 0.9]\n"
     ]
    }
   ],
   "source": [
    "print(np.linspace(0,1,num=10,endpoint=False))"
   ]
  },
  {
   "cell_type": "markdown",
   "id": "e940ec96",
   "metadata": {
    "editable": false
   },
   "source": [
    "## Create array from list\n"
   ]
  },
  {
   "cell_type": "code",
   "execution_count": 9,
   "id": "4e9ea72f",
   "metadata": {
    "tags": [
     "skip-execution"
    ]
   },
   "outputs": [
    {
     "name": "stdout",
     "output_type": "stream",
     "text": [
      "[0 3 4 5 7] <class 'list'> <class 'numpy.ndarray'>\n"
     ]
    }
   ],
   "source": [
    "num_list = [0,3,4,5,7]\n",
    "arr = np.array(num_list)\n",
    "\n",
    "print(arr, type(num_list), type(arr))"
   ]
  },
  {
   "cell_type": "markdown",
   "id": "97494219",
   "metadata": {
    "editable": false
   },
   "source": [
    "## Broadcasting\n",
    "Numpy arrays can infer how to distribute a calculation across axes. This is called *broadcasting*. For example, let's try some basic operations"
   ]
  },
  {
   "cell_type": "code",
   "execution_count": 16,
   "id": "99375f31",
   "metadata": {
    "tags": [
     "skip-execution"
    ]
   },
   "outputs": [
    {
     "name": "stdout",
     "output_type": "stream",
     "text": [
      "[0. 0. 0. 0. 0.]\n"
     ]
    }
   ],
   "source": [
    "test_array = np.zeros(5)\n",
    "print(test_array)"
   ]
  },
  {
   "cell_type": "code",
   "execution_count": 17,
   "id": "e7ba9398",
   "metadata": {
    "tags": [
     "skip-execution"
    ]
   },
   "outputs": [
    {
     "name": "stdout",
     "output_type": "stream",
     "text": [
      "[1. 1. 1. 1. 1.]\n"
     ]
    }
   ],
   "source": [
    "test_array = test_array+1\n",
    "print(test_array)"
   ]
  },
  {
   "cell_type": "code",
   "execution_count": 12,
   "id": "0fc2961f",
   "metadata": {
    "tags": [
     "skip-execution"
    ]
   },
   "outputs": [
    {
     "name": "stdout",
     "output_type": "stream",
     "text": [
      "[6. 6. 6. 6. 6.]\n"
     ]
    }
   ],
   "source": [
    "test_array = test_array * 6\n",
    "print(test_array)"
   ]
  },
  {
   "cell_type": "markdown",
   "id": "5000afed",
   "metadata": {
    "editable": false
   },
   "source": [
    "Arrays are important because we can't perform these operations on lists.  You will get a \"TypeError\""
   ]
  },
  {
   "cell_type": "code",
   "execution_count": 21,
   "id": "82e92462",
   "metadata": {
    "tags": [
     "skip-execution"
    ]
   },
   "outputs": [
    {
     "ename": "TypeError",
     "evalue": "can only concatenate list (not \"int\") to list",
     "output_type": "error",
     "traceback": [
      "\u001b[0;31m---------------------------------------------------------------------------\u001b[0m",
      "\u001b[0;31mTypeError\u001b[0m                                 Traceback (most recent call last)",
      "Cell \u001b[0;32mIn[21], line 2\u001b[0m\n\u001b[1;32m      1\u001b[0m test_list \u001b[38;5;241m=\u001b[39m [\u001b[38;5;241m0\u001b[39m,\u001b[38;5;241m0\u001b[39m,\u001b[38;5;241m0\u001b[39m,\u001b[38;5;241m0\u001b[39m,\u001b[38;5;241m0\u001b[39m]\n\u001b[0;32m----> 2\u001b[0m test_list \u001b[38;5;241m=\u001b[39m test_list\u001b[38;5;241m+\u001b[39m\u001b[38;5;241m1\u001b[39m\n",
      "\u001b[0;31mTypeError\u001b[0m: can only concatenate list (not \"int\") to list"
     ]
    }
   ],
   "source": [
    "test_list = [0,0,0,0,0]\n",
    "test_list = test_list+1\n"
   ]
  },
  {
   "cell_type": "markdown",
   "id": "9db0fa31",
   "metadata": {
    "editable": false
   },
   "source": [
    "### What happens when we perform operations on arrays of different shapes?"
   ]
  },
  {
   "cell_type": "code",
   "execution_count": 22,
   "id": "90333008",
   "metadata": {
    "tags": [
     "skip-execution"
    ]
   },
   "outputs": [
    {
     "name": "stdout",
     "output_type": "stream",
     "text": [
      "[1. 1. 1. 1. 1.]\n"
     ]
    }
   ],
   "source": [
    "test_array = np.ones(5)\n",
    "print(test_array)"
   ]
  },
  {
   "cell_type": "code",
   "execution_count": 23,
   "id": "e9dff603",
   "metadata": {
    "tags": [
     "skip-execution"
    ]
   },
   "outputs": [
    {
     "name": "stdout",
     "output_type": "stream",
     "text": [
      "[0.  0.1 0.2 0.3 0.4 0.5 0.6 0.7 0.8 0.9]\n"
     ]
    }
   ],
   "source": [
    "test_linspace_array = np.linspace(0,1,num=10,endpoint=False)\n",
    "print(test_linspace_array)"
   ]
  },
  {
   "cell_type": "code",
   "execution_count": 24,
   "id": "f2a8a899",
   "metadata": {
    "tags": [
     "skip-execution"
    ]
   },
   "outputs": [
    {
     "ename": "ValueError",
     "evalue": "operands could not be broadcast together with shapes (5,) (10,) ",
     "output_type": "error",
     "traceback": [
      "\u001b[0;31m---------------------------------------------------------------------------\u001b[0m",
      "\u001b[0;31mValueError\u001b[0m                                Traceback (most recent call last)",
      "Cell \u001b[0;32mIn[24], line 1\u001b[0m\n\u001b[0;32m----> 1\u001b[0m test_array \u001b[38;5;241m+\u001b[39m test_linspace_array\n",
      "\u001b[0;31mValueError\u001b[0m: operands could not be broadcast together with shapes (5,) (10,) "
     ]
    }
   ],
   "source": [
    "test_array + test_linspace_array"
   ]
  },
  {
   "cell_type": "markdown",
   "id": "bcc7758f",
   "metadata": {
    "editable": false
   },
   "source": [
    "We see that need to perform operations on arrays with similiar shapes"
   ]
  },
  {
   "cell_type": "markdown",
   "id": "ea79a937",
   "metadata": {
    "editable": false
   },
   "source": [
    "### np functions and broadcasting\n",
    "\n",
    "Many numpy function will automatically broadcast depending on the shape of your input"
   ]
  },
  {
   "cell_type": "code",
   "execution_count": 25,
   "id": "2222eeb7",
   "metadata": {
    "tags": [
     "skip-execution"
    ]
   },
   "outputs": [
    {
     "data": {
      "text/plain": [
       "1.0"
      ]
     },
     "execution_count": 25,
     "metadata": {},
     "output_type": "execute_result"
    }
   ],
   "source": [
    "np.sin(np.pi/2)"
   ]
  },
  {
   "cell_type": "code",
   "execution_count": 26,
   "id": "d2ade0db",
   "metadata": {
    "tags": [
     "skip-execution"
    ]
   },
   "outputs": [
    {
     "name": "stdout",
     "output_type": "stream",
     "text": [
      "(10,)\n",
      "[0.         0.30901699 0.58778525 0.80901699 0.95105652 1.\n",
      " 0.95105652 0.80901699 0.58778525 0.30901699]\n"
     ]
    }
   ],
   "source": [
    "test_linspace_array = np.linspace(0,1,num=10,endpoint=False)\n",
    "print(test_linspace_array.shape)\n",
    "\n",
    "print(np.sin(np.pi * test_linspace_array))"
   ]
  },
  {
   "cell_type": "markdown",
   "id": "ebf2d4bf",
   "metadata": {
    "editable": false
   },
   "source": [
    "## Plotting arrays\n",
    "\n",
    "To plot, we can use the `plt.plot(x_array,y_array)`\n",
    "\n",
    "We can also add a title and axis labels using `plt.title()`, `plt.xlabel()` and `plt.ylable()`"
   ]
  },
  {
   "cell_type": "code",
   "execution_count": 29,
   "id": "7e108814",
   "metadata": {
    "tags": [
     "skip-execution"
    ]
   },
   "outputs": [
    {
     "data": {
      "text/plain": [
       "Text(0, 0.5, 'amplitude (a.u.)')"
      ]
     },
     "execution_count": 29,
     "metadata": {},
     "output_type": "execute_result"
    },
    {
     "data": {
      "image/png": "[encoded data removed]",
      "text/plain": [
       "<Figure size 640x480 with 1 Axes>"
      ]
     },
     "metadata": {},
     "output_type": "display_data"
    }
   ],
   "source": [
    "t = np.linspace(0,2*np.pi,num=20,endpoint=False)\n",
    "y = np.sin(t)\n",
    "\n",
    "plt.plot(t,y) # line plot\n",
    "#plt.scatter(t,y) #scatter plot\n",
    "plt.title('Example Sine curve')\n",
    "plt.xlabel('time (s)')\n",
    "plt.ylabel('amplitude (a.u.)')"
   ]
  },
  {
   "cell_type": "code",
   "execution_count": null,
   "id": "cc3eecb3",
   "metadata": {},
   "outputs": [],
   "source": [
    "\n"
   ]
  }
 ],
 "metadata": {
  "kernelspec": {
   "display_name": "engr131",
   "language": "python",
   "name": "engr131"
  },
  "language_info": {
   "codemirror_mode": {
    "name": "ipython",
    "version": 3
   },
   "file_extension": ".py",
   "mimetype": "text/x-python",
   "name": "python",
   "nbconvert_exporter": "python",
   "pygments_lexer": "ipython3",
   "version": "3.11.8"
  },
  "vscode": {
   "interpreter": {
    "hash": "31f2aee4e71d21fbe5cf8b01ff0e069b9275f58929596ceb00d14d90e3e16cd6"
   }
  }
 },
 "nbformat": 4,
 "nbformat_minor": 5
}