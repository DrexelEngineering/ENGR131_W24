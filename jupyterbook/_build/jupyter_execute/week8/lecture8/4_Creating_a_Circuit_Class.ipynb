{
 "cells": [
  {
   "attachments": {},
   "cell_type": "markdown",
   "metadata": {
    "slideshow": {
     "slide_type": "slide"
    }
   },
   "source": [
    "# 📝 Creating a Class for Storing and Operating on Information\n",
    "\n",
    "- Classes allow for both storing and operating on information.\n"
   ]
  },
  {
   "attachments": {},
   "cell_type": "markdown",
   "metadata": {
    "slideshow": {
     "slide_type": "fragment"
    }
   },
   "source": [
    "- This allows you to build scaffolding that supports information, functions, and methods in ways that can be written once and reused.\n"
   ]
  },
  {
   "cell_type": "markdown",
   "metadata": {
    "slideshow": {
     "slide_type": "subslide"
    }
   },
   "source": [
    "## Revisiting Circuits with Classes\n"
   ]
  },
  {
   "attachments": {},
   "cell_type": "markdown",
   "metadata": {
    "slideshow": {
     "slide_type": "fragment"
    }
   },
   "source": [
    "As you learn more, you can start to appreciate things you have seen before in new ways. Let's return to the examples we did last week with circuits but use a class.\n"
   ]
  },
  {
   "cell_type": "markdown",
   "metadata": {
    "slideshow": {
     "slide_type": "fragment"
    }
   },
   "source": [
    "1. Let's build a class for a series type circuit called `SeriesCircuit` that \n",
    "- holds information about a circuit with resistors in series and \n",
    "- calculates the total resistance, current, and voltages across each resistor.\n"
   ]
  },
  {
   "cell_type": "code",
   "execution_count": null,
   "metadata": {
    "slideshow": {
     "slide_type": "fragment"
    },
    "tags": [
     "skip-execution"
    ]
   },
   "outputs": [],
   "source": [
    "class SeriesCircuit:\n",
    "\n",
    "    # create a constructor for the SeriesCircuit class\n",
    "    def __init__(self):\n",
    "        self.components = []  # List to store resistances of the circuit components\n",
    "\n"
   ]
  },
  {
   "cell_type": "markdown",
   "metadata": {},
   "source": [
    "2. Let's create a method that allows the resistance of each resistor to be associated with the circuit."
   ]
  },
  {
   "cell_type": "code",
   "execution_count": null,
   "metadata": {
    "tags": [
     "skip-execution"
    ]
   },
   "outputs": [],
   "source": [
    "class SeriesCircuit:\n",
    "\n",
    "    # create a constructor for the SeriesCircuit class\n",
    "    def __init__(self):\n",
    "        self.components = []  # List to store resistances of the circuit components\n",
    "\n",
    "    # create a method that adds a resistor to an instantiation of the SeriesCircuit class\n",
    "    def add_resistor(self, resistance):\n",
    "        \"\"\"Add a resistor to the circuit.\"\"\"\n",
    "        self.components.append(resistance)"
   ]
  },
  {
   "attachments": {},
   "cell_type": "markdown",
   "metadata": {
    "slideshow": {
     "slide_type": "subslide"
    }
   },
   "source": [
    "3. Let's add a method to the class to calculate the total resistance\n"
   ]
  },
  {
   "cell_type": "code",
   "execution_count": null,
   "metadata": {
    "slideshow": {
     "slide_type": "fragment"
    },
    "tags": [
     "skip-execution"
    ]
   },
   "outputs": [],
   "source": [
    "class SeriesCircuit:\n",
    "\n",
    "    # create a constructor for the SeriesCircuit class\n",
    "    def __init__(self):\n",
    "        self.components = []  # List to store resistances of the circuit components\n",
    "\n",
    "    # create a method that adds a resistor to an instantiation of the SeriesCircuit class\n",
    "    def add_resistor(self, resistance):\n",
    "        \"\"\"Add a resistor to the circuit.\"\"\"\n",
    "        self.components.append(resistance)\n",
    "\n",
    "    # create a method that sums the list `components` of an instantiation of the SeriesCircuit class\n",
    "    def total_resistance(self):\n",
    "        \"\"\"Calculate the total resistance in the circuit.\"\"\"\n",
    "        return sum(self.components)"
   ]
  },
  {
   "attachments": {},
   "cell_type": "markdown",
   "metadata": {
    "slideshow": {
     "slide_type": "subslide"
    },
    "tags": [
     "skip-execution"
    ]
   },
   "source": [
    "4. We can also add methods that calculate the current flowing through the circuit or the voltage across each resistor."
   ]
  },
  {
   "cell_type": "code",
   "execution_count": null,
   "metadata": {
    "slideshow": {
     "slide_type": "fragment"
    },
    "tags": [
     "skip-execution"
    ]
   },
   "outputs": [],
   "source": [
    "class SeriesCircuit:\n",
    "\n",
    "    # create a constructor for the SeriesCircuit class\n",
    "    def __init__(self):\n",
    "        self.components = []  # List to store resistances of the circuit components\n",
    "\n",
    "    # create a method that adds a resistor to an instantiation of the SeriesCircuit class\n",
    "    def add_resistor(self, resistance):\n",
    "        \"\"\"Add a resistor to the circuit.\"\"\"\n",
    "        self.components.append(resistance)\n",
    "\n",
    "    # create a method that sums the list `components` of an instantiation of the SeriesCircuit class\n",
    "    def total_resistance(self):\n",
    "        \"\"\"Calculate the total resistance in the circuit.\"\"\"\n",
    "        return sum(self.components)\n",
    "\n",
    "    # create a method that calculates the current flowing through an instantiation of the SeriesCircuit class\n",
    "    def circuit_current(self, voltage):\n",
    "        \"\"\"Calculate the current flowing through the circuit given a voltage source.\"\"\"\n",
    "        total_r = self.total_resistance()\n",
    "        if total_r > 0:\n",
    "            return voltage / total_r\n",
    "        else:\n",
    "            return 0\n",
    "\n",
    "    # create a method that calculates the voltage across each resistor an instantiation of the SeriesCircuit class\n",
    "    def component_voltages(self, voltage):\n",
    "        \"\"\"Calculate the voltage across each resistor in the series circuit.\"\"\"\n",
    "        current = self.circuit_current(voltage)\n",
    "        return [current * r for r in self.components]"
   ]
  },
  {
   "attachments": {},
   "cell_type": "markdown",
   "metadata": {
    "slideshow": {
     "slide_type": "subslide"
    }
   },
   "source": [
    "5. We can now use this class to revisit the circuit with 9 volts of energy and three different resistors in series that we considered with nested lists last week. \n",
    "\n",
    "![image](https://www.allaboutcircuits.com/uploads/thumbnails/Figure_1._Series_circuit_with_a_battery_and_three_resistors__.jpg)\n"
   ]
  },
  {
   "cell_type": "code",
   "execution_count": null,
   "metadata": {
    "slideshow": {
     "slide_type": "fragment"
    },
    "tags": [
     "skip-execution"
    ]
   },
   "outputs": [],
   "source": [
    "# instantiate the class\n",
    "circuit = SeriesCircuit()\n",
    "\n",
    "# use the add_resistor method to construct the circuit\n",
    "circuit.add_resistor(3000)  # Add a 3000 ohm resistor\n",
    "circuit.add_resistor(10000)  # Add a 10000 ohm resistor\n",
    "circuit.add_resistor(5000)   # Add a 5000 ohm resistor\n"
   ]
  },
  {
   "cell_type": "code",
   "execution_count": null,
   "metadata": {
    "tags": [
     "skip-execution"
    ]
   },
   "outputs": [],
   "source": [
    "# apply the total_resistance method to the instantiation of the class\n",
    "total_resistance = circuit.total_resistance()\n",
    "print(f\"Total Resistance: {total_resistance} Ohms\")\n",
    "\n",
    "# apply the circuit_current method to the instantiation of the class\n",
    "voltage_source = 9  # 9V voltage source\n",
    "current = circuit.circuit_current(voltage_source)\n",
    "print(f\"Circuit Current: {current} A\")\n",
    "\n",
    "# apply the component_voltages method to the instantiation of the class\n",
    "voltages = circuit.component_voltages(voltage_source)\n",
    "print(f\"Voltages across each component: {voltages}\")\n"
   ]
  }
 ],
 "metadata": {
  "celltoolbar": "Slideshow",
  "kernelspec": {
   "display_name": "Python 3 (ipykernel)",
   "language": "python",
   "name": "python3"
  },
  "language_info": {
   "codemirror_mode": {
    "name": "ipython",
    "version": 3
   },
   "file_extension": ".py",
   "mimetype": "text/x-python",
   "name": "python",
   "nbconvert_exporter": "python",
   "pygments_lexer": "ipython3",
   "version": "3.11.8"
  }
 },
 "nbformat": 4,
 "nbformat_minor": 2
}