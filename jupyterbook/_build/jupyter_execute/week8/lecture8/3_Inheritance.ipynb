{
 "cells": [
  {
   "attachments": {},
   "cell_type": "markdown",
   "metadata": {},
   "source": [
    "# 📝 Inheritance\n",
    "\n",
    "- Inheritance allows one class to inherit properties from another class.\n"
   ]
  },
  {
   "attachments": {},
   "cell_type": "markdown",
   "metadata": {},
   "source": [
    "- It is usually referred to as child and parent classes.\n"
   ]
  },
  {
   "attachments": {},
   "cell_type": "markdown",
   "metadata": {},
   "source": [
    "- It allows you to better represent real-world relationships.\n"
   ]
  },
  {
   "attachments": {},
   "cell_type": "markdown",
   "metadata": {},
   "source": [
    "- Code can become much more reusable.\n"
   ]
  },
  {
   "attachments": {},
   "cell_type": "markdown",
   "metadata": {},
   "source": [
    "- It is transitive meaning that if Class B inherits from Class A then subclasses of Class B would also inherit from Class A.\n"
   ]
  },
  {
   "cell_type": "markdown",
   "metadata": {},
   "source": [
    "#### Inheritance Example\n"
   ]
  },
  {
   "cell_type": "markdown",
   "metadata": {},
   "source": [
    "```{admonition} Syntax\n",
    "Class BaseClass:\n",
    "    {Body}\n",
    "Class DerivedClass(BaseClass):\n",
    "    {Body}\n",
    "```\n"
   ]
  },
  {
   "cell_type": "markdown",
   "metadata": {},
   "source": [
    "##### Step 1: Create a parent class with a method\n",
    "\n",
    "- Create a parent class named `Person` that defines a `name` and `age`\n",
    "- Add a Class method that prints the name and title\n"
   ]
  },
  {
   "cell_type": "code",
   "execution_count": 1,
   "metadata": {
    "tags": [
     "skip-execution"
    ]
   },
   "outputs": [],
   "source": [
    "class Person:\n",
    "\n",
    "    # Constructor\n",
    "    def __init__(self, name, age):\n",
    "        self.name = name\n",
    "        self.age = age\n",
    "\n",
    "    # To check if this person is an employee\n",
    "    def Display(self):\n",
    "        print(self.name, self.age)\n"
   ]
  },
  {
   "cell_type": "markdown",
   "metadata": {},
   "source": [
    "##### Testing\n"
   ]
  },
  {
   "cell_type": "code",
   "execution_count": 2,
   "metadata": {
    "tags": [
     "skip-execution"
    ]
   },
   "outputs": [
    {
     "name": "stdout",
     "output_type": "stream",
     "text": [
      "Darth Vader 56\n"
     ]
    }
   ],
   "source": [
    "jedi = Person(\"Darth Vader\", 56)\n",
    "jedi.Display()\n"
   ]
  },
  {
   "cell_type": "markdown",
   "metadata": {},
   "source": [
    "#### Step 2: Creating a Child Class;\n",
    "\n",
    "- Create a child class of `Person`, `Jedi` that has a method `Print` that prints `Jedi's use the force`\n"
   ]
  },
  {
   "cell_type": "code",
   "execution_count": 3,
   "metadata": {
    "tags": [
     "skip-execution"
    ]
   },
   "outputs": [],
   "source": [
    "class Jedi(Person):\n",
    "    def Print(self):\n",
    "        print(\"Jedi's use the force\")\n"
   ]
  },
  {
   "cell_type": "markdown",
   "metadata": {},
   "source": [
    "##### Testing\n"
   ]
  },
  {
   "cell_type": "code",
   "execution_count": 4,
   "metadata": {
    "tags": [
     "skip-execution"
    ]
   },
   "outputs": [
    {
     "name": "stdout",
     "output_type": "stream",
     "text": [
      "Darth Vader 56\n",
      "Jedi's use the force\n"
     ]
    }
   ],
   "source": [
    "# instantiate the parent class\n",
    "jedi_info = Jedi(\"Darth Vader\", 56)\n",
    "\n",
    "# calls the parent class\n",
    "jedi_info.Display()\n",
    "\n",
    "# calls the child class\n",
    "jedi_info.Print()\n"
   ]
  },
  {
   "attachments": {},
   "cell_type": "markdown",
   "metadata": {},
   "source": [
    "##### Step 3: Adding Inheritance\n",
    "\n",
    "- Starting with the base Class `Person` we can add a method to `getName` that returns the `name`\n",
    "- We can add a method `isAlliance` that establishes if the person is part of the Rebel Alliance, the default should be `False`\n",
    "- We can add a inherited child class `Alliance` that changes `isAlliance` to `True`\n"
   ]
  },
  {
   "cell_type": "code",
   "execution_count": 5,
   "metadata": {
    "tags": [
     "skip-execution"
    ]
   },
   "outputs": [],
   "source": [
    "class Person:\n",
    "\n",
    "    # Constructor\n",
    "    def __init__(self, name, age):\n",
    "        self.name = name\n",
    "        self.age = age\n",
    "\n",
    "    # Function that gets the name\n",
    "    def getName(self):\n",
    "        return self.name\n",
    "\n",
    "    # Function that returns if the person is part of the alliance\n",
    "    def isAlliance(self):\n",
    "        return False\n",
    "\n",
    "\n",
    "# Inherited child class\n",
    "class Alliance(Person):\n",
    "\n",
    "    # This will change the isAlliance class to True\n",
    "    def isAlliance(self):\n",
    "        return True\n"
   ]
  },
  {
   "cell_type": "markdown",
   "metadata": {},
   "source": [
    "##### Test\n"
   ]
  },
  {
   "cell_type": "code",
   "execution_count": 6,
   "metadata": {
    "tags": [
     "skip-execution"
    ]
   },
   "outputs": [
    {
     "name": "stdout",
     "output_type": "stream",
     "text": [
      "Darth Vader False\n",
      "Luke Skywalker True\n"
     ]
    }
   ],
   "source": [
    "darth_vader = Person(\"Darth Vader\", 56)\n",
    "print(darth_vader.getName(), darth_vader.isAlliance())\n",
    "\n",
    "luke_skywalker = Alliance(\"Luke Skywalker\", 21)\n",
    "print(luke_skywalker.getName(), luke_skywalker.isAlliance())\n"
   ]
  }
 ],
 "metadata": {
  "kernelspec": {
   "display_name": "otter",
   "language": "python",
   "name": "python3"
  },
  "language_info": {
   "codemirror_mode": {
    "name": "ipython",
    "version": 3
   },
   "file_extension": ".py",
   "mimetype": "text/x-python",
   "name": "python",
   "nbconvert_exporter": "python",
   "pygments_lexer": "ipython3",
   "version": "3.10.13"
  }
 },
 "nbformat": 4,
 "nbformat_minor": 2
}