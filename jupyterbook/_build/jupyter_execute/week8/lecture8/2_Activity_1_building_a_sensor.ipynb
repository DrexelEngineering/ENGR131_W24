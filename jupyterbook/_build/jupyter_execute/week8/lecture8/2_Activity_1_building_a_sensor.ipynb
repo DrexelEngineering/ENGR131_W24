{
 "cells": [
  {
   "cell_type": "markdown",
   "metadata": {
    "editable": false
   },
   "source": [
    "# 💻 Activity: Building a Sensor Class\n",
    "\n",
    "In manufacturing, you might be required to build software for a sensor. We will build a sensor with a name, a current value, a warning threshold, and alarm threshold. The sensor should return a string when the warning or alarm threshold is reached.\n",
    "\n",
    "We will provide you with guidance on how to build this class. As you progress with coding, it is expected that you are able to write functional code with objectives but without specific instructions. Please add code where the `...` are located\n"
   ]
  },
  {
   "cell_type": "code",
   "execution_count": null,
   "metadata": {
    "tags": [
     "skip-execution"
    ]
   },
   "outputs": [],
   "source": [
    "# Define the sensor class\n",
    "...:\n",
    "\n",
    "    # write a warning announcement `Warning: sensor reading is high!`\n",
    "    warning_announcement = ...\n",
    "\n",
    "    # build the init function this should instantiate the variables name, value warning_threshold, alarm threshold,\n",
    "    # alarm announcement\n",
    "    def ...:\n",
    "        ...\n",
    "\n",
    "    # build a method check value that will check if the value should cause a warning or an alarm.\n",
    "    # for the alarm announcement the alarm should print the current value with the alarm announcements\n",
    "    # if the alarm does not go off you should check if the sensor is above the warning threshold\n",
    "    # if this is true, you should print the warning message\n",
    "    # if there is no alarm you should print the value\n",
    "    def check_value(...):\n",
    "        ...\n"
   ]
  },
  {
   "cell_type": "code",
   "execution_count": null,
   "metadata": {
    "tags": [
     "skip-execution"
    ]
   },
   "outputs": [],
   "source": [
    "import time\n",
    "\n",
    "# Instantiate a temperature sensor\n",
    "# the current temperature should be 20, the warning temperature should be 30, and the max temperature should be 40\n",
    "# the alarm text should read ALARM: Temperature is too high!\n",
    "...\n",
    "\n",
    "# Make a loop that slowly increases the temperature from 20-50\n",
    "# For each iteration print the current temperature value\n",
    "# Call the function that checks if the sensor has a warning\n",
    "for ...:\n",
    "\n",
    "    ...\n",
    "\n",
    "    # This delays the loop so it does not go too fast\n",
    "    time.sleep(1)\n"
   ]
  },
  {
   "cell_type": "code",
   "execution_count": null,
   "metadata": {
    "tags": [
     "skip-execution"
    ]
   },
   "outputs": [],
   "source": []
  }
 ],
 "metadata": {
  "kernelspec": {
   "display_name": "Python 3 (ipykernel)",
   "language": "python",
   "name": "python3"
  },
  "language_info": {
   "codemirror_mode": {
    "name": "ipython",
    "version": 3
   },
   "file_extension": ".py",
   "mimetype": "text/x-python",
   "name": "python",
   "nbconvert_exporter": "python",
   "pygments_lexer": "ipython3",
   "version": "3.10.13"
  }
 },
 "nbformat": 4,
 "nbformat_minor": 2
}