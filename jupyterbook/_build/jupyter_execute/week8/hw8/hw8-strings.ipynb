{
 "cells": [
  {
   "cell_type": "code",
   "execution_count": null,
   "metadata": {
    "deletable": false,
    "editable": false,
    "tags": [
     "skip-execution"
    ]
   },
   "outputs": [],
   "source": [
    "# Initialize Otter\n",
    "import otter\n",
    "grader = otter.Notebook(\"hw8-strings.ipynb\")"
   ]
  },
  {
   "attachments": {},
   "cell_type": "markdown",
   "metadata": {
    "editable": false
   },
   "source": [
    "# Homework 8\n",
    "\n",
    "This assignment includes three problems on the topic of strings.\n",
    "\n"
   ]
  },
  {
   "cell_type": "markdown",
   "metadata": {
    "editable": false
   },
   "source": [
    "## Entering Your Information for Credit\n",
    "\n",
    "To receive credit for assignments it is important we can identify your work from others. To do this we will ask you to enter your information in the following code block.\n",
    "\n",
    "### Before you begin\n",
    "\n",
    "Run the block of code at the top of the notebook that imports and sets up the autograder. This will allow you to check your work. "
   ]
  },
  {
   "cell_type": "code",
   "execution_count": null,
   "metadata": {
    "tags": [
     "skip-execution"
    ]
   },
   "outputs": [],
   "source": [
    "# Please provide your first name, last name, Drexel ID, and Drexel email. Make sure these are provided as strings. \"STRINGS ARE TEXT ENCLOSED IN QUOTATION MARKS.\"\n",
    "\n",
    "# In the assignments you will see sections of code that you need to fill in that are marked with ... (three dots). Replace the ... with your code.\n",
    "first_name = ...\n",
    "last_name = ...\n",
    "drexel_id = ...\n",
    "drexel_email = ...\n"
   ]
  },
  {
   "cell_type": "code",
   "execution_count": null,
   "metadata": {
    "deletable": false,
    "editable": false,
    "tags": [
     "skip-execution"
    ]
   },
   "outputs": [],
   "source": [
    "grader.check(\"q0-Checking-Your-Name\")"
   ]
  },
  {
   "cell_type": "markdown",
   "metadata": {
    "deletable": false,
    "editable": false
   },
   "source": [
    "**Question 1: Remove non alpha characters** \n",
    "\n",
    "In this lab you will write a function which takes in a string and removes all of the non-alphabetic characters from it.\n",
    "\n",
    "Write python code to do the following:\n",
    "\n",
    "* Define a function called `remove_non_alpha` that takes an input string `s`\n",
    "* Loop through each character in the string, adding it to an output string if it is an alphabetic character.\n",
    "* Return the final string.\n",
    "\n",
    "\n",
    "Your code replaces the prompt:  `...`\n"
   ]
  },
  {
   "cell_type": "code",
   "execution_count": null,
   "metadata": {
    "tags": [
     "skip-execution"
    ]
   },
   "outputs": [],
   "source": [
    "..."
   ]
  },
  {
   "cell_type": "code",
   "execution_count": null,
   "metadata": {
    "deletable": false,
    "editable": false,
    "tags": [
     "skip-execution"
    ]
   },
   "outputs": [],
   "source": [
    "grader.check(\"q1-nonalpha\")"
   ]
  },
  {
   "cell_type": "markdown",
   "metadata": {
    "deletable": false,
    "editable": false
   },
   "source": [
    "**Question 2: Palindrome Detector** \n",
    "\n",
    "A palindrome is a word or a phrase that is the same when read both forward and backward. Examples are: \"bob,\" \"sees,\" or \"never odd or even\" (ignoring spaces). Write a program whose input is a word or phrase, and that outputs true if the input is a palindrome, otherwise false. In determining if a string is a palindrome, you should treat upper vs. lower case versions of characters as the same letter, and you may ignore all spaces. \n",
    "\n",
    "Write python code to do the following:\n",
    "\n",
    "* Define a function called is_palindrome that takes in one input parameter `x`.\n",
    "* Convert the string `x` to be all lower case.\n",
    "* Remove all spaces from string `x`. (Hint: use the string.`replace` method)\n",
    "* Loop through the characters of `x` to determine if it is palindromic\n",
    "\n",
    "Your code replaces the prompt:  `...`"
   ]
  },
  {
   "cell_type": "code",
   "execution_count": null,
   "metadata": {
    "tags": [
     "skip-execution"
    ]
   },
   "outputs": [],
   "source": [
    "...\n"
   ]
  },
  {
   "cell_type": "code",
   "execution_count": null,
   "metadata": {
    "deletable": false,
    "editable": false,
    "tags": [
     "skip-execution"
    ]
   },
   "outputs": [],
   "source": [
    "grader.check(\"q2-palindrome\")"
   ]
  },
  {
   "cell_type": "markdown",
   "metadata": {
    "deletable": false,
    "editable": false
   },
   "source": [
    "**Question 3: Count characters** \n",
    "\n",
    "Your task is to write a function that takes in a character and a string and retruns the count of how many times that character appears in the string.\n",
    "\n",
    "Write python code to do the following:\n",
    "\n",
    "* Define a function called ``count_characters`` which takes two arguments, a character `c`, and a string `s`\n",
    "* Your function should loop through the string and character by character, counting every time the character `c` is encountered\n",
    "* Return the total count, or `0` if the character `c` is not part of string `s`\n",
    "\n",
    "\n",
    "Your code replaces the prompt:  `...`\n"
   ]
  },
  {
   "cell_type": "code",
   "execution_count": null,
   "metadata": {
    "tags": [
     "skip-execution"
    ]
   },
   "outputs": [],
   "source": [
    "..."
   ]
  },
  {
   "cell_type": "code",
   "execution_count": null,
   "metadata": {
    "deletable": false,
    "editable": false,
    "tags": [
     "skip-execution"
    ]
   },
   "outputs": [],
   "source": [
    "grader.check(\"q3-countchars\")"
   ]
  },
  {
   "cell_type": "markdown",
   "metadata": {
    "editable": false
   },
   "source": [
    "## Submitting Your Assignment\n",
    "\n",
    "To submit your assignment please use the following link the assignment on GitHub classroom.\n",
    "   \n",
    "Use this [link](https://classroom.github.com/a/Zglxmfb4) to navigate to the assignment on GitHub classroom.\n",
    "\n",
    "If you need further instructions on submitting your assignment please look at Lab 1. \n",
    "\n",
    "## Viewing your score\n",
    "\n",
    "**It is your responsibility to ensure that your grade report shows correctly. We can only provide corrections to grades if a grading error is determined. If you do not receive a grade report your grade has not been recorded. It is your responsibility either resubmit the assignment correctly or contact the instructors before the assignment due date.**\n",
    "\n",
    "Each `.ipynb` file you have uploaded will have a file with the name of your file + `Grade_Report.md`. You can view this file by clicking on the file name. This will show you the results of the autograder. \n",
    "\n",
    "We have both public and hidden tests. You will be able to see the score of both tests, but not the specific details of why the test passed or failed. \n",
    "\n",
    "```{note}\n",
    "In python and particularly jupyter notebooks it is common that during testing you run cells in a different order, or run cells and modify them. This can cause there to be local variables needed for your solution that would not be recreated on running your code again from scratch. Your assignment will be graded based on running your code from scratch. This means before you submit your assignment you should restart the kernel and run all cells. You can do this by clicking `Kernel` and selecting `Restart and Run All`. If you code does not run as expected after restarting the kernel and running all cells it means you have an error in your code. \n",
    "```\n",
    "\n",
    "## Fin"
   ]
  }
 ],
 "metadata": {
  "kernelspec": {
   "display_name": "Python 3",
   "language": "python",
   "name": "python3"
  },
  "language_info": {
   "codemirror_mode": {
    "name": "ipython",
    "version": 3
   },
   "file_extension": ".py",
   "mimetype": "text/x-python",
   "name": "python",
   "nbconvert_exporter": "python",
   "pygments_lexer": "ipython3",
   "version": "3.11.8"
  },
  "otter": {
   "OK_FORMAT": true,
   "tests": {
    "q0-Checking-Your-Name": {
     "name": "q0-Checking-Your-Name",
     "points": null,
     "suites": [
      {
       "cases": [
        {
         "code": ">>> def get_local_part(email):\n...     return email.split('@')[0]\n>>> local_part_email = get_local_part(drexel_email)\n>>> assert local_part_email == drexel_id, f\"The DrexelID extracted from the email '{local_part_email}' does not match the Drexel ID '{drexel_id}'.\"\n",
         "failure_message": "It does not appear that you entered your information correctly. Please try again.",
         "hidden": false,
         "locked": false,
         "points": 0,
         "success_message": "You have entered your information correctly."
        }
       ],
       "scored": true,
       "setup": "",
       "teardown": "",
       "type": "doctest"
      }
     ]
    },
    "q1-nonalpha": {
     "name": "q1-nonalpha",
     "points": 8,
     "suites": [
      {
       "cases": [
        {
         "code": ">>> assert remove_non_alpha('Test1') == 'Test'\n",
         "hidden": false,
         "locked": false,
         "points": 1,
         "success_message": "remove_non_alpha(\"Test1\") is correct."
        },
        {
         "code": ">>> assert remove_non_alpha('2Te2st2') == 'Test'\n",
         "hidden": false,
         "locked": false,
         "points": 1,
         "success_message": "remove_non_alpha(\"2Te2st2\") is correct."
        },
        {
         "code": ">>> assert remove_non_alpha('abc123---xyz') == 'abcxyz'\n",
         "hidden": false,
         "locked": false,
         "points": 1,
         "success_message": "remove_non_alpha(\"abc123---xyz\") is correct."
        },
        {
         "code": ">>> assert remove_non_alpha('42!') == ''\n",
         "hidden": false,
         "locked": false,
         "points": 1,
         "success_message": "remove_non_alpha(\"42!\") is correct."
        },
        {
         "code": ">>> assert remove_non_alpha('same') == 'same'\n",
         "hidden": false,
         "locked": false,
         "points": 1,
         "success_message": "remove_non_alpha(\"same\") is correct."
        }
       ],
       "scored": true,
       "setup": "",
       "teardown": "",
       "type": "doctest"
      }
     ]
    },
    "q2-palindrome": {
     "name": "q2-palindrome",
     "points": null,
     "suites": [
      {
       "cases": [
        {
         "code": ">>> assert is_palindrome('0')\n",
         "hidden": false,
         "locked": false,
         "points": 1,
         "success_message": "is_palindrome(\"0\") is correct."
        },
        {
         "code": ">>> assert is_palindrome('bob')\n",
         "hidden": false,
         "locked": false,
         "points": 1,
         "success_message": "is_palindrome(\"bob\") is correct."
        },
        {
         "code": ">>> assert is_palindrome('RACE car')\n",
         "hidden": false,
         "locked": false,
         "points": 1,
         "success_message": "is_palindrome(\"RACE car\") is correct."
        },
        {
         "code": ">>> assert not is_palindrome('race! car!')\n",
         "hidden": false,
         "locked": false,
         "points": 1,
         "success_message": "is_palindrome(\"race! car!\") is correct."
        },
        {
         "code": ">>> assert not is_palindrome('ABC-DEF')\n",
         "hidden": false,
         "locked": false,
         "points": 1,
         "success_message": "is_palindrome(\"ABC-DEF\") is correct."
        }
       ],
       "scored": true,
       "setup": "",
       "teardown": "",
       "type": "doctest"
      }
     ]
    },
    "q3-countchars": {
     "name": "q3-countchars",
     "points": 5,
     "suites": [
      {
       "cases": [
        {
         "code": ">>> assert count_characters('h', 'hello') == 1\n",
         "hidden": false,
         "locked": false,
         "points": 1,
         "success_message": "count_characters(\"h\",\"hello\") is correct."
        },
        {
         "code": ">>> assert count_characters('l', 'hello') == 2\n",
         "hidden": false,
         "locked": false,
         "points": 1,
         "success_message": "count_characters(\"l\",\"hello\") is correct."
        },
        {
         "code": ">>> assert count_characters('a', 'testing') == 0\n",
         "hidden": false,
         "locked": false,
         "points": 1,
         "success_message": "count_characters(\"a\",\"testing\") is correct."
        },
        {
         "code": ">>> assert count_characters('b', 'aaabbbcccbbbaaa') == 6\n",
         "hidden": false,
         "locked": false,
         "points": 1,
         "success_message": "count_characters(\"b\",\"aaabbbcccbbbaaa\") is correct."
        },
        {
         "code": ">>> assert count_characters('b', 'a b c') == 1\n",
         "hidden": false,
         "locked": false,
         "points": 1,
         "success_message": "count_characters(\"b\",\"a b c\") is correct."
        }
       ],
       "scored": true,
       "setup": "",
       "teardown": "",
       "type": "doctest"
      }
     ]
    }
   }
  },
  "varInspector": {
   "cols": {
    "lenName": 16,
    "lenType": 16,
    "lenVar": 40
   },
   "kernels_config": {
    "python": {
     "delete_cmd_postfix": "",
     "delete_cmd_prefix": "del ",
     "library": "var_list.py",
     "varRefreshCmd": "print(var_dic_list())"
    },
    "r": {
     "delete_cmd_postfix": ") ",
     "delete_cmd_prefix": "rm(",
     "library": "var_list.r",
     "varRefreshCmd": "cat(var_dic_list()) "
    }
   },
   "types_to_exclude": [
    "module",
    "function",
    "builtin_function_or_method",
    "instance",
    "_Feature"
   ],
   "window_display": false
  },
  "vscode": {
   "interpreter": {
    "hash": "31f2aee4e71d21fbe5cf8b01ff0e069b9275f58929596ceb00d14d90e3e16cd6"
   }
  }
 },
 "nbformat": 4,
 "nbformat_minor": 4
}