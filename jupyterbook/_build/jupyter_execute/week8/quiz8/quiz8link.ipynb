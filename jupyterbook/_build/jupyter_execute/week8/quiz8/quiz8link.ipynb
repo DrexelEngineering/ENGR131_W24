{
 "cells": [
  {
   "cell_type": "markdown",
   "metadata": {},
   "source": [
    "# Quiz Link\n",
    "\n",
    "To start your quiz, please log into Wise by copying the following text and pasting it into a Chrome browser bar. \n",
    "\n",
    "https://online.wiseattend.com/student/testLink?c=ENGR131&k=9444\n",
    "\n",
    "Clicking on the link will not work. You must copy and paste the text into your Chrome browser bar. "
   ]
  },
  {
   "cell_type": "markdown",
   "metadata": {},
   "source": []
  }
 ],
 "metadata": {
  "language_info": {
   "name": "python"
  }
 },
 "nbformat": 4,
 "nbformat_minor": 2
}