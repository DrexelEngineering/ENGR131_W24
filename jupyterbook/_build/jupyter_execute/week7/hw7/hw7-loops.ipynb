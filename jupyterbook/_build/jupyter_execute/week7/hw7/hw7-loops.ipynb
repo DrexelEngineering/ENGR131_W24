{
 "cells": [
  {
   "cell_type": "code",
   "execution_count": 1,
   "metadata": {
    "deletable": false,
    "editable": false
   },
   "outputs": [
    {
     "ename": "ModuleNotFoundError",
     "evalue": "No module named 'otter'",
     "output_type": "error",
     "traceback": [
      "\u001b[0;31m---------------------------------------------------------------------------\u001b[0m",
      "\u001b[0;31mModuleNotFoundError\u001b[0m                       Traceback (most recent call last)",
      "Cell \u001b[0;32mIn[1], line 2\u001b[0m\n\u001b[1;32m      1\u001b[0m \u001b[38;5;66;03m# Initialize Otter\u001b[39;00m\n\u001b[0;32m----> 2\u001b[0m \u001b[38;5;28;01mimport\u001b[39;00m \u001b[38;5;21;01motter\u001b[39;00m\n\u001b[1;32m      3\u001b[0m grader \u001b[38;5;241m=\u001b[39m otter\u001b[38;5;241m.\u001b[39mNotebook(\u001b[38;5;124m\"\u001b[39m\u001b[38;5;124mhw7-loops.ipynb\u001b[39m\u001b[38;5;124m\"\u001b[39m)\n",
      "\u001b[0;31mModuleNotFoundError\u001b[0m: No module named 'otter'"
     ]
    }
   ],
   "source": [
    "# Initialize Otter\n",
    "import otter\n",
    "grader = otter.Notebook(\"hw7-loops.ipynb\")"
   ]
  },
  {
   "cell_type": "markdown",
   "metadata": {
    "editable": false
   },
   "source": [
    "# Homework 7 - Loops and Flow Control\n",
    "\n",
    "This assignment includes three problems on the topic of loops.\n",
    "\n"
   ]
  },
  {
   "cell_type": "markdown",
   "metadata": {
    "editable": false
   },
   "source": [
    "## Entering Your Information for Credit\n",
    "\n",
    "To receive credit for assignments it is important we can identify your work from others. To do this we will ask you to enter your information in the following code block.\n",
    "\n",
    "### Before you begin\n",
    "\n",
    "Run the block of code at the top of the notebook that imports and sets up the autograder. This will allow you to check your work. "
   ]
  },
  {
   "cell_type": "code",
   "execution_count": null,
   "metadata": {
    "tags": []
   },
   "outputs": [],
   "source": [
    "# Please provide your first name, last name, Drexel ID, and Drexel email. Make sure these are provided as strings. \"STRINGS ARE TEXT ENCLOSED IN QUOTATION MARKS.\"\n",
    "\n",
    "# In the assignments you will see sections of code that you need to fill in that are marked with ... (three dots). Replace the ... with your code.\n",
    "first_name = ...\n",
    "last_name = ...\n",
    "drexel_id = ...\n",
    "drexel_email = ...\n"
   ]
  },
  {
   "cell_type": "code",
   "execution_count": null,
   "metadata": {
    "deletable": false,
    "editable": false,
    "tags": [
     "skip-execution"
    ]
   },
   "outputs": [],
   "source": [
    "grader.check(\"q0-Checking-Your-Name\")"
   ]
  },
  {
   "cell_type": "markdown",
   "metadata": {
    "deletable": false,
    "editable": false
   },
   "source": [
    "**Question 1: Fibonacci Sequence** \n",
    "\n",
    "Fibonacci was born sometime around 1170 in the Kingdom of Pisa in what is now Italy. The sequences we now refer to as Fibonacci sequences first appeared in his treatise *Liber Abaci* from 1202 as a model of how rabbit populations grow.\n",
    "\n",
    "A Fibonacci sequence is a list of integers in which the $n\\text{th}$ entry $x_n$ is computed from:\n",
    "\n",
    "$$ x_n = x_{n-1} + x_{n-2} $$\n",
    "\n",
    "To initiate a Fibbonaci sequence, one must provide values for $x_0$ and $x_1$. \n",
    "\n",
    "For example, if $x_0 = 0$ and $x_1 = 1$, the first 10 terms of the sequence are:\n",
    "\n",
    "$$ 0, 1, 1, 2, 3, 5, 8, 13, 21, 34 $$\n",
    "\n",
    "Your task is to implement a function that takes in two starting values and a length and returns the resulting Fibonacci sequence.\n",
    "\n",
    "\n",
    "Write python code to do the following:\n",
    "\n",
    "* Define a function called `fibonacci` which accepts 3 input arguments: two starting values `x0` and `x1`, and a sequence length `L`\n",
    "* Your function should return a list containing the first `L` fibonacci numbers starting with `x0` and `x1`\n",
    "* You may assume the value `L >= 2`\n",
    "\n",
    "Your code replaces the prompt:  `...`"
   ]
  },
  {
   "cell_type": "code",
   "execution_count": null,
   "metadata": {
    "tags": []
   },
   "outputs": [],
   "source": [
    "...\n"
   ]
  },
  {
   "cell_type": "code",
   "execution_count": null,
   "metadata": {
    "deletable": false,
    "editable": false,
    "tags": [
     "skip-execution"
    ]
   },
   "outputs": [],
   "source": [
    "grader.check(\"q1-fibonacci\")"
   ]
  },
  {
   "cell_type": "markdown",
   "metadata": {
    "deletable": false,
    "editable": false
   },
   "source": [
    "**Question 2: Brute-Force Equation Solver** \n",
    "\n",
    "Numerous engineering and scientific applications require finding solutions to a set of equations. For example, the following system of equations:\n",
    "\n",
    "$$ 8x + 7y = 38 $$  \n",
    "$$3x - 5y = -1 $$ \n",
    "\n",
    "have a solution: $ x = 3$, $y = 2$. \n",
    "\n",
    "You will implement a function that acts as a simple equation solver. For systems of equations of the form:\n",
    "\n",
    "$$ ax + by = c $$  \n",
    "$$ dx + ey = f $$ \n",
    "\n",
    "You will use the following brute-force algorithm to find an integer solution for x and y in the range $[-10, 10]$ (if such a solution exists):\n"
   ]
  },
  {
   "cell_type": "raw",
   "metadata": {
    "deletable": false,
    "editable": false
   },
   "source": [
    "For every value of x from -10 to 10 (inclusive)\n",
    "   For every value of y from -10 to 10 (inclusive)\n",
    "      Check if the current x and y satisfy both equations. If so, return the solution, and finish.\n",
    "If no solution was found, return the string \"no solution found\"."
   ]
  },
  {
   "cell_type": "markdown",
   "metadata": {
    "deletable": false,
    "editable": false
   },
   "source": [
    "Notes:\n",
    "- You may assume that if a solution exists, there is only one solution. Your function should return the first solution found using the algorithm outlined above\n",
    "- Elegant mathematical techniques exist to solve such linear equations. However, for other kinds of equations or situations, brute-force approaches can be handy.\n",
    "\n",
    "Write python code to do the following:\n",
    "\n",
    "* Define a function called ``eq_solver`` which accepts 6 input arguments, `a`, `b`, `c`, `d`, `e`, and `f` the coefficients for two equations\n",
    "* Your function should return a tuple of integers, containing solution values for ($x$,$y$)\n",
    "* If no solution was found, your function should return a string: `\"no solution found\"`\n",
    "\n",
    "\n",
    "Your code replaces the prompt:  `...`"
   ]
  },
  {
   "cell_type": "code",
   "execution_count": null,
   "metadata": {
    "tags": []
   },
   "outputs": [],
   "source": [
    "..."
   ]
  },
  {
   "cell_type": "code",
   "execution_count": null,
   "metadata": {
    "deletable": false,
    "editable": false,
    "tags": [
     "skip-execution"
    ]
   },
   "outputs": [],
   "source": [
    "grader.check(\"q2-equation-solver\")"
   ]
  },
  {
   "cell_type": "markdown",
   "metadata": {
    "deletable": false,
    "editable": false
   },
   "source": [
    "**Question 3: Convert to Binary** \n",
    "\n",
    "A natural number's binary representation tell which powers of $2$ sum to produce the number. \n",
    "\n",
    "For instance: \n",
    "$6$ in binary is $110$, since: $$ 6 = (1)2^2 + (1)2^1 + (0)2^0 $$\n",
    "\n",
    "($110$ are the coefficients of the descending powers of $2$.)\n",
    "\n",
    "Your task is to write a function that takes in a positive integer and returns a string containing its binary representation. The following algorithm can be used to generate a natural number's binary representation:"
   ]
  },
  {
   "cell_type": "raw",
   "metadata": {
    "deletable": false,
    "editable": false
   },
   "source": [
    "As long as x is greater than 0\n",
    "   Add x modulo 2 as the leftmost bit\n",
    "   Assign x with x divided by 2 (integer division)"
   ]
  },
  {
   "cell_type": "markdown",
   "metadata": {
    "deletable": false,
    "editable": false
   },
   "source": [
    "Reminders:\n",
    "- \"x modulo 2\", written in python as `x % 2`, returns the remainder when dividing by two, either 0 or 1\n",
    "- Integer division written in python as, `x // 2`, truncates any remainder. \n",
    "    - For example `5 // 2 = 2` since the remainder is truncated\n",
    "- Use `str()` to convert a number to a string\n",
    "\n",
    "Write python code to do the following:\n",
    "\n",
    "* Define a function called `to_binary` that takes an input positive integer `x`\n",
    "* Using the algorithm described in pseudocode above, compute the binary representation of `x`\n",
    "* Return the binary as a string of `\"1\"`s and `\"0\"`s\n",
    "\n",
    "\n",
    "Your code replaces the prompt:  `...`"
   ]
  },
  {
   "cell_type": "code",
   "execution_count": null,
   "metadata": {
    "tags": []
   },
   "outputs": [],
   "source": [
    "..."
   ]
  },
  {
   "cell_type": "code",
   "execution_count": null,
   "metadata": {
    "deletable": false,
    "editable": false,
    "tags": [
     "skip-execution"
    ]
   },
   "outputs": [],
   "source": [
    "grader.check(\"q3-binary\")"
   ]
  },
  {
   "cell_type": "markdown",
   "metadata": {
    "editable": false
   },
   "source": [
    "## Submitting Your Assignment\n",
    "\n",
    "To submit your assignment please use the following link the assignment on GitHub classroom.\n",
    "   \n",
    "Use this [link](https://classroom.github.com/a/LPV_1QCt) to navigate to the assignment on GitHub classroom.\n",
    "\n",
    "If you need further instructions on submitting your assignment please look at Lab 1. \n",
    "\n",
    "## Viewing your score\n",
    "\n",
    "**It is your responsibility to ensure that your grade report shows correctly. We can only provide corrections to grades if a grading error is determined. If you do not receive a grade report your grade has not been recorded. It is your responsibility either resubmit the assignment correctly or contact the instructors before the assignment due date.**\n",
    "\n",
    "Each `.ipynb` file you have uploaded will have a file with the name of your file + `Grade_Report.md`. You can view this file by clicking on the file name. This will show you the results of the autograder. \n",
    "\n",
    "We have both public and hidden tests. You will be able to see the score of both tests, but not the specific details of why the test passed or failed. \n",
    "\n",
    "```{note}\n",
    "In python and particularly jupyter notebooks it is common that during testing you run cells in a different order, or run cells and modify them. This can cause there to be local variables needed for your solution that would not be recreated on running your code again from scratch. Your assignment will be graded based on running your code from scratch. This means before you submit your assignment you should restart the kernel and run all cells. You can do this by clicking `Kernel` and selecting `Restart and Run All`. If you code does not run as expected after restarting the kernel and running all cells it means you have an error in your code. \n",
    "```\n",
    "\n",
    "## Fin"
   ]
  }
 ],
 "metadata": {
  "kernelspec": {
   "display_name": "Python 3.10.4 ('engr131')",
   "language": "python",
   "name": "python3"
  },
  "language_info": {
   "codemirror_mode": {
    "name": "ipython",
    "version": 3
   },
   "file_extension": ".py",
   "mimetype": "text/x-python",
   "name": "python",
   "nbconvert_exporter": "python",
   "pygments_lexer": "ipython3",
   "version": "3.11.8"
  },
  "otter": {
   "OK_FORMAT": true,
   "tests": {
    "q0-Checking-Your-Name": {
     "name": "q0-Checking-Your-Name",
     "points": null,
     "suites": [
      {
       "cases": [
        {
         "code": ">>> def get_local_part(email):\n...     return email.split('@')[0]\n>>> local_part_email = get_local_part(drexel_email)\n>>> assert local_part_email == drexel_id, f\"The DrexelID extracted from the email '{local_part_email}' does not match the Drexel ID '{drexel_id}'.\"\n",
         "failure_message": "It does not appear that you entered your information correctly. Please try again.",
         "hidden": false,
         "locked": false,
         "points": 0,
         "success_message": "You have entered your information correctly."
        }
       ],
       "scored": true,
       "setup": "",
       "teardown": "",
       "type": "doctest"
      }
     ]
    },
    "q1-fibonacci": {
     "name": "q1-fibonacci",
     "points": null,
     "suites": [
      {
       "cases": [
        {
         "code": ">>> assert fibonacci(0, 1, 10) == [0, 1, 1, 2, 3, 5, 8, 13, 21, 34]\n",
         "hidden": false,
         "locked": false,
         "points": 1,
         "success_message": "fibonacci(0,1,10) is correct."
        },
        {
         "code": ">>> assert fibonacci(1, 0, 10) == [1, 0, 1, 1, 2, 3, 5, 8, 13, 21]\n",
         "hidden": false,
         "locked": false,
         "points": 1,
         "success_message": "fibonacci(1,0,10) is correct."
        },
        {
         "code": ">>> assert fibonacci(-1, -2, 20) == [-1, -2, -3, -5, -8, -13, -21, -34, -55, -89, -144, -233, -377, -610, -987, -1597, -2584, -4181, -6765, -10946]\n",
         "hidden": false,
         "locked": false,
         "points": 1,
         "success_message": "fibonacci(-1,-2,20) is correct."
        },
        {
         "code": ">>> assert fibonacci(3, 7, 25) == [3, 7, 10, 17, 27, 44, 71, 115, 186, 301, 487, 788, 1275, 2063, 3338, 5401, 8739, 14140, 22879, 37019, 59898, 96917, 156815, 253732, 410547]\n",
         "hidden": false,
         "locked": false,
         "points": 1,
         "success_message": "fibonacci(3,7,25) is correct."
        },
        {
         "code": ">>> assert fibonacci(-1, 1, 5) == [-1, 1, 0, 1, 1]\n",
         "hidden": false,
         "locked": false,
         "points": 1,
         "success_message": "fibonacci(-1,1,5) is correct."
        }
       ],
       "scored": true,
       "setup": "",
       "teardown": "",
       "type": "doctest"
      }
     ]
    },
    "q2-equation-solver": {
     "name": "q2-equation-solver",
     "points": 5,
     "suites": [
      {
       "cases": [
        {
         "code": ">>> assert eq_solver(8, 7, 38, 3, -5, -1) == (3, 2)\n",
         "hidden": false,
         "locked": false,
         "points": 1,
         "success_message": "eq_solver(8,7,38,3,-5,-1) is correct."
        },
        {
         "code": ">>> assert eq_solver(1, -1, 6, 1, 1, 8) == (7, 1)\n",
         "hidden": false,
         "locked": false,
         "points": 1,
         "success_message": "eq_solver(1,-1,6,1,1,8) is correct."
        },
        {
         "code": ">>> assert eq_solver(3, 3, 0, 7, 9, -2) == (1, -1)\n",
         "hidden": false,
         "locked": false,
         "points": 1,
         "success_message": "eq_solver(3,3,0,7,9,-2) is correct."
        },
        {
         "code": ">>> assert eq_solver(5, 2, 3, 4, 2, 9) == 'no solution found'\n",
         "hidden": false,
         "locked": false,
         "points": 1,
         "success_message": "eq_solver(5,2,3,4,2,9) is correct."
        },
        {
         "code": ">>> assert eq_solver(3, 3, -15, -2, -4, 2) == (-9, 4)\n",
         "hidden": false,
         "locked": false,
         "points": 1,
         "success_message": "eq_solver(5,2,3,4,2,9) is correct."
        }
       ],
       "scored": true,
       "setup": "",
       "teardown": "",
       "type": "doctest"
      }
     ]
    },
    "q3-binary": {
     "name": "q3-binary",
     "points": 8,
     "suites": [
      {
       "cases": [
        {
         "code": ">>> assert to_binary(6) == '110'\n",
         "hidden": false,
         "locked": false,
         "points": 1,
         "success_message": "to_binary(6) is correct."
        },
        {
         "code": ">>> assert to_binary(13) == '1101'\n",
         "hidden": false,
         "locked": false,
         "points": 1,
         "success_message": "to_binary(13) is correct."
        },
        {
         "code": ">>> assert to_binary(2) == '10'\n",
         "hidden": false,
         "locked": false,
         "points": 1,
         "success_message": "to_binary(2) is correct."
        },
        {
         "code": ">>> assert to_binary(19) == '10011'\n",
         "hidden": false,
         "locked": false,
         "points": 1,
         "success_message": "to_binary(19) is correct."
        },
        {
         "code": ">>> assert to_binary(255) == '11111111'\n",
         "hidden": false,
         "locked": false,
         "points": 1,
         "success_message": "to_binary(255) is correct."
        }
       ],
       "scored": true,
       "setup": "",
       "teardown": "",
       "type": "doctest"
      }
     ]
    }
   }
  },
  "varInspector": {
   "cols": {
    "lenName": 16,
    "lenType": 16,
    "lenVar": 40
   },
   "kernels_config": {
    "python": {
     "delete_cmd_postfix": "",
     "delete_cmd_prefix": "del ",
     "library": "var_list.py",
     "varRefreshCmd": "print(var_dic_list())"
    },
    "r": {
     "delete_cmd_postfix": ") ",
     "delete_cmd_prefix": "rm(",
     "library": "var_list.r",
     "varRefreshCmd": "cat(var_dic_list()) "
    }
   },
   "types_to_exclude": [
    "module",
    "function",
    "builtin_function_or_method",
    "instance",
    "_Feature"
   ],
   "window_display": false
  },
  "vscode": {
   "interpreter": {
    "hash": "513b23069d29a61750765eb13a612a21c520ffec067bf4e4e6fd69787237414d"
   }
  }
 },
 "nbformat": 4,
 "nbformat_minor": 4
}