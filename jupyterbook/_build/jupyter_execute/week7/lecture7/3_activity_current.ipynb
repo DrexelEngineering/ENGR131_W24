{
 "cells": [
  {
   "attachments": {},
   "cell_type": "markdown",
   "metadata": {
    "slideshow": {
     "slide_type": "slide"
    }
   },
   "source": [
    "# 💻 Activity: Accessing Items in a List\n"
   ]
  },
  {
   "attachments": {},
   "cell_type": "markdown",
   "metadata": {},
   "source": [
    "## Consider a Circuit with Resistors in Parallel\n",
    "\n",
    "Let's use a circuit with 9 volts of energy and three different resistors in parallel. \n",
    "\n",
    "![image](https://www.allaboutcircuits.com/uploads/thumbnails/Figure_1._Parallel_circuit_with_a_battery_and_three_resistors_.jpg)\n",
    "\n",
    "Let's use nested lists to store information about the circuit."
   ]
  },
  {
   "cell_type": "code",
   "execution_count": 14,
   "metadata": {
    "slideshow": {
     "slide_type": "subslide"
    },
    "tags": [
     "skip-execution"
    ]
   },
   "outputs": [],
   "source": [
    "# create each list individually before nesting\n",
    "r1 = ...\n",
    "r2 = ...\n",
    "r3 = ...\n",
    "\n",
    "# make a nested list of the resistors in the circuit\n",
    "circuitParallel = [r1, r2, r3]\n"
   ]
  },
  {
   "attachments": {},
   "cell_type": "markdown",
   "metadata": {
    "slideshow": {
     "slide_type": "fragment"
    }
   },
   "source": [
    "Ohm's Law is still applicable but to each of the parallel loops.\n",
    "\n",
    "Ohm's Law shows that the voltage (E) is equal to current (I) multiplied by resistance (R).\n",
    "\n",
    "$E = IR$\n",
    "\n",
    "Apply Ohm's Law to determine the current through each resistor."
   ]
  },
  {
   "cell_type": "code",
   "execution_count": null,
   "metadata": {
    "slideshow": {
     "slide_type": "fragment"
    },
    "tags": [
     "skip-execution"
    ]
   },
   "outputs": [],
   "source": [
    "# voltage through the circuit\n",
    "E = 9\n",
    "\n",
    "# current through first resistor\n",
    "...\n",
    "\n",
    "# current through the second resistor\n",
    "...\n",
    "\n",
    "# current through the third resistor\n",
    "...\n"
   ]
  },
  {
   "attachments": {},
   "cell_type": "markdown",
   "metadata": {},
   "source": [
    "For a parallel circuit, the total current is the sum of the current across all of the resistors. \n",
    "\n",
    "In the  next cell, sum the current across the resistors *using a `for` loop to access the items in `circuitParallel`*.\n"
   ]
  },
  {
   "cell_type": "code",
   "execution_count": null,
   "metadata": {
    "tags": [
     "skip-execution"
    ]
   },
   "outputs": [],
   "source": [
    "# sum the current across the resistors\n",
    "...\n",
    "for ... in ...: \n",
    "    ...\n",
    "\n",
    "print(totalCurrent)"
   ]
  },
  {
   "attachments": {},
   "cell_type": "markdown",
   "metadata": {},
   "source": [
    "Now, you can confidently use nested lists and can access each item in a list using a `for` loop."
   ]
  },
  {
   "cell_type": "markdown",
   "metadata": {},
   "source": []
  }
 ],
 "metadata": {
  "celltoolbar": "Slideshow",
  "kernelspec": {
   "display_name": "base",
   "language": "python",
   "name": "python3"
  },
  "language_info": {
   "codemirror_mode": {
    "name": "ipython",
    "version": 3
   },
   "file_extension": ".py",
   "mimetype": "text/x-python",
   "name": "python",
   "nbconvert_exporter": "python",
   "pygments_lexer": "ipython3",
   "version": "3.10.13"
  },
  "vscode": {
   "interpreter": {
    "hash": "d7d046052154998ca7dd3d9af52f7220fee50748c9a05b256540159ca8eb430c"
   }
  }
 },
 "nbformat": 4,
 "nbformat_minor": 2
}