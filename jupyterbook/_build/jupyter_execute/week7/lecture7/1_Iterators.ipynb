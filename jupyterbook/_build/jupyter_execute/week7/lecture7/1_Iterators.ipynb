{
 "cells": [
  {
   "cell_type": "markdown",
   "metadata": {
    "slideshow": {
     "slide_type": "slide"
    }
   },
   "source": [
    "# Ordered Iteration \n"
   ]
  },
  {
   "cell_type": "markdown",
   "metadata": {
    "slideshow": {
     "slide_type": "subslide"
    }
   },
   "source": [
    "\n",
    "## List"
   ]
  },
  {
   "cell_type": "markdown",
   "metadata": {
    "slideshow": {
     "slide_type": "fragment"
    }
   },
   "source": [
    "Lists in Python are ordered collections, meaning that the items have a defined order that will not change.\n",
    "\n",
    "This characteristic is essential when the sequence of elements matters, as in many engineering computations.\n"
   ]
  },
  {
   "cell_type": "code",
   "execution_count": 2,
   "metadata": {
    "slideshow": {
     "slide_type": "fragment"
    }
   },
   "outputs": [
    {
     "name": "stdout",
     "output_type": "stream",
     "text": [
      "Moving averages: [1.5        1.76666667 1.96666667 2.03333333 1.96666667 1.76666667\n",
      " 1.53333333]\n"
     ]
    }
   ],
   "source": [
    "# Example: Calculating moving averages in signal processing\n",
    "import numpy as np\n",
    "\n",
    "# Signal: A list of voltage measurements over time\n",
    "voltages = [1.2, 1.5, 1.8, 2.0, 2.1, 2.0, 1.8, 1.5, 1.3]\n",
    "\n",
    "# Calculate the moving average using a window size of 3\n",
    "window_size = 3\n",
    "moving_averages = np.convolve(voltages, np.ones(window_size)/window_size, mode='valid')\n",
    "\n",
    "print(\"Moving averages:\", moving_averages)"
   ]
  },
  {
   "cell_type": "markdown",
   "metadata": {
    "slideshow": {
     "slide_type": "fragment"
    }
   },
   "source": [
    "The order of elements in the 'voltages' list is crucial for correctly computing the moving averages.\n",
    "\n",
    "An unordered collection would not provide meaningful results in this context.\n"
   ]
  },
  {
   "cell_type": "markdown",
   "metadata": {
    "slideshow": {
     "slide_type": "slide"
    }
   },
   "source": [
    "## Dictionaries"
   ]
  },
  {
   "cell_type": "markdown",
   "metadata": {
    "slideshow": {
     "slide_type": "fragment"
    }
   },
   "source": [
    "Since Python 3.7 dictionaries are guaranteed to maintain the insertion order of their elements. "
   ]
  },
  {
   "cell_type": "code",
   "execution_count": 3,
   "metadata": {
    "slideshow": {
     "slide_type": "fragment"
    }
   },
   "outputs": [
    {
     "name": "stdout",
     "output_type": "stream",
     "text": [
      "Rate of change: [0.7999999999999972, -0.5, 0.6000000000000014]\n"
     ]
    }
   ],
   "source": [
    "# Dictionaries maintain insertion order as of Python 3.7\n",
    "\n",
    "# Example: Storing and processing time-series data in the order of acquisition\n",
    "\n",
    "# Time-stamped sensor data (time: sensor value)\n",
    "sensor_data = {\n",
    "    '2024-02-01 10:00:00': 45.2,\n",
    "    '2024-02-01 10:01:00': 46.0,\n",
    "    '2024-02-01 10:02:00': 45.5,\n",
    "    '2024-02-01 10:03:00': 46.1\n",
    "}\n",
    "\n",
    "# Processing data in the order it was acquired is essential for time-series analysis\n",
    "timestamps = list(sensor_data.keys())\n",
    "values = list(sensor_data.values())\n",
    "\n",
    "# Compute the rate of change between consecutive measurements\n",
    "rate_of_change = [values[i+1] - values[i] for i in range(len(values)-1)]\n",
    "\n",
    "print(\"Rate of change:\", rate_of_change)\n"
   ]
  },
  {
   "cell_type": "markdown",
   "metadata": {
    "slideshow": {
     "slide_type": "fragment"
    }
   },
   "source": [
    "In this example, the ordered nature of dictionaries allows for predictable iteration over time-stamped data, which is crucial for accurate analysis and engineering computations."
   ]
  },
  {
   "cell_type": "markdown",
   "metadata": {},
   "source": []
  }
 ],
 "metadata": {
  "kernelspec": {
   "display_name": "ENGR131",
   "language": "python",
   "name": "python3"
  },
  "language_info": {
   "codemirror_mode": {
    "name": "ipython",
    "version": 3
   },
   "file_extension": ".py",
   "mimetype": "text/x-python",
   "name": "python",
   "nbconvert_exporter": "python",
   "pygments_lexer": "ipython3",
   "version": "3.10.13"
  }
 },
 "nbformat": 4,
 "nbformat_minor": 2
}