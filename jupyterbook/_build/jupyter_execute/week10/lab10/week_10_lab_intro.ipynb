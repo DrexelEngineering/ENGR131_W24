{
 "cells": [
  {
   "cell_type": "markdown",
   "metadata": {},
   "source": [
    "# 📝Week 10 - Lab Intro\n",
    "\n",
    "In this lab introduction we will discuss visualizing data. We will also go exceptions."
   ]
  },
  {
   "cell_type": "markdown",
   "metadata": {
    "slideshow": {
     "slide_type": "subslide"
    }
   },
   "source": [
    "## Visualizing data\n",
    "### Important packages for visualizing data\n",
    "Many of the packages you have worked with are common tools data scientists use to visualize data"
   ]
  },
  {
   "cell_type": "code",
   "execution_count": null,
   "metadata": {
    "tags": [
     "skip-execution"
    ]
   },
   "outputs": [],
   "source": [
    "import numpy as np \n",
    "import matplotlib.pyplot as plt "
   ]
  },
  {
   "cell_type": "markdown",
   "metadata": {},
   "source": [
    "### Creating a subplot\n",
    "\n",
    "You can create a figure and a grid of subplots with a single call, while providing reasonable control over how the individual plots are created with the following code:"
   ]
  },
  {
   "cell_type": "code",
   "execution_count": null,
   "metadata": {
    "tags": [
     "skip-execution"
    ]
   },
   "outputs": [],
   "source": [
    "fig, ax = plt.subplots() "
   ]
  },
  {
   "cell_type": "markdown",
   "metadata": {},
   "source": [
    "By default, plt.subplot creates a 1x1 figure, but you can create a grid of figures or change the size"
   ]
  },
  {
   "cell_type": "code",
   "execution_count": null,
   "metadata": {
    "tags": [
     "skip-execution"
    ]
   },
   "outputs": [],
   "source": [
    "fig, ax = plt.subplots(figsize=(2,6)) #change the size of the figure "
   ]
  },
  {
   "cell_type": "markdown",
   "metadata": {},
   "source": [
    "Classes can contain various attributes, including variables and functions."
   ]
  },
  {
   "cell_type": "code",
   "execution_count": null,
   "metadata": {
    "tags": [
     "skip-execution"
    ]
   },
   "outputs": [],
   "source": [
    "fig, ax = plt.subplots(nrows = 2, ncols = 2, figsize=(6,5)) #create a grid of figures by using nrows and ncols"
   ]
  },
  {
   "cell_type": "markdown",
   "metadata": {
    "tags": [
     "skip-execution"
    ]
   },
   "source": [
    "### Making your plot pretty\n",
    "We can create many different types of plots in python such as scatter plots and line plots. \n",
    "We also have the ablity to change the color of the plot, add a legend, add a x-label, y-label, and title\n",
    "We can also change the bounds of the x-axis and y-axis "
   ]
  },
  {
   "cell_type": "code",
   "execution_count": null,
   "metadata": {
    "tags": [
     "skip-execution"
    ]
   },
   "outputs": [],
   "source": [
    "#Create some random data to play around with\n",
    "import random\n",
    "x_data = random.sample(range(1, 30), 10) #creates a list of length 10 with random numbers between 1 and 30\n",
    "y_data = random.sample(range(1, 30), 10)\n",
    "\n",
    "#Plotting example\n",
    "fig, ax = plt.subplots(figsize=(4,4))\n",
    "ax.scatter(x_data, y_data, color = 'red', label = 'My Data')\n",
    "ax.legend() \n",
    "ax.set_title('Cool Graph')\n",
    "ax.set_xlabel('Meaningful x-axis label')\n",
    "ax.set_ylabel('Meaningful y-axis label')\n",
    "ax.set_xlim(0,35)\n",
    "ax.set_ylim(0,35)"
   ]
  },
  {
   "cell_type": "markdown",
   "metadata": {},
   "source": [
    "### Curve Fitting\n",
    "Often in data science we want to fit a function to our data. We can do this with the curve fitting tool in the scipy package.\n",
    "\n",
    "Curve fitting is a type of optimization that finds an optimal set of parameters for a defined function that best fits a given set of observations.\n",
    "\n",
    "Curve fitting requires that you define the function that maps examples of inputs to outputs.\n"
   ]
  },
  {
   "cell_type": "code",
   "execution_count": null,
   "metadata": {
    "tags": [
     "skip-execution"
    ]
   },
   "outputs": [],
   "source": [
    "from scipy.optimize import curve_fit #import curve fitting\n",
    "\n",
    "#define a function\n",
    "def func(x, a, b): \n",
    "    return a * np.sin(b * x)\n",
    "\n",
    "#create some data\n",
    "x_data = np.linspace(0, 10, num = 40)\n",
    "y_data = 3.45 * np.sin(1.334 * x_data) + np.random.normal(size = 40)\n",
    "\n",
    "#get best fit parameters\n",
    "popt, pcov = curve_fit(func, x_data, y_data)\n",
    "\n",
    "#lets see what is inside\n",
    "print(popt, pcov)\n"
   ]
  },
  {
   "cell_type": "markdown",
   "metadata": {},
   "source": [
    "popt is an array containing the optimized coefficients \n",
    "i.e., popt[0] is the optimized a value and popt[1] is the optimized b value\n",
    "\n",
    "pcov is an array containing the covariance of coefficients\n",
    "covarience measures the total variation of two random variables from their expected values. \n",
    "You'll learn more about this in statistics \n",
    "\n",
    "We will mostly care about the popt variable to create our best fit curve"
   ]
  },
  {
   "cell_type": "code",
   "execution_count": null,
   "metadata": {
    "tags": [
     "skip-execution"
    ]
   },
   "outputs": [],
   "source": [
    "#create optimized y-data for best fit curve\n",
    "opt_y = func(x_data,*popt) #popt[0]*np.sin(popt[1]*x_data)\n",
    "\n",
    "#lets plot it\n",
    "fig, ax = plt.subplots(figsize=(6,6))\n",
    "ax.scatter(x_data,y_data, color = 'green', label ='OG Data') #Plot original data\n",
    "\n",
    "ax.plot(x_data,opt_y, color = 'black', label = 'Best Fit Curve') #Plot best fit curve on same plot\n",
    "\n",
    "#Make it pretty \n",
    "ax.legend()\n",
    "ax.set_title('Sine Plot', size = 15) #changing the font size to 15 here with the size parameter \n",
    "ax.set_xlabel('x-data', size = 15)\n",
    "ax.set_ylabel('y-data', size = 15)\n",
    "ax.tick_params(axis='x', labelsize=12) #one of many ways you can change the tick label sizes\n",
    "ax.tick_params(axis='y', labelsize=12)\n"
   ]
  },
  {
   "cell_type": "markdown",
   "metadata": {},
   "source": [
    "## Exceptions\n",
    "\n"
   ]
  },
  {
   "cell_type": "markdown",
   "metadata": {
    "tags": [
     "skip-execution"
    ]
   },
   "source": [
    "When an error occurs, or exception as we call it, Python will normally stop and generate an error message. These exceptions can be handled using the try statement:    "
   ]
  },
  {
   "cell_type": "code",
   "execution_count": null,
   "metadata": {
    "tags": [
     "skip-execution"
    ]
   },
   "outputs": [],
   "source": [
    "print(z)"
   ]
  },
  {
   "cell_type": "code",
   "execution_count": null,
   "metadata": {
    "tags": [
     "skip-execution"
    ]
   },
   "outputs": [],
   "source": [
    "try:\n",
    "  print(z)\n",
    "except:\n",
    "  print(\"An exception occurred\")"
   ]
  },
  {
   "cell_type": "markdown",
   "metadata": {
    "tags": [
     "skip-execution"
    ]
   },
   "source": [
    "Since the try block raises an error, the except block will be executed. Without the try block, the program will crash and raise an error:"
   ]
  },
  {
   "cell_type": "markdown",
   "metadata": {
    "tags": [
     "skip-execution"
    ]
   },
   "source": [
    "### Many Exceptions\n",
    "You can define as many exception blocks as you want. This might be useful if you want to execute a special block of code for a special kind of error:"
   ]
  },
  {
   "cell_type": "code",
   "execution_count": null,
   "metadata": {
    "tags": [
     "skip-execution"
    ]
   },
   "outputs": [],
   "source": [
    "try:\n",
    "  print(z)\n",
    "except NameError:\n",
    "  print(\"Variable x is not defined\")\n",
    "except:\n",
    "  print(\"Something else went wrong\") "
   ]
  },
  {
   "cell_type": "markdown",
   "metadata": {
    "tags": [
     "skip-execution"
    ]
   },
   "source": [
    "### Else and Finally\n",
    "You can use the else keyword to define a block of code to be executed if no errors were raised:"
   ]
  },
  {
   "cell_type": "code",
   "execution_count": null,
   "metadata": {
    "tags": [
     "skip-execution"
    ]
   },
   "outputs": [],
   "source": [
    "try:\n",
    "  print(\"Hello\")\n",
    "except:\n",
    "  print(\"Something went wrong\")\n",
    "else:\n",
    "  print(\"Nothing went wrong\") "
   ]
  },
  {
   "cell_type": "markdown",
   "metadata": {
    "tags": [
     "skip-execution"
    ]
   },
   "source": [
    "The finally block, if specified, will be executed regardless if the try block raises an error or not."
   ]
  },
  {
   "cell_type": "code",
   "execution_count": null,
   "metadata": {
    "tags": [
     "skip-execution"
    ]
   },
   "outputs": [],
   "source": [
    "try:\n",
    "  print(z)\n",
    "except:\n",
    "  print(\"Something went wrong\")\n",
    "finally:\n",
    "  print(\"The 'try except' is finished\") "
   ]
  },
  {
   "cell_type": "markdown",
   "metadata": {
    "tags": [
     "skip-execution"
    ]
   },
   "source": [
    "### Raise an Exception\n",
    "You can choose to throw an exception if a condition occurs. To throw (or raise) an exception, use the raise keyword."
   ]
  },
  {
   "cell_type": "code",
   "execution_count": null,
   "metadata": {
    "tags": [
     "skip-execution"
    ]
   },
   "outputs": [],
   "source": [
    "# The game that has no winners: \n",
    "\n",
    "x = -1\n",
    "\n",
    "if x > 0:\n",
    "    print (\"You win! x is greater than 0\")\n",
    "else:\n",
    "    raise Exception(\"You lose! x is less than 0\") "
   ]
  },
  {
   "cell_type": "markdown",
   "metadata": {},
   "source": [
    "The raise keyword is used to raise an exception. You can define what kind of error to raise, and the text to print to the user"
   ]
  },
  {
   "cell_type": "code",
   "execution_count": null,
   "metadata": {
    "tags": [
     "skip-execution"
    ]
   },
   "outputs": [],
   "source": [
    "num = \"100\"\n",
    "\n",
    "if not type(num) is int:\n",
    "  raise TypeError(\"Only integers are allowed\")"
   ]
  },
  {
   "cell_type": "code",
   "execution_count": null,
   "metadata": {},
   "outputs": [],
   "source": []
  },
  {
   "cell_type": "code",
   "execution_count": null,
   "metadata": {},
   "outputs": [],
   "source": []
  }
 ],
 "metadata": {
  "celltoolbar": "Slideshow",
  "kernelspec": {
   "display_name": "engr131",
   "language": "python",
   "name": "engr131"
  },
  "language_info": {
   "codemirror_mode": {
    "name": "ipython",
    "version": 3
   },
   "file_extension": ".py",
   "mimetype": "text/x-python",
   "name": "python",
   "nbconvert_exporter": "python",
   "pygments_lexer": "ipython3",
   "version": "3.11.8"
  },
  "varInspector": {
   "cols": {
    "lenName": 16,
    "lenType": 16,
    "lenVar": 40
   },
   "kernels_config": {
    "python": {
     "delete_cmd_postfix": "",
     "delete_cmd_prefix": "del ",
     "library": "var_list.py",
     "varRefreshCmd": "print(var_dic_list())"
    },
    "r": {
     "delete_cmd_postfix": ") ",
     "delete_cmd_prefix": "rm(",
     "library": "var_list.r",
     "varRefreshCmd": "cat(var_dic_list()) "
    }
   },
   "types_to_exclude": [
    "module",
    "function",
    "builtin_function_or_method",
    "instance",
    "_Feature"
   ],
   "window_display": false
  },
  "vscode": {
   "interpreter": {
    "hash": "31f2aee4e71d21fbe5cf8b01ff0e069b9275f58929596ceb00d14d90e3e16cd6"
   }
  }
 },
 "nbformat": 4,
 "nbformat_minor": 4
}