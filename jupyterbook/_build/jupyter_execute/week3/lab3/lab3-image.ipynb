{
 "cells": [
  {
   "cell_type": "code",
   "execution_count": null,
   "metadata": {
    "deletable": false,
    "editable": false,
    "tags": [
     "skip-execution"
    ]
   },
   "outputs": [],
   "source": [
    "# Initialize Otter\n",
    "import otter\n",
    "grader = otter.Notebook(\"lab3-image.ipynb\")"
   ]
  },
  {
   "attachments": {},
   "cell_type": "markdown",
   "metadata": {
    "editable": false
   },
   "source": [
    "# 🧪🖥 Lab 3: Image Processing\n",
    "\n",
    "This lab explores basic image processing in Python.\n",
    "\n"
   ]
  },
  {
   "cell_type": "markdown",
   "metadata": {
    "editable": false
   },
   "source": [
    "## Entering Your Information for Credit\n",
    "\n",
    "To receive credit for assignments it is important we can identify your work from others. To do this we will ask you to enter your information in the following code block.\n",
    "\n",
    "### Before you begin\n",
    "\n",
    "Run the block of code at the top of the notebook that imports and sets up the autograder. This will allow you to check your work. "
   ]
  },
  {
   "cell_type": "code",
   "execution_count": null,
   "metadata": {
    "tags": [
     "skip-execution"
    ]
   },
   "outputs": [],
   "source": [
    "# Please provide your first name, last name, Drexel ID, and Drexel email. Make sure these are provided as strings. \"STRINGS ARE TEXT ENCLOSED IN QUOTATION MARKS.\"\n",
    "\n",
    "# In the assignments you will see sections of code that you need to fill in that are marked with ... (three dots). Replace the ... with your code.\n",
    "first_name = ...\n",
    "last_name = ...\n",
    "drexel_id = ...\n",
    "drexel_email = ...\n"
   ]
  },
  {
   "cell_type": "code",
   "execution_count": null,
   "metadata": {
    "deletable": false,
    "editable": false,
    "tags": [
     "skip-execution"
    ]
   },
   "outputs": [],
   "source": [
    "grader.check(\"q0-Checking-Your-Name\")"
   ]
  },
  {
   "cell_type": "code",
   "execution_count": null,
   "metadata": {
    "tags": [
     "skip-execution"
    ]
   },
   "outputs": [],
   "source": [
    "import matplotlib.pyplot as plt\n",
    "import numpy as np"
   ]
  },
  {
   "attachments": {},
   "cell_type": "markdown",
   "metadata": {
    "editable": false
   },
   "source": [
    "**Loading and viewing Images** \n",
    "\n",
    "The matplotlib.pyplot module, which has been imported, can be used to load and view images. The following code loads an image called ```\"bird.jpeg\"```, scales it to have floating point pixel values from 0 to 1 (instead of 0 to 255), and stores it in a variable called ```img```. Make sure the provided ```bird.jpeg``` file is in the same directory as this notebook."
   ]
  },
  {
   "cell_type": "code",
   "execution_count": null,
   "metadata": {
    "tags": [
     "skip-execution"
    ]
   },
   "outputs": [],
   "source": [
    "img = plt.imread(\"bird.jpeg\").astype(\"float\") / 255"
   ]
  },
  {
   "cell_type": "markdown",
   "metadata": {
    "editable": false
   },
   "source": [
    "To view the image, we can use plt.imshow()"
   ]
  },
  {
   "cell_type": "code",
   "execution_count": null,
   "metadata": {
    "tags": [
     "skip-execution"
    ]
   },
   "outputs": [],
   "source": [
    "plt.imshow(img)"
   ]
  },
  {
   "attachments": {},
   "cell_type": "markdown",
   "metadata": {
    "editable": false
   },
   "source": [
    "This image is represented in Python as a 3 dimensional array with dimensions ($H$, $W$, $C$), where \n",
    "\n",
    "<center>\n",
    "\n",
    "$H$ = height\n",
    "\n",
    "$W$ = width\n",
    "\n",
    "$C$ = number of color channels\n",
    "\n",
    "</center>\n",
    "\n",
    "\n",
    "To view the dimensions, we can print the img array's \"shape\" as below:"
   ]
  },
  {
   "cell_type": "code",
   "execution_count": null,
   "metadata": {
    "tags": [
     "skip-execution"
    ]
   },
   "outputs": [],
   "source": [
    "print(img.shape)"
   ]
  },
  {
   "attachments": {},
   "cell_type": "markdown",
   "metadata": {
    "editable": false
   },
   "source": [
    "From this, we can see that this image has a height of 854 pixels, a width of 1000 pixels, and 3 color channels. The 3 color channels represent the red, green, and blue components of an image. The color of each pixel in the full color image is determined by its RGB components. \n",
    "\n",
    "The following code lets us extract the three separate color channels from the image. We store these color channels – each with dimensions ($H$,$W$) – in variables `R`, `G`, and `B`."
   ]
  },
  {
   "cell_type": "code",
   "execution_count": null,
   "metadata": {
    "tags": [
     "skip-execution"
    ]
   },
   "outputs": [],
   "source": [
    "# For red, get the contents of the image at color channel index 0\n",
    "R = img[:,:,0]\n",
    "\n",
    "# For green, get the contents of the image at color channel index 1\n",
    "G = img[:,:,1]\n",
    "\n",
    "# For blue, get the contents of the image at color channel index 2\n",
    "B = img[:,:,2]\n"
   ]
  },
  {
   "cell_type": "markdown",
   "metadata": {
    "editable": false
   },
   "source": [
    "We can view the 3 color channels individually like this:"
   ]
  },
  {
   "cell_type": "code",
   "execution_count": null,
   "metadata": {
    "tags": [
     "skip-execution"
    ]
   },
   "outputs": [],
   "source": [
    "# create a plot containing 3 subplots\n",
    "figure, plots = plt.subplots(ncols=3, nrows=1)\n",
    "\n",
    "### plotting the red component\n",
    "# start with an empty image array of zeros\n",
    "r_img = np.zeros(img.shape)\n",
    "# populate the image with the red color channel data from img\n",
    "r_img[:,:,0] = R\n",
    "# plot the red component image\n",
    "plots[0].imshow(r_img)\n",
    "# turn off the axis to make the plot look tidy\n",
    "plots[0].set_axis_off()\n",
    "\n",
    "### plotting the green component\n",
    "# start with an empty image array of zeros\n",
    "g_img = np.zeros(img.shape)\n",
    "# populate the image with the green color channel data from img\n",
    "g_img[:,:,1] = G\n",
    "# plot the red component image\n",
    "plots[1].imshow(g_img)\n",
    "# turn off the axis to make the plot look tidy\n",
    "plots[1].set_axis_off()\n",
    "\n",
    "### plotting the blue component\n",
    "# start with an empty image array of zeros\n",
    "b_img = np.zeros(img.shape)\n",
    "# populate the image with the blue color channel data from img\n",
    "b_img[:,:,2] = B\n",
    "# plot the red component image\n",
    "plots[2].imshow(b_img)\n",
    "# turn off the axis to make the plot look tidy\n",
    "plots[2].set_axis_off()"
   ]
  },
  {
   "attachments": {},
   "cell_type": "markdown",
   "metadata": {
    "deletable": false,
    "editable": false
   },
   "source": [
    "**Task 1: To Black and White** \n",
    "\n",
    "Your task is to write a function that computes a black and white version of an image. A black and white (or grayscale) image has equal values for its $R$, $G$, and $B$ components. One way to create a black and white version of a color images, that we will use in this lab, is to average the three color components. The new components `newR`, `newG`, and `newB` would be computed as follows.\n",
    "\n",
    "<center>\n",
    "\n",
    "`newR` = `newG` = `newB` = $\\frac{1}{3} $ (`R` $ + $ `G` $ + $ `B` $)$\n",
    "\n",
    "\n",
    "</center>\n",
    "\n",
    "Hint: Numpy arrays of equal size can be added, subtracted, multiplied, etc. as if the were numbers. For instance, two arrays of equal dimensions `a` and `b` can be added pixel-by-pixel with the single line:\n",
    "\n",
    "<center>\n",
    "\n",
    "`a` + `b`\n",
    "\n",
    "</center>\n",
    "\n",
    "Write python code to do the following:\n",
    "\n",
    "* Define a function called ``to_bw`` which accepts as input a single argument, `I`, an array containing a color image.\n",
    "* In the function, first extract the red, blue, and green color components of the image. (You may replicate how this was done above.)\n",
    "* Compute the new components `newR`, `newG`, and `newB`, from `R`, `G`, and `B` using the equation above.\n",
    "* Create an array of zeros called `bwI` and give it the same shape as the input array `I`.\n",
    "* Populate the color channels of `bwI` to have the color components `newR`, `newG`, and `newB`.\n",
    "* Return the grayscale image `bwI`\n",
    "\n",
    "Hint: If you have a numpy array `X` and you want to create an array of zeros that has the same shape as `X`, do the following:\n",
    "```np.zeros(X.shape)``` \n",
    "\n",
    "Your code replaces the prompt:  `...`\n"
   ]
  },
  {
   "cell_type": "code",
   "execution_count": null,
   "metadata": {
    "tags": [
     "skip-execution"
    ]
   },
   "outputs": [],
   "source": [
    "...\n"
   ]
  },
  {
   "cell_type": "code",
   "execution_count": null,
   "metadata": {
    "deletable": false,
    "editable": false,
    "tags": [
     "skip-execution"
    ]
   },
   "outputs": [],
   "source": [
    "grader.check(\"task1-toBW\")"
   ]
  },
  {
   "cell_type": "markdown",
   "metadata": {
    "editable": false
   },
   "source": [
    "View your black and white image:"
   ]
  },
  {
   "cell_type": "code",
   "execution_count": null,
   "metadata": {
    "tags": [
     "skip-execution"
    ]
   },
   "outputs": [],
   "source": [
    "plt.imshow(to_bw(img));"
   ]
  },
  {
   "attachments": {},
   "cell_type": "markdown",
   "metadata": {
    "deletable": false,
    "editable": false
   },
   "source": [
    "**Task 2: To Sepia Tone** \n",
    "\n",
    "Sepia toning is a chemical process used in photography which gives an image a brownish coloring. Image editing software can approximate the effect of sepia toning using the given set of equations.\n",
    "\n",
    "<center>\n",
    "\n",
    "`newR` =  0.393 `R` + 0.769 `G` + 0.189 `B`\n",
    "\n",
    "`newG` =  0.349 `R` + 0.686 `G` + 0.168 `B`\n",
    "\n",
    "`newB` =  0.272 `R` + 0.534 `G` + 0.131 `B`\n",
    "\n",
    "</center>\n",
    "\n",
    "Finally, any resulting pixel values `> 1.0` get assigned a value of `1.0`.\n",
    "\n",
    "\n",
    "Write python code to do the following:\n",
    "\n",
    "* Define a function called ``to_sepia`` which accepts as input a single argument, `I`, an array containing a color image.\n",
    "* As before, first extract the red, blue, and green color components of the image.\n",
    "* Compute the new components `newR`, `newG`, and `newB`, from `R`, `G`, and `B` using the set of equations above.\n",
    "* Create an array of zeros called `sepiaI` and give it the same shape as the input array `I`.\n",
    "* Populate the color channels of `sepiaI` to have the color components `newR`, `newG`, and `newB`.\n",
    "* For any values in the resulting image greater than $1$, replace them with the value $1$ \n",
    "* Return the sepia tone image `sepiaI`\n",
    "\n",
    "Hint: Use `np.where(sepiaI > 1.0)` to get the indices in the sepia image where the value is greater than 1.\n",
    "\n",
    "\n",
    "Your code replaces the prompt:  `...`\n"
   ]
  },
  {
   "cell_type": "code",
   "execution_count": null,
   "metadata": {
    "tags": [
     "skip-execution"
    ]
   },
   "outputs": [],
   "source": [
    "..."
   ]
  },
  {
   "cell_type": "code",
   "execution_count": null,
   "metadata": {
    "deletable": false,
    "editable": false,
    "tags": [
     "skip-execution"
    ]
   },
   "outputs": [],
   "source": [
    "grader.check(\"task2-sepia\")"
   ]
  },
  {
   "cell_type": "markdown",
   "metadata": {
    "editable": false
   },
   "source": [
    "View your sepia tone image:"
   ]
  },
  {
   "cell_type": "code",
   "execution_count": null,
   "metadata": {
    "tags": [
     "skip-execution"
    ]
   },
   "outputs": [],
   "source": [
    "plt.imshow(to_sepia(img));"
   ]
  },
  {
   "attachments": {},
   "cell_type": "markdown",
   "metadata": {
    "deletable": false,
    "editable": false
   },
   "source": [
    "**Task 3: Cropping** \n",
    "\n",
    "It can be helpful to crop an image to make its size smaller and focus around an object of interest. Some AI image classification systems require training data that is cropped to a square region of interest.\n",
    "\n",
    "In this problem your task is to crop the black and white image of the bird so that it is a square image centered around the bird. Specifically, you should crop a $601$ x $601$ square centered around the pixel with $(x,y)$ coordinates $(565,375)$. Note: The point $(0,0)$ is the top left of the image, and $y$ coordinates increase towards the bottom.\n",
    "\n",
    "Write python code to do the following:\n",
    "\n",
    "* Determine the desired range of $x$- and $y$-coordinates to crop\n",
    "* Use array slicing to crop the black and white bird image and store it in a variable called `bw_bird_cropped`.\n",
    "\n",
    "Hint: The code `I_crop = I[y1:y2+1,x1:x2+1]` crops image `I` between $x$ bounds [`x1`,`x2`] and $y$ bounds [`y1`,`y2`] and stores the resulting image in a variable called `I_crop`.\n",
    "\n",
    "\n",
    "Your code replaces the prompt:  `...`\n"
   ]
  },
  {
   "cell_type": "code",
   "execution_count": null,
   "metadata": {
    "tags": [
     "skip-execution"
    ]
   },
   "outputs": [],
   "source": [
    "..."
   ]
  },
  {
   "cell_type": "code",
   "execution_count": null,
   "metadata": {
    "deletable": false,
    "editable": false,
    "tags": [
     "skip-execution"
    ]
   },
   "outputs": [],
   "source": [
    "grader.check(\"task3-cropping\")"
   ]
  },
  {
   "cell_type": "markdown",
   "metadata": {
    "editable": false
   },
   "source": [
    "Let's view the cropped image."
   ]
  },
  {
   "cell_type": "code",
   "execution_count": null,
   "metadata": {
    "tags": [
     "skip-execution"
    ]
   },
   "outputs": [],
   "source": [
    "plt.imshow(bw_bird_cropped);"
   ]
  },
  {
   "attachments": {},
   "cell_type": "markdown",
   "metadata": {
    "deletable": false,
    "editable": false
   },
   "source": [
    "**Task 4: Processing your own image** \n",
    "\n",
    "In this final task, you will load your own image and process it as if it were an input in an AI image classification network. You will choose an image relevant to your area of engineering, filter it to be black and white, and perform a square cropping around a region of interest. \n",
    "\n",
    "Write python code to do the following:\n",
    "\n",
    "* Load an image of your choosing and store it in a variable called `my_img`\n",
    "* Store a black and white version of the image in a varialbe called `bw_my_img`\n",
    "* Store a cropped version of the black and white image in a variable called `bw_my_img_cropped`\n",
    "* Your crop should be square of an appropriate size, centered around the region of interest.\n",
    "\n",
    "Hint: You will need to upload your image so that it is in the same directory as this notebook.\n",
    "\n",
    "\n",
    "Your code replaces the prompt:  `...`\n"
   ]
  },
  {
   "cell_type": "code",
   "execution_count": null,
   "metadata": {
    "tags": [
     "skip-execution"
    ]
   },
   "outputs": [],
   "source": [
    "..."
   ]
  },
  {
   "cell_type": "code",
   "execution_count": null,
   "metadata": {
    "deletable": false,
    "editable": false,
    "tags": [
     "skip-execution"
    ]
   },
   "outputs": [],
   "source": [
    "grader.check(\"task4-own-image\")"
   ]
  },
  {
   "attachments": {},
   "cell_type": "markdown",
   "metadata": {
    "editable": false
   },
   "source": [
    "View your cropped image:"
   ]
  },
  {
   "cell_type": "code",
   "execution_count": null,
   "metadata": {
    "tags": [
     "skip-execution"
    ]
   },
   "outputs": [],
   "source": [
    "plt.imshow(bw_my_img_cropped);"
   ]
  },
  {
   "cell_type": "markdown",
   "metadata": {
    "editable": false
   },
   "source": [
    "## Submitting Your Assignment\n",
    "\n",
    "To submit your assignment please use the following link the assignment on GitHub classroom.\n",
    "   \n",
    "Use this [link](https://classroom.github.com/a/firQITtr) to navigate to the assignment on GitHub classroom.\n",
    "\n",
    "If you need further instructions on submitting your assignment please look at Lab 1. \n",
    "\n",
    "## Viewing your score\n",
    "\n",
    "Each `.ipynb` file you have uploaded will have a file with the name of your file + `Grade_Report.md`. You can view this file by clicking on the file name. This will show you the results of the autograder. \n",
    "\n",
    "We have both public and hidden tests. You will be able to see the score of both tests, but not the specific details of why the test passed or failed. \n",
    "\n",
    "```{note}\n",
    "In python and particularly jupyter notebooks it is common that during testing you run cells in a different order, or run cells and modify them. This can cause there to be local variables needed for your solution that would not be recreated on running your code again from scratch. Your assignment will be graded based on running your code from scratch. This means before you submit your assignment you should restart the kernel and run all cells. You can do this by clicking `Kernel` and selecting `Restart and Run All`. If you code does not run as expected after restarting the kernel and running all cells it means you have an error in your code. \n",
    "```\n",
    "\n",
    "## Fin"
   ]
  }
 ],
 "metadata": {
  "kernelspec": {
   "display_name": "engr131",
   "language": "python",
   "name": "python3"
  },
  "language_info": {
   "codemirror_mode": {
    "name": "ipython",
    "version": 3
   },
   "file_extension": ".py",
   "mimetype": "text/x-python",
   "name": "python",
   "nbconvert_exporter": "python",
   "pygments_lexer": "ipython3",
   "version": "3.10.13"
  },
  "otter": {
   "OK_FORMAT": true,
   "tests": {
    "q0-Checking-Your-Name": {
     "name": "q0-Checking-Your-Name",
     "points": null,
     "suites": [
      {
       "cases": [
        {
         "code": ">>> def get_local_part(email):\n...     return email.split('@')[0]\n>>> local_part_email = get_local_part(drexel_email)\n>>> assert local_part_email == drexel_id, f\"The DrexelID extracted from the email '{local_part_email}' does not match the Drexel ID '{drexel_id}'.\"\n",
         "failure_message": "It does not appear that you entered your information correctly. Please try again.",
         "hidden": false,
         "locked": false,
         "points": 0,
         "success_message": "You have entered your information correctly."
        }
       ],
       "scored": true,
       "setup": "",
       "teardown": "",
       "type": "doctest"
      }
     ]
    },
    "task1-toBW": {
     "name": "task1-toBW",
     "points": null,
     "suites": [
      {
       "cases": [
        {
         "code": ">>> z = np.zeros((200, 200, 3))\n>>> assert np.shape(z) == np.shape(to_bw(z))\n",
         "hidden": false,
         "locked": false,
         "points": 1,
         "success_message": "Output is numpy array of the correct shape."
        },
        {
         "code": ">>> z = np.zeros((10, 10, 3))\n>>> z[0, 0, 0] = 0.3\n>>> z[3, 3, 2] = 0.9\n>>> z_bw = np.zeros((10, 10, 3))\n>>> z_bw[0, 0] = np.array([0.1, 0.1, 0.1])\n>>> z_bw[3, 3] = np.array([0.3, 0.3, 0.3])\n>>> assert np.isclose(z_bw, to_bw(z)).all()\n",
         "hidden": false,
         "locked": false,
         "points": 1,
         "success_message": "Correct output for input image 1."
        },
        {
         "code": ">>> z = np.zeros((5, 4, 3))\n>>> z[1, 3, 0] = 0.3\n>>> z[1, 3, 1] = 0.5\n>>> z[1, 3, 2] = 0.1\n>>> z_bw = np.zeros((5, 4, 3))\n>>> z_bw[1, 3] = np.array([0.3, 0.3, 0.3])\n>>> assert np.isclose(z_bw, to_bw(z)).all()\n",
         "hidden": false,
         "locked": false,
         "points": 1,
         "success_message": "Correct output for input image 2."
        },
        {
         "code": ">>> z = np.ones((16, 3, 3))\n>>> z[11, 1, 0] = 0\n>>> z[11, 1, 2] = 0\n>>> z_bw = np.ones((16, 3, 3))\n>>> z_bw[11, 1] = np.array([0.333333333333, 0.333333333333, 0.333333333333])\n>>> assert np.isclose(z_bw, to_bw(z)).all()\n",
         "hidden": false,
         "locked": false,
         "points": 1,
         "success_message": "Correct output for input image 3."
        }
       ],
       "scored": true,
       "setup": "",
       "teardown": "",
       "type": "doctest"
      }
     ]
    },
    "task2-sepia": {
     "name": "task2-sepia",
     "points": null,
     "suites": [
      {
       "cases": [
        {
         "code": ">>> z = np.zeros((200, 200, 3))\n>>> assert np.shape(z) == np.shape(to_sepia(z))\n",
         "hidden": false,
         "locked": false,
         "points": 1,
         "success_message": "Output is numpy array of correct shape."
        },
        {
         "code": ">>> z = np.zeros((4, 4, 3))\n>>> z[0, 0, 0] = 0.3\n>>> z[1, 2, 2] = 0.9\n>>> z[1, 2, 1] = 0.96\n>>> z[1, 2, 0] = 0.98\n>>> z[3, 3, 2] = 0.9\n>>> z_ans = np.array([0.1179, 0.1047, 0.0816, 0.0, 0.0, 0.0, 0.0, 0.0, 0.0, 0.0, 0.0, 0.0, 0.0, 0.0, 0.0, 0.0, 0.0, 0.0, 1.0, 1.0, 0.8971, 0.0, 0.0, 0.0, 0.0, 0.0, 0.0, 0.0, 0.0, 0.0, 0.0, 0.0, 0.0, 0.0, 0.0, 0.0, 0.0, 0.0, 0.0, 0.0, 0.0, 0.0, 0.0, 0.0, 0.0, 0.1701, 0.1512, 0.1179])\n>>> assert np.isclose(to_sepia(z).flatten(), z_ans).all()\n",
         "hidden": false,
         "locked": false,
         "points": 1,
         "success_message": "Correct output for input image 1."
        },
        {
         "code": ">>> z = np.zeros((6, 2, 3))\n>>> z[0, 0, 0] = 0.8\n>>> z[0, 0, 1] = 0.992\n>>> z[3, 1, 1] = 0.96\n>>> z[0, 1, 2] = 0.43\n>>> z[0, 1, 0] = 0.56\n>>> z_ans = np.array([1.0, 0.959712, 0.747328, 0.30135, 0.26768, 0.20865, 0.0, 0.0, 0.0, 0.0, 0.0, 0.0, 0.0, 0.0, 0.0, 0.0, 0.0, 0.0, 0.0, 0.0, 0.0, 0.73824, 0.65856, 0.51264, 0.0, 0.0, 0.0, 0.0, 0.0, 0.0, 0.0, 0.0, 0.0, 0.0, 0.0, 0.0])\n>>> assert np.isclose(to_sepia(z).flatten(), z_ans).all()\n",
         "hidden": false,
         "locked": false,
         "points": 1,
         "success_message": "Correct output for input image 2."
        },
        {
         "code": ">>> z = np.zeros((3, 4, 3))\n>>> z[2, 2, 2] = 0.75\n>>> z[1, 1, 1] = 0.5\n>>> z[0, 0, 0] = 0.25\n>>> z[2, 2, 1] = 0.85\n>>> z[2, 2, 0] = 0.99\n>>> z_ans = np.array([0.09825, 0.08725, 0.068, 0.0, 0.0, 0.0, 0.0, 0.0, 0.0, 0.0, 0.0, 0.0, 0.0, 0.0, 0.0, 0.3845, 0.343, 0.267, 0.0, 0.0, 0.0, 0.0, 0.0, 0.0, 0.0, 0.0, 0.0, 0.0, 0.0, 0.0, 1.0, 1.0, 0.82143, 0.0, 0.0, 0.0])\n>>> assert np.isclose(to_sepia(z).flatten(), z_ans).all()\n",
         "hidden": false,
         "locked": false,
         "points": 1,
         "success_message": "Correct output for input image 2."
        }
       ],
       "scored": true,
       "setup": "",
       "teardown": "",
       "type": "doctest"
      }
     ]
    },
    "task3-cropping": {
     "name": "task3-cropping",
     "points": null,
     "suites": [
      {
       "cases": [
        {
         "code": ">>> z = np.zeros((601, 601, 3))\n>>> assert np.shape(bw_bird_cropped) == np.shape(z)\n",
         "hidden": false,
         "locked": false,
         "points": 1,
         "success_message": "Output is a numpy array of correct shape."
        },
        {
         "code": ">>> answer_patch = np.array([0.25359477, 0.2496732, 0.25359477, 0.25359477, 0.25620915, 0.25620915, 0.25751634, 0.26928105, 0.2627451, 0.22745098, 0.25620915, 0.23529412, 0.24836601, 0.27843137, 0.26666667, 0.24444444, 0.26405229, 0.13594771, 0.19084967, 0.29150327, 0.28104575, 0.25620915, 0.24444444, 0.2248366, 0.1751634, 0.18431373, 0.25620915, 0.50457516, 0.61045752, 0.74117647, 0.21437908, 0.16601307, 0.17777778, 0.2745098, 0.39869281, 0.55686275, 0.69281046, 0.78431373, 0.78823529, 0.79084967, 0.30457516, 0.43006536, 0.54117647, 0.67189542, 0.76862745, 0.79477124, 0.7869281, 0.75424837, 0.70849673, 0.65882353, 0.6745098, 0.78431373, 0.80653595, 0.79215686, 0.75816993, 0.69934641, 0.6496732, 0.64575163, 0.64444444, 0.65098039, 0.80522876, 0.76078431, 0.69803922, 0.64836601, 0.63267974, 0.64836601, 0.66666667, 0.62745098, 0.63137255, 0.62745098, 0.65359477, 0.65882353, 0.67712418, 0.67189542, 0.64836601, 0.62614379, 0.61176471, 0.63267974, 0.62745098, 0.63006536, 0.64313725, 0.6379085, 0.61960784, 0.60784314, 0.62091503, 0.63006536, 0.63006536, 0.61830065, 0.62222222, 0.63006536, 0.6248366, 0.62352941, 0.62352941, 0.62352941, 0.62352941, 0.62352941, 0.62352941, 0.62222222, 0.6248366, 0.62614379])\n>>> assert np.isclose(bw_bird_cropped[100:110, 200:210, 0].flatten(), answer_patch, rtol=1.000001).all()\n",
         "hidden": false,
         "locked": false,
         "points": 1,
         "success_message": "Output image is correctly cropped."
        }
       ],
       "scored": true,
       "setup": "",
       "teardown": "",
       "type": "doctest"
      }
     ]
    },
    "task4-own-image": {
     "name": "task4-own-image",
     "points": null,
     "suites": [
      {
       "cases": [
        {
         "code": ">>> assert bw_my_img_cropped.shape[0] == bw_my_img_cropped.shape[1] and bw_my_img_cropped.shape[2] == 3\n",
         "hidden": false,
         "locked": false,
         "points": 1,
         "success_message": "Output has a square image shape and three color channels."
        },
        {
         "code": ">>> my_r = bw_my_img_cropped[:, :, 0]\n>>> my_g = bw_my_img_cropped[:, :, 1]\n>>> my_b = bw_my_img_cropped[:, :, 2]\n>>> assert np.isclose(my_r, my_g).all() and np.isclose(my_g, my_b).all() and np.isclose(my_b, my_r).all()\n",
         "hidden": false,
         "locked": false,
         "points": 1,
         "success_message": "Output image is black and white."
        }
       ],
       "scored": true,
       "setup": "",
       "teardown": "",
       "type": "doctest"
      }
     ]
    }
   }
  },
  "varInspector": {
   "cols": {
    "lenName": 16,
    "lenType": 16,
    "lenVar": 40
   },
   "kernels_config": {
    "python": {
     "delete_cmd_postfix": "",
     "delete_cmd_prefix": "del ",
     "library": "var_list.py",
     "varRefreshCmd": "print(var_dic_list())"
    },
    "r": {
     "delete_cmd_postfix": ") ",
     "delete_cmd_prefix": "rm(",
     "library": "var_list.r",
     "varRefreshCmd": "cat(var_dic_list()) "
    }
   },
   "types_to_exclude": [
    "module",
    "function",
    "builtin_function_or_method",
    "instance",
    "_Feature"
   ],
   "window_display": false
  },
  "vscode": {
   "interpreter": {
    "hash": "6a0ce902ec1b836c748f6f45e439265664d32456bd8f9cc005804ba2748aa9ba"
   }
  }
 },
 "nbformat": 4,
 "nbformat_minor": 4
}