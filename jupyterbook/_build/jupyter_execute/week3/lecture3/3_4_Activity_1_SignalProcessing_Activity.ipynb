{
 "cells": [
  {
   "attachments": {},
   "cell_type": "markdown",
   "metadata": {
    "editable": false
   },
   "source": [
    "# 💻 Activity 3.1: Indoor Temperature Control with Lists\n",
    "\n",
    "## Scenario:\n",
    "Imagine you are designing a program to manage the indoor temperature of a building to keep students and employees productive. The program analyzes the temperature in a room over time to know how much warm or cool air to add using the heating, ventilation, and air conditioning system. This data is critical for monitoring the machine's performance and predicting maintenance needs."
   ]
  },
  {
   "cell_type": "markdown",
   "metadata": {
    "editable": false
   },
   "source": [
    "1. **Data Collection**: The sensor data is collected at regular intervals and each data point is stored in a Python list. This creates a time-series dataset.\n",
    "\n",
    "A list named `temperature_data` contains temperature values (in degrees Celsius) recorded from various sensors in an office building. \n",
    "- These readings represent temperatures taken every hour over one day.\n",
    "- The values fluctuate, indicating natural variations in room temperature, perhaps due to changes in occupancy, time of day, or HVAC system operation."
   ]
  },
  {
   "cell_type": "code",
   "execution_count": null,
   "metadata": {
    "tags": [
     "skip-execution"
    ]
   },
   "outputs": [],
   "source": [
    "temperature_data = [22.5, 22.7, 22.6, 22.8, 23.0, 23.2, 23.1, 22.9, 22.7, 22.6,\n",
    "               22.5, 22.4, 22.3, 22.2, 22.1, 22.0, 21.9, 21.8, 21.7, 21.6,\n",
    "               21.5, 21.4, 21.3, 21.2, 21.1, 21.0]"
   ]
  },
  {
   "cell_type": "markdown",
   "metadata": {
    "editable": false
   },
   "source": [
    "2. **Data Processing**:  Lists allow for easy manipulation of these data. For example, a simple moving average filter function is shown below. This filter smooths the data by replacing each point with the average of it and its neighbors.\n",
    "\n",
    "- The function below takes as input arguments a list of data points (`data`) and a `window_size`.\n",
    "- The `window_size` determines how many data points are considered for calculating the average. It is set to 3 by default, meaning that each new data point is the average of itself and one neighbor on each side.\n",
    "- The function loops through each point in the data, calculates the average for the points within the window, and stores the result in `filtered_data`.\n",
    "- Edge cases (start and end of the list) are handled by adjusting the window size to fit within the bounds of the list.\n",
    "\n",
    "Name the function below `moving_average_filter_function` and provide `data` as the first input argument. "
   ]
  },
  {
   "cell_type": "code",
   "execution_count": null,
   "metadata": {
    "tags": [
     "skip-execution"
    ]
   },
   "outputs": [],
   "source": [
    "def ...(..., window_size=3):\n",
    "    \n",
    "    \"\"\"\n",
    "    Apply a simple moving average filter.\n",
    "\n",
    "    :param data: List of temperature data points.\n",
    "    :param window_size: Number of points to include in the moving average.\n",
    "                        Must be an odd number.\n",
    "    :return: List of filtered data points.\n",
    "    \"\"\"\n",
    "    \n",
    "    filtered_data = []\n",
    "    half_window = window_size // 2\n",
    "\n",
    "    for i in range(len(data)):\n",
    "        # Determine the moving window boundaries\n",
    "        start = max(i - half_window, 0)\n",
    "        end = min(i + half_window + 1, len(data))\n",
    "        \n",
    "        # Calculate the average within the window\n",
    "        window_average = sum(data[start:end]) / (end - start)\n",
    "        filtered_data.append(window_average)\n",
    "\n",
    "    return filtered_data"
   ]
  },
  {
   "cell_type": "markdown",
   "metadata": {
    "editable": false
   },
   "source": [
    "This function can be applied to `temperature_data` to smooth out short-term fluctuations and make trends more apparent. The choice of `window_size` can be adjusted based on how smooth you want the resulting data to be. A larger window size will produce smoother data but can also obscure short-term variations.\n",
    "\n",
    "Try applying the filter to `temperature_data` with a window size of 3:"
   ]
  },
  {
   "cell_type": "code",
   "execution_count": null,
   "metadata": {
    "tags": [
     "skip-execution"
    ]
   },
   "outputs": [],
   "source": [
    "moving_average_of_temperatures_window_3 = moving_average_filter_function(...)\n",
    "print(moving_average_of_temperatures_window_3)"
   ]
  },
  {
   "cell_type": "markdown",
   "metadata": {
    "editable": false
   },
   "source": [
    "Now try applying the filter to `temperature_data` with a window size of 6."
   ]
  },
  {
   "cell_type": "code",
   "execution_count": null,
   "metadata": {
    "tags": [
     "skip-execution"
    ]
   },
   "outputs": [],
   "source": [
    "moving_average_of_temperatures_window_6 = moving_average_filter_function(..., ...)\n",
    "print(moving_average_of_temperatures_window_6)"
   ]
  },
  {
   "cell_type": "markdown",
   "metadata": {
    "editable": false
   },
   "source": [
    "3. **Feature Extraction**: Extracting features like maximum, minimum, and mean value from the list. This might be helpful for evaluating the energy efficiency with which a building has been operated in the past. "
   ]
  },
  {
   "cell_type": "code",
   "execution_count": null,
   "metadata": {
    "tags": [
     "skip-execution"
    ]
   },
   "outputs": [],
   "source": [
    "max_value = ...\n",
    "min_value = ...\n",
    "average = ...\n",
    "\n",
    "print(f'The maximum temperature over the 24-hour period was {...}.')\n",
    "print(f'The minimum temperature over the 24-hour period was {...}.')\n",
    "print(f'The average temperature over the 24-hour period was {...}.')"
   ]
  },
  {
   "cell_type": "markdown",
   "metadata": {
    "editable": false
   },
   "source": [
    "4. **Data Visualization**: lists can be directly used with libraries like Matplotlib to create plots that help in visualizing the trends and patterns in the data."
   ]
  },
  {
   "cell_type": "code",
   "execution_count": null,
   "metadata": {
    "tags": [
     "skip-execution"
    ]
   },
   "outputs": [],
   "source": [
    "import matplotlib.pyplot as plt\n",
    "\n",
    "# plot original hourly temperature in black\n",
    "plt.plot(...,'k')\n",
    "# plot 3-hour average temperature in blue\n",
    "plt.plot(...,'b')\n",
    "# plot 6-hour average temperature in red\n",
    "plt.plot(...,'r')\n",
    "plt.title('Hourly Temperature')\n",
    "plt.xlabel('Time')\n",
    "plt.ylabel('Temperature (˚C)')\n",
    "plt.show()\n"
   ]
  },
  {
   "cell_type": "markdown",
   "metadata": {
    "editable": false
   },
   "source": [
    "5. **Integration with Advanced Analysis**: Lists can be converted to more complex data structures like NumPy arrays or Pandas DataFrames for more advanced analysis or machine learning applications."
   ]
  },
  {
   "cell_type": "code",
   "execution_count": null,
   "metadata": {
    "tags": [
     "skip-execution"
    ]
   },
   "outputs": [],
   "source": [
    "import numpy as np\n",
    "\n",
    "temperature_data_array = ..."
   ]
  },
  {
   "cell_type": "markdown",
   "metadata": {
    "editable": false
   },
   "source": [
    "## Benefits:\n",
    "- **Flexibility**: Lists are dynamic and can handle data of varying sizes easily.\n",
    "- **Ease of Use**: Python's syntax and list comprehensions make data processing tasks straightforward.\n",
    "- **Integration**: Lists can easily be integrated with other Python libraries for more advanced analysis.\n",
    "\n",
    "This application demonstrates how lists can be a powerful tool in engineering, particularly for handling and processing time-series data in signal processing, for example, in indoor temperature control."
   ]
  },
  {
   "cell_type": "markdown",
   "metadata": {
    "editable": false
   },
   "source": []
  }
 ],
 "metadata": {
  "celltoolbar": "Tags",
  "kernelspec": {
   "display_name": "ENGR_131",
   "language": "python",
   "name": "python3"
  },
  "language_info": {
   "codemirror_mode": {
    "name": "ipython",
    "version": 3
   },
   "file_extension": ".py",
   "mimetype": "text/x-python",
   "name": "python",
   "nbconvert_exporter": "python",
   "pygments_lexer": "ipython3",
   "version": "3.10.13"
  },
  "vscode": {
   "interpreter": {
    "hash": "775f42d2c624786ce087f304b32550a3a398124b7164551d1aea823130207773"
   }
  }
 },
 "nbformat": 4,
 "nbformat_minor": 2
}