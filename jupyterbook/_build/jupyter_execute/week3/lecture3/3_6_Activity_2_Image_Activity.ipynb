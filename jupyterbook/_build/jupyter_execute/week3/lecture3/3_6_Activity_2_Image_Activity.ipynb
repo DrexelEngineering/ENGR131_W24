{
 "cells": [
  {
   "attachments": {},
   "cell_type": "markdown",
   "metadata": {
    "editable": false
   },
   "source": [
    "# 💻 Activity 3.2: Drawing a Blue \"L\" on an Image using NumPy and Matplotlib\n"
   ]
  },
  {
   "cell_type": "markdown",
   "metadata": {
    "editable": false
   },
   "source": [
    "## Objective\n",
    "In this activity, you will practice using NumPy for image manipulation and learn how to draw on images using array indexing. You will load an image using Matplotlib, and then use NumPy to modify the image by drawing a blue letter \"L\" on the left side of the image. This exercise will help you understand how image data is structured and manipulated in Python.\n",
    "\n",
    "## Instructions\n",
    "\n",
    "Of course! Here are text-based instructions without code numbers, focusing on the modules needed:\n",
    "\n",
    "**Instructions:**\n",
    "\n",
    "**Step 1:** Import the necessary modules:\n",
    "- Import `matplotlib.pyplot` as `plt`.\n",
    "- Import `matplotlib.image` as `image`.\n",
    "- Import `numpy` as `np`.\n",
    "\n",
    "**Step 2:** Load the image:\n",
    "- Use `image.imread()` to load the Drexel University logo image from the specified file path.\n",
    "\n",
    "**Step 3:** Modify the image pixels:\n",
    "- Set specific rectangular regions in the image to a custom color using indexing. Use the following information for the color and position: \n",
    "\n",
    "   **Size:**\n",
    "   - from row 10 to row 59 and from column 250 to column 289\n",
    "\n",
    "   **Color:**\n",
    "   - Both rectangles have been modified to have the same custom color.\n",
    "   - The color is specified as `[0, 47, 108, 1]`, which represents an RGB color with the following values:\n",
    "   - Red: 0\n",
    "   - Green: 47\n",
    "   - Blue: 108\n",
    "   - Alpha (Transparency): 1 (indicating full opacity)\n",
    "\n",
    "**Step 4:** Display the modified image:\n",
    "- Use `plt.imshow()` to display the modified image.\n",
    "\n",
    "**Step 6:** Run the code to see the modified image with the specified color changes."
   ]
  },
  {
   "cell_type": "code",
   "execution_count": 1,
   "metadata": {
    "tags": [
     "skip-execution"
    ]
   },
   "outputs": [],
   "source": [
    "# import your functions here\n",
    "...\n",
    "\n",
    "# use imread to load the images\n",
    "\n",
    "# Write the letter L using indexing\n",
    "...\n",
    "\n",
    "# display the image\n",
    "..."
   ]
  },
  {
   "cell_type": "markdown",
   "metadata": {
    "editable": false
   },
   "source": [
    "## Challenge Problem: Can you draw the letter \"D\"?\n",
    "\n",
    "The letter D is much harder to draw on an image because it has a curve. Try to interact with ChatGPT to see if you can add a letter D on the left-hand side of the image."
   ]
  },
  {
   "cell_type": "code",
   "execution_count": null,
   "metadata": {
    "tags": [
     "skip-execution"
    ]
   },
   "outputs": [],
   "source": [
    "\n"
   ]
  }
 ],
 "metadata": {
  "celltoolbar": "Tags",
  "kernelspec": {
   "display_name": "ENGR_131",
   "language": "python",
   "name": "python3"
  },
  "language_info": {
   "codemirror_mode": {
    "name": "ipython",
    "version": 3
   },
   "file_extension": ".py",
   "mimetype": "text/x-python",
   "name": "python",
   "nbconvert_exporter": "python",
   "pygments_lexer": "ipython3",
   "version": "3.10.13"
  },
  "vscode": {
   "interpreter": {
    "hash": "775f42d2c624786ce087f304b32550a3a398124b7164551d1aea823130207773"
   }
  }
 },
 "nbformat": 4,
 "nbformat_minor": 2
}