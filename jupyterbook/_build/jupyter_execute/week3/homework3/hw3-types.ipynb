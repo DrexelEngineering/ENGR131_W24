{
 "cells": [
  {
   "cell_type": "code",
   "execution_count": null,
   "metadata": {
    "deletable": false,
    "editable": false,
    "tags": [
     "skip-execution"
    ]
   },
   "outputs": [],
   "source": [
    "# Initialize Otter\n",
    "import otter\n",
    "grader = otter.Notebook(\"hw3-types.ipynb\")"
   ]
  },
  {
   "attachments": {},
   "cell_type": "markdown",
   "metadata": {
    "editable": false
   },
   "source": [
    "# 🏡📝 Homework 3 - Understanding Data Types\n",
    "\n",
    "This assignment includes three quesitons on the topic of data types.\n",
    "\n"
   ]
  },
  {
   "cell_type": "markdown",
   "metadata": {
    "editable": false
   },
   "source": [
    "## Entering Your Information for Credit\n",
    "\n",
    "To receive credit for assignments it is important we can identify your work from others. To do this we will ask you to enter your information in the following code block.\n",
    "\n",
    "### Before you begin\n",
    "\n",
    "Run the block of code at the top of the notebook that imports and sets up the autograder. This will allow you to check your work. "
   ]
  },
  {
   "cell_type": "code",
   "execution_count": null,
   "metadata": {
    "tags": [
     "skip-execution"
    ]
   },
   "outputs": [],
   "source": [
    "# Please provide your first name, last name, Drexel ID, and Drexel email. Make sure these are provided as strings. \"STRINGS ARE TEXT ENCLOSED IN QUOTATION MARKS.\"\n",
    "\n",
    "# In the assignments you will see sections of code that you need to fill in that are marked with ... (three dots). Replace the ... with your code.\n",
    "first_name = ...\n",
    "last_name = ...\n",
    "drexel_id = ...\n",
    "drexel_email = ...\n"
   ]
  },
  {
   "cell_type": "code",
   "execution_count": null,
   "metadata": {
    "deletable": false,
    "editable": false,
    "tags": [
     "skip-execution"
    ]
   },
   "outputs": [],
   "source": [
    "grader.check(\"q0-Checking-Your-Name\")"
   ]
  },
  {
   "cell_type": "markdown",
   "metadata": {
    "deletable": false,
    "editable": false
   },
   "source": [
    "**Question 1: Creating a Password** \n",
    "\n",
    "In this problem you will implement a function that generates a password for a user based on their favorite color, pet's name and an integer number.\n",
    "\n",
    "If their favorite color is yellow, their pet is called Daisy, and their favorite number is 6, the suggested password should be: `\"yellow_Daisy6\"`.\n",
    "\n",
    "Write python code to do the following:\n",
    "\n",
    "* Inside the provided `create_password` function, combine the variables `fav_color`,`pet_name`, and `number` to make a password in the proper format specified above.  \n",
    "* Store the the final string in a variable called `password`.\n",
    "\n",
    "Your code replaces the prompt:  `...`"
   ]
  },
  {
   "cell_type": "code",
   "execution_count": null,
   "metadata": {
    "tags": [
     "skip-execution"
    ]
   },
   "outputs": [],
   "source": [
    "# This line creates a function called create_password which has 3 arguments: fav_color, pet_name, and number\n",
    "def create_password(fav_color, pet_name, number):\n",
    "    ...\n",
    "    # This line outputs from the function the password that you generated\n",
    "    return password\n",
    "\n",
    "# this line runs the function and prints its output\n",
    "print(create_password(\"yellow\", \"Daisy\", 6))"
   ]
  },
  {
   "cell_type": "code",
   "execution_count": null,
   "metadata": {
    "deletable": false,
    "editable": false,
    "tags": [
     "skip-execution"
    ]
   },
   "outputs": [],
   "source": [
    "grader.check(\"q1-password\")"
   ]
  },
  {
   "cell_type": "markdown",
   "metadata": {
    "deletable": false,
    "editable": false
   },
   "source": [
    "**Question 2: Caffeine Levels** \n",
    "\n",
    "A half-life is the amount of time it takes for a substance or entity to fall to half its original value. Caffeine has a half-life of about 6 hours in humans. The amount of caffeine left after $h$ hours, $C_h$, is approximated using the following equation:\n",
    "\n",
    "$$C_h = C_0 \\left( \\frac{1}{2} \\right) ^{ h/6 }$$\n",
    "\n",
    "Where $C_0$ is the initial amount of caffeine. \n",
    "\n",
    "You will write code that generates a brief report of the caffeine level for a given intial amount of caffeine (in mg) after a given amount amount of time (in hours). If the initial caffeine amount is 100 mg, and the given time passed is 12 hours, the report should be:\n",
    "\n",
    "`\"After 12.00 hours: 25.00 mg\"`\n",
    "\n",
    "Notice that both values should be reported with two digits after the decimal point. You should use a string formatting expression to do this.\n",
    "\n",
    "Example: if you have a variable `x = 5`, we can get the string `\"5.00\"` with the following expression:\n",
    "`f\"{x:.2f}\"`\n",
    "\n",
    "Write python code to do the following:\n",
    "\n",
    "* Inside the provided `caffeine_levels` function, calculate the final caffeine level based on the starting amount `amt` and the hours passed `hours`.  \n",
    "* Generate the report string and store it in a variable called `report`.\n",
    "\n",
    "Your code replaces the prompt: `...`"
   ]
  },
  {
   "cell_type": "code",
   "execution_count": null,
   "metadata": {
    "tags": [
     "skip-execution"
    ]
   },
   "outputs": [],
   "source": [
    "# This line creates a function called caffeine_levels which has 2 arguments: amt and hours\n",
    "def caffeine_levels(amt, hours):\n",
    "    ...\n",
    "    # this line outputs the report from the function\n",
    "    return report\n",
    "\n",
    "# this line runs the function and prints its output\n",
    "print(caffeine_levels(100, 12))"
   ]
  },
  {
   "cell_type": "code",
   "execution_count": null,
   "metadata": {
    "tags": [
     "skip-execution"
    ]
   },
   "outputs": [],
   "source": [
    "caffeine_levels(100, 12)"
   ]
  },
  {
   "cell_type": "code",
   "execution_count": null,
   "metadata": {
    "deletable": false,
    "editable": false,
    "tags": [
     "skip-execution"
    ]
   },
   "outputs": [],
   "source": [
    "grader.check(\"q2-caffeine\")"
   ]
  },
  {
   "cell_type": "markdown",
   "metadata": {
    "deletable": false,
    "editable": false
   },
   "source": [
    "**Question 3: Phone Number Parsing** \n",
    "\n",
    "This problem involves parsing a phone number. Parsing means to evaluate a collection of symbols. Parsing is an important task in many computer applications.\n",
    "\n",
    "You will write a program that takes a string containing a formatted phone number and parses it into a single integer. The format we will use for phone numbers is `\"XXX-XXX-XXXX\"` where `X` is an integer in $[0,9]$.\n",
    "\n",
    "For example, a given phone number string `\"123-456-7890\"` should result in the integer `1234567890`.\n",
    "\n",
    "Hint: use slicing to extract part of a string. If `S` = `\"123-456-7890\"`, we can use `S[0:3]` to slice just the first 3 characters of the string, producing `\"123\"`.\n",
    "\n",
    "\n",
    "Write python code to do the following:\n",
    "\n",
    "* Inside the provided `parse_phone_number` function, parse the formatted phone number string `S` to produce an integer \n",
    "* Store the resulting integer in a variable called `parsed`.\n",
    "\n",
    "Your code replaces the prompt: `...`"
   ]
  },
  {
   "cell_type": "code",
   "execution_count": null,
   "metadata": {
    "tags": [
     "skip-execution"
    ]
   },
   "outputs": [],
   "source": [
    "# This line creates a function called parse_phone_number which has 1 argument: S\n",
    "def parse_phone_number(S):\n",
    "    ...\n",
    "    # this line outputs the parsed number from the function\n",
    "    return parsed\n",
    "\n",
    "# this line runs the function and prints its output\n",
    "print(parse_phone_number(\"123-456-7890\"))"
   ]
  },
  {
   "cell_type": "code",
   "execution_count": null,
   "metadata": {
    "deletable": false,
    "editable": false,
    "tags": [
     "skip-execution"
    ]
   },
   "outputs": [],
   "source": [
    "grader.check(\"q3-phone-parsing\")"
   ]
  },
  {
   "cell_type": "markdown",
   "metadata": {
    "editable": false
   },
   "source": [
    "## Submitting Your Assignment\n",
    "\n",
    "To submit your assignment please use the following link the assignment on GitHub classroom.\n",
    "   \n",
    "Use this [link](https://classroom.github.com/a/KfNOk_LL) to navigate to the assignment on GitHub classroom.\n",
    "\n",
    "If you need further instructions on submitting your assignment please look at Lab 1. \n",
    "\n",
    "## Viewing your score\n",
    "\n",
    "Each `.ipynb` file you have uploaded will have a file with the name of your file + `Grade_Report.md`. You can view this file by clicking on the file name. This will show you the results of the autograder. \n",
    "\n",
    "We have both public and hidden tests. You will be able to see the score of both tests, but not the specific details of why the test passed or failed. \n",
    "\n",
    "```{note}\n",
    "In python and particularly jupyter notebooks it is common that during testing you run cells in a different order, or run cells and modify them. This can cause there to be local variables needed for your solution that would not be recreated on running your code again from scratch. Your assignment will be graded based on running your code from scratch. This means before you submit your assignment you should restart the kernel and run all cells. You can do this by clicking `Kernel` and selecting `Restart and Run All`. If you code does not run as expected after restarting the kernel and running all cells it means you have an error in your code. \n",
    "```\n",
    "\n",
    "## Fin"
   ]
  }
 ],
 "metadata": {
  "kernelspec": {
   "display_name": "Python 3",
   "language": "python",
   "name": "python3"
  },
  "language_info": {
   "codemirror_mode": {
    "name": "ipython",
    "version": 3
   },
   "file_extension": ".py",
   "mimetype": "text/x-python",
   "name": "python",
   "nbconvert_exporter": "python",
   "pygments_lexer": "ipython3",
   "version": "3.10.13"
  },
  "otter": {
   "OK_FORMAT": true,
   "tests": {
    "q0-Checking-Your-Name": {
     "name": "q0-Checking-Your-Name",
     "points": null,
     "suites": [
      {
       "cases": [
        {
         "code": ">>> def get_local_part(email):\n...     return email.split('@')[0]\n>>> local_part_email = get_local_part(drexel_email)\n>>> assert local_part_email == drexel_id, f\"The DrexelID extracted from the email '{local_part_email}' does not match the Drexel ID '{drexel_id}'.\"\n",
         "failure_message": "It does not appear that you entered your information correctly. Please try again.",
         "hidden": false,
         "locked": false,
         "points": 0,
         "success_message": "You have entered your information correctly."
        }
       ],
       "scored": true,
       "setup": "",
       "teardown": "",
       "type": "doctest"
      }
     ]
    },
    "q1-password": {
     "name": "q1-password",
     "points": 3,
     "suites": [
      {
       "cases": [
        {
         "code": ">>> assert type(create_password('red', 'blue', 0)) == type('test')\n",
         "hidden": false,
         "locked": false,
         "points": 1,
         "success_message": "Function correctly returns a string."
        },
        {
         "code": ">>> assert create_password('1', '2', 3) == '1_23'\n",
         "hidden": false,
         "locked": false,
         "points": 1,
         "success_message": "create_password(\"1\",\"2\",3) is correct."
        },
        {
         "code": ">>> assert create_password('orange', 'Smith', 76) == 'orange_Smith76'\n",
         "hidden": false,
         "locked": false,
         "points": 1,
         "success_message": "create_password(\"orange\",\"Smith\",76) is correct."
        }
       ],
       "scored": true,
       "setup": "",
       "teardown": "",
       "type": "doctest"
      }
     ]
    },
    "q2-caffeine": {
     "name": "q2-caffeine",
     "points": 4,
     "suites": [
      {
       "cases": [
        {
         "code": ">>> assert type(caffeine_levels(3, 3)) == type('test')\n",
         "hidden": false,
         "locked": false,
         "points": 1,
         "success_message": "Function correctly returns a string."
        },
        {
         "code": ">>> assert caffeine_levels(100, 12) == 'After 12.00 hours: 25.00 mg'\n",
         "hidden": false,
         "locked": false,
         "points": 1,
         "success_message": "caffeine_levels(100,12) is correct."
        },
        {
         "code": ">>> assert caffeine_levels(202.67, 1.3) == 'After 1.30 hours: 174.41 mg'\n",
         "hidden": false,
         "locked": false,
         "points": 1,
         "success_message": "caffeine_levels(202.67,1.3) is correct."
        },
        {
         "code": ">>> assert caffeine_levels(40, 0) == 'After 0.00 hours: 40.00 mg'\n",
         "hidden": false,
         "locked": false,
         "points": 1,
         "success_message": "caffeine_levels(40,0) is correct."
        }
       ],
       "scored": true,
       "setup": "",
       "teardown": "",
       "type": "doctest"
      }
     ]
    },
    "q3-phone-parsing": {
     "name": "q3-phone-parsing",
     "points": 4,
     "suites": [
      {
       "cases": [
        {
         "code": ">>> assert type(parse_phone_number('123-456-7890')) == type(42)\n",
         "hidden": false,
         "locked": false,
         "points": 1,
         "success_message": "Function correctly returns a string."
        },
        {
         "code": ">>> assert parse_phone_number('123-456-7890') == 1234567890\n",
         "hidden": false,
         "locked": false,
         "points": 1,
         "success_message": "parse_phone_number(\"123-456-7890\") is correct."
        },
        {
         "code": ">>> assert parse_phone_number('112-358-1321') == 1123581321\n",
         "hidden": false,
         "locked": false,
         "points": 1,
         "success_message": "parse_phone_number(\"112-358-1321\") is correct."
        },
        {
         "code": ">>> assert parse_phone_number('000-000-0042') == 42\n",
         "hidden": false,
         "locked": false,
         "points": 1,
         "success_message": "parse_phone_number(\"000-000-0042\") is correct."
        }
       ],
       "scored": true,
       "setup": "",
       "teardown": "",
       "type": "doctest"
      }
     ]
    }
   }
  },
  "varInspector": {
   "cols": {
    "lenName": 16,
    "lenType": 16,
    "lenVar": 40
   },
   "kernels_config": {
    "python": {
     "delete_cmd_postfix": "",
     "delete_cmd_prefix": "del ",
     "library": "var_list.py",
     "varRefreshCmd": "print(var_dic_list())"
    },
    "r": {
     "delete_cmd_postfix": ") ",
     "delete_cmd_prefix": "rm(",
     "library": "var_list.r",
     "varRefreshCmd": "cat(var_dic_list()) "
    }
   },
   "types_to_exclude": [
    "module",
    "function",
    "builtin_function_or_method",
    "instance",
    "_Feature"
   ],
   "window_display": false
  },
  "vscode": {
   "interpreter": {
    "hash": "31f2aee4e71d21fbe5cf8b01ff0e069b9275f58929596ceb00d14d90e3e16cd6"
   }
  }
 },
 "nbformat": 4,
 "nbformat_minor": 4
}