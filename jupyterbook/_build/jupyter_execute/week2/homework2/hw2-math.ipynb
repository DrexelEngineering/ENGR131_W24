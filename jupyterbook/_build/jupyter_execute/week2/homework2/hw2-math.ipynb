{
 "cells": [
  {
   "cell_type": "code",
   "execution_count": 1,
   "metadata": {
    "deletable": false,
    "editable": false
   },
   "outputs": [],
   "source": [
    "# Initialize Otter\n",
    "import otter\n",
    "grader = otter.Notebook(\"hw2-math.ipynb\")"
   ]
  },
  {
   "attachments": {},
   "cell_type": "markdown",
   "metadata": {
    "editable": false
   },
   "source": [
    "#  🏡📝 Homework 2 - Using Python to Solve Math Problems\n",
    "\n",
    "This assignment will explore using python's capabilities for mathematical calculations.\n",
    "\n"
   ]
  },
  {
   "cell_type": "markdown",
   "metadata": {
    "editable": false
   },
   "source": [
    "## Entering Your Information for Credit\n",
    "\n",
    "To receive credit for assignments it is important we can identify your work from others. To do this we will ask you to enter your information in the following code block.\n",
    "\n",
    "### Before you begin\n",
    "\n",
    "Run the block of code at the top of the notebook that imports and sets up the autograder. This will allow you to check your work. "
   ]
  },
  {
   "cell_type": "code",
   "execution_count": 2,
   "metadata": {
    "tags": []
   },
   "outputs": [],
   "source": [
    "# Please provide your first name, last name, Drexel ID, and Drexel email. Make sure these are provided as strings. \"STRINGS ARE TEXT ENCLOSED IN QUOTATION MARKS.\"\n",
    "\n",
    "# In the assignments you will see sections of code that you need to fill in that are marked with ... (three dots). Replace the ... with your code.\n",
    "first_name = ...\n",
    "last_name = ...\n",
    "drexel_id = ...\n",
    "drexel_email = ...\n"
   ]
  },
  {
   "cell_type": "code",
   "execution_count": null,
   "metadata": {
    "deletable": false,
    "editable": false,
    "tags": [
     "skip-execution"
    ]
   },
   "outputs": [],
   "source": [
    "grader.check(\"q0-Checking-Your-Name\")"
   ]
  },
  {
   "attachments": {},
   "cell_type": "markdown",
   "metadata": {
    "deletable": false,
    "editable": false
   },
   "source": [
    "**Question 1: Interest rate calculation** \n",
    "\n",
    "Let $r$ be a bank's interest rate in percent per year. An inital amount of money $P$, also called a principal, will mature to an amount of \n",
    "\n",
    "$$ P\\left(1 + \\frac{r}{100}\\right)^{n} $$\n",
    "\n",
    "after $n$ years have passed.\n",
    "\n",
    "Write python code to do the following:\n",
    "\n",
    "* Define variables: `P = 1000`, `r = 0.95`, and `n = 5`\n",
    "* Calculate the interest rate based on the equation above\n",
    "* Store the final value in a variable called `v`\n",
    "\n",
    "\n",
    "Note: Your code should be indented under what's called the function definition: `def question_1():`. This helps the autograder run all the code you write by calling a single name. (Functions will be taught in future weeks.). \n",
    "\n",
    "Note: Python cares about **Tabs** make sure the spacing is correct. If you get an `Indention Error` it likely means your spacing is not correct. \n",
    "\n",
    "Your solution should look like this: \n",
    "\n",
    "```python\n",
    "def question ():\n",
    "    line1 = line1_code # line 1 of code\n",
    "    line2 = line2_code # line 2 of code\n",
    "\n",
    "    return x, y, z # variables to return seperated by commas\n",
    "```\n",
    "\n",
    "Your code replaces the prompt:  `...`"
   ]
  },
  {
   "cell_type": "code",
   "execution_count": 3,
   "metadata": {
    "tags": []
   },
   "outputs": [],
   "source": [
    "# define a function called question_1 to be used for grading\n",
    "def question_1():\n",
    "\n",
    "    ...\n",
    "\n",
    "    # The following line outputs these values from the function so that they can be accessed by the grader\n",
    "    return P, r, n, v\n"
   ]
  },
  {
   "cell_type": "code",
   "execution_count": null,
   "metadata": {
    "deletable": false,
    "editable": false,
    "tags": [
     "skip-execution"
    ]
   },
   "outputs": [],
   "source": [
    "grader.check(\"q1-interest\")"
   ]
  },
  {
   "attachments": {},
   "cell_type": "markdown",
   "metadata": {
    "deletable": false,
    "editable": false
   },
   "source": [
    "**Question 2: Musical note frequencies** \n",
    "\n",
    "On a piano, each key has a fundamental frequency $f$. Each higher key (black or white) has a fundamental frequency of \n",
    "\n",
    "$$ f * 2^{(\\frac{n}{12})} $$ \n",
    "\n",
    "where $n$ is the distance away from the starting key. The key $A_4$, near the center of the piano keyboard, has a fundamental frequency of 440 Hz. Your task is to calculate the fundamental frequency of $D_5$, which is 5 keys higher. \n",
    "\n",
    "Write python code to do the following:\n",
    "\n",
    "* Define variables: `f = 440` and `n = 5`\n",
    "* Calculate the interest rate based on the equation above\n",
    "* Store the frequency of $D_5$ in a variable called `d`\n",
    "\n",
    "Again, your code should be indented under the function definition: `def question_2():`.\n",
    "\n",
    "Your code replaces the prompt: `...`"
   ]
  },
  {
   "cell_type": "code",
   "execution_count": 4,
   "metadata": {
    "tags": []
   },
   "outputs": [],
   "source": [
    "# define a function called question_2 to be used for grading\n",
    "def question_2():\n",
    "\n",
    "    ...\n",
    "\n",
    "    # output these values from the function so that they can be accessed by the grader\n",
    "    return f, n, d"
   ]
  },
  {
   "cell_type": "code",
   "execution_count": null,
   "metadata": {
    "deletable": false,
    "editable": false,
    "tags": [
     "skip-execution"
    ]
   },
   "outputs": [],
   "source": [
    "grader.check(\"q2-music\")"
   ]
  },
  {
   "attachments": {},
   "cell_type": "markdown",
   "metadata": {
    "deletable": false,
    "editable": false
   },
   "source": [
    "**Question 3: Using Python as a calculator** \n",
    "\n",
    "We have seen how Python can be used to evaluate mathematical expressions. This problem provides practice incorporating various mathematical functions and constants.  \n",
    "\n",
    "\n",
    "Write python code to do the following:\n",
    "\n",
    "* Define variables: `a = 3`, `b = -6`, `c = 4`, and `x = 2`\n",
    "* For each of the quantities $E_0$ through $E_7$, construct a one-line Python expression that computes the value and assigns it to a variable. (You should perform your computations using the variable names $a$, $b$, and $c$ instead of their numerical values). In Python, we will use variable names `E0` through `E7` to store the values $E_0$ through $E_7$. Definitions of the variables `E0` through `E7` have been started for you in the template.\n",
    "\n",
    "$\\text{i.  } E_0 = \\sqrt{a^2+b^2+c^2}$\n",
    "\n",
    "$\\text{ii.  } E_1 = \\ln(3x-a)$\n",
    "\n",
    "$\\text{iii.  } E_2 = \\log_{10} \\left(3 \\left|b\\right|+\\frac{c}{5} \\right)$\n",
    "\n",
    "$\\text{iv.  } E_3 = \\left( ax+\\frac{ab}{c} \\right)^{1/3}$\n",
    "\n",
    "$\\text{v.  } E_4 = \\frac{x^2+1}{(ax-1)\\left|b-e^x\\right|}$\n",
    "\n",
    "$\\text{vi.  }  E_5 = \\left( cos \\left( \\frac{\\sqrt{a}}{3}\\pi \\right) \\right)^2+\\cos \\left( \\frac{\\sqrt{a}}{3}\\pi \\right)^2$\n",
    "\n",
    "$\\text{vii.  }  E_6 = \\arccos(\\cos(x))$\n",
    "    \n",
    "$\\text{viii.  }  E_7 = \\frac{a+2c}{\\sin \\left( \\frac{b+2c}{\\sqrt{a^2+b^2+c^2}} \\right) }$\n",
    "\n",
    "\n",
    "You should use the `NumPy` library for the required mathematical functions. You can discover the necessary functions using the [Numpy Documentation](https://numpy.org/doc/stable/reference/)\n",
    "\n",
    "We have used the standard `NumPy` convention `import numpy as np`, thus, for example the `cos` function is used by typing `np.cos(<value>)`\n",
    "\n",
    "Again, your code should be indented under the function definition: `def question_3():`.\n",
    "\n",
    "Your code replaces the prompt:  `...`"
   ]
  },
  {
   "cell_type": "code",
   "execution_count": 5,
   "metadata": {
    "tags": []
   },
   "outputs": [],
   "source": [
    "# import the np library to be used\n",
    "import numpy as np\n",
    "\n",
    "# define a function called question_3 to be used for grading\n",
    "def question_3():\n",
    "\n",
    "    a = ...\n",
    "    b = ...\n",
    "    c = ...\n",
    "    x = ...\n",
    "\n",
    "    E0 = ...\n",
    "    E1 = ...\n",
    "    E2 = ...\n",
    "    E3 = ...\n",
    "    E4 = ...\n",
    "    E5 = ...\n",
    "    E6 = ...\n",
    "    E7 = ...\n",
    "\n",
    "    # output these values from the function so that they can be accessed by the grader\n",
    "    return a, b, c, x, E0, E1, E2, E3, E4, E5, E6, E7"
   ]
  },
  {
   "cell_type": "code",
   "execution_count": null,
   "metadata": {
    "deletable": false,
    "editable": false,
    "tags": [
     "skip-execution"
    ]
   },
   "outputs": [],
   "source": [
    "grader.check(\"q3-calculator\")"
   ]
  },
  {
   "cell_type": "markdown",
   "metadata": {
    "editable": false
   },
   "source": [
    "## Submitting Your Assignment\n",
    "\n",
    "To submit your assignment please use the following link the assignment on GitHub classroom.\n",
    "   \n",
    "Use this [link](https://classroom.github.com/a/m9xvBERd) to navigate to the assignment on GitHub classroom.\n",
    "\n",
    "If you need further instructions on submitting your assignment please look at Lab 1. \n",
    "\n",
    "## Viewing your score\n",
    "\n",
    "Each `.ipynb` file you have uploaded will have a file with the name of your file + `Grade_Report.md`. You can view this file by clicking on the file name. This will show you the results of the autograder. \n",
    "\n",
    "We have both public and hidden tests. You will be able to see the score of both tests, but not the specific details of why the test passed or failed. \n",
    "\n",
    "```{note}\n",
    "In python and particularly jupyter notebooks it is common that during testing you run cells in a different order, or run cells and modify them. This can cause there to be local variables needed for your solution that would not be recreated on running your code again from scratch. Your assignment will be graded based on running your code from scratch. This means before you submit your assignment you should restart the kernel and run all cells. You can do this by clicking `Kernel` and selecting `Restart and Run All`. If you code does not run as expected after restarting the kernel and running all cells it means you have an error in your code. \n",
    "```\n",
    "\n",
    "## Fin"
   ]
  }
 ],
 "metadata": {
  "kernelspec": {
   "display_name": "base",
   "language": "python",
   "name": "python3"
  },
  "language_info": {
   "codemirror_mode": {
    "name": "ipython",
    "version": 3
   },
   "file_extension": ".py",
   "mimetype": "text/x-python",
   "name": "python",
   "nbconvert_exporter": "python",
   "pygments_lexer": "ipython3",
   "version": "3.10.13"
  },
  "otter": {
   "OK_FORMAT": true,
   "tests": {
    "q0-Checking-Your-Name": {
     "name": "q0-Checking-Your-Name",
     "points": null,
     "suites": [
      {
       "cases": [
        {
         "code": ">>> def get_local_part(email):\n...     return email.split('@')[0]\n>>> local_part_email = get_local_part(drexel_email)\n>>> assert local_part_email == drexel_id, f\"The DrexelID extracted from the email '{local_part_email}' does not match the Drexel ID '{drexel_id}'.\"\n",
         "failure_message": "It does not appear that you entered your information correctly. Please try again.",
         "hidden": false,
         "locked": false,
         "points": 0,
         "success_message": "You have entered your information correctly."
        }
       ],
       "scored": true,
       "setup": "",
       "teardown": "",
       "type": "doctest"
      }
     ]
    },
    "q1-interest": {
     "name": "q1-interest",
     "points": 2,
     "suites": [
      {
       "cases": [
        {
         "code": ">>> (P, r, n, v) = question_1()\n>>> assert P == 1000 and r == 0.95 and (n == 5)\n",
         "failure_message": "Variables incorrectly defined.",
         "hidden": false,
         "locked": false,
         "points": 1,
         "success_message": "Variables correctly defined."
        },
        {
         "code": ">>> import numpy as np\n>>> (P, r, n, v) = question_1()\n>>> assert np.isclose(sum([P, r, n, v]), 2054.3611145526907)\n",
         "failure_message": "Final answer is incorrect.",
         "hidden": false,
         "locked": false,
         "points": 1,
         "success_message": "Final answer is correct."
        }
       ],
       "scored": true,
       "setup": "",
       "teardown": "",
       "type": "doctest"
      }
     ]
    },
    "q2-music": {
     "name": "q2-music",
     "points": 2,
     "suites": [
      {
       "cases": [
        {
         "code": ">>> (f, n, d) = question_2()\n>>> assert f == 440 and n == 5\n",
         "failure_message": "Variables incorrectly defined.",
         "hidden": false,
         "locked": false,
         "points": 1,
         "success_message": "Variables correctly defined."
        },
        {
         "code": ">>> import numpy as np\n>>> (f, n, d) = question_2()\n>>> assert np.isclose(sum([f, n, d]), 1032.329535834815)\n",
         "failure_message": "Final answer is incorrect.",
         "hidden": false,
         "locked": false,
         "points": 1,
         "success_message": "Final answer is correct."
        }
       ],
       "scored": true,
       "setup": "",
       "teardown": "",
       "type": "doctest"
      }
     ]
    },
    "q3-calculator": {
     "name": "q3-calculator",
     "points": 11,
     "suites": [
      {
       "cases": [
        {
         "code": ">>> (a, b, c, x, E0, E1, E2, E3, E4, E5, E6, E7) = question_3()\n>>> assert a == 3 and b == -6.0 and (c == 4) and (x == 2)\n",
         "failure_message": "Variables incorrectly defined.",
         "hidden": false,
         "locked": false,
         "points": 1,
         "success_message": "Variables correctly defined."
        },
        {
         "code": ">>> import numpy as np\n>>> (a, b, c, x, E0, E1, E2, E3, E4, E5, E6, E7) = question_3()\n>>> assert np.isclose(sum([a, b, c, x, E0]), 10.810249675906654)\n",
         "failure_message": "E0 answer incorrect.",
         "hidden": false,
         "locked": false,
         "points": 1,
         "success_message": "E0 answer correct."
        },
        {
         "code": ">>> import numpy as np\n>>> (a, b, c, x, E0, E1, E2, E3, E4, E5, E6, E7) = question_3()\n>>> assert np.isclose(sum([a, b, c, x, E1]), 4.09861228866811)\n",
         "failure_message": "E1 answer incorrect.",
         "hidden": false,
         "locked": false,
         "points": 1,
         "success_message": "E1 answer correct."
        },
        {
         "code": ">>> import numpy as np\n>>> (a, b, c, x, E0, E1, E2, E3, E4, E5, E6, E7) = question_3()\n>>> assert np.isclose(sum([a, b, c, x, E2]), 4.27415784926368)\n",
         "failure_message": "E2 answer incorrect.",
         "hidden": false,
         "locked": false,
         "points": 1,
         "success_message": "E2 answer correct."
        },
        {
         "code": ">>> import numpy as np\n>>> (a, b, c, x, E0, E1, E2, E3, E4, E5, E6, E7) = question_3()\n>>> assert np.isclose(sum([a, b, c, x, E3]), 4.144714242553332)\n",
         "failure_message": "E3 answer incorrect.",
         "hidden": false,
         "locked": false,
         "points": 1,
         "success_message": "E3 answer correct."
        },
        {
         "code": ">>> import numpy as np\n>>> (a, b, c, x, E0, E1, E2, E3, E4, E5, E6, E7) = question_3()\n>>> assert np.isclose(sum([a, b, c, x, E4]), 3.074687863924916)\n",
         "failure_message": "E4 answer incorrect.",
         "hidden": false,
         "locked": false,
         "points": 1,
         "success_message": "E4 answer correct."
        },
        {
         "code": ">>> import numpy as np\n>>> (a, b, c, x, E0, E1, E2, E3, E4, E5, E6, E7) = question_3()\n>>> assert np.isclose(sum([a, b, c, x, E5]), 2.0688699529757812)\n",
         "failure_message": "E5 answer incorrect.",
         "hidden": false,
         "locked": false,
         "points": 1,
         "success_message": "E5 answer correct."
        },
        {
         "code": ">>> import numpy as np\n>>> (a, b, c, x, E0, E1, E2, E3, E4, E5, E6, E7) = question_3()\n>>> assert np.isclose(sum([a, b, c, x, E6]), 5.0)\n",
         "failure_message": "E6 answer incorrect.",
         "hidden": false,
         "locked": false,
         "points": 1,
         "success_message": "E6 answer correct."
        },
        {
         "code": ">>> import numpy as np\n>>> (a, b, c, x, E0, E1, E2, E3, E4, E5, E6, E7) = question_3()\n>>> assert np.isclose(sum([a, b, c, x, E7]), 46.42945834082076)\n",
         "failure_message": "E7 answer incorrect.",
         "hidden": false,
         "locked": false,
         "points": 1,
         "success_message": "E7 answer correct."
        }
       ],
       "scored": true,
       "setup": "",
       "teardown": "",
       "type": "doctest"
      }
     ]
    }
   }
  },
  "varInspector": {
   "cols": {
    "lenName": 16,
    "lenType": 16,
    "lenVar": 40
   },
   "kernels_config": {
    "python": {
     "delete_cmd_postfix": "",
     "delete_cmd_prefix": "del ",
     "library": "var_list.py",
     "varRefreshCmd": "print(var_dic_list())"
    },
    "r": {
     "delete_cmd_postfix": ") ",
     "delete_cmd_prefix": "rm(",
     "library": "var_list.r",
     "varRefreshCmd": "cat(var_dic_list()) "
    }
   },
   "types_to_exclude": [
    "module",
    "function",
    "builtin_function_or_method",
    "instance",
    "_Feature"
   ],
   "window_display": false
  },
  "vscode": {
   "interpreter": {
    "hash": "d7d046052154998ca7dd3d9af52f7220fee50748c9a05b256540159ca8eb430c"
   }
  }
 },
 "nbformat": 4,
 "nbformat_minor": 4
}