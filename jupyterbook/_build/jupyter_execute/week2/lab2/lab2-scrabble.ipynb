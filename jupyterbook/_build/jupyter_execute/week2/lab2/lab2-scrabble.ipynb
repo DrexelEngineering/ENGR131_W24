{
 "cells": [
  {
   "cell_type": "code",
   "execution_count": 1,
   "metadata": {
    "deletable": false,
    "editable": false
   },
   "outputs": [],
   "source": [
    "# Initialize Otter\n",
    "import otter\n",
    "grader = otter.Notebook(\"lab2-scrabble.ipynb\")"
   ]
  },
  {
   "attachments": {},
   "cell_type": "markdown",
   "metadata": {
    "editable": false
   },
   "source": [
    "# 🧪🖥 Lab 2: Scrabble Score Calculator\n",
    "\n",
    "In this lab you will use the map and reduce functions to calculate scores in the game Scrabble."
   ]
  },
  {
   "cell_type": "markdown",
   "metadata": {
    "editable": false
   },
   "source": [
    "## Entering Your Information for Credit\n",
    "\n",
    "To receive credit for assignments it is important we can identify your work from others. To do this we will ask you to enter your information in the following code block.\n",
    "\n",
    "### Before you begin\n",
    "\n",
    "Run the block of code at the top of the notebook that imports and sets up the autograder. This will allow you to check your work. "
   ]
  },
  {
   "cell_type": "code",
   "execution_count": 2,
   "metadata": {
    "tags": []
   },
   "outputs": [],
   "source": [
    "# Please provide your first name, last name, Drexel ID, and Drexel email. Make sure these are provided as strings. \"STRINGS ARE TEXT ENCLOSED IN QUOTATION MARKS.\"\n",
    "\n",
    "# In the assignments you will see sections of code that you need to fill in that are marked with ... (three dots). Replace the ... with your code.\n",
    "first_name = ...\n",
    "last_name = ...\n",
    "drexel_id = ...\n",
    "drexel_email = ...\n"
   ]
  },
  {
   "cell_type": "code",
   "execution_count": null,
   "metadata": {
    "deletable": false,
    "editable": false,
    "tags": [
     "skip-execution"
    ]
   },
   "outputs": [],
   "source": [
    "grader.check(\"q0-Checking-Your-Name\")"
   ]
  },
  {
   "cell_type": "markdown",
   "metadata": {
    "editable": false
   },
   "source": [
    "### Intro to Scrabble\n",
    "\n",
    "Scrabble is a board game in which players lay tiles containing letters to spell words. Each letter has an associated point value based on the rarity of the letter. For instance, the very common letter `E` is worth only one point, while the much rarer `Q` is worth 10 points. The letter scores are shown in the table below:\n",
    "\n",
    "<center>\n",
    "\n",
    "| Score | Letters |\n",
    "| --- | --- |\n",
    "| 1 point | A, E, I, O, U, L, N, S, T, R |\n",
    "| 2 points | D, G |\n",
    "| 3 points | B, C, M, P |\n",
    "| 4 points | F, H, V, W, Y |\n",
    "| 5 points | K |\n",
    "| 8 points | J, X |\n",
    "| 10 points | Q, Z |\n",
    "\n",
    "</center>\n",
    "\n",
    "\n"
   ]
  },
  {
   "cell_type": "markdown",
   "metadata": {
    "deletable": false,
    "editable": false
   },
   "source": [
    "**Task 1: Letter score** \n",
    "\n",
    "Your first task is to complete a function which takes in a letter and outputs the score for that letter. A dictionary can be used to store the information from the scoring table above.   \n",
    "\n",
    "Write python code to do the following:\n",
    "\n",
    "* Inside the provided `letter_score` function, use the provided scores dictionary `S` to determine the score for the provided letter called `letter`.\n",
    "* Store the score in a variable called `score`.\n",
    "\n",
    "Note: you may assume that the input letter will always be uppercase.\n",
    "\n",
    "Your code replaces the prompt:  `...`"
   ]
  },
  {
   "cell_type": "code",
   "execution_count": null,
   "metadata": {
    "tags": [
     "skip-execution"
    ]
   },
   "outputs": [],
   "source": [
    "# this line creates a function called letter_score with one argument: letter\n",
    "def letter_score(letter):\n",
    "    # create the scoring dictionary of letter scores\n",
    "    S = {\n",
    "        \"A\" : 1,\n",
    "        \"B\" : 3,\n",
    "        \"C\" : 3,\n",
    "        \"D\" : 2,\n",
    "        \"E\" : 1,\n",
    "        \"F\" : 4,\n",
    "        \"G\" : 2,\n",
    "        \"H\" : 4,\n",
    "        \"I\" : 1,\n",
    "        \"J\" : 8,\n",
    "        \"K\" : 5,\n",
    "        \"L\" : 1,\n",
    "        \"M\" : 3,\n",
    "        \"N\" : 1,\n",
    "        \"O\" : 1,\n",
    "        \"P\" : 3,\n",
    "        \"Q\" : 10,\n",
    "        \"R\" : 1,\n",
    "        \"S\" : 1,\n",
    "        \"T\" : 1,\n",
    "        \"U\" : 1,\n",
    "        \"V\" : 4,\n",
    "        \"W\" : 4,\n",
    "        \"X\" : 8,\n",
    "        \"Y\" : 4,\n",
    "        \"Z\" : 10,\n",
    "    }\n",
    "    ...\n",
    "    # this line outputs the score from the function\n",
    "    return score\n",
    "\n",
    "# this runs the letter score function with input \"Q\" and prints its output\n",
    "print(letter_score(\"Q\"))"
   ]
  },
  {
   "cell_type": "code",
   "execution_count": null,
   "metadata": {
    "deletable": false,
    "editable": false,
    "tags": [
     "skip-execution"
    ]
   },
   "outputs": [],
   "source": [
    "grader.check(\"task1-letter-score\")"
   ]
  },
  {
   "cell_type": "markdown",
   "metadata": {
    "deletable": false,
    "editable": false
   },
   "source": [
    "**Task 2: Letter scores** \n",
    "\n",
    "Now that you have a function that computes the score for a letter, you can use Python's built-in `map` function to apply it to each letter in a word to get a list of letter scores. \n",
    "\n",
    "First you will need to convert the string `word` into a list of the individual letters. This can be achieved with `list(word)`. \n",
    "\n",
    "Next, use the `map` function to apply the `letter_score` function to each letter in the list. Recall how the `map` function is used: If you have a function `f` and a list `L = [a,b,c]`, you can do `map(f,L)` which results in the mapped list `[f(a), f(b), f(c)]`. \n",
    "\n",
    "Write python code to do the following:\n",
    "\n",
    "* Inside the provided `letter_scores` function, first convert the argument string `word` into a list.\n",
    "* Map the `letter_score` function onto the list to get a list of letter scores. \n",
    "* Store the final list of letter scores in a variable called `score_list`.\n",
    "\n",
    "Your code replaces the prompt:  `...`"
   ]
  },
  {
   "cell_type": "code",
   "execution_count": null,
   "metadata": {
    "tags": [
     "skip-execution"
    ]
   },
   "outputs": [],
   "source": [
    "# this line creates a function called letter_scores with one argument: word\n",
    "def letter_scores(word):\n",
    "    ...\n",
    "    # this line outputs the score list from the function\n",
    "    return list(score_list)\n",
    "\n",
    "# this runs the letter_scores function with input \"EXAMPLE\" and prints out the resulting list of letter scores\n",
    "print(letter_scores(\"EXAMPLE\"))"
   ]
  },
  {
   "cell_type": "code",
   "execution_count": null,
   "metadata": {
    "deletable": false,
    "editable": false,
    "tags": [
     "skip-execution"
    ]
   },
   "outputs": [],
   "source": [
    "grader.check(\"task2-letter-scores\")"
   ]
  },
  {
   "attachments": {},
   "cell_type": "markdown",
   "metadata": {
    "deletable": false,
    "editable": false
   },
   "source": [
    "**Task 3: Word score** \n",
    "\n",
    "The last thing you need to do is sum the list of indivudal letters scores to get the total point value for the entire word.\n",
    "\n",
    "To do this you should use the `sum` function. This adds all the elements of a list and returns the sum.\n",
    "\n",
    "Write python code to do the following:\n",
    "\n",
    "* Inside the provided `word_score` function, first call the `letter_scores` function on the input `word` to get the list of individual letter scores.\n",
    "* Next use the `sum` function on the list and `return` the final sum. \n",
    "\n",
    "Your code replaces the prompt:  `...`"
   ]
  },
  {
   "cell_type": "code",
   "execution_count": null,
   "metadata": {
    "tags": [
     "skip-execution"
    ]
   },
   "outputs": [],
   "source": [
    "def word_score(word):\n",
    "    ...\n",
    "\n",
    "# use this to check your results\n",
    "word_score(\"ZEBRA\")"
   ]
  },
  {
   "cell_type": "code",
   "execution_count": null,
   "metadata": {
    "deletable": false,
    "editable": false,
    "tags": [
     "skip-execution"
    ]
   },
   "outputs": [],
   "source": [
    "grader.check(\"task3-word-score\")"
   ]
  },
  {
   "cell_type": "markdown",
   "metadata": {
    "editable": false
   },
   "source": [
    "## Submitting Your Assignment\n",
    "\n",
    "To submit your assignment please use the following link the assignment on GitHub classroom.\n",
    "   \n",
    "Use this [link](https://classroom.github.com/a/lGJxFSpe) to navigate to the assignment on GitHub classroom.\n",
    "\n",
    "If you need further instructions on submitting your assignment please look at Lab 1. \n",
    "\n",
    "## Viewing your score\n",
    "\n",
    "Each `.ipynb` file you have uploaded will have a file with the name of your file + `Grade_Report.md`. You can view this file by clicking on the file name. This will show you the results of the autograder. \n",
    "\n",
    "We have both public and hidden tests. You will be able to see the score of both tests, but not the specific details of why the test passed or failed. \n",
    "\n",
    "```{note}\n",
    "In python and particularly jupyter notebooks it is common that during testing you run cells in a different order, or run cells and modify them. This can cause there to be local variables needed for your solution that would not be recreated on running your code again from scratch. Your assignment will be graded based on running your code from scratch. This means before you submit your assignment you should restart the kernel and run all cells. You can do this by clicking `Kernel` and selecting `Restart and Run All`. If you code does not run as expected after restarting the kernel and running all cells it means you have an error in your code. \n",
    "```\n",
    "\n",
    "## Fin"
   ]
  },
  {
   "cell_type": "markdown",
   "metadata": {
    "editable": false
   },
   "source": []
  }
 ],
 "metadata": {
  "kernelspec": {
   "display_name": "Python 3",
   "language": "python",
   "name": "python3"
  },
  "language_info": {
   "codemirror_mode": {
    "name": "ipython",
    "version": 3
   },
   "file_extension": ".py",
   "mimetype": "text/x-python",
   "name": "python",
   "nbconvert_exporter": "python",
   "pygments_lexer": "ipython3",
   "version": "3.11.8"
  },
  "otter": {
   "OK_FORMAT": true,
   "tests": {
    "q0-Checking-Your-Name": {
     "name": "q0-Checking-Your-Name",
     "points": null,
     "suites": [
      {
       "cases": [
        {
         "code": ">>> def get_local_part(email):\n...     return email.split('@')[0]\n>>> local_part_email = get_local_part(drexel_email)\n>>> assert local_part_email == drexel_id, f\"The DrexelID extracted from the email '{local_part_email}' does not match the Drexel ID '{drexel_id}'.\"\n",
         "failure_message": "It does not appear that you entered your information correctly. Please try again.",
         "hidden": false,
         "locked": false,
         "points": 0,
         "success_message": "You have entered your information correctly."
        }
       ],
       "scored": true,
       "setup": "",
       "teardown": "",
       "type": "doctest"
      }
     ]
    },
    "task1-letter-score": {
     "name": "task1-letter-score",
     "points": null,
     "suites": [
      {
       "cases": [
        {
         "code": ">>> assert letter_score('A') == 1\n",
         "failure_message": "letter_score(\"A\") is incorrect.",
         "hidden": false,
         "locked": false,
         "points": 1,
         "success_message": "letter_score(\"A\") is correct."
        },
        {
         "code": ">>> assert letter_score('X') == 8\n",
         "failure_message": "letter_score(\"X\") is incorrect.",
         "hidden": false,
         "locked": false,
         "points": 1,
         "success_message": "letter_score(\"X\") is correct."
        },
        {
         "code": ">>> assert letter_score('Z') == 10\n",
         "failure_message": "letter_score(\"Z\") is incorrect.",
         "hidden": false,
         "locked": false,
         "points": 1,
         "success_message": "letter_score(\"Z\") is correct."
        },
        {
         "code": ">>> assert letter_score('D') == 2\n",
         "failure_message": "letter_score(\"D\") is incorrect.",
         "hidden": false,
         "locked": false,
         "points": 1,
         "success_message": "letter_score(\"D\") is correct."
        },
        {
         "code": ">>> assert letter_score('C') == 3\n",
         "failure_message": "letter_score(\"C\") is incorrect.",
         "hidden": false,
         "locked": false,
         "points": 1,
         "success_message": "letter_score(\"C\") is correct."
        }
       ],
       "scored": true,
       "setup": "",
       "teardown": "",
       "type": "doctest"
      }
     ]
    },
    "task2-letter-scores": {
     "name": "task2-letter-scores",
     "points": null,
     "suites": [
      {
       "cases": [
        {
         "code": ">>> assert letter_scores('AND') == [1, 1, 2]\n",
         "failure_message": "letter_scores(\"AND\") is incorrect.",
         "hidden": false,
         "locked": false,
         "points": 1,
         "success_message": "letter_scores(\"AND\") is correct."
        },
        {
         "code": ">>> assert letter_scores('HYPOTHESIS') == [4, 4, 3, 1, 1, 4, 1, 1, 1, 1]\n",
         "failure_message": "letter_scores(\"HYPOTHESIS\") is incorrect.",
         "hidden": false,
         "locked": false,
         "points": 1,
         "success_message": "letter_scores(\"HYPOTHESIS\") is correct."
        },
        {
         "code": ">>> assert letter_scores('CHEMISTRY') == [3, 4, 1, 3, 1, 1, 1, 1, 4]\n",
         "failure_message": "letter_scores(\"CHEMISTRY\") is incorrect.",
         "hidden": false,
         "locked": false,
         "points": 1,
         "success_message": "letter_scores(\"CHEMISTRY\") is correct."
        },
        {
         "code": ">>> assert letter_scores('DOOR') == [2, 1, 1, 1]\n",
         "failure_message": "letter_scores(\"DOOR\") is incorrect.",
         "hidden": false,
         "locked": false,
         "points": 1,
         "success_message": "letter_scores(\"DOOR\") is correct."
        },
        {
         "code": ">>> assert letter_scores('FIVE') == [4, 1, 4, 1]\n",
         "failure_message": "letter_scores(\"FIVE\") is incorrect.",
         "hidden": false,
         "locked": false,
         "points": 1,
         "success_message": "letter_scores(\"FIVE\") is correct."
        }
       ],
       "scored": true,
       "setup": "",
       "teardown": "",
       "type": "doctest"
      }
     ]
    },
    "task3-word-score": {
     "name": "task3-word-score",
     "points": null,
     "suites": [
      {
       "cases": [
        {
         "code": ">>> assert word_score('ZEBRA') == 16\n",
         "failure_message": "word_score(\"ZEBRA\") is incorrect.",
         "hidden": false,
         "locked": false,
         "points": 1,
         "success_message": "word_score(\"ZEBRA\") is correct."
        },
        {
         "code": ">>> assert word_score('MACHINE') == 14\n",
         "failure_message": "word_score(\"MACHINE\") is incorrect.",
         "hidden": false,
         "locked": false,
         "points": 1,
         "success_message": "word_score(\"MACHINE\") is correct."
        },
        {
         "code": ">>> assert word_score('CORRUPT') == 11\n",
         "failure_message": "word_score(\"CORRUPT\") is incorrect.",
         "hidden": false,
         "locked": false,
         "points": 1,
         "success_message": "word_score(\"CORRUPT\") is correct."
        },
        {
         "code": ">>> assert word_score('MOVIE') == 10\n",
         "failure_message": "word_score(\"MOVIE\") is incorrect.",
         "hidden": false,
         "locked": false,
         "points": 1,
         "success_message": "word_score(\"MOVIE\") is correct."
        }
       ],
       "scored": true,
       "setup": "",
       "teardown": "",
       "type": "doctest"
      }
     ]
    }
   }
  },
  "varInspector": {
   "cols": {
    "lenName": 16,
    "lenType": 16,
    "lenVar": 40
   },
   "kernels_config": {
    "python": {
     "delete_cmd_postfix": "",
     "delete_cmd_prefix": "del ",
     "library": "var_list.py",
     "varRefreshCmd": "print(var_dic_list())"
    },
    "r": {
     "delete_cmd_postfix": ") ",
     "delete_cmd_prefix": "rm(",
     "library": "var_list.r",
     "varRefreshCmd": "cat(var_dic_list()) "
    }
   },
   "types_to_exclude": [
    "module",
    "function",
    "builtin_function_or_method",
    "instance",
    "_Feature"
   ],
   "window_display": false
  },
  "vscode": {
   "interpreter": {
    "hash": "31f2aee4e71d21fbe5cf8b01ff0e069b9275f58929596ceb00d14d90e3e16cd6"
   }
  }
 },
 "nbformat": 4,
 "nbformat_minor": 4
}