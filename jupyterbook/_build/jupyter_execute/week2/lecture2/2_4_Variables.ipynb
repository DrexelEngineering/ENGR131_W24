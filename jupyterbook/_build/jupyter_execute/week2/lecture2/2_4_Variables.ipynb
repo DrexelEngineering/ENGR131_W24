{
 "cells": [
  {
   "attachments": {},
   "cell_type": "markdown",
   "id": "8ecc890f",
   "metadata": {
    "slideshow": {
     "slide_type": "slide"
    }
   },
   "source": [
    "# 📝 Variables and Objects"
   ]
  },
  {
   "cell_type": "markdown",
   "id": "8d032c31",
   "metadata": {
    "slideshow": {
     "slide_type": "fragment"
    }
   },
   "source": [
    "Variables are containers for storing data values.\n"
   ]
  },
  {
   "cell_type": "markdown",
   "id": "2ce5e252",
   "metadata": {
    "slideshow": {
     "slide_type": "fragment"
    }
   },
   "source": [
    "Python does note require that you declare variables, they are created once assigned with the `=` operator"
   ]
  },
  {
   "cell_type": "code",
   "execution_count": 1,
   "id": "c4a0a2e9",
   "metadata": {
    "slideshow": {
     "slide_type": "fragment"
    }
   },
   "outputs": [],
   "source": [
    "x = 5"
   ]
  },
  {
   "cell_type": "code",
   "execution_count": 2,
   "id": "0ffa6858",
   "metadata": {
    "slideshow": {
     "slide_type": "fragment"
    }
   },
   "outputs": [],
   "source": [
    "y = \"Drexel\""
   ]
  },
  {
   "cell_type": "code",
   "execution_count": 3,
   "id": "704656f0",
   "metadata": {
    "slideshow": {
     "slide_type": "fragment"
    }
   },
   "outputs": [
    {
     "name": "stdout",
     "output_type": "stream",
     "text": [
      "5\n"
     ]
    }
   ],
   "source": [
    "print(x)"
   ]
  },
  {
   "cell_type": "code",
   "execution_count": 4,
   "id": "9340e1f7",
   "metadata": {
    "slideshow": {
     "slide_type": "fragment"
    }
   },
   "outputs": [
    {
     "name": "stdout",
     "output_type": "stream",
     "text": [
      "Drexel\n"
     ]
    }
   ],
   "source": [
    "print(y)"
   ]
  },
  {
   "cell_type": "markdown",
   "id": "53ca1a6e",
   "metadata": {
    "slideshow": {
     "slide_type": "fragment"
    }
   },
   "source": [
    "You do not need to declare the DataType of a variable it is inferred"
   ]
  },
  {
   "cell_type": "code",
   "execution_count": 5,
   "id": "9d400314",
   "metadata": {
    "slideshow": {
     "slide_type": "fragment"
    }
   },
   "outputs": [
    {
     "name": "stdout",
     "output_type": "stream",
     "text": [
      "<class 'int'>\n"
     ]
    }
   ],
   "source": [
    "x = 5\n",
    "print(type(x))"
   ]
  },
  {
   "cell_type": "code",
   "execution_count": 6,
   "id": "d2ad54f9",
   "metadata": {
    "slideshow": {
     "slide_type": "fragment"
    }
   },
   "outputs": [
    {
     "name": "stdout",
     "output_type": "stream",
     "text": [
      "<class 'float'>\n"
     ]
    }
   ],
   "source": [
    "x = 5.0\n",
    "print(type(x))"
   ]
  },
  {
   "cell_type": "code",
   "execution_count": 7,
   "id": "9869c9b4",
   "metadata": {
    "slideshow": {
     "slide_type": "fragment"
    }
   },
   "outputs": [
    {
     "name": "stdout",
     "output_type": "stream",
     "text": [
      "<class 'str'>\n"
     ]
    }
   ],
   "source": [
    "x = 'Drexel'\n",
    "print(type(x))"
   ]
  },
  {
   "cell_type": "markdown",
   "id": "2dd55c8e",
   "metadata": {
    "slideshow": {
     "slide_type": "slide"
    }
   },
   "source": [
    "## Assigning Strings\n",
    "\n",
    "Strings can be assigned with \" or ' quotes"
   ]
  },
  {
   "cell_type": "code",
   "execution_count": 8,
   "id": "03356c5b",
   "metadata": {
    "slideshow": {
     "slide_type": "fragment"
    }
   },
   "outputs": [],
   "source": [
    "x = \"Drexel\""
   ]
  },
  {
   "cell_type": "code",
   "execution_count": 9,
   "id": "d36c6327",
   "metadata": {
    "slideshow": {
     "slide_type": "fragment"
    }
   },
   "outputs": [],
   "source": [
    "y = 'Drexel'"
   ]
  },
  {
   "cell_type": "markdown",
   "id": "91347913",
   "metadata": {
    "slideshow": {
     "slide_type": "fragment"
    }
   },
   "source": [
    "You can check if two variable have the same value using the `==` operator"
   ]
  },
  {
   "cell_type": "code",
   "execution_count": 10,
   "id": "93fef0b8",
   "metadata": {
    "slideshow": {
     "slide_type": "fragment"
    }
   },
   "outputs": [
    {
     "data": {
      "text/plain": [
       "True"
      ]
     },
     "execution_count": 10,
     "metadata": {},
     "output_type": "execute_result"
    }
   ],
   "source": [
    "x == y"
   ]
  },
  {
   "cell_type": "markdown",
   "id": "da894d7a",
   "metadata": {
    "slideshow": {
     "slide_type": "slide"
    }
   },
   "source": [
    "## Case Sensitive\n",
    "\n",
    "Variables are case sensitive"
   ]
  },
  {
   "cell_type": "code",
   "execution_count": 11,
   "id": "21f0663f",
   "metadata": {
    "slideshow": {
     "slide_type": "fragment"
    }
   },
   "outputs": [
    {
     "name": "stdout",
     "output_type": "stream",
     "text": [
      "Drexel\n",
      "5\n"
     ]
    }
   ],
   "source": [
    "a = \"Drexel\"\n",
    "A = 5\n",
    "print(a)\n",
    "print(A)"
   ]
  },
  {
   "cell_type": "markdown",
   "id": "6a35a858",
   "metadata": {
    "slideshow": {
     "slide_type": "slide"
    }
   },
   "source": [
    "## Variable Names"
   ]
  },
  {
   "cell_type": "markdown",
   "id": "7ea64571",
   "metadata": {
    "slideshow": {
     "slide_type": "fragment"
    }
   },
   "source": [
    "* A variable name must start with a letter or the underscore character\n",
    "* A variable name cannot start with a number\n",
    "* A variable name can only contain alpha-numeric characters and underscores (A-z, 0-9, and _ )\n",
    "* Variable names are case-sensitive (age, Age and AGE are three different variables)"
   ]
  },
  {
   "cell_type": "code",
   "execution_count": 12,
   "id": "5757bb18",
   "metadata": {
    "slideshow": {
     "slide_type": "fragment"
    }
   },
   "outputs": [],
   "source": [
    "myvar = \"Drexel\"\n",
    "my_var = \"Drexel\"\n",
    "_my_var = \"Drexel\"\n",
    "myVar = \"Drexel\"\n",
    "MYVAR = \"Drexel\"\n",
    "myvar2 = \"Drexel\""
   ]
  },
  {
   "cell_type": "markdown",
   "id": "7a418c9a",
   "metadata": {
    "slideshow": {
     "slide_type": "slide"
    }
   },
   "source": [
    "## Assigning Multiple Variables\n",
    "\n",
    "Python allows you to assign values to multiple variables in one line:\n"
   ]
  },
  {
   "cell_type": "code",
   "execution_count": 13,
   "id": "1d650569",
   "metadata": {
    "slideshow": {
     "slide_type": "fragment"
    }
   },
   "outputs": [
    {
     "name": "stdout",
     "output_type": "stream",
     "text": [
      "Drexel\n",
      "University\n",
      "Engineering\n"
     ]
    }
   ],
   "source": [
    "x, y, z = \"Drexel\", \"University\", \"Engineering\"\n",
    "print(x)\n",
    "print(y)\n",
    "print(z)"
   ]
  },
  {
   "cell_type": "markdown",
   "id": "63c52f2a",
   "metadata": {
    "slideshow": {
     "slide_type": "slide"
    }
   },
   "source": [
    "## Objects\n",
    "\n",
    "All Python variables are objects who have behaviors based on their datatype. \n",
    "\n",
    "An object could be a:\n",
    "* Integer\n",
    "* String\n",
    "* Floating point number\n",
    "* Method\n",
    "\n",
    "Or any other data type"
   ]
  },
  {
   "cell_type": "markdown",
   "id": "067715a4",
   "metadata": {
    "slideshow": {
     "slide_type": "slide"
    }
   },
   "source": [
    "### String Objects\n",
    "\n",
    "When you define a string there are built-in method that can be applied. "
   ]
  },
  {
   "cell_type": "code",
   "execution_count": 14,
   "id": "4a7192ee",
   "metadata": {
    "slideshow": {
     "slide_type": "fragment"
    }
   },
   "outputs": [
    {
     "name": "stdout",
     "output_type": "stream",
     "text": [
      "['Drexel', 'University', 'Engineering']\n"
     ]
    }
   ],
   "source": [
    "DU = \"Drexel University Engineering\"\n",
    "\n",
    "# splits based on a character\n",
    "print(DU.rsplit(\" \"))"
   ]
  },
  {
   "cell_type": "code",
   "execution_count": 15,
   "id": "2793e404",
   "metadata": {
    "slideshow": {
     "slide_type": "fragment"
    }
   },
   "outputs": [
    {
     "name": "stdout",
     "output_type": "stream",
     "text": [
      "DREXEL UNIVERSITY ENGINEERING\n"
     ]
    }
   ],
   "source": [
    "print(DU.upper())"
   ]
  },
  {
   "cell_type": "markdown",
   "id": "7ff64f2d",
   "metadata": {
    "slideshow": {
     "slide_type": "slide"
    }
   },
   "source": [
    "### Float Objects"
   ]
  },
  {
   "cell_type": "code",
   "execution_count": 16,
   "id": "1fb3114e",
   "metadata": {
    "slideshow": {
     "slide_type": "fragment"
    }
   },
   "outputs": [],
   "source": [
    "num = 500."
   ]
  },
  {
   "cell_type": "code",
   "execution_count": 17,
   "id": "359943ff",
   "metadata": {
    "slideshow": {
     "slide_type": "fragment"
    }
   },
   "outputs": [
    {
     "data": {
      "text/plain": [
       "True"
      ]
     },
     "execution_count": 17,
     "metadata": {},
     "output_type": "execute_result"
    }
   ],
   "source": [
    "num.is_integer()"
   ]
  },
  {
   "cell_type": "code",
   "execution_count": 18,
   "id": "a989ce5f",
   "metadata": {
    "slideshow": {
     "slide_type": "fragment"
    }
   },
   "outputs": [
    {
     "name": "stdout",
     "output_type": "stream",
     "text": [
      "<class 'float'>\n"
     ]
    }
   ],
   "source": [
    "print(type(num))"
   ]
  }
 ],
 "metadata": {
  "celltoolbar": "Slideshow",
  "kernelspec": {
   "display_name": "Python 3 (ipykernel)",
   "language": "python",
   "name": "python3"
  },
  "language_info": {
   "codemirror_mode": {
    "name": "ipython",
    "version": 3
   },
   "file_extension": ".py",
   "mimetype": "text/x-python",
   "name": "python",
   "nbconvert_exporter": "python",
   "pygments_lexer": "ipython3",
   "version": "3.11.8"
  },
  "vscode": {
   "interpreter": {
    "hash": "db982e328663a2db3b6f47ccd278f30154ccd8de8e195897b14b89b93466dc3c"
   }
  }
 },
 "nbformat": 4,
 "nbformat_minor": 5
}