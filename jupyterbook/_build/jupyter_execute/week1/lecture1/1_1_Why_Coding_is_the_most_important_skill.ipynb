{
 "cells": [
  {
   "attachments": {},
   "cell_type": "markdown",
   "metadata": {
    "slideshow": {
     "slide_type": "slide"
    }
   },
   "source": [
    "# 📝 Why Computer Programming is an Essential Skill"
   ]
  },
  {
   "cell_type": "markdown",
   "metadata": {
    "slideshow": {
     "slide_type": "fragment"
    }
   },
   "source": [
    "* Programming allows you to automate analysis of data, control systems, and efficiently visualize information\n"
   ]
  },
  {
   "attachments": {},
   "cell_type": "markdown",
   "metadata": {
    "slideshow": {
     "slide_type": "fragment"
    }
   },
   "source": [
    "* Many of your fellow colleagues might have less programming skills than you do, which could make you a valued resource\n"
   ]
  },
  {
   "attachments": {},
   "cell_type": "markdown",
   "metadata": {
    "slideshow": {
     "slide_type": "fragment"
    }
   },
   "source": [
    "* Knowing programming allows you to customize and modify software and hardware. "
   ]
  },
  {
   "cell_type": "markdown",
   "metadata": {
    "slideshow": {
     "slide_type": "slide"
    }
   },
   "source": [
    "## Chemical and Biomolecular Engineering\n",
    "\n",
    "* Determining protein structures and folding"
   ]
  },
  {
   "cell_type": "code",
   "execution_count": 1,
   "metadata": {
    "slideshow": {
     "slide_type": "fragment"
    },
    "tags": [
     "hide-input"
    ]
   },
   "outputs": [
    {
     "data": {
      "text/html": [
       "\n",
       "        <iframe\n",
       "            width=\"800\"\n",
       "            height=\"1200\"\n",
       "            src=\"https://alphafold.ebi.ac.uk/entry/A0A5E8GAP1\"\n",
       "            frameborder=\"0\"\n",
       "            allowfullscreen\n",
       "            \n",
       "        ></iframe>\n",
       "        "
      ],
      "text/plain": [
<<<<<<< HEAD
       "<IPython.lib.display.IFrame at 0x7ffffcf7fa30>"
=======
       "<IPython.lib.display.IFrame at 0x7f91555cdab0>"
>>>>>>> 7b689596f64861861ba6f58390b3c28b26af9cad
      ]
     },
     "execution_count": 1,
     "metadata": {},
     "output_type": "execute_result"
    }
   ],
   "source": [
    "from IPython.display import IFrame\n",
    "\n",
    "IFrame(\"https://alphafold.ebi.ac.uk/entry/A0A5E8GAP1\", width=800, height=1200)"
   ]
  },
  {
   "cell_type": "markdown",
   "metadata": {
    "slideshow": {
     "slide_type": "slide"
    }
   },
   "source": [
    "## Civil and Environmental Engineering"
   ]
  },
  {
   "attachments": {},
   "cell_type": "markdown",
   "metadata": {},
   "source": [
    "Forecasting air quality to help those who might be affected by air pollution make informed choices."
   ]
  },
  {
   "cell_type": "code",
   "execution_count": 2,
   "metadata": {},
   "outputs": [
    {
     "data": {
      "text/html": [
       "\n",
       "        <iframe\n",
       "            width=\"800\"\n",
       "            height=\"800\"\n",
       "            src=\"https://airquality.weather.gov/#\"\n",
       "            frameborder=\"0\"\n",
       "            allowfullscreen\n",
       "            \n",
       "        ></iframe>\n",
       "        "
      ],
      "text/plain": [
<<<<<<< HEAD
       "<IPython.lib.display.IFrame at 0x7ffffcee7970>"
=======
       "<IPython.lib.display.IFrame at 0x7f915443bca0>"
>>>>>>> 7b689596f64861861ba6f58390b3c28b26af9cad
      ]
     },
     "execution_count": 2,
     "metadata": {},
     "output_type": "execute_result"
    }
   ],
   "source": [
    "IFrame(\"https://airquality.weather.gov/#\",width=800,height=800)"
   ]
  },
  {
   "cell_type": "markdown",
   "metadata": {
    "slideshow": {
     "slide_type": "slide"
    }
   },
   "source": [
    "## Electrical and Computer Engineering"
   ]
  },
  {
   "cell_type": "markdown",
   "metadata": {
    "slideshow": {
     "slide_type": "fragment"
    }
   },
   "source": [
    "You might want to build a script to efficiently use computing resources for a task. \n",
    "\n",
    "![](./figs/FPGA_Resource_Map.png)"
   ]
  },
  {
   "cell_type": "markdown",
   "metadata": {
    "slideshow": {
     "slide_type": "slide"
    }
   },
   "source": [
    "## Engineering Leadership and Society\n",
    "\n",
    "Creating interactive dashboards and visualizations"
   ]
  },
  {
   "cell_type": "code",
   "execution_count": 3,
   "metadata": {
    "slideshow": {
     "slide_type": "fragment"
    },
    "tags": [
     "hide-input"
    ]
   },
   "outputs": [
    {
     "data": {
      "text/html": [
       "\n",
       "        <iframe\n",
       "            width=\"800\"\n",
       "            height=\"800\"\n",
       "            src=\"https://ourworldindata.org/grapher/total-cases-covid-19?tab=map\"\n",
       "            frameborder=\"0\"\n",
       "            allowfullscreen\n",
       "            \n",
       "        ></iframe>\n",
       "        "
      ],
      "text/plain": [
<<<<<<< HEAD
       "<IPython.lib.display.IFrame at 0x7ffffcf7f850>"
=======
       "<IPython.lib.display.IFrame at 0x7f915443bb20>"
>>>>>>> 7b689596f64861861ba6f58390b3c28b26af9cad
      ]
     },
     "execution_count": 3,
     "metadata": {},
     "output_type": "execute_result"
    }
   ],
   "source": [
    "IFrame(\"https://ourworldindata.org/grapher/total-cases-covid-19?tab=map\", width=800, height=800)"
   ]
  },
  {
   "cell_type": "markdown",
   "metadata": {
    "slideshow": {
     "slide_type": "slide"
    }
   },
   "source": [
    "## Materials Science and Engineering\n",
    "\n",
    "Discovering new Materials"
   ]
  },
  {
   "cell_type": "code",
   "execution_count": 4,
   "metadata": {
    "slideshow": {
     "slide_type": "fragment"
    },
    "tags": [
     "hide-input"
    ]
   },
   "outputs": [
    {
     "data": {
      "text/html": [
       "\n",
       "        <iframe\n",
       "            width=\"800\"\n",
       "            height=\"800\"\n",
       "            src=\"https://materialsproject.org/materials/mp-1106215?chemsys=Pb-Ti-O\"\n",
       "            frameborder=\"0\"\n",
       "            allowfullscreen\n",
       "            \n",
       "        ></iframe>\n",
       "        "
      ],
      "text/plain": [
<<<<<<< HEAD
       "<IPython.lib.display.IFrame at 0x7ffffcee7be0>"
=======
       "<IPython.lib.display.IFrame at 0x7f915443ba00>"
>>>>>>> 7b689596f64861861ba6f58390b3c28b26af9cad
      ]
     },
     "execution_count": 4,
     "metadata": {},
     "output_type": "execute_result"
    }
   ],
   "source": [
    "IFrame(\"https://materialsproject.org/materials/mp-1106215?chemsys=Pb-Ti-O\", width=800, height=800)"
   ]
  },
  {
   "cell_type": "markdown",
   "metadata": {
    "slideshow": {
     "slide_type": "slide"
    }
   },
   "source": [
    "## Mechanical Engineering\n",
    "\n",
    "Robotics and control systems"
   ]
  },
  {
   "cell_type": "code",
   "execution_count": 5,
   "metadata": {
    "slideshow": {
     "slide_type": "fragment"
    },
    "tags": [
     "hide-input"
    ]
   },
   "outputs": [
    {
     "data": {
      "text/html": [
       "\n",
       "        <iframe\n",
       "            width=\"800\"\n",
       "            height=\"400\"\n",
       "            src=\"https://www.youtube.com/embed/x4O8pojMF0w\"\n",
       "            frameborder=\"0\"\n",
       "            allowfullscreen\n",
       "            \n",
       "        ></iframe>\n",
       "        "
      ],
      "text/plain": [
<<<<<<< HEAD
       "<IPython.lib.display.IFrame at 0x7ffff85a5330>"
=======
       "<IPython.lib.display.IFrame at 0x7f9154439690>"
>>>>>>> 7b689596f64861861ba6f58390b3c28b26af9cad
      ]
     },
     "execution_count": 5,
     "metadata": {},
     "output_type": "execute_result"
    }
   ],
   "source": [
    "IFrame('https://www.youtube.com/embed/x4O8pojMF0w', width=800, height=400)"
   ]
  },
  {
   "attachments": {},
   "cell_type": "markdown",
   "metadata": {},
   "source": [
    "# Survey to Understand your Understanding\n",
    "\n",
    "Please complete [this brief survey](https://forms.office.com/Pages/ResponsePage.aspx?id=-uZkNr1HpkWWcIxPCA-Mpn0fYfbsd-NCvIuX4uXigRFUNTZCNjhYOEFYS1lIN0JTRTFRWUZRNkJUOS4u) before we proceed with learning more about programming with python."
   ]
  },
  {
   "cell_type": "markdown",
   "metadata": {
    "slideshow": {
     "slide_type": "slide"
    }
   },
   "source": [
    "## Other Cool Applications AI and Machine Learning"
   ]
  },
  {
   "cell_type": "code",
   "execution_count": 6,
   "metadata": {
    "slideshow": {
     "slide_type": "fragment"
    },
    "tags": [
     "hide-input"
    ]
   },
   "outputs": [
    {
     "data": {
      "text/html": [
       "\n",
       "        <iframe\n",
       "            width=\"800\"\n",
       "            height=\"400\"\n",
       "            src=\"https://www.youtube.com/embed/UuhECwm31dM\"\n",
       "            frameborder=\"0\"\n",
       "            allowfullscreen\n",
       "            \n",
       "        ></iframe>\n",
       "        "
      ],
      "text/plain": [
<<<<<<< HEAD
       "<IPython.lib.display.IFrame at 0x7ffff85a4a60>"
=======
       "<IPython.lib.display.IFrame at 0x7f9154439750>"
>>>>>>> 7b689596f64861861ba6f58390b3c28b26af9cad
      ]
     },
     "execution_count": 6,
     "metadata": {},
     "output_type": "execute_result"
    }
   ],
   "source": [
    "IFrame('https://www.youtube.com/embed/UuhECwm31dM', width=800, height=400)"
   ]
  },
  {
   "cell_type": "markdown",
   "metadata": {
    "slideshow": {
     "slide_type": "slide"
    }
   },
   "source": [
    "## ChatGPT\n",
    "\n",
    "[ChatGPT](https://chat.openai.com/chat)"
   ]
  },
  {
   "cell_type": "markdown",
   "metadata": {
    "slideshow": {
     "slide_type": "subslide"
    }
   },
   "source": [
    "### Prompt: \n",
    "\n",
    "build a game that for guessing a coin flip with a graphical output that can run in a jupyter notebook"
   ]
  },
  {
   "cell_type": "markdown",
   "metadata": {},
   "source": [
    "### Response:\n",
    "\n",
    "Creating a coin flip guessing game with graphical output in a Jupyter Notebook is a great way to combine Python programming with interactive elements. In this notebook-based version, we can use IPython display features to interact with the user and display the graphical result directly in the notebook.\n",
    "\n",
    "Let's create this game:\n",
    "\n",
    "1. The user makes a guess.\n",
    "2. The program flips a coin (randomly selects heads or tails).\n",
    "3. The program creates a graphical representation of the result.\n",
    "4. The image is displayed directly in the notebook.\n",
    "\n",
    "Here's the implementation in a Jupyter Notebook:\n",
    "\n",
    "```python\n",
    "import random\n",
    "import matplotlib.pyplot as plt\n",
    "from IPython.display import display, clear_output\n",
    "from ipywidgets import widgets\n",
    "\n",
    "def flip_coin():\n",
    "    return random.choice(['Heads', 'Tails'])\n",
    "\n",
    "def create_graphical_output(result):\n",
    "    # Create a simple bar chart to represent the coin flip result\n",
    "    fig, ax = plt.subplots()\n",
    "    ax.bar(result, 1, color='skyblue')\n",
    "    ax.set_ylim(0, 1)\n",
    "    ax.set_xlim(-0.5, 1.5)\n",
    "    ax.set_yticks([])\n",
    "    ax.set_xticks([0, 1])\n",
    "    ax.set_xticklabels(['Heads', 'Tails'])\n",
    "    plt.title(f\"Coin Flip Result: {result}\")\n",
    "    plt.show()\n",
    "\n",
    "def on_button_clicked(b):\n",
    "    guess = dropdown.value\n",
    "    result = flip_coin()\n",
    "    output.clear_output()\n",
    "    with output:\n",
    "        if guess == result:\n",
    "            print(f\"Correct! It was {result}.\")\n",
    "        else:\n",
    "            print(f\"Wrong! It was {result}.\")\n",
    "        create_graphical_output(result)\n",
    "\n",
    "# Widgets\n",
    "dropdown = widgets.Dropdown(options=['Heads', 'Tails'], description='Guess:')\n",
    "button = widgets.Button(description='Flip Coin')\n",
    "output = widgets.Output()\n",
    "\n",
    "button.on_click(on_button_clicked)\n",
    "\n",
    "# Display widgets\n",
    "display(dropdown, button, output)\n",
    "```\n",
    "\n",
    "Copy and paste this code into a cell in your Jupyter Notebook to run the game. This game uses IPython widgets for user input and displays the results directly in the notebook. The user selects their guess from a dropdown and clicks a button to flip the coin. The result is then displayed both as text and as a graphical bar chart."
   ]
  },
  {
   "cell_type": "code",
   "execution_count": 7,
   "metadata": {
    "slideshow": {
     "slide_type": "fragment"
    }
   },
   "outputs": [
    {
     "data": {
      "application/vnd.jupyter.widget-view+json": {
<<<<<<< HEAD
       "model_id": "93378a32c32e4a4a952045f1ee4e2105",
=======
       "model_id": "0d30e90844d141688c0523a5cd1d6b12",
>>>>>>> 7b689596f64861861ba6f58390b3c28b26af9cad
       "version_major": 2,
       "version_minor": 0
      },
      "text/plain": [
       "Dropdown(description='Guess:', options=('Heads', 'Tails'), value='Heads')"
      ]
     },
     "metadata": {},
     "output_type": "display_data"
    },
    {
     "data": {
      "application/vnd.jupyter.widget-view+json": {
<<<<<<< HEAD
       "model_id": "76af3bcffc504287b9a5f818088af08b",
=======
       "model_id": "c9c430152b9f464895389b5d003e62cf",
>>>>>>> 7b689596f64861861ba6f58390b3c28b26af9cad
       "version_major": 2,
       "version_minor": 0
      },
      "text/plain": [
       "Button(description='Flip Coin', style=ButtonStyle())"
      ]
     },
     "metadata": {},
     "output_type": "display_data"
    },
    {
     "data": {
      "application/vnd.jupyter.widget-view+json": {
<<<<<<< HEAD
       "model_id": "c26800bdd33a4876b6110ec38b38aee4",
=======
       "model_id": "dcd774547aeb48c08749a04552ecad3f",
>>>>>>> 7b689596f64861861ba6f58390b3c28b26af9cad
       "version_major": 2,
       "version_minor": 0
      },
      "text/plain": [
       "Output()"
      ]
     },
     "metadata": {},
     "output_type": "display_data"
    }
   ],
   "source": [
    "import random\n",
    "import matplotlib.pyplot as plt\n",
    "from IPython.display import display, clear_output\n",
    "from ipywidgets import widgets\n",
    "\n",
    "def flip_coin():\n",
    "    return random.choice(['Heads', 'Tails'])\n",
    "\n",
    "def create_graphical_output(result):\n",
    "    # Create a simple bar chart to represent the coin flip result\n",
    "    fig, ax = plt.subplots()\n",
    "    ax.bar(result, 1, color='skyblue')\n",
    "    ax.set_ylim(0, 1)\n",
    "    ax.set_xlim(-0.5, 1.5)\n",
    "    ax.set_yticks([])\n",
    "    ax.set_xticks([0, 1])\n",
    "    ax.set_xticklabels(['Heads', 'Tails'])\n",
    "    plt.title(f\"Coin Flip Result: {result}\")\n",
    "    plt.show()\n",
    "\n",
    "def on_button_clicked(b):\n",
    "    guess = dropdown.value\n",
    "    result = flip_coin()\n",
    "    output.clear_output()\n",
    "    with output:\n",
    "        if guess == result:\n",
    "            print(f\"Correct! It was {result}.\")\n",
    "        else:\n",
    "            print(f\"Wrong! It was {result}.\")\n",
    "        create_graphical_output(result)\n",
    "\n",
    "# Widgets\n",
    "dropdown = widgets.Dropdown(options=['Heads', 'Tails'], description='Guess:')\n",
    "button = widgets.Button(description='Flip Coin')\n",
    "output = widgets.Output()\n",
    "\n",
    "button.on_click(on_button_clicked)\n",
    "\n",
    "# Display widgets\n",
    "display(dropdown, button, output)\n"
   ]
  },
  {
   "cell_type": "code",
   "execution_count": null,
   "metadata": {},
   "outputs": [],
   "source": []
  }
 ],
 "metadata": {
  "celltoolbar": "Slideshow",
  "kernelspec": {
   "display_name": "base",
   "language": "python",
   "name": "python3"
  },
  "language_info": {
   "codemirror_mode": {
    "name": "ipython",
    "version": 3
   },
   "file_extension": ".py",
   "mimetype": "text/x-python",
   "name": "python",
   "nbconvert_exporter": "python",
   "pygments_lexer": "ipython3",
   "version": "3.10.13"
  },
  "varInspector": {
   "cols": {
    "lenName": 16,
    "lenType": 16,
    "lenVar": 40
   },
   "kernels_config": {
    "python": {
     "delete_cmd_postfix": "",
     "delete_cmd_prefix": "del ",
     "library": "var_list.py",
     "varRefreshCmd": "print(var_dic_list())"
    },
    "r": {
     "delete_cmd_postfix": ") ",
     "delete_cmd_prefix": "rm(",
     "library": "var_list.r",
     "varRefreshCmd": "cat(var_dic_list()) "
    }
   },
   "types_to_exclude": [
    "module",
    "function",
    "builtin_function_or_method",
    "instance",
    "_Feature"
   ],
   "window_display": false
  },
  "vscode": {
   "interpreter": {
    "hash": "d7d046052154998ca7dd3d9af52f7220fee50748c9a05b256540159ca8eb430c"
   }
  },
  "widgets": {
   "application/vnd.jupyter.widget-state+json": {
    "state": {
<<<<<<< HEAD
     "272a651f1c30403c972909b2a3e4ffdc": {
      "model_module": "@jupyter-widgets/base",
=======
     "0d30e90844d141688c0523a5cd1d6b12": {
      "model_module": "@jupyter-widgets/controls",
>>>>>>> 7b689596f64861861ba6f58390b3c28b26af9cad
      "model_module_version": "2.0.0",
      "model_name": "DropdownModel",
      "state": {
       "_dom_classes": [],
       "_model_module": "@jupyter-widgets/controls",
       "_model_module_version": "2.0.0",
       "_model_name": "DropdownModel",
       "_options_labels": [
        "Heads",
        "Tails"
       ],
       "_view_count": null,
       "_view_module": "@jupyter-widgets/controls",
       "_view_module_version": "2.0.0",
       "_view_name": "DropdownView",
       "description": "Guess:",
       "description_allow_html": false,
       "disabled": false,
       "index": 0,
       "layout": "IPY_MODEL_c7a3a4fc60954ef48031269fe8685101",
       "style": "IPY_MODEL_3783a3a13f4c489fb50bbf2597f06fbd",
       "tabbable": null,
       "tooltip": null
      }
     },
<<<<<<< HEAD
     "76af3bcffc504287b9a5f818088af08b": {
=======
     "19db274739354b1590a309c60cb2c62e": {
>>>>>>> 7b689596f64861861ba6f58390b3c28b26af9cad
      "model_module": "@jupyter-widgets/controls",
      "model_module_version": "2.0.0",
      "model_name": "ButtonModel",
      "state": {
       "_dom_classes": [],
       "_model_module": "@jupyter-widgets/controls",
       "_model_module_version": "2.0.0",
       "_model_name": "ButtonModel",
       "_view_count": null,
       "_view_module": "@jupyter-widgets/controls",
       "_view_module_version": "2.0.0",
       "_view_name": "ButtonView",
       "button_style": "",
       "description": "Flip Coin",
       "disabled": false,
       "icon": "",
       "layout": "IPY_MODEL_272a651f1c30403c972909b2a3e4ffdc",
       "style": "IPY_MODEL_cf517f8951214c8ca071f5330fa0e302",
       "tabbable": null,
       "tooltip": null
      }
     },
<<<<<<< HEAD
     "93378a32c32e4a4a952045f1ee4e2105": {
=======
     "3783a3a13f4c489fb50bbf2597f06fbd": {
>>>>>>> 7b689596f64861861ba6f58390b3c28b26af9cad
      "model_module": "@jupyter-widgets/controls",
      "model_module_version": "2.0.0",
      "model_name": "DescriptionStyleModel",
      "state": {
       "_model_module": "@jupyter-widgets/controls",
       "_model_module_version": "2.0.0",
       "_model_name": "DescriptionStyleModel",
       "_view_count": null,
       "_view_module": "@jupyter-widgets/base",
       "_view_module_version": "2.0.0",
<<<<<<< HEAD
       "_view_name": "DropdownView",
       "description": "Guess:",
       "description_allow_html": false,
       "disabled": false,
       "index": 0,
       "layout": "IPY_MODEL_b8e1dbe870ce42ca81f96a3cb3e515c9",
       "style": "IPY_MODEL_a1cd8b8ec84542baaf0a99bf2a5a2e2b",
       "tabbable": null,
       "tooltip": null
      }
     },
     "a1cd8b8ec84542baaf0a99bf2a5a2e2b": {
      "model_module": "@jupyter-widgets/controls",
=======
       "_view_name": "StyleView",
       "description_width": ""
      }
     },
     "7c488f28cae944dcbcc391f088579d86": {
      "model_module": "@jupyter-widgets/base",
      "model_module_version": "2.0.0",
      "model_name": "LayoutModel",
      "state": {
       "_model_module": "@jupyter-widgets/base",
       "_model_module_version": "2.0.0",
       "_model_name": "LayoutModel",
       "_view_count": null,
       "_view_module": "@jupyter-widgets/base",
       "_view_module_version": "2.0.0",
       "_view_name": "LayoutView",
       "align_content": null,
       "align_items": null,
       "align_self": null,
       "border_bottom": null,
       "border_left": null,
       "border_right": null,
       "border_top": null,
       "bottom": null,
       "display": null,
       "flex": null,
       "flex_flow": null,
       "grid_area": null,
       "grid_auto_columns": null,
       "grid_auto_flow": null,
       "grid_auto_rows": null,
       "grid_column": null,
       "grid_gap": null,
       "grid_row": null,
       "grid_template_areas": null,
       "grid_template_columns": null,
       "grid_template_rows": null,
       "height": null,
       "justify_content": null,
       "justify_items": null,
       "left": null,
       "margin": null,
       "max_height": null,
       "max_width": null,
       "min_height": null,
       "min_width": null,
       "object_fit": null,
       "object_position": null,
       "order": null,
       "overflow": null,
       "padding": null,
       "right": null,
       "top": null,
       "visibility": null,
       "width": null
      }
     },
     "c7a3a4fc60954ef48031269fe8685101": {
      "model_module": "@jupyter-widgets/base",
>>>>>>> 7b689596f64861861ba6f58390b3c28b26af9cad
      "model_module_version": "2.0.0",
      "model_name": "LayoutModel",
      "state": {
       "_model_module": "@jupyter-widgets/base",
       "_model_module_version": "2.0.0",
       "_model_name": "LayoutModel",
       "_view_count": null,
       "_view_module": "@jupyter-widgets/base",
       "_view_module_version": "2.0.0",
       "_view_name": "LayoutView",
       "align_content": null,
       "align_items": null,
       "align_self": null,
       "border_bottom": null,
       "border_left": null,
       "border_right": null,
       "border_top": null,
       "bottom": null,
       "display": null,
       "flex": null,
       "flex_flow": null,
       "grid_area": null,
       "grid_auto_columns": null,
       "grid_auto_flow": null,
       "grid_auto_rows": null,
       "grid_column": null,
       "grid_gap": null,
       "grid_row": null,
       "grid_template_areas": null,
       "grid_template_columns": null,
       "grid_template_rows": null,
       "height": null,
       "justify_content": null,
       "justify_items": null,
       "left": null,
       "margin": null,
       "max_height": null,
       "max_width": null,
       "min_height": null,
       "min_width": null,
       "object_fit": null,
       "object_position": null,
       "order": null,
       "overflow": null,
       "padding": null,
       "right": null,
       "top": null,
       "visibility": null,
       "width": null
      }
     },
<<<<<<< HEAD
     "af42951804754fcdb77b306e4001f9d3": {
=======
     "c9c430152b9f464895389b5d003e62cf": {
      "model_module": "@jupyter-widgets/controls",
      "model_module_version": "2.0.0",
      "model_name": "ButtonModel",
      "state": {
       "_dom_classes": [],
       "_model_module": "@jupyter-widgets/controls",
       "_model_module_version": "2.0.0",
       "_model_name": "ButtonModel",
       "_view_count": null,
       "_view_module": "@jupyter-widgets/controls",
       "_view_module_version": "2.0.0",
       "_view_name": "ButtonView",
       "button_style": "",
       "description": "Flip Coin",
       "disabled": false,
       "icon": "",
       "layout": "IPY_MODEL_dbc03623cb0440b5bcf4df05ab4f172d",
       "style": "IPY_MODEL_19db274739354b1590a309c60cb2c62e",
       "tabbable": null,
       "tooltip": null
      }
     },
     "dbc03623cb0440b5bcf4df05ab4f172d": {
>>>>>>> 7b689596f64861861ba6f58390b3c28b26af9cad
      "model_module": "@jupyter-widgets/base",
      "model_module_version": "2.0.0",
      "model_name": "LayoutModel",
      "state": {
       "_model_module": "@jupyter-widgets/base",
       "_model_module_version": "2.0.0",
       "_model_name": "LayoutModel",
       "_view_count": null,
       "_view_module": "@jupyter-widgets/base",
       "_view_module_version": "2.0.0",
       "_view_name": "LayoutView",
       "align_content": null,
       "align_items": null,
       "align_self": null,
       "border_bottom": null,
       "border_left": null,
       "border_right": null,
       "border_top": null,
       "bottom": null,
       "display": null,
       "flex": null,
       "flex_flow": null,
       "grid_area": null,
       "grid_auto_columns": null,
       "grid_auto_flow": null,
       "grid_auto_rows": null,
       "grid_column": null,
       "grid_gap": null,
       "grid_row": null,
       "grid_template_areas": null,
       "grid_template_columns": null,
       "grid_template_rows": null,
       "height": null,
       "justify_content": null,
       "justify_items": null,
       "left": null,
       "margin": null,
       "max_height": null,
       "max_width": null,
       "min_height": null,
       "min_width": null,
       "object_fit": null,
       "object_position": null,
       "order": null,
       "overflow": null,
       "padding": null,
       "right": null,
       "top": null,
       "visibility": null,
       "width": null
      }
     },
<<<<<<< HEAD
     "b8e1dbe870ce42ca81f96a3cb3e515c9": {
      "model_module": "@jupyter-widgets/base",
      "model_module_version": "2.0.0",
      "model_name": "LayoutModel",
      "state": {
       "_model_module": "@jupyter-widgets/base",
       "_model_module_version": "2.0.0",
       "_model_name": "LayoutModel",
       "_view_count": null,
       "_view_module": "@jupyter-widgets/base",
       "_view_module_version": "2.0.0",
       "_view_name": "LayoutView",
       "align_content": null,
       "align_items": null,
       "align_self": null,
       "border_bottom": null,
       "border_left": null,
       "border_right": null,
       "border_top": null,
       "bottom": null,
       "display": null,
       "flex": null,
       "flex_flow": null,
       "grid_area": null,
       "grid_auto_columns": null,
       "grid_auto_flow": null,
       "grid_auto_rows": null,
       "grid_column": null,
       "grid_gap": null,
       "grid_row": null,
       "grid_template_areas": null,
       "grid_template_columns": null,
       "grid_template_rows": null,
       "height": null,
       "justify_content": null,
       "justify_items": null,
       "left": null,
       "margin": null,
       "max_height": null,
       "max_width": null,
       "min_height": null,
       "min_width": null,
       "object_fit": null,
       "object_position": null,
       "order": null,
       "overflow": null,
       "padding": null,
       "right": null,
       "top": null,
       "visibility": null,
       "width": null
      }
     },
     "c26800bdd33a4876b6110ec38b38aee4": {
=======
     "dcd774547aeb48c08749a04552ecad3f": {
>>>>>>> 7b689596f64861861ba6f58390b3c28b26af9cad
      "model_module": "@jupyter-widgets/output",
      "model_module_version": "1.0.0",
      "model_name": "OutputModel",
      "state": {
       "_dom_classes": [],
       "_model_module": "@jupyter-widgets/output",
       "_model_module_version": "1.0.0",
       "_model_name": "OutputModel",
       "_view_count": null,
       "_view_module": "@jupyter-widgets/output",
       "_view_module_version": "1.0.0",
       "_view_name": "OutputView",
<<<<<<< HEAD
       "layout": "IPY_MODEL_af42951804754fcdb77b306e4001f9d3",
=======
       "layout": "IPY_MODEL_7c488f28cae944dcbcc391f088579d86",
>>>>>>> 7b689596f64861861ba6f58390b3c28b26af9cad
       "msg_id": "",
       "outputs": [],
       "tabbable": null,
       "tooltip": null
      }
<<<<<<< HEAD
     },
     "cf517f8951214c8ca071f5330fa0e302": {
      "model_module": "@jupyter-widgets/controls",
      "model_module_version": "2.0.0",
      "model_name": "ButtonStyleModel",
      "state": {
       "_model_module": "@jupyter-widgets/controls",
       "_model_module_version": "2.0.0",
       "_model_name": "ButtonStyleModel",
       "_view_count": null,
       "_view_module": "@jupyter-widgets/base",
       "_view_module_version": "2.0.0",
       "_view_name": "StyleView",
       "button_color": null,
       "font_family": null,
       "font_size": null,
       "font_style": null,
       "font_variant": null,
       "font_weight": null,
       "text_color": null,
       "text_decoration": null
      }
=======
>>>>>>> 7b689596f64861861ba6f58390b3c28b26af9cad
     }
    },
    "version_major": 2,
    "version_minor": 0
   }
  }
 },
 "nbformat": 4,
 "nbformat_minor": 2
}