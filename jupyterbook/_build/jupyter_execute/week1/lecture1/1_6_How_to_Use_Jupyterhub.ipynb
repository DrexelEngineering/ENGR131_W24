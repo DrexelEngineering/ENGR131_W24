{
 "cells": [
  {
   "attachments": {},
   "cell_type": "markdown",
   "metadata": {
    "slideshow": {
     "slide_type": "slide"
    }
   },
   "source": [
    "# 📝 How to Use JupyterHub"
   ]
  },
  {
   "cell_type": "markdown",
   "metadata": {
    "slideshow": {
     "slide_type": "fragment"
    }
   },
   "source": [
    "There are a variety of ways that you can use, program, and interact with Python. All have their advantages and disadvantages.\n"
   ]
  },
  {
   "cell_type": "markdown",
   "metadata": {
    "slideshow": {
     "slide_type": "fragment"
    }
   },
   "source": [
    "\n",
    "For this course we have set up a JupyterHub. This will be the supported computing platform for this course."
   ]
  },
  {
   "cell_type": "markdown",
   "metadata": {
    "slideshow": {
     "slide_type": "slide"
    }
   },
   "source": [
    "## ENGR131 JupyterHub\n",
    "\n",
    "This JupyterHub is hosted by NRP Nautilus an NSF Funded Federated Kubernetes Cluster. "
   ]
  },
  {
   "cell_type": "markdown",
   "metadata": {
    "slideshow": {
     "slide_type": "fragment"
    }
   },
   "source": [
    "\n",
    "### Connecting\n",
    "\n",
    "The JupyterHub can be accessed at [jupyterhub](https://engr131.nrp-nautilus.io/)\n"
   ]
  },
  {
   "cell_type": "markdown",
   "metadata": {
    "slideshow": {
     "slide_type": "subslide"
    }
   },
   "source": [
    "### Logging In\n",
    "\n",
    "When navigating to the website you will be presented with a login screen. \n",
    "\n",
    "![](figs/loging_Jhub.png)\n",
    "\n",
    "Type your Drexel University email address (example abc123@drexel.edu) and Password\n"
   ]
  },
  {
   "attachments": {},
   "cell_type": "markdown",
   "metadata": {
    "slideshow": {
     "slide_type": "subslide"
    }
   },
   "source": [
    "## Computing Requirements for ENGR 131\n",
    "\n",
    "When you login to the JupyterHub all of the computation is conducted on a remote server. You can access the JupyterHub on any laptop with a web browser (Windows, Mac, Linux, Chromebook). You can even access the JupyterHub from a tablet or phone. \n",
    "\n",
    "If you have concerns about access to computing resources please contact Prof. [Capps](mailto:engr131w23@drexel.edu), or Prof. [Agar](mailto:engr131w23@drexel.edu)"
   ]
  },
  {
   "cell_type": "markdown",
   "metadata": {
    "slideshow": {
     "slide_type": "subslide"
    }
   },
   "source": [
    "### JupyterLab Interface"
   ]
  },
  {
   "cell_type": "markdown",
   "metadata": {
    "slideshow": {
     "slide_type": "fragment"
    }
   },
   "source": [
    "![](figs/interface_jupyterlab.webp)"
   ]
  },
  {
   "cell_type": "markdown",
   "metadata": {
    "slideshow": {
     "slide_type": "fragment"
    }
   },
   "source": [
    "* JupyterLab provides flexible building blocks for interactive, exploratory computing. "
   ]
  },
  {
   "cell_type": "markdown",
   "metadata": {
    "slideshow": {
     "slide_type": "subslide"
    }
   },
   "source": [
    "### Menu Bar\n",
    "\n",
    "* File: actions related to files and directories\n",
    "* Edit: actions related to editing documents and other activities\n",
    "* View: actions that alter the appearance of JupyterLab\n",
    "* Run: actions for running code in different activities such as notebooks and code consoles\n",
    "* Kernel: actions for managing kernels, which are separate processes for running code\n",
    "* Tabs: a list of the open documents and activities in the dock panel\n",
    "* Settings: common settings and an advanced settings editor\n",
    "* Help: a list of JupyterLab and kernel help links"
   ]
  },
  {
   "cell_type": "markdown",
   "metadata": {
    "slideshow": {
     "slide_type": "subslide"
    }
   },
   "source": [
    "### Left Sidebar\n",
    "\n",
    "![](figs/interface_left.png)\n",
    "\n",
    "The left sidebar contains a number of commonly-used tabs including:\n",
    "\n",
    "* A file browser\n",
    "* A list of tabs in the main work and of running kernels and terminals\n",
    "* The command palette\n",
    "* The [table of contents](https://jupyterlab.readthedocs.io/en/stable/user/toc.html#toc)\n",
    "* The [extension manager](https://jupyterlab.readthedocs.io/en/stable/user/extensions.html#extension-manager)"
   ]
  },
  {
   "cell_type": "markdown",
   "metadata": {
    "slideshow": {
     "slide_type": "subslide"
    }
   },
   "source": [
    "### Right Sidebar\n",
    "\n",
    "![](figs/interface_right.png)\n",
    "\n",
    "* The property inspector (active in notebooks)\n",
    "* The debugger"
   ]
  },
  {
   "cell_type": "markdown",
   "metadata": {
    "slideshow": {
     "slide_type": "subslide"
    }
   },
   "source": [
    "### Main Work Area"
   ]
  },
  {
   "cell_type": "markdown",
   "metadata": {
    "slideshow": {
     "slide_type": "fragment"
    }
   },
   "source": [
    "The main work area in JupyterLab enables you to arrange documents (notebooks, text files, etc.) and other activities (terminals, code consoles, etc.) into panels of tabs that can be resized or subdivided."
   ]
  },
  {
   "cell_type": "markdown",
   "metadata": {
    "slideshow": {
     "slide_type": "fragment"
    }
   },
   "source": [
    "Drag a tab to the center of a tab panel to move the tab to the panel. Subdivide a tab panel by dragging a tab to the left, right, top, or bottom of the panel:"
   ]
  },
  {
   "cell_type": "markdown",
   "metadata": {
    "slideshow": {
     "slide_type": "subslide"
    }
   },
   "source": [
    "### Navigating Tabs\n",
    "\n",
    "The Tabs panel in the left sidebar lists the open documents or activities in the main work area:\n",
    "\n",
    "![](figs/interface_tabs.webp)"
   ]
  },
  {
   "cell_type": "markdown",
   "metadata": {
    "slideshow": {
     "slide_type": "fragment"
    }
   },
   "source": [
    "The same information is also available in the Tabs menu:\n",
    "\n",
    "![](figs/interface_tabs_menu.png)"
   ]
  },
  {
   "cell_type": "markdown",
   "metadata": {
    "slideshow": {
     "slide_type": "subslide"
    }
   },
   "source": [
    "### Context Menus\n",
    "\n",
    "![](figs/Context_Menu.png)\n",
    "\n",
    "Context of files can be accessed using a right-click"
   ]
  },
  {
   "cell_type": "markdown",
   "metadata": {
    "slideshow": {
     "slide_type": "subslide"
    }
   },
   "source": [
    "### Supported Tasks and File Types\n",
    "\n",
    "JupyerLab supports most standard file types. Most files can be opened directly within the browser.\n",
    "\n",
    "You will use many of the functionality inside JupyterLab"
   ]
  },
  {
   "cell_type": "markdown",
   "metadata": {
    "slideshow": {
     "slide_type": "subslide"
    }
   },
   "source": [
    "#### Terminal"
   ]
  },
  {
   "cell_type": "markdown",
   "metadata": {
    "slideshow": {
     "slide_type": "fragment"
    }
   },
   "source": [
    "You can access a terminal by clicking:\n",
    "\n",
    "![](figs/Terminal.png)"
   ]
  },
  {
   "cell_type": "markdown",
   "metadata": {
    "slideshow": {
     "slide_type": "fragment"
    }
   },
   "source": [
    "The terminal provides a command-line prompt. This allows you to provide text-based instructions to the computer. \n",
    "* Nearly every operation on a computer can be done using the command line\n",
    "* We will primarily use the terminal to interact with files and folders and run scripts. "
   ]
  },
  {
   "cell_type": "markdown",
   "metadata": {
    "slideshow": {
     "slide_type": "subslide"
    }
   },
   "source": [
    "#### Jupyter Notebook\n",
    "\n",
    "![](figs/jupyter_notebook.png)"
   ]
  },
  {
   "cell_type": "markdown",
   "metadata": {
    "slideshow": {
     "slide_type": "fragment"
    }
   },
   "source": [
    "* Jupyter Notebooks is an open-source interactive programming environments\n",
    "* They work with more than 40 languages including Python\n",
    "* Your code can produce rich, interactive output: HTML, images, videos, LaTeX, and custom MIME types\n",
    "* Notebooks can be shared with others using email, Dropbox, GitHub and the Jupyter Notebook Viewer"
   ]
  },
  {
   "cell_type": "markdown",
   "metadata": {
    "slideshow": {
     "slide_type": "subslide"
    }
   },
   "source": [
    "#### Python Editor\n",
    "\n",
    "![](figs/Python_editor.png)"
   ]
  },
  {
   "cell_type": "markdown",
   "metadata": {
    "slideshow": {
     "slide_type": "fragment"
    }
   },
   "source": [
    "* You can use JupyterLab as a interactive development environment to write Python files\n",
    "* This allows you to make scripts and packages"
   ]
  }
 ],
 "metadata": {
  "celltoolbar": "Slideshow",
  "kernelspec": {
   "display_name": "Python 3",
   "language": "python",
   "name": "python3"
  },
  "language_info": {
   "codemirror_mode": {
    "name": "ipython",
    "version": 3
   },
   "file_extension": ".py",
   "mimetype": "text/x-python",
   "name": "python",
   "nbconvert_exporter": "python",
   "pygments_lexer": "ipython3",
   "version": "3.8.10 (default, Nov 14 2022, 12:59:47) \n[GCC 9.4.0]"
  },
  "varInspector": {
   "cols": {
    "lenName": 16,
    "lenType": 16,
    "lenVar": 40
   },
   "kernels_config": {
    "python": {
     "delete_cmd_postfix": "",
     "delete_cmd_prefix": "del ",
     "library": "var_list.py",
     "varRefreshCmd": "print(var_dic_list())"
    },
    "r": {
     "delete_cmd_postfix": ") ",
     "delete_cmd_prefix": "rm(",
     "library": "var_list.r",
     "varRefreshCmd": "cat(var_dic_list()) "
    }
   },
   "types_to_exclude": [
    "module",
    "function",
    "builtin_function_or_method",
    "instance",
    "_Feature"
   ],
   "window_display": false
  },
  "vscode": {
   "interpreter": {
    "hash": "916dbcbb3f70747c44a77c7bcd40155683ae19c65e1c03b4aa3499c5328201f1"
   }
  }
 },
 "nbformat": 4,
 "nbformat_minor": 2
}