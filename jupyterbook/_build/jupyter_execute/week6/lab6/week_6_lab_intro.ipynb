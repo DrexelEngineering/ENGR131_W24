{
 "cells": [
  {
   "cell_type": "markdown",
   "metadata": {},
   "source": [
    "# 📝Week 6 - Lab Intro\n",
    "\n",
    "In this lab introduction we will briefly discuss the topic of branching, which is the focus of today's lab and the assigned homework."
   ]
  },
  {
   "cell_type": "markdown",
   "metadata": {
    "slideshow": {
     "slide_type": "subslide"
    }
   },
   "source": [
    "## Branching"
   ]
  },
  {
   "cell_type": "markdown",
   "metadata": {},
   "source": [
    "### `if` statements\n",
    "`if` statements let you run certain code only if some condition is met. The code inside the `if` statement is indented."
   ]
  },
  {
   "cell_type": "code",
   "execution_count": null,
   "metadata": {
    "tags": [
     "skip-execution"
    ]
   },
   "outputs": [],
   "source": [
    "score = 50\n",
    "\n",
    "if score > 80:\n",
    "    print(f\"{score} is a good score.\")\n",
    "print(\"End of score report.\")"
   ]
  },
  {
   "cell_type": "markdown",
   "metadata": {},
   "source": [
    "### `else` statements\n",
    "You can use the keyword `else` if you want code to run only if the previous condition was *not* met. You cannot provide `else` with a condition."
   ]
  },
  {
   "cell_type": "code",
   "execution_count": null,
   "metadata": {
    "tags": [
     "skip-execution"
    ]
   },
   "outputs": [],
   "source": [
    "score = 50\n",
    "\n",
    "if score > 80:\n",
    "    print(f\"{score} is a good score.\")\n",
    "else:\n",
    "    print(f\"{score} is a bad score.\")\n",
    "\n",
    "print(\"End of score report.\")"
   ]
  },
  {
   "cell_type": "markdown",
   "metadata": {},
   "source": [
    "### Multiple `if` statements\n",
    "You can have multiple `if` statements in a row. It's possible more than one are true."
   ]
  },
  {
   "cell_type": "code",
   "execution_count": null,
   "metadata": {
    "tags": [
     "skip-execution"
    ]
   },
   "outputs": [],
   "source": [
    "score = 90\n",
    "\n",
    "if score > 80:\n",
    "    print(f\"{score} is a good score.\")\n",
    "if score > 70:\n",
    "    print(f\"{score} is a decent score.\")\n",
    "\n",
    "print(\"End of score report.\")"
   ]
  },
  {
   "cell_type": "markdown",
   "metadata": {},
   "source": [
    "If you have multiple `if` statements, the else only applies to the last `if` statement."
   ]
  },
  {
   "cell_type": "code",
   "execution_count": null,
   "metadata": {
    "tags": [
     "skip-execution"
    ]
   },
   "outputs": [],
   "source": [
    "score = 75\n",
    "\n",
    "if score > 70:\n",
    "    print(f\"{score} is a decent score.\")\n",
    "if score > 80:\n",
    "    print(f\"{score} is a good score.\")\n",
    "else:\n",
    "    print(f\"{score} is a bad score.\")\n",
    "\n",
    "print(\"End of score report.\")"
   ]
  },
  {
   "cell_type": "markdown",
   "metadata": {},
   "source": [
    "The examples so far show that using multiple `if` statements in a row isn't always what you want. Sometimes multiple `if`s are useful, when you want to check for multiple conditions and any or all of them can be true. Here's an example.  "
   ]
  },
  {
   "cell_type": "code",
   "execution_count": null,
   "metadata": {
    "tags": [
     "skip-execution"
    ]
   },
   "outputs": [],
   "source": [
    "number = 12\n",
    "\n",
    "if number % 2 == 0:\n",
    "    print(f\"{number} is divisible by 2.\")\n",
    "if number % 3 == 0:\n",
    "    print(f\"{number} is divisible by 3.\")\n",
    "if number % 4 == 0:\n",
    "    print(f\"{number} is divisible by 4.\")\n",
    "if number % 5 == 0:\n",
    "    print(f\"{number} is divisible by 5.\")\n",
    "if number % 6 == 0:\n",
    "    print(f\"{number} is divisible by 6.\")"
   ]
  },
  {
   "cell_type": "markdown",
   "metadata": {},
   "source": [
    "### `elif` statements\n",
    "The `elif` keyword is used to mean \"else if\". They are useful when you have multiple conditions you want to check for, but you only ever want one condtion to be true at a time.\n",
    "\n",
    "When you want to have multiple mutually exclusive conditions, your best choice is to use the `if` - `elif` - `else` structure. It always starts with an `if`, ends with an `else`, and the remaining statements in between are all `elif` statements. For example:\n"
   ]
  },
  {
   "cell_type": "code",
   "execution_count": null,
   "metadata": {
    "tags": [
     "skip-execution"
    ]
   },
   "outputs": [],
   "source": [
    "score = 93\n",
    "\n",
    "if score > 90:\n",
    "    print(f\"{score} is an excellent score.\")\n",
    "elif score > 80:\n",
    "    print(f\"{score} is an good score.\")\n",
    "elif score > 70:\n",
    "    print(f\"{score} is a decent score.\")\n",
    "else:\n",
    "    print(f\"{score} is a bad score.\")\n",
    "\n",
    "print(\"End of score report.\") "
   ]
  },
  {
   "cell_type": "markdown",
   "metadata": {},
   "source": [
    "### Nested conditions\n",
    "\n",
    "It is possible to have nested conditions, for example an `if` statement inside an `if` block. For example:"
   ]
  },
  {
   "cell_type": "code",
   "execution_count": null,
   "metadata": {
    "tags": [
     "skip-execution"
    ]
   },
   "outputs": [],
   "source": [
    "score = 55\n",
    "\n",
    "if score >= 0:\n",
    "    if score <= 100:\n",
    "        print(f\"{score} is a valid percentage.\") "
   ]
  },
  {
   "cell_type": "markdown",
   "metadata": {},
   "source": [
    "This is equivalent to:"
   ]
  },
  {
   "cell_type": "code",
   "execution_count": null,
   "metadata": {
    "tags": [
     "skip-execution"
    ]
   },
   "outputs": [],
   "source": [
    "score = 55\n",
    "\n",
    "if score >= 0 and score <= 100:\n",
    "    print(f\"{score} is a valid percentage.\")"
   ]
  },
  {
   "cell_type": "markdown",
   "metadata": {},
   "source": [
    "Here's an example where nesting is useful. The outermost statements check whether the score is a valid percentage. If it is, then the inner statements are used to further determine the quality of the score."
   ]
  },
  {
   "cell_type": "code",
   "execution_count": null,
   "metadata": {
    "tags": [
     "skip-execution"
    ]
   },
   "outputs": [],
   "source": [
    "score = int(input())\n",
    "\n",
    "if score >= 0 and score <= 100:\n",
    "    if score > 90:\n",
    "        print(f\"{score} is an excellent score.\")\n",
    "    elif score > 80:\n",
    "        print(f\"{score} is an good score.\")\n",
    "    elif score > 70:\n",
    "        print(f\"{score} is a decent score.\")\n",
    "    else:\n",
    "        print(f\"{score} is a bad score.\")\n",
    "\n",
    "else:\n",
    "    print(\"Invalid percentage.\")"
   ]
  }
 ],
 "metadata": {
  "celltoolbar": "Slideshow",
  "kernelspec": {
   "display_name": "Python 3 (ipykernel)",
   "language": "python",
   "name": "python3"
  },
  "language_info": {
   "codemirror_mode": {
    "name": "ipython",
    "version": 3
   },
   "file_extension": ".py",
   "mimetype": "text/x-python",
   "name": "python",
   "nbconvert_exporter": "python",
   "pygments_lexer": "ipython3",
   "version": "3.10.13"
  },
  "varInspector": {
   "cols": {
    "lenName": 16,
    "lenType": 16,
    "lenVar": 40
   },
   "kernels_config": {
    "python": {
     "delete_cmd_postfix": "",
     "delete_cmd_prefix": "del ",
     "library": "var_list.py",
     "varRefreshCmd": "print(var_dic_list())"
    },
    "r": {
     "delete_cmd_postfix": ") ",
     "delete_cmd_prefix": "rm(",
     "library": "var_list.r",
     "varRefreshCmd": "cat(var_dic_list()) "
    }
   },
   "types_to_exclude": [
    "module",
    "function",
    "builtin_function_or_method",
    "instance",
    "_Feature"
   ],
   "window_display": false
  },
  "vscode": {
   "interpreter": {
    "hash": "513b23069d29a61750765eb13a612a21c520ffec067bf4e4e6fd69787237414d"
   }
  }
 },
 "nbformat": 4,
 "nbformat_minor": 4
}