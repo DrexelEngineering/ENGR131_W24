{
 "cells": [
  {
   "attachments": {},
   "cell_type": "markdown",
   "metadata": {
    "slideshow": {
     "slide_type": "slide"
    }
   },
   "source": [
    "# 📝 Introduction to Loops with Integrals"
   ]
  },
  {
   "cell_type": "markdown",
   "metadata": {
    "slideshow": {
     "slide_type": "subslide"
    }
   },
   "source": [
    "## Utility of loops\n",
    "\n",
    "Branching causes specific blocks of code to be executed only under certain conditions. The conditions are articulated as logical expressions. "
   ]
  },
  {
   "cell_type": "markdown",
   "metadata": {
    "slideshow": {
     "slide_type": "subslide"
    }
   },
   "source": [
    "## How do you write loops?\n",
    "\n",
    "The simplest version of loop is a \"for loop\". "
   ]
  },
  {
   "cell_type": "markdown",
   "metadata": {
    "slideshow": {
     "slide_type": "fragment"
    }
   },
   "source": [
    "```python\n",
    "for looping_variable in sequence:\n",
    "    code_block\n",
    "```\n"
   ]
  },
  {
   "cell_type": "code",
   "execution_count": 1,
   "metadata": {
    "slideshow": {
     "slide_type": "subslide"
    }
   },
   "outputs": [
    {
     "name": "stdout",
     "output_type": "stream",
     "text": [
      "Drexel University offers a program in Biomedical Engineering.\n",
      "Drexel University offers a program in Chemical Engineering.\n",
      "Drexel University offers a program in Civil Engineering.\n",
      "Drexel University offers a program in Electrical Engineering.\n",
      "Drexel University offers a program in Mechanical Engineering.\n",
      "Drexel University offers a program in Computer Engineering.\n"
     ]
    }
   ],
   "source": [
    "# List of engineering disciplines offered at Drexel University\n",
    "engineering_disciplines = ['Biomedical Engineering', 'Chemical Engineering', 'Civil Engineering', 'Electrical Engineering', 'Mechanical Engineering', 'Computer Engineering']\n",
    "\n",
    "# Simple for loop to print each discipline\n",
    "for discipline in engineering_disciplines:\n",
    "    print(f\"Drexel University offers a program in {discipline}.\")\n"
   ]
  },
  {
   "cell_type": "markdown",
   "metadata": {
    "slideshow": {
     "slide_type": "slide"
    }
   },
   "source": [
    "## For Loops with Branching"
   ]
  },
  {
   "cell_type": "code",
   "execution_count": 2,
   "metadata": {
    "slideshow": {
     "slide_type": "fragment"
    }
   },
   "outputs": [
    {
     "name": "stdout",
     "output_type": "stream",
     "text": [
      "Safe operating voltage measurements: [5.5, 10.2, 11.1]\n",
      "Voltage measurements at threshold levels: [3.3, 12.0, 3.3, 12.0]\n"
     ]
    }
   ],
   "source": [
    "# Sample voltage measurements\n",
    "voltage_measurements = [0.5, 3.3, 5.5, 10.2, 12.0, 15.5, 3.3, 12.0, 2.8, 11.1]\n",
    "\n",
    "# Safe operating levels\n",
    "lower_threshold = 3.3\n",
    "upper_threshold = 12.0\n",
    "\n",
    "# Initialize lists to hold filtered results\n",
    "safe_voltages = []\n",
    "threshold_voltages = []\n",
    "\n",
    "for voltage in voltage_measurements:\n",
    "    # Check if voltage is within safe operating levels\n",
    "    if lower_threshold < voltage < upper_threshold:\n",
    "        safe_voltages.append(voltage)\n",
    "    # Check if voltage is exactly at the threshold values\n",
    "    elif voltage == lower_threshold or voltage == upper_threshold:\n",
    "        threshold_voltages.append(voltage)\n",
    "\n",
    "print(\"Safe operating voltage measurements:\", safe_voltages)\n",
    "print(\"Voltage measurements at threshold levels:\", threshold_voltages)\n"
   ]
  },
  {
   "cell_type": "markdown",
   "metadata": {
    "slideshow": {
     "slide_type": "subslide"
    }
   },
   "source": [
    "### Loops with Flow Control\n",
    "\n",
    "Sometimes it is important to add conditional flow control to the loops. This can be done with continue, pass, and break statements. \n",
    "\n",
    "Incorporating `continue`, `pass`, and `break` into the previous example can demonstrate their utility in controlling the flow of a for loop. These statements are useful in Python for managing loop execution under specific conditions:\n",
    "\n",
    "- `continue` skips the rest of the code inside the loop for the current iteration and proceeds to the next iteration.\n",
    "- `pass` does nothing; it acts as a placeholder for future code.\n",
    "- `break` exits the loop entirely, skipping any remaining iterations.\n",
    "\n",
    "\n",
    "### Modified Example with `continue`, `pass`, and `break`\n",
    "\n"
   ]
  },
  {
   "cell_type": "code",
   "execution_count": 3,
   "metadata": {
    "slideshow": {
     "slide_type": "fragment"
    }
   },
   "outputs": [
    {
     "name": "stdout",
     "output_type": "stream",
     "text": [
      "Critical voltage detected: -1V. Investigation required.\n",
      "Safe operating voltage measurements: [5.5, 10.2]\n",
      "Voltage measurements at threshold levels: [3.3]\n",
      "Critical voltage measurements: [-1]\n"
     ]
    }
   ],
   "source": [
    "# Sample voltage measurements\n",
    "voltage_measurements = [0.5, 3.3, 5.5, 10.2, -1,  12.0, 15.5, 3.3, 12.0, 2.8, 11.1, -1]\n",
    "\n",
    "# Safe operating levels\n",
    "lower_threshold = 3.3\n",
    "upper_threshold = 12.0\n",
    "\n",
    "# Initialize lists to hold filtered results\n",
    "safe_voltages = []\n",
    "threshold_voltages = []\n",
    "critical_voltages = []\n",
    "\n",
    "for voltage in voltage_measurements:\n",
    "    # Check for critical condition (e.g., negative voltage)\n",
    "    if voltage < 0:\n",
    "        print(f\"Critical voltage detected: {voltage}V. Investigation required.\")\n",
    "        critical_voltages.append(voltage)\n",
    "        break  # Exit loop at first sign of critical condition\n",
    "    \n",
    "    if voltage == lower_threshold or voltage == upper_threshold:\n",
    "        threshold_voltages.append(voltage)\n",
    "        continue  # Skip to the next iteration\n",
    "    \n",
    "    if lower_threshold < voltage < upper_threshold:\n",
    "        safe_voltages.append(voltage)\n",
    "    else:\n",
    "        # Placeholder for future condition handling\n",
    "        pass  # Do nothing for now\n",
    "\n",
    "print(\"Safe operating voltage measurements:\", safe_voltages)\n",
    "print(\"Voltage measurements at threshold levels:\", threshold_voltages)\n",
    "print(\"Critical voltage measurements:\", critical_voltages)"
   ]
  },
  {
   "cell_type": "markdown",
   "metadata": {
    "slideshow": {
     "slide_type": "fragment"
    }
   },
   "source": [
    "### Explanation\n",
    "\n",
    "- **Critical Condition with `break`**: We added a condition at the beginning of the loop to check for critical system failures, exemplified here by negative voltages. If such a condition is detected, a message is printed, the voltage is added to `critical_voltages`, and `break` is used to exit the loop immediately. This could represent a situation where processing needs to stop because of a significant error or anomaly.\n",
    "\n",
    "- **Threshold Check with `continue`**: After handling the critical condition, we check if the voltage is at either threshold value. If so, we add it to `threshold_voltages` and then use `continue` to skip the remaining code in the loop, moving directly to the next iteration. This ensures that threshold voltages are not also classified as safe voltages.\n",
    "\n",
    "- **Placeholder with `pass`**: In the `else` clause, where we might handle voltages outside the safe operating range but not critical, we use `pass` as a placeholder. This could be where you'd implement additional logic, such as logging these measurements for further analysis. For now, it does nothing but serves as a placeholder for future code.\n"
   ]
  },
  {
   "cell_type": "markdown",
   "metadata": {
    "slideshow": {
     "slide_type": "subslide"
    }
   },
   "source": [
    "## Loops with Enumerate\n",
    "\n",
    "The `enumerate` function is a built-in function that returns an iterator of tuples containing indices and values from an iterable. It is often used in loops to keep track of the index of the current item. "
   ]
  },
  {
   "cell_type": "code",
   "execution_count": 4,
   "metadata": {
    "slideshow": {
     "slide_type": "fragment"
    }
   },
   "outputs": [
    {
     "name": "stdout",
     "output_type": "stream",
     "text": [
      "Signal peak detected at position 3 with strength 2.5\n",
      "Signal peak detected at position 7 with strength 2.2\n"
     ]
    }
   ],
   "source": [
    "# List of signal strength measurements\n",
    "signal_strengths = [0.1, 0.5, 1.5, 2.5, 1.2, 0.4, 0.9, 2.2, 1.8, 0.2, 0.5]\n",
    "\n",
    "# Threshold for considering a measurement as a peak\n",
    "threshold = 2.0\n",
    "\n",
    "# Loop through the list with enumerate to track index and value\n",
    "for index, strength in enumerate(signal_strengths):\n",
    "    if strength > threshold:\n",
    "        print(f\"Signal peak detected at position {index} with strength {strength}\")\n"
   ]
  },
  {
   "cell_type": "markdown",
   "metadata": {
    "slideshow": {
     "slide_type": "fragment"
    }
   },
   "source": [
    "### Explanation\n",
    "\n",
    "- **Enumerate Function**: `enumerate(signal_strengths)` takes the `signal_strengths` list and returns an enumerate object. This object generates pairs containing the index of each element and the element's value itself (`index, strength`).\n",
    "\n",
    "- **Loop with Index and Value**: Inside the loop, `index` represents the position of the measurement in the list, and `strength` is the measurement value. This allows us to easily refer to both the measurement's value and its position.\n",
    "\n",
    "- **Conditional Check**: The `if` statement checks if the current signal strength (`strength`) exceeds the defined `threshold`. If it does, it prints a message indicating that a signal peak was detected, including the position (`index`) and the strength of the signal."
   ]
  },
  {
   "cell_type": "markdown",
   "metadata": {
    "slideshow": {
     "slide_type": "subslide"
    }
   },
   "source": [
    "## Loops on Dictionaries"
   ]
  },
  {
   "cell_type": "code",
   "execution_count": 5,
   "metadata": {
    "slideshow": {
     "slide_type": "fragment"
    }
   },
   "outputs": [
    {
     "name": "stdout",
     "output_type": "stream",
     "text": [
      "Analyzing concrete:\n",
      "  density: 2400\n",
      "  compressive_strength: 30\n",
      "  cost_per_unit: 70\n",
      "Analyzing steel:\n",
      "  density: 7850\n",
      "  compressive_strength: 250\n",
      "  cost_per_unit: 250\n",
      "Analyzing wood:\n",
      "  density: 700\n",
      "  compressive_strength: 40\n",
      "  cost_per_unit: 50\n",
      "Analyzing brick:\n",
      "  density: 2000\n",
      "  compressive_strength: 20\n",
      "  cost_per_unit: 40\n",
      "\n",
      "Materials with compressive strength above 50 MPa:\n",
      "- steel\n"
     ]
    }
   ],
   "source": [
    "# Dictionary of construction materials and their properties\n",
    "construction_materials = {\n",
    "    'concrete': {'density': 2400, 'compressive_strength': 30, 'cost_per_unit': 70},\n",
    "    'steel': {'density': 7850, 'compressive_strength': 250, 'cost_per_unit': 250},\n",
    "    'wood': {'density': 700, 'compressive_strength': 40, 'cost_per_unit': 50},\n",
    "    'brick': {'density': 2000, 'compressive_strength': 20, 'cost_per_unit': 40}\n",
    "}\n",
    "\n",
    "# Loop through the dictionary to analyze materials\n",
    "for material, properties in construction_materials.items():\n",
    "    print(f\"Analyzing {material}:\")\n",
    "    for property, value in properties.items():\n",
    "        print(f\"  {property}: {value}\")\n",
    "\n",
    "# Identifying materials with compressive strength above a threshold\n",
    "strength_threshold = 50\n",
    "print(\"\\nMaterials with compressive strength above 50 MPa:\")\n",
    "for material, properties in construction_materials.items():\n",
    "    if properties['compressive_strength'] > strength_threshold:\n",
    "        print(f\"- {material}\")\n"
   ]
  },
  {
   "cell_type": "markdown",
   "metadata": {
    "slideshow": {
     "slide_type": "fragment"
    }
   },
   "source": [
    "### Explanation\n",
    "\n",
    "- **Looping Through Dictionary**: The `for material, properties in construction_materials.items():` loop iterates over the `construction_materials` dictionary. `material` is the key (e.g., 'concrete', 'steel'), and `properties` is the value, which is another dictionary containing the properties of each material.\n",
    "\n",
    "- **Nested Loop for Properties**: Inside the first loop, another loop iterates through the properties of each material. This nested loop allows for printing out all properties of each material in a readable format.\n",
    "\n",
    "- **Conditional Analysis**: After printing the details of each material, another loop filters materials based on their compressive strength, identifying those with values above a certain threshold (in this case, 50 MPa). This demonstrates how to apply conditions to selectively process or analyze data within a dictionary."
   ]
  },
  {
   "cell_type": "markdown",
   "metadata": {
    "slideshow": {
     "slide_type": "subslide"
    }
   },
   "source": [
    "## Loops with Zips"
   ]
  },
  {
   "cell_type": "code",
   "execution_count": 6,
   "metadata": {
    "slideshow": {
     "slide_type": "fragment"
    }
   },
   "outputs": [
    {
     "name": "stdout",
     "output_type": "stream",
     "text": [
      "Average molar mass of mixture: 21.61 g/mol\n",
      "Average molar mass of mixture: 34.61 g/mol\n",
      "Average molar mass of mixture: 34.41 g/mol\n"
     ]
    }
   ],
   "source": [
    "# Molar masses of compounds in g/mol (for simplicity, assume uniform across mixtures)\n",
    "molar_masses = [18.01528, 44.01, 28.0134]  # Water (H2O), Carbon Dioxide (CO2), Nitrogen (N2)\n",
    "\n",
    "# Mass fractions of each compound in three different mixtures\n",
    "mixture_1_fractions = [0.8, 0.1, 0.1]\n",
    "mixture_2_fractions = [0.3, 0.6, 0.1]\n",
    "mixture_3_fractions = [0, 0.4, 0.6]\n",
    "\n",
    "# List of all mixture fractions for iteration\n",
    "mixtures_fractions = [mixture_1_fractions, mixture_2_fractions, mixture_3_fractions]\n",
    "\n",
    "# Calculate and print the average molar mass for each mixture\n",
    "for mixture in mixtures_fractions:\n",
    "    average_molar_mass = sum(m * f for m, f in zip(molar_masses, mixture))\n",
    "    print(f\"Average molar mass of mixture: {average_molar_mass:.2f} g/mol\")\n"
   ]
  },
  {
   "cell_type": "markdown",
   "metadata": {
    "slideshow": {
     "slide_type": "fragment"
    }
   },
   "source": [
    "### Explanation\n",
    "\n",
    "- **Zip Function**: `zip(molar_masses, mixture)` pairs each molar mass with its corresponding mass fraction in the mixture. This is crucial for performing calculations that depend on corresponding elements from multiple lists.\n",
    "\n",
    "- **Loop Over Mixtures**: The outer loop `for mixture in mixtures_fractions:` iterates over each list of mass fractions (each representing a different mixture).\n",
    "\n",
    "- **List Comprehension with Zip**: Inside the loop, a list comprehension calculates the product of the molar mass and the mass fraction for each compound in the current mixture. `sum(...)` then adds these products together to get the average molar mass of the mixture.\n",
    "\n",
    "- **Print Results**: For each mixture, the calculated average molar mass is printed, formatted to two decimal places."
   ]
  },
  {
   "cell_type": "markdown",
   "metadata": {
    "slideshow": {
     "slide_type": "subslide"
    }
   },
   "source": [
    "## While Loops\n",
    "\n",
    "While loops are used to execute a block of code repeatedly as long as a specified condition is true. This is useful when the number of iterations is not known beforehand and depends on certain conditions being met.\n",
    "\n",
    "* You must be careful for a while loop to not run indefinitely. This can happen if the condition never becomes false. This is called an infinite loop and can cause the program to become unresponsive."
   ]
  },
  {
   "cell_type": "markdown",
   "metadata": {
    "slideshow": {
     "slide_type": "fragment"
    }
   },
   "source": [
    "```python\n",
    "while logical_expression:\n",
    "    # code_block is repeated until logical expression is false\n",
    "    code_block\n",
    "```\n"
   ]
  },
  {
   "cell_type": "markdown",
   "metadata": {
    "slideshow": {
     "slide_type": "subslide"
    }
   },
   "source": [
    "### Example: Estimating the Square Root using Newton's Method\n",
    "\n",
    "Newton's method, also known as the Newton-Raphson method, is an efficient, iterative approach for finding approximations to the roots (or zeroes) of a real-valued function. This example demonstrates how a while loop can be used to implement Newton's method for estimating the square root of a number, a basic yet practical application in engineering for tasks such as stress analysis, signal processing, and control systems design.\n"
   ]
  },
  {
   "cell_type": "markdown",
   "metadata": {
    "slideshow": {
     "slide_type": "fragment"
    }
   },
   "source": [
    "\n",
    "#### Newton's Method for Square Roots\n",
    "\n",
    "The Newton-Raphson formula to find the square root of a number `x` can be simplified as:\n",
    "\n",
    "$$new\\_estimate = \\frac{1}{2} \\left( estimate + \\frac{x}{estimate} \\right) $$\n",
    "\n",
    "where `estimate` is the current approximation of the square root of `x`, and `new_estimate` is the improved approximation.\n"
   ]
  },
  {
   "cell_type": "code",
   "execution_count": 7,
   "metadata": {
    "slideshow": {
     "slide_type": "fragment"
    }
   },
   "outputs": [
    {
     "name": "stdout",
     "output_type": "stream",
     "text": [
      "Estimated square root of 25: 5.000000\n"
     ]
    }
   ],
   "source": [
    "def estimate_sqrt(target, tolerance=1e-6):\n",
    "    \"\"\"\n",
    "    Estimates the square root of a given number using Newton's method.\n",
    "\n",
    "    Parameters:\n",
    "    - target: The number to estimate the square root of.\n",
    "    - tolerance: The tolerance for the difference between successive estimates.\n",
    "\n",
    "    Returns:\n",
    "    - float: The estimated square root of the target.\n",
    "    \"\"\"\n",
    "    estimate = target / 2.0  # Initial estimate\n",
    "\n",
    "    while True:\n",
    "        new_estimate = 0.5 * (estimate + target / estimate)\n",
    "        # Check if the difference between successive estimates is within the tolerance\n",
    "        if abs(new_estimate - estimate) < tolerance:\n",
    "            break\n",
    "        estimate = new_estimate\n",
    "\n",
    "    return estimate\n",
    "\n",
    "# Example usage\n",
    "number = 25\n",
    "sqrt_estimate = estimate_sqrt(number)\n",
    "print(f\"Estimated square root of {number}: {sqrt_estimate:.6f}\")"
   ]
  },
  {
   "cell_type": "markdown",
   "metadata": {
    "slideshow": {
     "slide_type": "fragment"
    }
   },
   "source": [
    "### Explanation\n",
    "\n",
    "- **Initial Estimate**: The initial guess for the square root is half the target value, a common starting point for positive numbers.\n",
    "\n",
    "- **While Loop**: The loop continues iterating until the difference between successive estimates of the square root is smaller than a specified tolerance, indicating convergence.\n",
    "\n",
    "- **Break Condition**: The loop exits (`break`) when the change between the current and new estimate is within the desired tolerance, signifying that further iterations would not significantly improve the approximation.\n",
    "\n",
    "- **Return Value**: Once the loop exits, the function returns the last calculated estimate as the square root of the target number."
   ]
  },
  {
   "cell_type": "markdown",
   "metadata": {
    "slideshow": {
     "slide_type": "subslide"
    }
   },
   "source": [
    "## Useful for User Interactions\n",
    "\n",
    "* useful when you have a system waiting for a user response -- for example, a game waiting for a player to make a move, or a chatbot waiting for a user to input a message. Commonly called callbacks. "
   ]
  },
  {
   "cell_type": "code",
   "execution_count": 8,
   "metadata": {
    "slideshow": {
     "slide_type": "fragment"
    }
   },
   "outputs": [
    {
     "data": {
      "application/vnd.jupyter.widget-view+json": {
       "model_id": "a3f358ecb6504f64946479eec055566b",
       "version_major": 2,
       "version_minor": 0
      },
      "text/plain": [
       "Button(description='Add', style=ButtonStyle())"
      ]
     },
     "metadata": {},
     "output_type": "display_data"
    },
    {
     "data": {
      "application/vnd.jupyter.widget-view+json": {
       "model_id": "43ed808535d14b87bc85d3ac20f494b7",
       "version_major": 2,
       "version_minor": 0
      },
      "text/plain": [
       "Output()"
      ]
     },
     "metadata": {},
     "output_type": "display_data"
    }
   ],
   "source": [
    "import ipywidgets as widgets\n",
    "from IPython.display import display, clear_output\n",
    "\n",
    "button = widgets.Button(description=\"Add\")\n",
    "output = widgets.Output()\n",
    "display(button, output)\n",
    "\n",
    "current_value = 0\n",
    "target_value = 10\n",
    "\n",
    "def on_button_clicked(b):\n",
    "    global current_value  # Access the global variable\n",
    "    with output:\n",
    "        clear_output(wait=True)  # Clear the previous output\n",
    "        if current_value < target_value:\n",
    "            current_value += 1  # Increment the current value\n",
    "            print(f\"Current Value: {current_value}\")\n",
    "        else:\n",
    "            print(\"Target reached!\")\n",
    "\n",
    "button.on_click(on_button_clicked)"
   ]
  },
  {
   "cell_type": "markdown",
   "metadata": {
    "slideshow": {
     "slide_type": "subslide"
    }
   },
   "source": [
    "## While Loops with Flow Control Statements"
   ]
  },
  {
   "cell_type": "markdown",
   "metadata": {
    "slideshow": {
     "slide_type": "fragment"
    }
   },
   "source": [
    "### Real Example: Water Treatment Chemical Dosage Optimization\n",
    "\n",
    "**Scenario**: In a water treatment process, the optimal chemical dosage for treating a batch of water depends on various factors like water quality parameters (e.g., pH, turbidity) and chemical concentration. The goal is to iteratively adjust the chemical dosage based on the water quality outcome, aiming for a target quality level with minimal chemical usage.\n",
    "\n",
    "The process involves incrementally adjusting the chemical dosage and observing the resulting water quality. If the water quality meets the target criteria, the process stops. If not, the dosage is adjusted based on the observed quality.\n"
   ]
  },
  {
   "cell_type": "markdown",
   "metadata": {
    "slideshow": {
     "slide_type": "fragment"
    }
   },
   "source": [
    "\n",
    "### Simplified Logic for Dosage Optimization\n",
    "\n",
    "**Objective**: Find the optimal dosage of a treatment chemical to achieve a target turbidity level in water.\n",
    "\n",
    "**Assumptions**:\n",
    "- Initial chemical dosage is set based on standard practice.\n",
    "- Turbidity level is measured after each treatment iteration.\n",
    "- The process is limited to a maximum number of iterations to prevent excessive chemical use.\n"
   ]
  },
  {
   "cell_type": "markdown",
   "metadata": {
    "slideshow": {
     "slide_type": "fragment"
    }
   },
   "source": [
    "\n",
    "**Pseudo-Logic**:\n",
    "\n",
    "1. **Initialize** variables: initial dosage, target turbidity, maximum iterations.\n",
    "2. **Iterate** with adjustments until the target turbidity is reached or the maximum iterations are exceeded.\n",
    "3. **Adjust** dosage based on the difference between current and target turbidity levels.\n",
    "4. **Incorporate** `break` for success, `continue` for minor adjustments, and error handling for unexpected measurements.\n"
   ]
  },
  {
   "cell_type": "code",
   "execution_count": 9,
   "metadata": {
    "slideshow": {
     "slide_type": "fragment"
    }
   },
   "outputs": [
    {
     "name": "stdout",
     "output_type": "stream",
     "text": [
      "Iteration 1: Current Turbidity = 1.69, Dosage = 1.00\n",
      "Iteration 2: Current Turbidity = 1.52, Dosage = 1.10\n",
      "Iteration 3: Current Turbidity = 0.84, Dosage = 1.20\n",
      "Iteration 4: Current Turbidity = 0.52, Dosage = 1.10\n",
      "Iteration 5: Current Turbidity = 1.02, Dosage = 1.00\n",
      "Target turbidity level achieved.\n",
      "Final optimized chemical dosage: 1.00\n"
     ]
    }
   ],
   "source": [
    "import numpy as np  # For random number generation\n",
    "import random  # To simulate changes in turbidity\n",
    "\n",
    "def optimize_chemical_dosage(initial_dosage, target_turbidity, max_iterations=10):\n",
    "    dosage = initial_dosage\n",
    "    iteration = 0\n",
    "    \n",
    "    while iteration < max_iterations:\n",
    "        iteration += 1\n",
    "        # Simulate measuring turbidity after applying the current dosage\n",
    "        current_turbidity = target_turbidity + (random.random() - 0.5) * 2  # Random fluctuation\n",
    "        \n",
    "        print(f\"Iteration {iteration}: Current Turbidity = {current_turbidity:.2f}, Dosage = {dosage:.2f}\")\n",
    "        \n",
    "        # Check if target turbidity is achieved\n",
    "        if abs(current_turbidity - target_turbidity) <= 0.1:  # Tolerance level\n",
    "            print(\"Target turbidity level achieved.\")\n",
    "            break\n",
    "            \n",
    "        # Adjust dosage based on the difference from target\n",
    "        elif current_turbidity > target_turbidity:\n",
    "            dosage += 0.1  # Increase dosage\n",
    "        elif current_turbidity < target_turbidity:\n",
    "            dosage -= 0.1  # Reduce dosage if above target to save chemical\n",
    "            if dosage < 0:  # Error handling for negative dosage\n",
    "                print(\"Error: Dosage calculation went below zero.\")\n",
    "                break\n",
    "        \n",
    "        # Check for last iteration without success\n",
    "        if iteration == max_iterations:\n",
    "            print(\"Maximum iterations reached without achieving target turbidity.\")\n",
    "    \n",
    "    return dosage\n",
    "\n",
    "random.seed(0)  # Set seed for reproducibility\n",
    "\n",
    "# Example usage\n",
    "initial_dosage = 1.0  # Initial chemical dosage in some units\n",
    "target_turbidity = 1.0  # Target turbidity level\n",
    "final_dosage = optimize_chemical_dosage(initial_dosage, target_turbidity)\n",
    "print(f\"Final optimized chemical dosage: {final_dosage:.2f}\")\n"
   ]
  },
  {
   "cell_type": "markdown",
   "metadata": {
    "slideshow": {
     "slide_type": "fragment"
    }
   },
   "source": [
    "\n",
    "### Explanation\n",
    "\n",
    "- **Simulation**: The change in turbidity after each treatment is simulated with a random fluctuation around the target to mimic real-world uncertainty.\n",
    "- **Dosage Adjustment**: Dosage is adjusted iteratively based on whether the current turbidity is above or below the target.\n",
    "- **Flow Control**: `break` exits the loop once the target is met or an error (negative dosage) occurs. The loop also stops if the maximum iterations are reached, indicating a potential problem with the process or the assumptions.\n",
    "- **Error Handling**: Checks for negative dosage values to prevent illogical treatment scenarios."
   ]
  },
  {
   "cell_type": "markdown",
   "metadata": {
    "slideshow": {
     "slide_type": "slide"
    }
   },
   "source": [
    "## Using loops in integration\n",
    "\n",
    "Many engineering applications require integration, which can be understood as calculating the area under a curve. For example, consider the following:"
   ]
  },
  {
   "cell_type": "markdown",
   "metadata": {
    "slideshow": {
     "slide_type": "fragment"
    }
   },
   "source": [
    "* estimating the force of water against a bridge or dam\n",
    "\n",
    "* determining the amount of time a reactor should operate for a given chemical to be produced\n",
    "\n",
    "* processing audio or electrical signals into meaningful input \n",
    "\n",
    "* determining the force required to move an object a given distance"
   ]
  },
  {
   "cell_type": "markdown",
   "metadata": {
    "slideshow": {
     "slide_type": "fragment"
    }
   },
   "source": [
    "For example, to deposit materials on graphene, one could observe the progress of experiments over time to find the amount of mass deposited to optimize the conditions for deposition."
   ]
  },
  {
   "cell_type": "markdown",
   "metadata": {
    "slideshow": {
     "slide_type": "fragment"
    }
   },
   "source": [
    "![](https://i0.wp.com/www.atomiclimits.com/wp-content/uploads/2017/06/Chapter_1_Figure_5.png?w=1476&ssl=1)"
   ]
  },
  {
   "cell_type": "markdown",
   "metadata": {
    "slideshow": {
     "slide_type": "slide"
    }
   },
   "source": [
    "The Riemann integral is the simplest method of approximating the area under a curve. One simply "
   ]
  },
  {
   "cell_type": "markdown",
   "metadata": {
    "slideshow": {
     "slide_type": "fragment"
    }
   },
   "source": [
    "* divides the area under the curve into rectangles of equal width $h$ and height $f(x_i)$,\n",
    "\n",
    "* calculates the area for each rectangle using $A_i = hf(x_i)$, and \n",
    "\n",
    "* sums the areas of each rectangle between some smaller value of $x$ called $a$ and a larger value of $x$ called $b$."
   ]
  },
  {
   "cell_type": "markdown",
   "metadata": {
    "slideshow": {
     "slide_type": "fragment"
    }
   },
   "source": [
    "Mathematically, this process is expressed as \n",
    "\n",
    "$$\\int_{x_i}^{x_{i+1}} f(x) dx= hf(x_i) + O(h^2).$$\n",
    "\n",
    "![](https://i.ytimg.com/vi/NgLd16Dksrs/maxresdefault.jpg)"
   ]
  },
  {
   "cell_type": "code",
   "execution_count": null,
   "metadata": {},
   "outputs": [],
   "source": []
  }
 ],
 "metadata": {
  "celltoolbar": "Slideshow",
  "kernelspec": {
   "display_name": "Python 3 (ipykernel)",
   "language": "python",
   "name": "python3"
  },
  "language_info": {
   "codemirror_mode": {
    "name": "ipython",
    "version": 3
   },
   "file_extension": ".py",
   "mimetype": "text/x-python",
   "name": "python",
   "nbconvert_exporter": "python",
   "pygments_lexer": "ipython3",
   "version": "3.10.13"
  },
  "vscode": {
   "interpreter": {
    "hash": "acca0ed2a37d0d32f5e53ea586a1af006ea9dcf1bd6ae99e09aae95db7f643f4"
   }
  },
  "widgets": {
   "application/vnd.jupyter.widget-state+json": {
    "state": {
     "0d7e1e68d8dd417db369f6cae4cce3d2": {
      "model_module": "@jupyter-widgets/base",
      "model_module_version": "2.0.0",
      "model_name": "LayoutModel",
      "state": {
       "_model_module": "@jupyter-widgets/base",
       "_model_module_version": "2.0.0",
       "_model_name": "LayoutModel",
       "_view_count": null,
       "_view_module": "@jupyter-widgets/base",
       "_view_module_version": "2.0.0",
       "_view_name": "LayoutView",
       "align_content": null,
       "align_items": null,
       "align_self": null,
       "border_bottom": null,
       "border_left": null,
       "border_right": null,
       "border_top": null,
       "bottom": null,
       "display": null,
       "flex": null,
       "flex_flow": null,
       "grid_area": null,
       "grid_auto_columns": null,
       "grid_auto_flow": null,
       "grid_auto_rows": null,
       "grid_column": null,
       "grid_gap": null,
       "grid_row": null,
       "grid_template_areas": null,
       "grid_template_columns": null,
       "grid_template_rows": null,
       "height": null,
       "justify_content": null,
       "justify_items": null,
       "left": null,
       "margin": null,
       "max_height": null,
       "max_width": null,
       "min_height": null,
       "min_width": null,
       "object_fit": null,
       "object_position": null,
       "order": null,
       "overflow": null,
       "padding": null,
       "right": null,
       "top": null,
       "visibility": null,
       "width": null
      }
     },
     "43ed808535d14b87bc85d3ac20f494b7": {
      "model_module": "@jupyter-widgets/output",
      "model_module_version": "1.0.0",
      "model_name": "OutputModel",
      "state": {
       "_dom_classes": [],
       "_model_module": "@jupyter-widgets/output",
       "_model_module_version": "1.0.0",
       "_model_name": "OutputModel",
       "_view_count": null,
       "_view_module": "@jupyter-widgets/output",
       "_view_module_version": "1.0.0",
       "_view_name": "OutputView",
       "layout": "IPY_MODEL_6969400763624b6bbe203275389f56ae",
       "msg_id": "",
       "outputs": [],
       "tabbable": null,
       "tooltip": null
      }
     },
     "6969400763624b6bbe203275389f56ae": {
      "model_module": "@jupyter-widgets/base",
      "model_module_version": "2.0.0",
      "model_name": "LayoutModel",
      "state": {
       "_model_module": "@jupyter-widgets/base",
       "_model_module_version": "2.0.0",
       "_model_name": "LayoutModel",
       "_view_count": null,
       "_view_module": "@jupyter-widgets/base",
       "_view_module_version": "2.0.0",
       "_view_name": "LayoutView",
       "align_content": null,
       "align_items": null,
       "align_self": null,
       "border_bottom": null,
       "border_left": null,
       "border_right": null,
       "border_top": null,
       "bottom": null,
       "display": null,
       "flex": null,
       "flex_flow": null,
       "grid_area": null,
       "grid_auto_columns": null,
       "grid_auto_flow": null,
       "grid_auto_rows": null,
       "grid_column": null,
       "grid_gap": null,
       "grid_row": null,
       "grid_template_areas": null,
       "grid_template_columns": null,
       "grid_template_rows": null,
       "height": null,
       "justify_content": null,
       "justify_items": null,
       "left": null,
       "margin": null,
       "max_height": null,
       "max_width": null,
       "min_height": null,
       "min_width": null,
       "object_fit": null,
       "object_position": null,
       "order": null,
       "overflow": null,
       "padding": null,
       "right": null,
       "top": null,
       "visibility": null,
       "width": null
      }
     },
     "a3f358ecb6504f64946479eec055566b": {
      "model_module": "@jupyter-widgets/controls",
      "model_module_version": "2.0.0",
      "model_name": "ButtonModel",
      "state": {
       "_dom_classes": [],
       "_model_module": "@jupyter-widgets/controls",
       "_model_module_version": "2.0.0",
       "_model_name": "ButtonModel",
       "_view_count": null,
       "_view_module": "@jupyter-widgets/controls",
       "_view_module_version": "2.0.0",
       "_view_name": "ButtonView",
       "button_style": "",
       "description": "Add",
       "disabled": false,
       "icon": "",
       "layout": "IPY_MODEL_0d7e1e68d8dd417db369f6cae4cce3d2",
       "style": "IPY_MODEL_f3fbbb8efa47449bb3c2f914b5e308bf",
       "tabbable": null,
       "tooltip": null
      }
     },
     "f3fbbb8efa47449bb3c2f914b5e308bf": {
      "model_module": "@jupyter-widgets/controls",
      "model_module_version": "2.0.0",
      "model_name": "ButtonStyleModel",
      "state": {
       "_model_module": "@jupyter-widgets/controls",
       "_model_module_version": "2.0.0",
       "_model_name": "ButtonStyleModel",
       "_view_count": null,
       "_view_module": "@jupyter-widgets/base",
       "_view_module_version": "2.0.0",
       "_view_name": "StyleView",
       "button_color": null,
       "font_family": null,
       "font_size": null,
       "font_style": null,
       "font_variant": null,
       "font_weight": null,
       "text_color": null,
       "text_decoration": null
      }
     }
    },
    "version_major": 2,
    "version_minor": 0
   }
  }
 },
 "nbformat": 4,
 "nbformat_minor": 2
}