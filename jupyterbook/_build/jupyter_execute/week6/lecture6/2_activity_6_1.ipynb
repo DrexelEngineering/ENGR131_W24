{
 "cells": [
  {
   "attachments": {},
   "cell_type": "markdown",
   "metadata": {
    "slideshow": {
     "slide_type": "slide"
    }
   },
   "source": [
    "# 💻 Activity 6.1: Nuclear Plant Temperature Alert\n",
    "\n",
    "We have just covered the relationship of a process value to a desired set point and discussed the importance of redundancy, especially in systems that have the potential to harm people.\n"
   ]
  },
  {
   "cell_type": "markdown",
   "metadata": {},
   "source": [
    "Consider a nuclear reactor. A meltdown would be sufficiently catastrophic that the temperature of the cooling water around the nuclear fuel rods is monitored by four sensors. \n",
    "\n",
    "An alarm should go off if \n",
    "1. any of the two sensors report a temperature greater than 100 degrees Celsius, or \n",
    "2. any two of the sensor readings disagree by strictly 8 degrees. \n",
    "\n",
    "Write a function `coolingWaterAlarm(t1,t2,t3,t4)` where `t1`, `t2`, `t3`, and `t4` are the temperature readings for sensor 1, sensor 2, sensor 3, and sensor 4, respectively. \n",
    "\n",
    "The function should print \n",
    "\n",
    "1. `Alarm! Temperatures differ.` if the first condition above is met,\n",
    "2. `Alarm! Temperatures exceed 100 deg Celsius.` if the second condition above is met, or\n",
    "3.  `Normal operation` if neither condition is met."
   ]
  },
  {
   "cell_type": "code",
   "execution_count": null,
   "metadata": {
    "tags": [
     "skip-execution"
    ]
   },
   "outputs": [],
   "source": [
    "#write your function below\n",
    "..."
   ]
  },
  {
   "cell_type": "code",
   "execution_count": null,
   "metadata": {
    "slideshow": {
     "slide_type": "fragment"
    },
    "tags": [
     "skip-execution"
    ]
   },
   "outputs": [],
   "source": [
    "# use this call to test your function\n",
    "coolingWaterAlarm(93,95,96,101)"
   ]
  },
  {
   "cell_type": "code",
   "execution_count": null,
   "metadata": {
    "slideshow": {
     "slide_type": "fragment"
    },
    "tags": [
     "skip-execution"
    ]
   },
   "outputs": [],
   "source": [
    "# use this call to test your function\n",
    "coolingWaterAlarm(95,103,96,101)"
   ]
  },
  {
   "cell_type": "code",
   "execution_count": null,
   "metadata": {
    "slideshow": {
     "slide_type": "fragment"
    },
    "tags": [
     "skip-execution"
    ]
   },
   "outputs": [],
   "source": [
    "# use this call to test your function\n",
    "coolingWaterAlarm(90,95,96,101)"
   ]
  }
 ],
 "metadata": {
  "kernelspec": {
   "display_name": "base",
   "language": "python",
   "name": "python3"
  },
  "language_info": {
   "codemirror_mode": {
    "name": "ipython",
    "version": 3
   },
   "file_extension": ".py",
   "mimetype": "text/x-python",
   "name": "python",
   "nbconvert_exporter": "python",
   "pygments_lexer": "ipython3",
   "version": "3.11.8"
  },
  "vscode": {
   "interpreter": {
    "hash": "d7d046052154998ca7dd3d9af52f7220fee50748c9a05b256540159ca8eb430c"
   }
  }
 },
 "nbformat": 4,
 "nbformat_minor": 2
}