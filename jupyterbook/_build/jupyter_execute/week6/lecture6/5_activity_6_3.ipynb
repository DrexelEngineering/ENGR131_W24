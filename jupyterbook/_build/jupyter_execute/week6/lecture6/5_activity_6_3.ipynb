{
 "cells": [
  {
   "attachments": {},
   "cell_type": "markdown",
   "metadata": {},
   "source": [
    "# 💻 Activity 6.3: Advancing integral evaluations by combining loops and branches"
   ]
  },
  {
   "cell_type": "markdown",
   "metadata": {},
   "source": [
    "We wanted to explore how two important choices impact the accuracy of this method for approximating integrals.\n",
    "\n",
    "✅ 1. the width of the rectangle $h$, which is determined by the number of rectangles between $a$ and $b$\n",
    "\n",
    "Now, let's explore\n",
    "\n",
    "2. the value of $x$ at which the function is evaluated (left, midpoint, or right)\n",
    "\n",
    "![](https://math.libretexts.org/@api/deki/files/6076/5.3.2.png?revision=1&size=bestfit&width=441&height=378)"
   ]
  },
  {
   "cell_type": "markdown",
   "metadata": {},
   "source": [
    "## Interact with the code\n",
    "\n",
    "1. Add the branching structure *inside* the current function to cause different calculations to occur if the `evalPoint` variable is `\"right\", \"mid\", or \"left\"`.\n",
    "\n",
    "2. Include an extra case in which the user receives a helpful message if the string for `evalPoint` is not one of the three options."
   ]
  },
  {
   "cell_type": "code",
   "execution_count": null,
   "metadata": {
    "tags": [
     "skip-execution"
    ]
   },
   "outputs": [],
   "source": [
    "import numpy as np\n",
    "\n",
    "def reimann(numRectangles,evalPoint): \n",
    "    # define the boundaries of the integral\n",
    "    a = 0\n",
    "    b = 5\n",
    "    \n",
    "    # define the curve\n",
    "    x = np.linspace(a,b,numRectangles)\n",
    "    f = np.sin(x/2)+1\n",
    "\n",
    "    ### determine the width of the rectangle\n",
    "    h = ...\n",
    "\n",
    "    integral_R = 0.\n",
    "\n",
    "    # add branching structure for evalPoint to calculate the integral in three different ways\n",
    "\n",
    "    # integrate using the value of f at the right\n",
    "    for i in range(...):\n",
    "        if i < (numRectangles-1):\n",
    "            integral_R += h * f[i+1]\n",
    "   \n",
    "    \n",
    "    # print the integral, number of rectangles, and the chosen point for evaluation\n",
    "    print(f'The integral is {integral_R} for {numRectangles} using the {evalPoint} point for evaluating the function.')"
   ]
  },
  {
   "cell_type": "markdown",
   "metadata": {},
   "source": [
    "Consider how the calculation at the left side of the rectangle or the midpoint would differ from the right. \n",
    "\n",
    "1. Copy the `for` loop from the right-side calculation into each branch and make the few necessary changes to calculate `integral_R` using these two different approaches."
   ]
  },
  {
   "cell_type": "code",
   "execution_count": null,
   "metadata": {
    "tags": [
     "skip-execution"
    ]
   },
   "outputs": [],
   "source": [
    "import numpy as np\n",
    "\n",
    "def reimann(numRectangles,evalPoint): \n",
    "    # define the boundaries of the integral\n",
    "    a = 0\n",
    "    b = 5\n",
    "    \n",
    "    # define the curve\n",
    "    x = np.linspace(a,b,numRectangles)\n",
    "    f = np.sin(x/2)+1\n",
    "\n",
    "    ### determine the width of the rectangle\n",
    "    h = ...\n",
    "\n",
    "    integral_R = 0.\n",
    "    j = 1\n",
    "\n",
    "    # add branching structure for evalPoint to calculate the integral in three different ways\n",
    "    \n",
    "    # print the integral, number of rectangles, and the chosen point for evaluation\n",
    "    print(f'The integral is {integral_R} for {numRectangles} using the {evalPoint} point for evaluating the function.')"
   ]
  },
  {
   "cell_type": "markdown",
   "metadata": {},
   "source": [
    "Explore how both the number of rectangles and the point at which the function is evaluated influence the resulting integral. \n",
    "\n",
    "1. Is a higher or lower number of rectangles better?\n",
    "\n",
    "2. Is the \"left\", \"right\", or \"mid\" point best?"
   ]
  },
  {
   "cell_type": "code",
   "execution_count": null,
   "metadata": {
    "tags": [
     "skip-execution"
    ]
   },
   "outputs": [],
   "source": [
    "# call the function with two arguments \n",
    "# - one integer for the number of rectangles\n",
    "# - one string for the \"right\" method\n",
    "\n",
    "# 2 rectangles, right\n",
    "reimann()\n",
    "# 2 rectangles, left\n",
    "reimann()\n",
    "# 2 rectangles, mid\n",
    "reimann()\n",
    "\n",
    "# 5 rectangles, right\n",
    "reimann()\n",
    "# 5 rectangles, left\n",
    "reimann()\n",
    "# 5 rectangles, mid\n",
    "reimann()\n",
    "\n",
    "\n",
    "# 11 rectangles, right\n",
    "reimann()\n",
    "# 11 rectangles, left\n",
    "reimann()\n",
    "# 11 rectangles, right\n",
    "reimann()\n"
   ]
  }
 ],
 "metadata": {
  "kernelspec": {
   "display_name": "base",
   "language": "python",
   "name": "python3"
  },
  "language_info": {
   "codemirror_mode": {
    "name": "ipython",
    "version": 3
   },
   "file_extension": ".py",
   "mimetype": "text/x-python",
   "name": "python",
   "nbconvert_exporter": "python",
   "pygments_lexer": "ipython3",
   "version": "3.11.8"
  },
  "vscode": {
   "interpreter": {
    "hash": "d7d046052154998ca7dd3d9af52f7220fee50748c9a05b256540159ca8eb430c"
   }
  }
 },
 "nbformat": 4,
 "nbformat_minor": 2
}