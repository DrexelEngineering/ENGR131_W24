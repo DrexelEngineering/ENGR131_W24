{
 "cells": [
  {
<<<<<<< HEAD
=======
   "attachments": {},
>>>>>>> 7b689596f64861861ba6f58390b3c28b26af9cad
   "cell_type": "markdown",
   "metadata": {},
   "source": [
    "# 💻 Activity 4.1: Build a function to convert inches to feet\n",
    "\n",
<<<<<<< HEAD
    "It is common to use a function to conduct a useful conversion in a program. Try to make a function that converts inches to feet. Your function should print `x inches is equal to y feet and z inches`. Call your function `inches_to_feet`.'"
=======
    "It is common to use a function to conduct a useful conversion in a program. Try to make a function that converts inches to feet. Your function should print `x inches is equal to y feet and z inches`. Make your function called inches_to_feet."
>>>>>>> 7b689596f64861861ba6f58390b3c28b26af9cad
   ]
  },
  {
   "cell_type": "markdown",
   "metadata": {},
   "source": [
    "Your function"
   ]
  },
  {
   "cell_type": "code",
   "execution_count": null,
   "metadata": {
    "tags": [
     "skip-execution"
    ]
   },
   "outputs": [],
   "source": [
<<<<<<< HEAD
    "..."
=======
    "...\n"
>>>>>>> 7b689596f64861861ba6f58390b3c28b26af9cad
   ]
  },
  {
   "cell_type": "markdown",
   "metadata": {},
   "source": [
    "Tests"
   ]
  },
  {
   "cell_type": "code",
   "execution_count": null,
   "metadata": {
    "tags": [
     "skip-execution"
    ]
   },
   "outputs": [],
   "source": [
<<<<<<< HEAD
    "..."
=======
    "...\n"
>>>>>>> 7b689596f64861861ba6f58390b3c28b26af9cad
   ]
  },
  {
   "cell_type": "markdown",
   "metadata": {},
   "source": [
<<<<<<< HEAD
    "Now build a function `feet_to_inches` that converts feet to inches. Your function should print `x feet and y inches is equal to y inches`."
=======
    "Now build a function feet_to_inches that converts feet to inches. You function should print `x feet and y inches is equal to y inches`"
>>>>>>> 7b689596f64861861ba6f58390b3c28b26af9cad
   ]
  },
  {
   "cell_type": "markdown",
   "metadata": {},
   "source": [
    "Your function"
   ]
  },
  {
   "cell_type": "code",
   "execution_count": null,
   "metadata": {
    "tags": [
     "skip-execution"
    ]
   },
   "outputs": [],
   "source": [
<<<<<<< HEAD
    "..."
=======
    "...\n"
>>>>>>> 7b689596f64861861ba6f58390b3c28b26af9cad
   ]
  },
  {
   "cell_type": "markdown",
   "metadata": {},
   "source": [
    "Tests"
   ]
  },
  {
   "cell_type": "code",
   "execution_count": null,
   "metadata": {
    "tags": [
     "skip-execution"
    ]
   },
   "outputs": [],
   "source": [
<<<<<<< HEAD
    "..."
=======
    "...\n"
>>>>>>> 7b689596f64861861ba6f58390b3c28b26af9cad
   ]
  }
 ],
 "metadata": {
  "kernelspec": {
<<<<<<< HEAD
   "display_name": "Python 3 (ipykernel)",
=======
   "display_name": "base",
>>>>>>> 7b689596f64861861ba6f58390b3c28b26af9cad
   "language": "python",
   "name": "python3"
  },
  "language_info": {
   "codemirror_mode": {
    "name": "ipython",
    "version": 3
   },
   "file_extension": ".py",
   "mimetype": "text/x-python",
   "name": "python",
   "nbconvert_exporter": "python",
   "pygments_lexer": "ipython3",
<<<<<<< HEAD
   "version": "3.11.5"
  },
  "varInspector": {
   "cols": {
    "lenName": 16,
    "lenType": 16,
    "lenVar": 40
   },
   "kernels_config": {
    "python": {
     "delete_cmd_postfix": "",
     "delete_cmd_prefix": "del ",
     "library": "var_list.py",
     "varRefreshCmd": "print(var_dic_list())"
    },
    "r": {
     "delete_cmd_postfix": ") ",
     "delete_cmd_prefix": "rm(",
     "library": "var_list.r",
     "varRefreshCmd": "cat(var_dic_list()) "
    }
   },
   "types_to_exclude": [
    "module",
    "function",
    "builtin_function_or_method",
    "instance",
    "_Feature"
   ],
   "window_display": false
=======
   "version": "3.10.8 (main, Nov 24 2022, 14:13:03) [GCC 11.2.0]"
>>>>>>> 7b689596f64861861ba6f58390b3c28b26af9cad
  },
  "vscode": {
   "interpreter": {
    "hash": "d7d046052154998ca7dd3d9af52f7220fee50748c9a05b256540159ca8eb430c"
   }
  }
 },
 "nbformat": 4,
 "nbformat_minor": 2
}
