{
 "cells": [
  {
<<<<<<< HEAD
=======
   "attachments": {},
>>>>>>> 7b689596f64861861ba6f58390b3c28b26af9cad
   "cell_type": "markdown",
   "metadata": {},
   "source": [
    "# 💻 Activity 4.2: Solving an Old School Punishment With a New Trick\n",
    "\n",
<<<<<<< HEAD
    "In high school, the teacher wants to give the class clown a lesson. The teacher tells the class clown to write \"I will not text jay in spanish class.\" 100 times. The teacher removes all possibilities of copy and paste from your computer. Write a script using dynamic programming concepts that still makes it easy to output the required text the appropriate number of times. \n",
    "\n",
    "1. \"I will not hide 250 rubber ducks in math class.\"  (250 times)\n",
    "2. \"I will not cheat off of Sarah and Tom in ENGR131 class.\" (101 times)"
   ]
  },
  {
=======
    "In high school you are the class clown. Your teacher to punish you tells you to write \"I will not text jay in spanish class.\" 100 times. You teacher thinks they are smart and removes all possibilities of copy and paste from your computer. But you are smarter than that! Write a script using dynamic programming concepts that can address your current and future mischievous plans. \n",
    "\n",
    "1. \"I will not hide 250 rubber ducks in math class.\"  (250 times)\n",
    "2. \"I will not cheat off Sarah and Tom in ENGR131 class.\" (101 times)"
   ]
  },
  {
   "attachments": {},
>>>>>>> 7b689596f64861861ba6f58390b3c28b26af9cad
   "cell_type": "markdown",
   "metadata": {},
   "source": [
    "Your function goes here"
   ]
  },
  {
   "cell_type": "code",
   "execution_count": null,
   "metadata": {
    "tags": [
     "skip-execution"
    ]
   },
   "outputs": [],
   "source": [
<<<<<<< HEAD
    "..."
   ]
  },
  {
   "cell_type": "markdown",
   "metadata": {},
   "source": [
    "\"I will not text jay in spanish class.\" (100 times)"
=======
    "...\n"
   ]
  },
  {
   "attachments": {},
   "cell_type": "markdown",
   "metadata": {},
   "source": [
    "\"I will not text jay in spanish class.\" 100 times"
>>>>>>> 7b689596f64861861ba6f58390b3c28b26af9cad
   ]
  },
  {
   "cell_type": "code",
   "execution_count": null,
   "metadata": {
    "tags": [
     "skip-execution"
    ]
   },
   "outputs": [],
   "source": [
<<<<<<< HEAD
    "..."
   ]
  },
  {
=======
    "...\n"
   ]
  },
  {
   "attachments": {},
>>>>>>> 7b689596f64861861ba6f58390b3c28b26af9cad
   "cell_type": "markdown",
   "metadata": {},
   "source": [
    "\"I will not hide 250 rubber ducks in math class.\"  (250 times)"
   ]
  },
  {
   "cell_type": "code",
   "execution_count": null,
   "metadata": {
    "tags": [
     "skip-execution"
    ]
   },
   "outputs": [],
   "source": [
<<<<<<< HEAD
    "..."
   ]
  },
  {
=======
    "...\n"
   ]
  },
  {
   "attachments": {},
>>>>>>> 7b689596f64861861ba6f58390b3c28b26af9cad
   "cell_type": "markdown",
   "metadata": {},
   "source": [
    "\"I will not cheat off Sarah and Tom in ENGR131 class.\" (101 times)"
   ]
  },
  {
   "cell_type": "code",
   "execution_count": null,
   "metadata": {
    "tags": [
     "skip-execution"
    ]
   },
   "outputs": [],
   "source": [
    "...\n"
   ]
  }
 ],
 "metadata": {
  "kernelspec": {
<<<<<<< HEAD
   "display_name": "Python 3 (ipykernel)",
=======
   "display_name": "torch",
>>>>>>> 7b689596f64861861ba6f58390b3c28b26af9cad
   "language": "python",
   "name": "python3"
  },
  "language_info": {
   "codemirror_mode": {
    "name": "ipython",
    "version": 3
   },
   "file_extension": ".py",
   "mimetype": "text/x-python",
   "name": "python",
   "nbconvert_exporter": "python",
   "pygments_lexer": "ipython3",
<<<<<<< HEAD
   "version": "3.11.5"
  },
  "varInspector": {
   "cols": {
    "lenName": 16,
    "lenType": 16,
    "lenVar": 40
   },
   "kernels_config": {
    "python": {
     "delete_cmd_postfix": "",
     "delete_cmd_prefix": "del ",
     "library": "var_list.py",
     "varRefreshCmd": "print(var_dic_list())"
    },
    "r": {
     "delete_cmd_postfix": ") ",
     "delete_cmd_prefix": "rm(",
     "library": "var_list.r",
     "varRefreshCmd": "cat(var_dic_list()) "
    }
   },
   "types_to_exclude": [
    "module",
    "function",
    "builtin_function_or_method",
    "instance",
    "_Feature"
   ],
   "window_display": false
  },
=======
   "version": "3.10.8 | packaged by conda-forge | (main, Nov 22 2022, 08:16:33) [MSC v.1929 64 bit (AMD64)]"
  },
  "orig_nbformat": 4,
>>>>>>> 7b689596f64861861ba6f58390b3c28b26af9cad
  "vscode": {
   "interpreter": {
    "hash": "6c85558113b53c129e108b4bd8e5af9b1125141b2f5c4ff4283ce45d32702647"
   }
  }
 },
 "nbformat": 4,
 "nbformat_minor": 2
}
