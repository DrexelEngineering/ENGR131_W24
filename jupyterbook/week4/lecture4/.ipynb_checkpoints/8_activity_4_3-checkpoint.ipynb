{
 "cells": [
  {
   "cell_type": "markdown",
   "metadata": {},
   "source": [
    "# 💻 Activity 4.3: Analyzing Text\n",
    "\n",
    "A common tasks for a computer program is to analyze text for structural characteristics. This can be used to determine readability. We have provided you with a text document from a news article. Build a set of functions, and use the `map` function to count \n",
    "1. The number of words \n",
    "2. The average word length\n",
    "3. The average number of words per sentence\n",
    "4. As a bonus plot a histogram of the word length. Use the matplotlib function `hist` "
   ]
  },
  {
   "cell_type": "code",
   "execution_count": 9,
   "metadata": {},
   "outputs": [],
   "source": [
    "import requests\n",
    "\n",
    "response = requests.get('https://raw.githubusercontent.com/DrexelEngineering/ENGR131_W2023/main/jupyterbook/week4/lecture4/assets/article.txt')\n",
    "article = response.text"
   ]
  },
  {
   "cell_type": "markdown",
   "metadata": {},
   "source": [
    "Print the article to read it"
   ]
  },
  {
   "cell_type": "code",
   "execution_count": 10,
   "metadata": {
    "tags": [
     "skip-execution"
    ]
   },
   "outputs": [
    {
     "name": "stdout",
     "output_type": "stream",
     "text": [
      "PHILADELPHIA - Drexel held Delaware without a field goal in overtime as the Dragons held on to defeat their long-time rival, 77-74, on Homecoming in front of a raucous crowd at the Daskalakis Athletic Center on Saturday. The Dragons (12-8) stayed unbeaten at home in Colonial Athletic Association play and moved to 6-2 in conference. Freshman Justin Moore scored a career-high 21 points, while Luke House added 19 points. Delaware fell to 11-10 (3-5).\r\n",
      "\r\n",
      "The Blue Hens scored the first point of the overtime period just 17 seconds in, but that would be the last point they would score. Drexel took the lead for good with 3:15 to play when Amari Williams scored on a short jumper and was fouled, making it 75-74. Williams would miss the free throw, but Drexel came up with stops on the defensive end the rest of the way. In the final minute, Delaware had possession and with the ball in the hands of Jameer Nelson, Jr. He made a move in the paint, but his driving attempt was blocked by Williams. House rebounded the ball and was immediately fouled. House calmly sank both free throws, giving Drexel a three-point cushion. On the Hens final possession, Christian Ray drove towards the basket, but missed. LJ Owens came up with the rebound and fed Nelson. His long off balance 3-point attempt from the right corner came up short and Drexel escaped with the win.\r\n",
      " \r\n",
      "Both teams had their chances to win in regulation. The Dragons held a seven-point lead with just under five minutes to play, but the Hens scored eight straight points to take the lead at 68-67 with 2:13 to play on a Cavan Reilly 3-pointer. The lead went back and forth as Nelson made consecutive fade away's and Moore countered with four free throws. Jyare Davis went to the free throw line with just 25 ticks left on the clock and made one of two to tie it at 73-73. The Dragons had what looked like the last possession. Moore made a nice move to get to the basket, but stepped on the baseline with 2.9 seconds left and the teams would go to the extra frame.\r\n",
      " \r\n",
      "Moore had perhaps the best game of his young career. The freshman from Philadelphia was 8-for-8 from the line and was able to find his way to the basket throughout the game. House showed a different part of his game. He was 7-for-11 from the floor and did not miss on six attempts from inside the arc. He repeatedly found his way past defenders to score in the lane.\r\n",
      " \r\n",
      "Williams had another outstanding all around game. He had five rejections, including two late when the game was in the balance. Williams scored 17 points, was 7-for-8 from the floor and grabbed six rebounds. Drexel shot 52 percent from the floor and made 19 of its 23 free throw attempts.\r\n",
      " \r\n",
      "Davis and Nelson, Jr. combined for 49 of the Blue Hens 74 points. Davis scored from inside and out, finishing with 28 points. Nelson Jr. added 21 points. Each player added seven rebounds.\r\n",
      " \r\n",
      "The Dragons will head to North Carolina for a pair of games next week. They face North Carolina A&T for the first time ever on Thursday night. Drexel will then visit Elon before the nationally-ranked College of Charleston comes to the DAC on February 2.   \r\n",
      "\n"
     ]
    }
   ],
   "source": [
    "print(article)"
   ]
  },
  {
   "cell_type": "markdown",
   "metadata": {},
   "source": [
    "Write a function that counts the number of strings split by a substring.\n",
    "\n",
    "Note: for map to work you need to set a default string to split by"
   ]
  },
  {
   "cell_type": "code",
   "execution_count": 15,
   "metadata": {
    "tags": [
     "skip-execution"
    ]
   },
   "outputs": [],
   "source": [
    "def counter(art, splitarg):\n",
    "    count = len(art.split(splitarg))\n",
    "    return count"
   ]
  },
  {
   "cell_type": "markdown",
   "metadata": {},
   "source": [
    "Write a function that counts the length of a string"
   ]
  },
  {
   "cell_type": "code",
   "execution_count": 16,
   "metadata": {
    "tags": [
     "skip-execution"
    ]
   },
   "outputs": [],
   "source": [
    "def string_len(word):\n",
    "    length = len(word)\n",
    "    return length"
   ]
  },
  {
   "cell_type": "markdown",
   "metadata": {},
   "source": [
    "Write your function that does all of the computation and then prints the results"
   ]
  },
  {
   "cell_type": "code",
   "execution_count": 18,
   "metadata": {
    "tags": [
     "skip-execution"
    ]
   },
   "outputs": [
    {
     "name": "stdout",
     "output_type": "stream",
     "text": [
      "Word count = 563\n",
      "Average Word Length = 4.58\n"
     ]
    },
    {
     "ename": "NameError",
     "evalue": "name 'average_sentence_length' is not defined",
     "output_type": "error",
     "traceback": [
      "\u001b[0;31m---------------------------------------------------------------------------\u001b[0m",
      "\u001b[0;31mNameError\u001b[0m                                 Traceback (most recent call last)",
      "Cell \u001b[0;32mIn[18], line 12\u001b[0m\n\u001b[1;32m     10\u001b[0m \u001b[38;5;28mprint\u001b[39m(\u001b[38;5;124mf\u001b[39m\u001b[38;5;124m\"\u001b[39m\u001b[38;5;124mWord count = \u001b[39m\u001b[38;5;132;01m{\u001b[39;00mword_counts\u001b[38;5;132;01m}\u001b[39;00m\u001b[38;5;124m\"\u001b[39m)\n\u001b[1;32m     11\u001b[0m \u001b[38;5;28mprint\u001b[39m(\u001b[38;5;124mf\u001b[39m\u001b[38;5;124m\"\u001b[39m\u001b[38;5;124mAverage Word Length = \u001b[39m\u001b[38;5;132;01m{\u001b[39;00maverage_word_length\u001b[38;5;132;01m:\u001b[39;00m\u001b[38;5;124m0.2f\u001b[39m\u001b[38;5;132;01m}\u001b[39;00m\u001b[38;5;124m\"\u001b[39m)\n\u001b[0;32m---> 12\u001b[0m \u001b[38;5;28mprint\u001b[39m(\u001b[38;5;124mf\u001b[39m\u001b[38;5;124m\"\u001b[39m\u001b[38;5;124mAverage Sentence Length = \u001b[39m\u001b[38;5;132;01m{\u001b[39;00maverage_sentence_length\u001b[38;5;132;01m:\u001b[39;00m\u001b[38;5;124m0.2f\u001b[39m\u001b[38;5;132;01m}\u001b[39;00m\u001b[38;5;124m\"\u001b[39m)\n",
      "\u001b[0;31mNameError\u001b[0m: name 'average_sentence_length' is not defined"
     ]
    }
   ],
   "source": [
    "word_counts = counter(article, ' ')\n",
    "sentence_counts = counter(article, \". \")\n",
    "word_lengths = np.array(list(map(string_len, article.split(\" \"))))\n",
    "average_word_length = word_lengths.sum() / word_counts\n",
    "\n",
    "#sentence_list = article.split(\". \")\n",
    "#word_in_sentence = np.array(list(map(counter, sentence_list)))\n",
    "#average_sentence_length = word_in_sentence.sum() / len(sentence_list)\n",
    "\n",
    "print(f\"Word count = {word_counts}\")\n",
    "print(f\"Average Word Length = {average_word_length:0.2f}\")\n",
    "#print(f\"Average Sentence Length = {average_sentence_length:0.2f}\")"
   ]
  },
  {
   "cell_type": "markdown",
   "metadata": {},
   "source": [
    "Code to make a histogram of the word length"
   ]
  },
  {
   "cell_type": "code",
   "execution_count": null,
   "metadata": {
    "tags": [
     "skip-execution"
    ]
   },
   "outputs": [],
   "source": [
    "..."
   ]
  }
 ],
 "metadata": {
  "kernelspec": {
   "display_name": "Python 3 (ipykernel)",
   "language": "python",
   "name": "python3"
  },
  "language_info": {
   "codemirror_mode": {
    "name": "ipython",
    "version": 3
   },
   "file_extension": ".py",
   "mimetype": "text/x-python",
   "name": "python",
   "nbconvert_exporter": "python",
   "pygments_lexer": "ipython3",
   "version": "3.11.5"
  },
  "varInspector": {
   "cols": {
    "lenName": 16,
    "lenType": 16,
    "lenVar": 40
   },
   "kernels_config": {
    "python": {
     "delete_cmd_postfix": "",
     "delete_cmd_prefix": "del ",
     "library": "var_list.py",
     "varRefreshCmd": "print(var_dic_list())"
    },
    "r": {
     "delete_cmd_postfix": ") ",
     "delete_cmd_prefix": "rm(",
     "library": "var_list.r",
     "varRefreshCmd": "cat(var_dic_list()) "
    }
   },
   "types_to_exclude": [
    "module",
    "function",
    "builtin_function_or_method",
    "instance",
    "_Feature"
   ],
   "window_display": false
  },
  "vscode": {
   "interpreter": {
    "hash": "d7d046052154998ca7dd3d9af52f7220fee50748c9a05b256540159ca8eb430c"
   }
  }
 },
 "nbformat": 4,
 "nbformat_minor": 2
}
