{
 "cells": [
  {
   "attachments": {},
   "cell_type": "markdown",
   "metadata": {
    "slideshow": {
     "slide_type": "slide"
    }
   },
   "source": [
    "# 📝 Introduction to Branching"
   ]
  },
  {
   "cell_type": "markdown",
   "metadata": {
    "slideshow": {
     "slide_type": "subslide"
    }
   },
   "source": [
    "## Utility of branching\n",
    "\n",
    "Branching causes specific blocks of code to be executed only under certain conditions. The conditions are articulated as logical expressions. "
   ]
  },
  {
   "cell_type": "markdown",
   "metadata": {
    "slideshow": {
     "slide_type": "subslide"
    }
   },
   "source": [
    "## How do you write branching statements?\n",
    "\n",
    "The simplest version of branching statement is an \"if statement\". "
   ]
  },
  {
   "cell_type": "markdown",
   "metadata": {
    "slideshow": {
     "slide_type": "subslide"
    }
   },
   "source": [
    "```python\n",
    "if logical_expression:\n",
    "    code_block\n",
    "```\n"
   ]
  },
  {
   "cell_type": "code",
   "execution_count": 1,
   "metadata": {
    "slideshow": {
     "slide_type": "subslide"
    }
   },
   "outputs": [
    {
     "name": "stdout",
     "output_type": "stream",
     "text": [
      "A student with a GPA of 3.85 graduates None.\n"
     ]
    }
   ],
   "source": [
    "def categorize_student_by_gpa(gpa):\n",
    "    \"\"\"\n",
    "    Categorizes a student based on their GPA according to hypothetical Drexel Engineering honors criteria.\n",
    "\n",
    "    Parameters:\n",
    "    gpa (float): The GPA of the student.\n",
    "\n",
    "    Returns:\n",
    "    str: The honors category of the student.\n",
    "    \"\"\"\n",
    "    if gpa >= 3.9:\n",
    "        return 'Summa Cum Laude'  # Highest honors\n",
    "\n",
    "# Example usage\n",
    "student_gpa = 3.85\n",
    "honors_category = categorize_student_by_gpa(student_gpa)\n",
    "print(f\"A student with a GPA of {student_gpa} graduates {honors_category}.\")"
   ]
  },
  {
   "cell_type": "markdown",
   "metadata": {
    "slideshow": {
     "slide_type": "subslide"
    }
   },
   "source": [
    "More complex structures are possible with \"if-else statements\". "
   ]
  },
  {
   "cell_type": "markdown",
   "metadata": {
    "slideshow": {
     "slide_type": "fragment"
    }
   },
   "source": [
    "```python\n",
    "if logical_expression_A:\n",
    "    code_block_1\n",
    "elif logical_expression_B:\n",
    "    code_block_2\n",
    "elif logical_expression_C:\n",
    "    code_block_3\n",
    "else: \n",
    "    code_block_4\n",
    "```\n"
   ]
  },
  {
   "cell_type": "code",
   "execution_count": null,
   "metadata": {
    "slideshow": {
     "slide_type": "subslide"
    }
   },
   "outputs": [],
   "source": [
    "def categorize_student_by_gpa(gpa):\n",
    "    \"\"\"\n",
    "    Categorizes a student based on their GPA according to hypothetical Drexel Engineering honors criteria.\n",
    "\n",
    "    Parameters:\n",
    "    gpa (float): The GPA of the student.\n",
    "\n",
    "    Returns:\n",
    "    str: The honors category of the student.\n",
    "    \"\"\"\n",
    "    if gpa >= 3.9:\n",
    "        return 'Summa Cum Laude'  # Highest honors\n",
    "    elif gpa >= 3.7:\n",
    "        return 'Magna Cum Laude'  # High honors\n",
    "    elif gpa >= 3.5:\n",
    "        return 'Cum Laude'        # Honors\n",
    "    else:\n",
    "        return 'No honors'        # Below the honors threshold\n",
    "\n",
    "# Example usage\n",
    "student_gpa = 3.85\n",
    "honors_category = categorize_student_by_gpa(student_gpa)\n",
    "print(f\"A student with a GPA of {student_gpa} graduates {honors_category}.\")"
   ]
  },
  {
   "cell_type": "markdown",
   "metadata": {
    "slideshow": {
     "slide_type": "slide"
    }
   },
   "source": [
    "## Using branching in basic control theory\n",
    "\n",
    "Many engineering interventions aim to maintain an optimal setting in a system. Control theory is the basis for achieving these optimal conditions as smoothly and consistently as possible.\n",
    "\n",
    "![](https://erc-bpgc.github.io/handbook/automation/ControlTheory/images/controller_2.png)\n"
   ]
  },
  {
   "cell_type": "markdown",
   "metadata": {
    "slideshow": {
     "slide_type": "fragment"
    }
   },
   "source": [
    "One very common example is *temperature control in buildings*. \n",
    "\n",
    "* Architectural engineers learn how to design heating, ventilation, and air conditioning systems throughout buildings that allow temperature in a room to be controlled. \n",
    "\n",
    "* Electrical engineers help with innovating the sensors and controls that allow for the temperature to be optimized. \n",
    "\n",
    "* Material scientists improve designs of windows and doors to enhance the controllability of the temperature and sustainability of the optimal conditions."
   ]
  },
  {
   "cell_type": "markdown",
   "metadata": {
    "slideshow": {
     "slide_type": "fragment"
    }
   },
   "source": [
    "The thermostat typically acts as both the sensor collecting feedback and the controller determining whether the process should be heating, cooling, or no intervention. "
   ]
  },
  {
   "cell_type": "markdown",
   "metadata": {
    "slideshow": {
     "slide_type": "fragment"
    }
   },
   "source": [
    "The very simplest process control requires only the process variable, or the room temperature in this case, and the set point, or the desired temperature in this case."
   ]
  },
  {
   "cell_type": "code",
   "execution_count": 12,
   "metadata": {
    "slideshow": {
     "slide_type": "subslide"
    }
   },
   "outputs": [],
   "source": [
    "def thermostat(roomTemp, desiredTemp):\n",
    "    \"\"\"\n",
    "    Changes the status of the thermal control devices based\n",
    "    on the room temperature and desired temperature\n",
    "    (Python Numerical Methods, MIT license)\n",
    "    :type temp: Int\n",
    "    :type desiredTemp: Int\n",
    "    :rtype: String\n",
    "    \"\"\"\n",
    "    if roomTemp < desiredTemp - 5:\n",
    "        device = \"heat\"\n",
    "    elif roomTemp > desiredTemp + 5:\n",
    "        device = \"AC\"\n",
    "    else:\n",
    "        device = \"nothing\"\n",
    "    return device\n"
   ]
  },
  {
   "cell_type": "code",
   "execution_count": 8,
   "metadata": {
    "slideshow": {
     "slide_type": "subslide"
    }
   },
   "outputs": [
    {
     "name": "stdout",
     "output_type": "stream",
     "text": [
      "When the temperature is 58 degrees Fahrenheit, activate heat to achieve 64 degrees Fahrenheit.\n"
     ]
    }
   ],
   "source": [
    "currentT = 58\n",
    "desiredT = 64\n",
    "device = thermostat(currentT, desiredT)\n",
    "print(\n",
    "    f\"When the temperature is {currentT} degrees Fahrenheit, activate {device} to achieve {desiredT} degrees Fahrenheit.\"\n",
    ")\n"
   ]
  },
  {
   "cell_type": "code",
   "execution_count": 9,
   "metadata": {
    "slideshow": {
     "slide_type": "subslide"
    }
   },
   "outputs": [
    {
     "name": "stdout",
     "output_type": "stream",
     "text": [
      "When the temperature is 85 degrees Fahrenheit, activate AC to achieve 78 degrees Fahrenheit.\n"
     ]
    }
   ],
   "source": [
    "currentT = 85\n",
    "desiredT = 78\n",
    "device = thermostat(currentT, desiredT)\n",
    "print(\n",
    "    f\"When the temperature is {currentT} degrees Fahrenheit, activate {device} to achieve {desiredT} degrees Fahrenheit.\"\n",
    ")\n"
   ]
  },
  {
   "cell_type": "code",
   "execution_count": 11,
   "metadata": {
    "slideshow": {
     "slide_type": "subslide"
    }
   },
   "outputs": [
    {
     "name": "stdout",
     "output_type": "stream",
     "text": [
      "When the temperature is 80 degrees Fahrenheit, activate nothing to achieve 75 degrees Fahrenheit.\n"
     ]
    }
   ],
   "source": [
    "currentT = 80\n",
    "desiredT = 75\n",
    "device = thermostat(currentT, desiredT)\n",
    "print(\n",
    "    f\"When the temperature is {currentT} degrees Fahrenheit, activate {device} to achieve {desiredT} degrees Fahrenheit.\"\n",
    ")\n"
   ]
  },
  {
   "cell_type": "markdown",
   "metadata": {
    "slideshow": {
     "slide_type": "slide"
    }
   },
   "source": [
    "Perhaps you have a roommate who is very sensitive to temperature changes. How could you change the `thermostat` function to keep the room temperature closer to the set point? "
   ]
  },
  {
   "cell_type": "code",
   "execution_count": 14,
   "metadata": {
    "slideshow": {
     "slide_type": "fragment"
    }
   },
   "outputs": [],
   "source": [
    "def thermostat(roomTemp, desiredTemp):\n",
    "    \"\"\"\n",
    "    Changes the status of the thermal control devices based\n",
    "    on the room temperature and desired temperature\n",
    "    (Python Numerical Methods, MIT license)\n",
    "    :type temp: Int\n",
    "    :type desiredTemp: Int\n",
    "    :rtype: String\n",
    "    \"\"\"\n",
    "    if roomTemp < desiredTemp - 5:\n",
    "        device = \"heat\"\n",
    "    elif roomTemp > desiredTemp + 5:\n",
    "        device = \"AC\"\n",
    "    else:\n",
    "        device = \"nothing\"\n",
    "    return device\n"
   ]
  },
  {
   "cell_type": "markdown",
   "metadata": {
    "slideshow": {
     "slide_type": "slide"
    }
   },
   "source": [
    "What are at least three other processes you can think of that would similarly rely on branching, especially in your field of study?\n",
    "\n",
    "1. \n",
    "2. \n",
    "3. "
   ]
  },
  {
   "cell_type": "markdown",
   "metadata": {
    "slideshow": {
     "slide_type": "slide"
    }
   },
   "source": [
    "## Other methods of flow control in Python"
   ]
  },
  {
   "cell_type": "markdown",
   "metadata": {
    "slideshow": {
     "slide_type": "fragment"
    }
   },
   "source": [
    "Python introduced `match` statements in version 3.10 as a part of structural pattern matching. \n",
    "\n",
    "For mechanical engineers, this feature can be particularly useful for creating more readable and efficient code when dealing with simulations, data processing, or any scenario involving multiple conditions that need to be checked against specific patterns or values. "
   ]
  },
  {
   "cell_type": "markdown",
   "metadata": {
    "slideshow": {
     "slide_type": "fragment"
    }
   },
   "source": [
    "* A `match` statement takes an expression and compares its value to successive patterns given in different case blocks. \n",
    "\n",
    "* It's akin to a more powerful version of the switch statement found in other programming languages, with the added ability to match complex patterns, not just single values."
   ]
  },
  {
   "cell_type": "markdown",
   "metadata": {
    "slideshow": {
     "slide_type": "fragment"
    }
   },
   "source": [
    "```python\n",
    "match expression:\n",
    "    case pattern1:\n",
    "        # Block of code\n",
    "    case pattern2:\n",
    "        # Block of code\n",
    "    # Additional cases as needed\n",
    "    case _:\n",
    "        # Block of code for the default case (optional)\n",
    "```"
   ]
  },
  {
   "cell_type": "markdown",
   "metadata": {
    "slideshow": {
     "slide_type": "subslide"
    }
   },
   "source": [
    "Let's consider a scenario where a mechanical engineer needs to process data from different types of sensors in a mechanical system, such as temperature, pressure, and flow sensors. Each sensor type might require a different processing algorithm."
   ]
  },
  {
   "cell_type": "code",
   "execution_count": 1,
   "metadata": {
    "slideshow": {
     "slide_type": "fragment"
    }
   },
   "outputs": [
    {
     "name": "stdout",
     "output_type": "stream",
     "text": [
      "Processing temperature data with value 23.5°C\n"
     ]
    }
   ],
   "source": [
    "sensor_data = ('temperature', 23.5)  # Example sensor data tuple\n",
    "\n",
    "match sensor_data:\n",
    "    case ('temperature', value):\n",
    "        print(f\"Processing temperature data with value {value}°C\")\n",
    "    case ('pressure', value):\n",
    "        print(f\"Processing pressure data with value {value}psi\")\n",
    "    case ('flow', value):\n",
    "        print(f\"Processing flow data with value {value}L/min\")\n",
    "    case _:\n",
    "        print(\"Unknown sensor type\")\n"
   ]
  },
  {
   "cell_type": "markdown",
   "metadata": {
    "slideshow": {
     "slide_type": "subslide"
    }
   },
   "source": [
    "### Advanced Pattern Matching\n",
    "\n",
    "Pattern matching in Python is not limited to simple value comparisons. It can include complex structures, such as lists, dictionaries, and even custom classes. This feature can be particularly powerful for mechanical engineers working with structured data, enabling concise and readable code for complex conditional logic."
   ]
  },
  {
   "cell_type": "code",
   "execution_count": null,
   "metadata": {
    "slideshow": {
     "slide_type": "fragment"
    }
   },
   "outputs": [],
   "source": [
    "simulation_results = [\n",
    "    {'type': 'gear', 'data': {'teeth': 32, 'material': 'steel', 'failure_mode': 'wear'}},\n",
    "    {'type': 'bearing', 'data': {'load': 1500, 'material': 'ceramic', 'performance': 'optimal'}},\n",
    "    {'type': 'shaft', 'data': {'length': 120, 'diameter': 10, 'failure_mode': 'buckling'}}\n",
    "]\n",
    "\n",
    "for result in simulation_results:\n",
    "    match result:\n",
    "        case {'type': 'gear', 'data': {'teeth': teeth, 'material': mat, 'failure_mode': 'wear'}}:\n",
    "            print(f\"Gear with {teeth} teeth made of {mat} failed due to wear.\")\n",
    "        case {'type': 'bearing', 'data': {'load': load, 'material': 'ceramic', 'performance': 'optimal'}}:\n",
    "            print(f\"Ceramic bearing with load {load} N performed optimally.\")\n",
    "        case {'type': 'shaft', 'data': {'length': length, 'diameter': dia, 'failure_mode': mode}}:\n",
    "            print(f\"Shaft with length {length}mm and diameter {dia}mm failed due to {mode}.\")\n",
    "        case _:\n",
    "            print(\"Unknown component or data format.\")\n"
   ]
  },
  {
   "cell_type": "markdown",
   "metadata": {
    "slideshow": {
     "slide_type": "fragment"
    }
   },
   "source": [
    "### Explanation\n",
    "\n",
    "- **Pattern Matching with Dictionaries**: This example demonstrates pattern matching with dictionaries, where each `case` block matches results based on both the type of component (`'type'`) and details within the `'data'` dictionary. This allows for very specific processing logic tailored to each component and its simulation outcomes.\n",
    "\n",
    "- **Variable Binding in Patterns**: Notice how variables (e.g., `teeth`, `load`, `length`, `dia`) are directly bound within the pattern. This means that if the pattern matches, these variables are automatically assigned the corresponding values from the matched data, allowing for their immediate use within the case block.\n",
    "\n",
    "- **Deep Matching**: The example showcases deep matching where not just the outermost dictionary is matched against, but also nested structures within the `'data'` key. This capability is particularly useful for dealing with complex data structures common in engineering analyses."
   ]
  },
  {
   "cell_type": "markdown",
   "metadata": {
    "slideshow": {
     "slide_type": "skip"
    }
   },
   "source": [
    "The notes for Session 5 benefitted from the availability of [Python Programming and Numerical Methods: A Guide for Engineers and Scientists](https://pythonnumericalmethods.berkeley.edu/notebooks/Index.html) through the MIT License."
   ]
  }
 ],
 "metadata": {
  "celltoolbar": "Slideshow",
  "kernelspec": {
   "display_name": "Python 3 (ipykernel)",
   "language": "python",
   "name": "python3"
  },
  "language_info": {
   "codemirror_mode": {
    "name": "ipython",
    "version": 3
   },
   "file_extension": ".py",
   "mimetype": "text/x-python",
   "name": "python",
   "nbconvert_exporter": "python",
   "pygments_lexer": "ipython3",
   "version": "3.10.13"
  },
  "vscode": {
   "interpreter": {
    "hash": "d7d046052154998ca7dd3d9af52f7220fee50748c9a05b256540159ca8eb430c"
   }
  }
 },
 "nbformat": 4,
 "nbformat_minor": 2
}
