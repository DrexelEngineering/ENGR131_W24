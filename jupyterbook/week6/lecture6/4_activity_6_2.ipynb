{
 "cells": [
  {
   "attachments": {},
   "cell_type": "markdown",
   "metadata": {},
   "source": [
    "# 💻 Activity 6.2: Taking integrals with loops\n"
   ]
  },
  {
   "cell_type": "markdown",
   "metadata": {},
   "source": [
    "Let's explore how two important choices impact the accuracy of this method for approximating integrals.\n",
    "1. the width of the rectangle $h$, which is determined by the number of rectangles between $a$ and $b$\n",
    "\n",
    "2. the value of $x$ at which the function is evaluated (left, midpoint, or right)\n",
    "\n",
    "![](https://math.libretexts.org/@api/deki/files/6076/5.3.2.png?revision=1&size=bestfit&width=441&height=378)"
   ]
  },
  {
   "cell_type": "markdown",
   "metadata": {
    "slideshow": {
     "slide_type": "subslide"
    }
   },
   "source": [
    "## Interact with the code\n",
    "\n",
    "1. Add to the function `riemann` the correct expression for calculating the width of each rectangle using the number of rectangles passed into the function.\n",
    "\n",
    "2. Add the appropriate variable in the `range()` function in the `for` loop. \n",
    "\n",
    "3. Why is the expression `i < (numRectangles-1)` appropriate for evaluating the height of the rectangle at the right side?"
   ]
  },
  {
   "cell_type": "code",
   "execution_count": null,
   "metadata": {
    "tags": [
     "skip-execution"
    ]
   },
   "outputs": [],
   "source": [
    "import numpy as np\n",
    "\n",
    "def riemann(numRectangles,evalPoint): \n",
    "    # define the boundaries of the integral\n",
    "    a = 0\n",
    "    b = 5\n",
    "    \n",
    "    # define the curve\n",
    "    x = np.linspace(a,b,numRectangles)\n",
    "    f = np.sin(x/2)+1\n",
    "\n",
    "    ### determine the width of the rectangle\n",
    "    h = ...\n",
    "\n",
    "    integral_R = 0.\n",
    "\n",
    "    # integrate using the value of f at the right\n",
    "    for i in range(...):\n",
    "        if i < (numRectangles-1):\n",
    "            integral_R += h * f[i+1]\n",
    "    \n",
    "    # print the integral, number of rectangles, and the chosen point for evaluation\n",
    "    print(f'The integral is {integral_R} for {numRectangles} using the {evalPoint} point for evaluating the function.')"
   ]
  },
  {
   "cell_type": "markdown",
   "metadata": {},
   "source": [
    "Evaluate the function using 2, 5, and 11 rectangles between $a$ and $b$ and \"right\" as the evaluation point. \n",
    "\n",
    "Feel free to try other values, too, until you think you've approximated the integral reasonably well.\n",
    "\n",
    "(Currently, the only calculation included in the function uses the right side of each rectangle as the value of the function.)"
   ]
  },
  {
   "cell_type": "code",
   "execution_count": null,
   "metadata": {
    "tags": [
     "skip-execution"
    ]
   },
   "outputs": [],
   "source": [
    "# call the function with two arguments \n",
    "# - one integer for the number of rectangles\n",
    "# - one string for the \"right\" method\n",
    "\n",
    "# 2 rectangles\n",
    "riemann(...)\n",
    "\n",
    "# 5 rectangles\n",
    "riemann(...)\n",
    "\n",
    "# 11 rectangles\n",
    "riemann(...)"
   ]
  }
 ],
 "metadata": {
  "kernelspec": {
   "display_name": "base",
   "language": "python",
   "name": "python3"
  },
  "language_info": {
   "codemirror_mode": {
    "name": "ipython",
    "version": 3
   },
   "file_extension": ".py",
   "mimetype": "text/x-python",
   "name": "python",
   "nbconvert_exporter": "python",
   "pygments_lexer": "ipython3",
   "version": "3.10.8"
  },
  "vscode": {
   "interpreter": {
    "hash": "d7d046052154998ca7dd3d9af52f7220fee50748c9a05b256540159ca8eb430c"
   }
  }
 },
 "nbformat": 4,
 "nbformat_minor": 2
}
