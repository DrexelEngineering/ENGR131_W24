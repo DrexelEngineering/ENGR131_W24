{
 "cells": [
  {
   "cell_type": "markdown",
   "metadata": {
    "slideshow": {
     "slide_type": "slide"
    }
   },
   "source": [
    "# 📝 Introduction to Branching"
   ]
  },
  {
   "cell_type": "markdown",
   "metadata": {
    "slideshow": {
     "slide_type": "subslide"
    }
   },
   "source": [
    "## Utility of branching\n",
    "\n",
    "Branching causes specific blocks of code to be executed only under certain conditions. The conditions are articulated as logical expressions. "
   ]
  },
  {
   "cell_type": "markdown",
   "metadata": {
    "slideshow": {
     "slide_type": "subslide"
    }
   },
   "source": [
    "## How do you write branching statements?\n",
    "\n",
    "The simplest version of branching statement is an \"if statement\". "
   ]
  },
  {
   "cell_type": "markdown",
   "metadata": {
    "slideshow": {
     "slide_type": "subslide"
    }
   },
   "source": [
    "```python\n",
    "if logical_expression:\n",
    "    code_block\n",
    "```\n"
   ]
  },
  {
   "cell_type": "code",
   "execution_count": 1,
   "metadata": {
    "slideshow": {
     "slide_type": "subslide"
    }
   },
   "outputs": [
    {
     "name": "stdout",
     "output_type": "stream",
     "text": [
      "A student with a GPA of 3.85 graduates None.\n"
     ]
    }
   ],
   "source": [
    "def categorize_student_by_gpa(gpa):\n",
    "    \"\"\"\n",
    "    Categorizes a student based on their GPA according to hypothetical Drexel Engineering honors criteria.\n",
    "\n",
    "    Parameters:\n",
    "    gpa (float): The GPA of the student.\n",
    "\n",
    "    Returns:\n",
    "    str: The honors category of the student.\n",
    "    \"\"\"\n",
    "    if gpa >= 3.9:\n",
    "        return 'Summa Cum Laude'  # Highest honors\n",
    "\n",
    "# Example usage\n",
    "student_gpa = 3.85\n",
    "honors_category = categorize_student_by_gpa(student_gpa)\n",
    "print(f\"A student with a GPA of {student_gpa} graduates {honors_category}.\")"
   ]
  },
  {
   "cell_type": "markdown",
   "metadata": {
    "slideshow": {
     "slide_type": "subslide"
    }
   },
   "source": [
    "More complex structures are possible with \"if-else statements\". "
   ]
  },
  {
   "cell_type": "markdown",
   "metadata": {
    "slideshow": {
     "slide_type": "fragment"
    }
   },
   "source": [
    "```python\n",
    "if logical_expression_A:\n",
    "    code_block_1\n",
    "elif logical_expression_B:\n",
    "    code_block_2\n",
    "elif logical_expression_C:\n",
    "    code_block_3\n",
    "else: \n",
    "    code_block_4\n",
    "```\n"
   ]
  },
  {
   "cell_type": "code",
   "execution_count": 4,
   "metadata": {
    "slideshow": {
     "slide_type": "subslide"
    }
   },
   "outputs": [
    {
     "name": "stdout",
     "output_type": "stream",
     "text": [
      "A student with a GPA of 3.65 graduates Cum Laude.\n"
     ]
    }
   ],
   "source": [
    "def categorize_student_by_gpa(gpa):\n",
    "    \"\"\"\n",
    "    Categorizes a student based on their GPA according to hypothetical Drexel Engineering honors criteria.\n",
    "\n",
    "    Parameters:\n",
    "    gpa (float): The GPA of the student.\n",
    "\n",
    "    Returns:\n",
    "    str: The honors category of the student.\n",
    "    \"\"\"\n",
    "    if gpa >= 3.9:\n",
    "        return 'Summa Cum Laude'  # Highest honors\n",
    "    elif gpa >= 3.7:\n",
    "        return 'Magna Cum Laude'  # High honors\n",
    "    elif gpa >= 3.5:\n",
    "        return 'Cum Laude'        # Honors\n",
    "    else:\n",
    "        return 'No honors'        # Below the honors threshold\n",
    "\n",
    "# Example usage\n",
    "student_gpa = 3.65\n",
    "honors_category = categorize_student_by_gpa(student_gpa)\n",
    "print(f\"A student with a GPA of {student_gpa} graduates {honors_category}.\")"
   ]
  },
  {
   "cell_type": "markdown",
   "metadata": {
    "slideshow": {
     "slide_type": "slide"
    }
   },
   "source": [
    "## Using branching in basic control theory\n",
    "\n",
    "Many engineering interventions aim to maintain an optimal setting in a system. Control theory is the basis for achieving these optimal conditions as smoothly and consistently as possible.\n",
    "\n",
    "![](https://erc-bpgc.github.io/handbook/automation/ControlTheory/images/controller_2.png)\n"
   ]
  },
  {
   "cell_type": "markdown",
   "metadata": {
    "slideshow": {
     "slide_type": "fragment"
    }
   },
   "source": [
    "One very common example is *temperature control in buildings*. \n",
    "\n",
    "* Architectural engineers learn how to design heating, ventilation, and air conditioning systems throughout buildings that allow temperature in a room to be controlled. \n",
    "\n",
    "* Electrical engineers help with innovating the sensors and controls that allow for the temperature to be optimized. \n",
    "\n",
    "* Material scientists improve designs of windows and doors to enhance the controllability of the temperature and sustainability of the optimal conditions."
   ]
  },
  {
   "cell_type": "markdown",
   "metadata": {
    "slideshow": {
     "slide_type": "fragment"
    }
   },
   "source": [
    "The thermostat typically acts as both the sensor collecting feedback and the controller determining whether the process should be heating, cooling, or no intervention. "
   ]
  },
  {
   "cell_type": "markdown",
   "metadata": {
    "slideshow": {
     "slide_type": "fragment"
    }
   },
   "source": [
    "The very simplest process control requires only the process variable, or the room temperature in this case, and the set point, or the desired temperature in this case."
   ]
  },
  {
   "cell_type": "code",
   "execution_count": 8,
   "metadata": {
    "slideshow": {
     "slide_type": "subslide"
    }
   },
   "outputs": [],
   "source": [
    "def thermostat(roomTemp, desiredTemp):\n",
    "    \"\"\"\n",
    "    Changes the status of the thermal control devices based\n",
    "    on the room temperature and desired temperature\n",
    "    (Python Numerical Methods, MIT license)\n",
    "    :type temp: Int\n",
    "    :type desiredTemp: Int\n",
    "    :rtype: String\n",
    "    \"\"\"\n",
    "    if roomTemp < desiredTemp - 5:\n",
    "        device = \"heat\"\n",
    "    elif roomTemp > desiredTemp + 5:\n",
    "        device = \"AC\"\n",
    "    else:\n",
    "        device = \"nothing\"\n",
    "    return device\n"
   ]
  },
  {
   "cell_type": "code",
   "execution_count": 9,
   "metadata": {
    "slideshow": {
     "slide_type": "subslide"
    }
   },
   "outputs": [
    {
     "name": "stdout",
     "output_type": "stream",
     "text": [
      "When the temperature is 58 degrees Fahrenheit, activate heat to achieve 64 degrees Fahrenheit.\n"
     ]
    }
   ],
   "source": [
    "currentT = 58\n",
    "desiredT = 64\n",
    "device = thermostat(currentT, desiredT)\n",
    "print(\n",
    "    f\"When the temperature is {currentT} degrees Fahrenheit, activate {device} to achieve {desiredT} degrees Fahrenheit.\"\n",
    ")\n"
   ]
  },
  {
   "cell_type": "code",
   "execution_count": 10,
   "metadata": {
    "slideshow": {
     "slide_type": "subslide"
    }
   },
   "outputs": [
    {
     "name": "stdout",
     "output_type": "stream",
     "text": [
      "When the temperature is 85 degrees Fahrenheit, activate AC to achieve 78 degrees Fahrenheit.\n"
     ]
    }
   ],
   "source": [
    "currentT = 85\n",
    "desiredT = 78\n",
    "device = thermostat(currentT, desiredT)\n",
    "print(\n",
    "    f\"When the temperature is {currentT} degrees Fahrenheit, activate {device} to achieve {desiredT} degrees Fahrenheit.\"\n",
    ")\n"
   ]
  },
  {
   "cell_type": "code",
   "execution_count": 11,
   "metadata": {
    "slideshow": {
     "slide_type": "subslide"
    }
   },
   "outputs": [
    {
     "name": "stdout",
     "output_type": "stream",
     "text": [
      "When the temperature is 80 degrees Fahrenheit, activate nothing to achieve 75 degrees Fahrenheit.\n"
     ]
    }
   ],
   "source": [
    "currentT = 80\n",
    "desiredT = 75\n",
    "device = thermostat(currentT, desiredT)\n",
    "print(\n",
    "    f\"When the temperature is {currentT} degrees Fahrenheit, activate {device} to achieve {desiredT} degrees Fahrenheit.\"\n",
    ")\n"
   ]
  },
  {
   "cell_type": "markdown",
   "metadata": {
    "slideshow": {
     "slide_type": "slide"
    }
   },
   "source": [
    "Perhaps you have a roommate who is very sensitive to temperature changes. How could you change the `thermostat` function to keep the room temperature closer to the set point? "
   ]
  },
  {
   "cell_type": "code",
   "execution_count": null,
   "metadata": {
    "slideshow": {
     "slide_type": "fragment"
    }
   },
   "outputs": [],
   "source": [
    "def thermostat(roomTemp, desiredTemp):\n",
    "    \"\"\"\n",
    "    Changes the status of the thermal control devices based\n",
    "    on the room temperature and desired temperature\n",
    "    (Python Numerical Methods, MIT license)\n",
    "    :type temp: Int\n",
    "    :type desiredTemp: Int\n",
    "    :rtype: String\n",
    "    \"\"\"\n",
    "    if roomTemp < desiredTemp - 2:\n",
    "        device = \"heat\"\n",
    "    elif roomTemp > desiredTemp + 2:\n",
    "        device = \"AC\"\n",
    "    else:\n",
    "        device = \"nothing\"\n",
    "    return device\n"
   ]
  },
  {
   "cell_type": "markdown",
   "metadata": {
    "slideshow": {
     "slide_type": "slide"
    }
   },
   "source": [
    "What are at least three other processes you can think of that would similarly rely on branching, especially in your field of study?\n",
    "\n",
    "1. \n",
    "2. \n",
    "3. "
   ]
  },
  {
   "cell_type": "markdown",
   "metadata": {
    "slideshow": {
     "slide_type": "slide"
    }
   },
   "source": [
    "## Other methods of flow control in Python"
   ]
  },
  {
   "cell_type": "markdown",
   "metadata": {
    "slideshow": {
     "slide_type": "fragment"
    }
   },
   "source": [
    "Python introduced `match` statements in version 3.10 as a part of structural pattern matching. \n",
    "\n",
    "For mechanical engineers, this feature can be particularly useful for creating more readable and efficient code when dealing with simulations, data processing, or any scenario involving multiple conditions that need to be checked against specific patterns or values. "
   ]
  },
  {
   "cell_type": "markdown",
   "metadata": {
    "slideshow": {
     "slide_type": "fragment"
    }
   },
   "source": [
    "* A `match` statement takes an expression and compares its value to successive patterns given in different case blocks. \n",
    "\n",
    "* It's akin to a more powerful version of the switch statement found in other programming languages, with the added ability to match complex patterns, not just single values."
   ]
  },
  {
   "cell_type": "markdown",
   "metadata": {
    "slideshow": {
     "slide_type": "fragment"
    }
   },
   "source": [
    "```python\n",
    "match expression:\n",
    "    case pattern1:\n",
    "        # Block of code\n",
    "    case pattern2:\n",
    "        # Block of code\n",
    "    # Additional cases as needed\n",
    "    case _:\n",
    "        # Block of code for the default case (optional)\n",
    "```"
   ]
  },
  {
   "cell_type": "markdown",
   "metadata": {
    "slideshow": {
     "slide_type": "subslide"
    }
   },
   "source": [
    "Let's consider a scenario where a mechanical engineer needs to process data from different types of sensors in a mechanical system, such as temperature, pressure, and flow sensors. Each sensor type might require a different processing algorithm."
   ]
  },
  {
   "cell_type": "code",
   "execution_count": null,
   "metadata": {
    "slideshow": {
     "slide_type": "fragment"
    }
   },
   "outputs": [],
   "source": [
    "sensor_data = ('temperature', 23.5)  # Example sensor data tuple\n",
    "\n",
    "match sensor_data:\n",
    "    case ('temperature', value):\n",
    "        print(f\"Processing temperature data with value {value}°C\")\n",
    "    case ('pressure', value):\n",
    "        print(f\"Processing pressure data with value {value} psi\")\n",
    "    case ('flow', value):\n",
    "        print(f\"Processing flow data with value {value} L/min\")\n",
    "    case _:\n",
    "        print(\"Unknown sensor type\")\n"
   ]
  },
  {
   "cell_type": "markdown",
   "metadata": {
    "slideshow": {
     "slide_type": "skip"
    }
   },
   "source": [
    "The notes for Session 5 benefitted from the availability of [Python Programming and Numerical Methods: A Guide for Engineers and Scientists](https://pythonnumericalmethods.berkeley.edu/notebooks/Index.html) through the MIT License."
   ]
  }
 ],
 "metadata": {
  "celltoolbar": "Slideshow",
  "kernelspec": {
   "display_name": "Python 3 (ipykernel)",
   "language": "python",
   "name": "python3"
  },
  "language_info": {
   "codemirror_mode": {
    "name": "ipython",
    "version": 3
   },
   "file_extension": ".py",
   "mimetype": "text/x-python",
   "name": "python",
   "nbconvert_exporter": "python",
   "pygments_lexer": "ipython3",
   "version": "3.11.5"
  },
  "varInspector": {
   "cols": {
    "lenName": 16,
    "lenType": 16,
    "lenVar": 40
   },
   "kernels_config": {
    "python": {
     "delete_cmd_postfix": "",
     "delete_cmd_prefix": "del ",
     "library": "var_list.py",
     "varRefreshCmd": "print(var_dic_list())"
    },
    "r": {
     "delete_cmd_postfix": ") ",
     "delete_cmd_prefix": "rm(",
     "library": "var_list.r",
     "varRefreshCmd": "cat(var_dic_list()) "
    }
   },
   "types_to_exclude": [
    "module",
    "function",
    "builtin_function_or_method",
    "instance",
    "_Feature"
   ],
   "window_display": false
  },
  "vscode": {
   "interpreter": {
    "hash": "d7d046052154998ca7dd3d9af52f7220fee50748c9a05b256540159ca8eb430c"
   }
  }
 },
 "nbformat": 4,
 "nbformat_minor": 2
}
