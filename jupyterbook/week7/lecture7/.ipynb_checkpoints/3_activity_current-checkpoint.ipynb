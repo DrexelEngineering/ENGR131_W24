{
 "cells": [
  {
   "cell_type": "markdown",
   "metadata": {
    "slideshow": {
     "slide_type": "slide"
    }
   },
   "source": [
    "# 💻 Activity: Accessing Items in a List\n"
   ]
  },
  {
   "cell_type": "markdown",
   "metadata": {},
   "source": [
    "## Consider a Circuit with Resistors in Parallel\n",
    "\n",
    "Let's use a circuit with 9 volts of energy and three different resistors in parallel. \n",
    "\n",
    "![image](https://www.allaboutcircuits.com/uploads/thumbnails/Figure_1._Parallel_circuit_with_a_battery_and_three_resistors_.jpg)\n",
    "\n",
    "Let's use nested lists to store information about the circuit."
   ]
  },
  {
   "cell_type": "code",
   "execution_count": 22,
   "metadata": {
    "slideshow": {
     "slide_type": "subslide"
    },
    "tags": [
     "skip-execution"
    ]
   },
   "outputs": [],
   "source": [
    "# create each list individually before nesting\n",
    "r1 = [10,'parallel',2,7]\n",
    "r2 = [2,'parallel',3,6]\n",
    "r3 = [1,'parallel',4,5]\n",
    "\n",
    "# make a nested list of the resistors in the circuit\n",
    "circuitParallel = [r1, r2, r3]\n"
   ]
  },
  {
   "cell_type": "markdown",
   "metadata": {
    "slideshow": {
     "slide_type": "fragment"
    }
   },
   "source": [
    "Ohm's Law is still applicable but to each of the parallel loops.\n",
    "\n",
    "Ohm's Law shows that the voltage (E) is equal to current (I) multiplied by resistance (R).\n",
    "\n",
    "$E = IR$\n",
    "\n",
    "Apply Ohm's Law to determine the current through each resistor."
   ]
  },
  {
   "cell_type": "code",
   "execution_count": 25,
   "metadata": {
    "slideshow": {
     "slide_type": "fragment"
    },
    "tags": [
     "skip-execution"
    ]
   },
   "outputs": [
    {
     "name": "stdout",
     "output_type": "stream",
     "text": [
      "[[10, 'parallel', 2, 7, 0.9], [2, 'parallel', 3, 6, 4.5], [1, 'parallel', 4, 5, 9.0]]\n"
     ]
    }
   ],
   "source": [
    "# voltage through the circuit\n",
    "E = 9\n",
    "\n",
    "# current through first resistor\n",
    "...\n",
    "\n",
    "# current through the second resistor\n",
    "...\n",
    "\n",
    "# current through the third resistor\n",
    "...\n",
    "\n",
    "print(circuitParallel)\n"
   ]
  },
  {
   "cell_type": "markdown",
   "metadata": {},
   "source": [
    "For a parallel circuit, the total current is the sum of the current across all of the resistors. \n",
    "\n",
    "In the  next cell, sum the current across the resistors *using a `for` loop to access the items in `circuitParallel`*.\n"
   ]
  },
  {
   "cell_type": "code",
   "execution_count": 24,
   "metadata": {
    "tags": [
     "skip-execution"
    ]
   },
   "outputs": [
    {
     "name": "stdout",
     "output_type": "stream",
     "text": [
      "[10, 'parallel', 2, 7, 0.9]\n",
      "[2, 'parallel', 3, 6, 4.5]\n",
      "[1, 'parallel', 4, 5, 9.0]\n",
      "14.4\n"
     ]
    }
   ],
   "source": [
    "# sum the current across the resistors\n",
    "...\n",
    "\n",
    "for ... in ...: \n",
    "\n",
    "\n",
    "print(totalCurrent)"
   ]
  },
  {
   "cell_type": "markdown",
   "metadata": {},
   "source": [
    "Now, you can confidently use nested lists and can access each item in a list using a `for` loop."
   ]
  },
  {
   "cell_type": "markdown",
   "metadata": {},
   "source": []
  }
 ],
 "metadata": {
  "celltoolbar": "Slideshow",
  "kernelspec": {
   "display_name": "Python 3 (ipykernel)",
   "language": "python",
   "name": "python3"
  },
  "language_info": {
   "codemirror_mode": {
    "name": "ipython",
    "version": 3
   },
   "file_extension": ".py",
   "mimetype": "text/x-python",
   "name": "python",
   "nbconvert_exporter": "python",
   "pygments_lexer": "ipython3",
   "version": "3.11.5"
  },
  "varInspector": {
   "cols": {
    "lenName": 16,
    "lenType": 16,
    "lenVar": 40
   },
   "kernels_config": {
    "python": {
     "delete_cmd_postfix": "",
     "delete_cmd_prefix": "del ",
     "library": "var_list.py",
     "varRefreshCmd": "print(var_dic_list())"
    },
    "r": {
     "delete_cmd_postfix": ") ",
     "delete_cmd_prefix": "rm(",
     "library": "var_list.r",
     "varRefreshCmd": "cat(var_dic_list()) "
    }
   },
   "types_to_exclude": [
    "module",
    "function",
    "builtin_function_or_method",
    "instance",
    "_Feature"
   ],
   "window_display": false
  },
  "vscode": {
   "interpreter": {
    "hash": "d7d046052154998ca7dd3d9af52f7220fee50748c9a05b256540159ca8eb430c"
   }
  }
 },
 "nbformat": 4,
 "nbformat_minor": 2
}
