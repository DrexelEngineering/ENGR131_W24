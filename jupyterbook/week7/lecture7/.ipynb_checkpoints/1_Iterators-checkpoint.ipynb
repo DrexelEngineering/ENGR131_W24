{
 "cells": [
  {
   "cell_type": "markdown",
   "metadata": {
    "slideshow": {
     "slide_type": "slide"
    }
   },
   "source": [
    "# Ordered Iteration \n"
   ]
  },
  {
   "cell_type": "markdown",
   "metadata": {
    "slideshow": {
     "slide_type": "subslide"
    }
   },
   "source": [
    "\n",
    "## List"
   ]
  },
  {
   "cell_type": "markdown",
   "metadata": {
    "slideshow": {
     "slide_type": "fragment"
    }
   },
   "source": [
    "Lists in Python are ordered collections, meaning that the items have a defined order that will not change.\n",
    "\n",
    "This characteristic is essential when the sequence of elements matters, as in many engineering computations.\n"
   ]
  },
  {
   "cell_type": "code",
   "execution_count": null,
   "metadata": {
    "slideshow": {
     "slide_type": "fragment"
    }
   },
   "outputs": [],
   "source": [
    "# Example: Calculating moving averages in signal processing\n",
    "import numpy as np\n",
    "\n",
    "# Signal: A list of voltage measurements over time\n",
    "voltages = [1.2, 1.5, 1.8, 2.0, 2.1, 2.0, 1.8, 1.5, 1.3]\n",
    "\n",
    "# Calculate the moving average using a window size of 3\n",
    "window_size = 3\n",
    "moving_averages = np.convolve(voltages, np.ones(window_size)/window_size, mode='valid')\n",
    "\n",
    "print(\"Moving averages:\", moving_averages)"
   ]
  },
  {
   "cell_type": "markdown",
   "metadata": {
    "slideshow": {
     "slide_type": "fragment"
    }
   },
   "source": [
    "The order of elements in the 'voltages' list is crucial for correctly computing the moving averages.\n",
    "\n",
    "An unordered collection would not provide meaningful results in this context.\n"
   ]
  },
  {
   "cell_type": "markdown",
   "metadata": {
    "slideshow": {
     "slide_type": "slide"
    }
   },
   "source": [
    "## Dictionaries"
   ]
  },
  {
   "cell_type": "markdown",
   "metadata": {
    "slideshow": {
     "slide_type": "fragment"
    }
   },
   "source": [
    "Since Python 3.7 dictionaries are guaranteed to maintain the insertion order of their elements. "
   ]
  },
  {
   "cell_type": "code",
   "execution_count": null,
   "metadata": {
    "slideshow": {
     "slide_type": "fragment"
    }
   },
   "outputs": [],
   "source": [
    "# Dictionaries maintain insertion order as of Python 3.7\n",
    "\n",
    "# Example: Storing and processing time-series data in the order of acquisition\n",
    "\n",
    "# Time-stamped sensor data (time: sensor value)\n",
    "sensor_data = {\n",
    "    '2024-02-01 10:00:00': 45.2,\n",
    "    '2024-02-01 10:01:00': 46.0,\n",
    "    '2024-02-01 10:02:00': 45.5,\n",
    "    '2024-02-01 10:03:00': 46.1\n",
    "}\n",
    "\n",
    "# Processing data in the order it was acquired is essential for time-series analysis\n",
    "timestamps = list(sensor_data.keys())\n",
    "values = list(sensor_data.values())\n",
    "\n",
    "# Compute the rate of change between consecutive measurements\n",
    "for i in range(len(values)-1):\n",
    "    rate_of_change = values[i+1] - values[i]\n",
    "    print(i)\n",
    "\n",
    "print(\"Rate of change:\", rate_of_change)\n"
   ]
  },
  {
   "cell_type": "markdown",
   "metadata": {
    "slideshow": {
     "slide_type": "fragment"
    }
   },
   "source": [
    "In this example, the ordered nature of dictionaries allows for predictable iteration over time-stamped data, which is crucial for accurate analysis and engineering computations."
   ]
  },
  {
   "cell_type": "markdown",
   "metadata": {},
   "source": []
  }
 ],
 "metadata": {
  "kernelspec": {
   "display_name": "Python 3 (ipykernel)",
   "language": "python",
   "name": "python3"
  },
  "language_info": {
   "codemirror_mode": {
    "name": "ipython",
    "version": 3
   },
   "file_extension": ".py",
   "mimetype": "text/x-python",
   "name": "python",
   "nbconvert_exporter": "python",
   "pygments_lexer": "ipython3",
   "version": "3.11.5"
  },
  "varInspector": {
   "cols": {
    "lenName": 16,
    "lenType": 16,
    "lenVar": 40
   },
   "kernels_config": {
    "python": {
     "delete_cmd_postfix": "",
     "delete_cmd_prefix": "del ",
     "library": "var_list.py",
     "varRefreshCmd": "print(var_dic_list())"
    },
    "r": {
     "delete_cmd_postfix": ") ",
     "delete_cmd_prefix": "rm(",
     "library": "var_list.r",
     "varRefreshCmd": "cat(var_dic_list()) "
    }
   },
   "types_to_exclude": [
    "module",
    "function",
    "builtin_function_or_method",
    "instance",
    "_Feature"
   ],
   "window_display": false
  }
 },
 "nbformat": 4,
 "nbformat_minor": 2
}
