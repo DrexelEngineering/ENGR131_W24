{
 "cells": [
  {
   "attachments": {},
   "cell_type": "markdown",
   "metadata": {},
   "source": [
    "# 💻 Activity: Hello World JupyterHub\n",
    "\n",
    "Please share with the instructors something about yourself and your neighbor.\n",
    "\n",
    "Here are the steps to create a \"Hello, World!\" assignment in JupyterHub:\n",
    "\n",
    "1. Navigate to the course website [jupyterbook](https://courses.coe.drexel.edu/ENGR/ENGR131W24/)\n",
    "\n",
    "2. In the upper right corner, click on the rocket icon to launch JupyterHub.\n",
    "\n",
    "3. You will be presented with a login page, select `Drexel University`. You will be redirected to the Drexel login page. Enter your Drexel credentials.\n",
    "\n",
    "4. You will be presented with an option to select a environment. Select `ENGR_131`. \n",
    "\n",
    "5. If you clicked the rocketship icon the jupyter notebook file should automatically open. \n",
    "\n",
    "6. In the first cell type `print(\"Hello, World! My name is <type your name>\")`\n",
    "\n",
    "7. Press \"Shift + Enter\" to execute the code in the cell. You should see the output.\n",
    "\n",
    "That's it! You have now created a simple \"Hello, World!\" assignment in JupyterHub."
   ]
  }
 ],
 "metadata": {
  "kernelspec": {
   "display_name": "base",
   "language": "python",
   "name": "python3"
  },
  "language_info": {
   "name": "python",
   "version": "3.10.8 (main, Nov 24 2022, 14:13:03) [GCC 11.2.0]"
  },
  "orig_nbformat": 4,
  "vscode": {
   "interpreter": {
    "hash": "d7d046052154998ca7dd3d9af52f7220fee50748c9a05b256540159ca8eb430c"
   }
  }
 },
 "nbformat": 4,
 "nbformat_minor": 2
}
