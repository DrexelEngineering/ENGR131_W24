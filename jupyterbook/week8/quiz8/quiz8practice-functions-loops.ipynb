{
 "cells": [
  {
   "cell_type": "code",
   "execution_count": null,
   "metadata": {
    "deletable": false,
    "editable": false
   },
   "outputs": [],
   "source": [
    "# Initialize Otter\n",
    "import otter\n",
    "grader = otter.Notebook(\"quiz8practice-functions-loops.ipynb\")"
   ]
  },
  {
   "attachments": {},
   "cell_type": "markdown",
   "metadata": {
    "editable": false
   },
   "source": [
    "# ⌛️ Quiz 8 Practice - Using Functions\n",
    "\n",
    "This quiz will evaluate your mastery of using functions in Python. Functions provide a way to isolate code that you want to use repeatedly, and they allow you to pass in data to the code and get data back out of the code.\n",
    "\n",
    "**Note** The actual quiz will have different questions but will be similar to the ones provided here. All tests are visible to you, so you can test your solution as many times as you want.\n"
   ]
  },
  {
   "cell_type": "markdown",
   "metadata": {
    "editable": false
   },
   "source": [
    "## Entering Your Information for Credit\n",
    "\n",
    "To receive credit for assignments it is important we can identify your work from others. To do this we will ask you to enter your information in the following code block.\n",
    "\n",
    "### Before you begin\n",
    "\n",
    "Run the block of code at the top of the notebook that imports and sets up the autograder. This will allow you to check your work. "
   ]
  },
  {
   "cell_type": "code",
   "execution_count": null,
   "metadata": {},
   "outputs": [],
   "source": [
    "import pkg_resources\n",
    "from subprocess import call\n",
    "\n",
    "package_name = 'ENGR131_Util_2024'\n",
    "version = '0.1.8'\n",
    "package_version = f'{package_name}=={version}'\n",
    "\n",
    "try:\n",
    "    # Check if the package and version are installed\n",
    "    pkg_resources.require(package_version)\n",
    "    print(f'{package_version} is already installed.')\n",
    "except pkg_resources.DistributionNotFound:\n",
    "    # If not installed, install the package\n",
    "    print(f'{package_version} not found. Installing...')\n",
    "    call(['pip', 'install', package_version])\n",
    "except pkg_resources.VersionConflict:\n",
    "    # If a different version is installed, you can choose to upgrade/downgrade\n",
    "    installed_packages = {dist.key: dist.version for dist in pkg_resources.working_set}\n",
    "    installed_version = installed_packages.get(package_name.lower())\n",
    "    print(f'{package_name} {installed_version} is installed, but {version} is required.')\n",
    "    # Optionally, upgrade or downgrade the package to the required version\n",
    "    call(['pip', 'install', '--upgrade', package_version])\n"
   ]
  },
  {
   "cell_type": "code",
   "execution_count": null,
   "metadata": {},
   "outputs": [],
   "source": [
    "# DO NOT MODIFY THIS CELL\n",
    "\n",
    "from ENGR131_Util_2024 import cell_logger, StudentInfoForm, responses, upsert_to_json_file\n",
    "# Register the log function to be called before any cell is executed\n",
    "get_ipython().events.register('pre_run_cell', cell_logger)\n",
    "responses[\"assignment\"] = \"quiz_8_practice\"\n",
    "\n",
    "StudentInfoForm(**responses)"
   ]
  },
  {
   "cell_type": "markdown",
   "metadata": {
    "deletable": false,
    "editable": false
   },
   "source": [
    "**Question 1: Thermal Expansion of a Rod**\n",
    "\n",
    "You are a materials engineer tasked with evaluating the suitability of a metal rod for use in a construction project where temperature variations are significant. It's essential to estimate the thermal expansion of the rod to ensure that it will not cause structural issues due to temperature changes.\n",
    "\n",
    "The change in length, $\\Delta L$, of a rod due to thermal expansion can be calculated using the equation:\n",
    "\n",
    "$$\n",
    "\\Delta L = \\alpha L_0 \\Delta T \\tag{1}\n",
    "$$\n",
    "\n",
    "where:\n",
    "- $\\alpha$ is the coefficient of thermal expansion of the material (in per degree Celsius, $°C^{-1}$),\n",
    "- $L_0$ is the original length of the rod (in meters, m),\n",
    "- $\\Delta T$ is the change in temperature (in degrees Celsius, °C).\n",
    "\n",
    "To ensure the structural integrity of the construction, it's crucial to consider a tolerance factor in the design. This factor adjusts the expected change in length to account for uncertainties in material properties and temperature variations.\n",
    "\n",
    "If the change in length is $\\Delta L$, the adjusted length change including the tolerance factor is given by:\n",
    "\n",
    "$$ \\Delta L_{\\text{adjusted}} = \\text{Tolerance Factor} \\times \\Delta L \\tag{2}$$\n",
    "\n",
    "Write Python code to do the following:\n",
    "\n",
    "* Define a function called `rod_expansion` which accepts three input arguments: `alpha`, `L0`, and `DeltaT`, and a fourth optional argument called `tolerance_factor` which defaults to 1.0.\n",
    "* Define a variable called `DeltaL` and set it equal to the result of equation (1) above.\n",
    "* Define a variable called `DeltaL_adjusted` and set it equal to the result of the equation (2) above.\n",
    "* Have your function print the response: `The change in length of the rod is: <DeltaL> m, and the adjusted length change for tolerance is <DeltaL_adjusted> m`, where `<DeltaL>`, and `<DeltaL_adjusted>` are the float values of the variable for the change in length and the adjusted change respectively, rounded to 3 decimal places.\n",
    "* Implement your function so that it returns the adjusted length change of the rod for a given input.\n",
    "\n",
    "Provide an example usage of your function by calling it with the following inputs:\n",
    "* `alpha = 1.2e-5` °C\\(^{-1}\\)\n",
    "* `L0 = 2.0` m\n",
    "* `DeltaT = 50` °C\n",
    "* `tolerance_factor = 10`\n",
    "\n",
    "Save the output of the function call to a variable `adjusted_length_change`.\n",
    "\n",
    "Your code should print the response: \n",
    "\n",
    "Note: You can control the precision of the output by using string formatting to round the output to a specific number of decimal places. For a consistent presentation, use three decimal places in your output as shown in the example:\n",
    "\n",
    "```python\n",
    "print(f\"{DeltaL:0.3f}\")\n",
    "```\n",
    "\n",
    "Your code replaces the prompt:  `...`"
   ]
  },
  {
   "cell_type": "code",
   "execution_count": null,
   "metadata": {
    "tags": []
   },
   "outputs": [],
   "source": [
    "# Your function for rod_expansion goes here\n",
    "...\n",
    "\n",
    "# Example usage:\n",
    "alpha = ...\n",
    "L0 = ...\n",
    "DeltaT = ...\n",
    "tolerance_factor = ...\n",
    "\n",
    "# Call the function with example inputs and save to a variable `adjusted_length_change`\n",
    "..."
   ]
  },
  {
   "cell_type": "code",
   "execution_count": null,
   "metadata": {
    "deletable": false,
    "editable": false,
    "tags": [
     "skip-execution"
    ]
   },
   "outputs": [],
   "source": [
    "grader.check(\"q1-thermal-expansion-rod\")"
   ]
  },
  {
   "cell_type": "markdown",
   "metadata": {
    "deletable": false,
    "editable": false
   },
   "source": [
    "**Question 2: Identifying the First Acidic Solution with pH Below a Certain Level 5**\n",
    "\n",
    "Write a Python function `acidic_pH_detection` that takes a sequence of pH level measurements (represented as a list of floats) as a variable `pH_levels`. The goal is to identify the first measurement that falls below a predefined `threshold` value, indicating the occurrence of an acidic solution. Once an acidic solution with a pH below the threshold is found, the program should return the *index* (position) of this measurement in the dataset and the *value* of the pH level, as a tuple then terminate the search.\n",
    "\n",
    "Requirements:\n",
    "1. Write a function `acidic_pH_detection` that takes two input arguments: `pH_levels` (a list of floats) and `threshold` (a float).\n",
    "\n",
    "   1. Use a for loop to iterate through the `pH_levels` list.\n",
    "   2. Within the loop, implement a condition to check if the current pH level is below the threshold.\n",
    "   3. Print the index of the first pH level that is below the threshold and the value of this pH level. The print statement should read `First acidic solution detected below threshold found at index <index> with pH <value>.`, where <index> and <value> are the index and pH level of the first measurement below the threshold.\n",
    "   4. If a pH level below the threshold is found, use a return statement to exit the loop immediately and return a tuple containing the index of the measurement and the value of the pH level.\n",
    "   5. If no pH level below the threshold is detected, print a message: `No acidic solution was detected below the threshold of <threshold>.`, where <threshold> is the value of the threshold.\n",
    "\n",
    "2. Test your function by calling it with the provided inputs. Save the output of the function call to a variable `acidic_solution`.\n",
    "\n",
    "Hints:\n",
    "* Use the `enumerate()` function to get both the index and the value of each item when iterating through the list with a for loop."
   ]
  },
  {
   "cell_type": "code",
   "execution_count": null,
   "metadata": {
    "tags": []
   },
   "outputs": [],
   "source": [
    "# Sample pH level measurements\n",
    "pH_levels = [7.2, 5.5, 6.8, 7.0, 7.3, 4.8, 3.2, 7.4, 8.0, 6.5, 4.9, 3.5]\n",
    "\n",
    "# Threshold value for acidity\n",
    "threshold_pH = 5.0\n",
    "\n",
    "..."
   ]
  },
  {
   "cell_type": "code",
   "execution_count": null,
   "metadata": {
    "deletable": false,
    "editable": false,
    "tags": [
     "skip-execution"
    ]
   },
   "outputs": [],
   "source": [
    "grader.check(\"q2-detecting-threshold-signal\")"
   ]
  },
  {
   "cell_type": "markdown",
   "metadata": {
    "editable": false
   },
   "source": [
    "## Fin"
   ]
  }
 ],
 "metadata": {
  "kernelspec": {
   "display_name": "Python 3",
   "language": "python",
   "name": "python3"
  },
  "language_info": {
   "codemirror_mode": {
    "name": "ipython",
    "version": 3
   },
   "file_extension": ".py",
   "mimetype": "text/x-python",
   "name": "python",
   "nbconvert_exporter": "python",
   "pygments_lexer": "ipython3",
   "version": "3.10.13"
  },
  "otter": {
   "OK_FORMAT": true,
   "tests": {
    "q1-thermal-expansion-rod": {
     "name": "q1-thermal-expansion-rod",
     "points": 12,
     "suites": [
      {
       "cases": [
        {
         "code": ">>> import drexel_jupyter_logger\n>>> from ENGR131_Util_2024 import submit_score\n>>> from unittest.mock import patch\n>>> drexel_jupyter_logger.variable_logger_csv('0, 1', 'q1_1')\n>>> drexel_jupyter_logger.variable_logger_csv('0, 1', 'q1_2')\n>>> drexel_jupyter_logger.variable_logger_csv('0, 1', 'q1_3')\n>>> drexel_jupyter_logger.variable_logger_csv('0, 2', 'q1_4')\n>>> drexel_jupyter_logger.variable_logger_csv('0, 2', 'q1_5')\n>>> drexel_jupyter_logger.variable_logger_csv('0, 2', 'q1_6')\n>>> drexel_jupyter_logger.variable_logger_csv('0, 3', 'q1_7')\n>>> drexel_jupyter_logger.variable_logger_csv('0, 2', 'q2_1')\n>>> drexel_jupyter_logger.variable_logger_csv('0, 2', 'q2_2')\n>>> drexel_jupyter_logger.variable_logger_csv('0, 3', 'q2_3')\n>>> drexel_jupyter_logger.variable_logger_csv('0, 3', 'q2_4')\n>>> drexel_jupyter_logger.variable_logger_csv('0, 4', 'q2_5')\n>>> import json\n>>> student_data = {'first_name': responses['first_name'], 'last_name': responses['last_name'], 'drexel_id': responses['drexel_id'], 'drexel_email': responses['drexel_email']}\n>>> with open('student_data.json', 'w') as json_file:\n...     json.dump(student_data, json_file)\n>>> scorer = submit_score()\n>>> question_id = 'q1_1'\n>>> if alpha == 1.2e-05 and L0 == 2.0 and (DeltaT == 50) and (tolerance_factor == 10):\n...     drexel_jupyter_logger.variable_logger_csv('2, 1', question_id)\n...     score = 1\n... else:\n...     score = 0\n>>> with patch('builtins.print') as mock_print:\n...     response = {'question_id': question_id, 'score': score, 'max_score': 1, 'student_response': f'{alpha}, {L0}, {DeltaT}, {tolerance_factor}'}\n...     scorer.add_response(response)\n...     scorer.submit()\n>>> assert alpha == 1.2e-05, 'The value of alpha is not correct.'\n>>> assert L0 == 2.0, 'The value of L0 is not correct.'\n>>> assert DeltaT == 50, 'The value of DeltaT is not correct.'\n>>> assert tolerance_factor == 10, 'The value of the tolerance factor is not correct.'\n",
         "hidden": false,
         "locked": false,
         "points": 1,
         "success_message": "Test values are implemented correctly."
        },
        {
         "code": ">>> import drexel_jupyter_logger\n>>> from ENGR131_Util_2024 import submit_score\n>>> import numpy as np\n>>> from unittest.mock import patch\n>>> expected_adjusted_length_change = 0.012\n>>> scorer = submit_score()\n>>> question_id = 'q1_2'\n>>> score = 1 if np.isclose(adjusted_length_change, expected_adjusted_length_change) else 0\n>>> with patch('builtins.print') as mock_print:\n...     response = {'question_id': question_id, 'score': score, 'max_score': 1, 'student_response': f'{adjusted_length_change}'}\n...     scorer.add_response(response)\n...     scorer.submit()\n>>> assert np.isclose(adjusted_length_change, expected_adjusted_length_change), 'The adjusted length change is not calculated correctly.'\n",
         "hidden": false,
         "locked": false,
         "points": 1,
         "success_message": "Test for adjusted length change implemented correctly."
        },
        {
         "code": ">>> import drexel_jupyter_logger\n>>> from unittest.mock import patch\n>>> from ENGR131_Util_2024 import submit_score\n>>> scorer = submit_score()\n>>> question_id = 'q1_3'\n>>> with patch('builtins.print') as mock_print:\n...     assert type(rod_expansion(alpha=1.2e-05, L0=1.0, DeltaT=30, tolerance_factor=1.0)) == float, 'The function does not return a numerical value of type float.'\n...     score = 1 if type(rod_expansion(alpha=1.2e-05, L0=1.0, DeltaT=30, tolerance_factor=1.0)) == float else 0\n...     response = {'question_id': question_id, 'score': score, 'max_score': 1, 'student_response': f'{type(rod_expansion(alpha=1.2e-05, L0=1.0, DeltaT=30, tolerance_factor=1.0))}'}\n...     scorer.add_response(response)\n...     scorer.submit()\n",
         "hidden": false,
         "locked": false,
         "points": 1,
         "success_message": "Function correctly returns a numerical value."
        },
        {
         "code": ">>> import drexel_jupyter_logger\n>>> from unittest.mock import patch\n>>> from ENGR131_Util_2024 import submit_score\n>>> scorer = submit_score()\n>>> question_id = 'q1_4'\n>>> (alpha, L0, DeltaT, tolerance_factor) = (2000, 0.4, 0.002, 4)\n>>> with patch('builtins.print') as mock_print:\n...     assert rod_expansion(alpha, L0, DeltaT) == 1.6, 'thermal expansion with default tolerence factor is not correct.'\n...     if rod_expansion(alpha, L0, DeltaT) == 1.6:\n...         score = 2\n...         drexel_jupyter_logger.variable_logger_csv('2, 2', question_id)\n...     else:\n...         score = 0\n...     response = {'question_id': question_id, 'score': score, 'max_score': 2, 'student_response': f'{rod_expansion(alpha, L0, DeltaT)}'}\n...     scorer.add_response(response)\n...     scorer.submit()\n",
         "hidden": false,
         "locked": false,
         "points": 2,
         "success_message": "default tolerance factor is implemented correctly."
        },
        {
         "code": ">>> import drexel_jupyter_logger\n>>> from unittest.mock import patch\n>>> from ENGR131_Util_2024 import submit_score\n>>> scorer = submit_score()\n>>> question_id = 'q1_5'\n>>> (alpha, L0, DeltaT, tolerance_factor) = (2000, 0.4, 0.002, 4)\n>>> with patch('builtins.print') as mock_print:\n...     out = rod_expansion(alpha, L0, DeltaT, tolerance_factor)\n...     assert out == 6.4, 'tolerance factor implemented correctly.'\n...     if out == 6.4:\n...         score = 2\n...         drexel_jupyter_logger.variable_logger_csv('2, 2', question_id)\n...     else:\n...         score = 0\n...     response = {'question_id': question_id, 'score': score, 'max_score': 2, 'student_response': f'{out}'}\n...     scorer.add_response(response)\n...     scorer.submit()\n",
         "hidden": false,
         "locked": false,
         "points": 2,
         "success_message": "tolerance factor is implemented correctly."
        },
        {
         "code": ">>> import drexel_jupyter_logger\n>>> import inspect\n>>> from ENGR131_Util_2024 import submit_score\n>>> from unittest.mock import patch\n>>> scorer = submit_score()\n>>> question_id = 'q1_6'\n>>> signature = inspect.signature(rod_expansion)\n>>> parameters = signature.parameters\n>>> assert len(parameters) == 4, f'Expected 4 parameters, found {len(parameters)}'\n>>> tolerance_factor_param = parameters.get('tolerance_factor')\n>>> assert tolerance_factor_param is not None, 'tolerance factor parameter missing.'\n>>> assert tolerance_factor_param.default != inspect.Parameter.empty, 'tolerance factor does not have a default value, thus not optional.'\n>>> if len(parameters) == 4 and tolerance_factor_param is not None and (tolerance_factor_param.default != inspect.Parameter.empty):\n...     score = 2\n...     drexel_jupyter_logger.variable_logger_csv('2, 2', question_id)\n... else:\n...     score = 0\n>>> with patch('builtins.print') as mock_print:\n...     response = {'question_id': question_id, 'score': score, 'max_score': 2, 'student_response': f'{len(parameters)}, {tolerance_factor_param.default}'}\n...     scorer.add_response(response)\n...     scorer.submit()\n",
         "hidden": false,
         "locked": false,
         "points": 2,
         "success_message": "Input parameters is is correctly defined."
        },
        {
         "code": ">>> import drexel_jupyter_logger\n>>> from unittest.mock import patch\n>>> from ENGR131_Util_2024 import submit_score\n>>> scorer = submit_score()\n>>> question_id = 'q1_7'\n>>> expected_message = 'The change in length of the rod is: 0.001 m, and the adjusted length change for tolerance is 0.012 m'\n>>> with patch('builtins.print') as mock_print:\n...     alpha = 1.2e-05\n...     L0 = 2.0\n...     DeltaT = 50\n...     tolerance_factor = 10\n...     out = rod_expansion(alpha, L0, DeltaT, tolerance_factor)\n...     mock_print.assert_called_once_with(expected_message)\n>>> if mock_print.call_args[0][0] == expected_message:\n...     score = 3\n...     drexel_jupyter_logger.variable_logger_csv('3, 3', question_id)\n... else:\n...     score = 0\n>>> response = {'question_id': question_id, 'score': score, 'max_score': 3, 'student_response': f'{mock_print.call_args[0][0]}'}\n>>> with patch('builtins.print') as mock_print:\n...     scorer.add_response(response)\n...     scorer.submit()\n",
         "hidden": false,
         "locked": false,
         "points": 3,
         "success_message": "Input parameters is is correctly defined."
        }
       ],
       "scored": true,
       "setup": "",
       "teardown": "",
       "type": "doctest"
      }
     ]
    },
    "q2-detecting-threshold-signal": {
     "name": "q2-detecting-threshold-signal",
     "points": 14,
     "suites": [
      {
       "cases": [
        {
         "code": ">>> import drexel_jupyter_logger\n>>> import inspect\n>>> from ENGR131_Util_2024 import submit_score\n>>> from unittest.mock import patch\n>>> scorer = submit_score()\n>>> question_id = 'q2_1'\n>>> signature = inspect.signature(acidic_pH_detection)\n>>> parameters = signature.parameters\n>>> if len(parameters) == 2 and 'acidic_pH_detection' in locals() and callable(acidic_pH_detection):\n...     score = 2\n...     drexel_jupyter_logger.variable_logger_csv('2, 2', question_id)\n... else:\n...     score = 0\n>>> response = {'question_id': question_id, 'score': score, 'max_score': 2, 'student_response': f'{len(parameters)}, {callable(acidic_pH_detection)}'}\n>>> with patch('builtins.print') as mock_print:\n...     scorer.add_response(response)\n...     scorer.submit()\n>>> assert len(parameters) == 2, f'Expected 2 parameters, found {len(parameters)}'\n>>> assert 'acidic_pH_detection' in locals(), 'Function acidic_pH_detection is not defined.'\n>>> assert callable(acidic_pH_detection), 'acidic_pH_detection is not callable.'\n",
         "hidden": false,
         "locked": false,
         "points": 2,
         "success_message": "Function correctly implemented."
        },
        {
         "code": ">>> import drexel_jupyter_logger\n>>> from unittest.mock import patch\n>>> from ENGR131_Util_2024 import submit_score\n>>> scorer = submit_score()\n>>> question_id = 'q2_2'\n>>> expected_message = 'First acidic solution detected below threshold found at index 3 with pH 4.8.'\n>>> with patch('builtins.print') as mock_print:\n...     new_pH_levels = [6.5, 6.7, 6.8, 4.8, 5.1, 5.5]\n...     (index, pH) = acidic_pH_detection(new_pH_levels, threshold_pH)\n...     mock_print.assert_called_once_with(expected_message)\n>>> if mock_print.call_args[0][0] == expected_message:\n...     score = 2\n...     drexel_jupyter_logger.variable_logger_csv('2, 2', question_id)\n... else:\n...     score = 0\n>>> response = {'question_id': question_id, 'score': score, 'max_score': 2, 'student_response': f'{mock_print.call_args[0][0]}'}\n>>> with patch('builtins.print') as mock_print:\n...     scorer.add_response(response)\n...     scorer.submit()\n",
         "hidden": false,
         "locked": false,
         "points": 2,
         "success_message": "Test for acidity detection implemented correctly."
        },
        {
         "code": ">>> import drexel_jupyter_logger\n>>> from unittest.mock import patch\n>>> from ENGR131_Util_2024 import submit_score\n>>> scorer = submit_score()\n>>> question_id = 'q2_3'\n>>> with patch('builtins.print') as mock_print:\n...     new_pH_levels = [6.5, 6.8, 7.2, 4.5, 5.5, 6.0]\n...     acidic_result = acidic_pH_detection(new_pH_levels, threshold_pH)\n>>> if isinstance(acidic_result, tuple) and acidic_result == (3, 4.5):\n...     score = 3\n...     drexel_jupyter_logger.variable_logger_csv('3, 3', question_id)\n... else:\n...     score = 0\n>>> response = {'question_id': question_id, 'score': score, 'max_score': 3, 'student_response': f'{acidic_result}, {type(acidic_result)}'}\n>>> with patch('builtins.print') as mock_print:\n...     scorer.add_response(response)\n...     scorer.submit()\n>>> assert isinstance(acidic_result, tuple), 'The function does not return a tuple.'\n>>> assert acidic_result == (3, 4.5), 'The function does not return the correct index and pH value.'\n",
         "hidden": false,
         "locked": false,
         "points": 3,
         "success_message": "Function correctly returns a numerical value."
        },
        {
         "code": ">>> import drexel_jupyter_logger\n>>> from unittest.mock import patch\n>>> from ENGR131_Util_2024 import submit_score\n>>> scorer = submit_score()\n>>> question_id = 'q2_4'\n>>> expected_message = 'No acidic solution was detected below the threshold of 5.0.'\n>>> with patch('builtins.print') as mock_print:\n...     threshold_pH = 5.0\n...     out = acidic_pH_detection([6.5, 7.2, 7.8], threshold_pH)\n...     mock_print.assert_called_once_with(expected_message)\n>>> if mock_print.call_args[0][0] == expected_message and None == out:\n...     score = 3\n...     drexel_jupyter_logger.variable_logger_csv('3, 3', question_id)\n... else:\n...     score = 0\n>>> response = {'question_id': question_id, 'score': score, 'max_score': 3, 'student_response': f'{mock_print.call_args[0][0]}, {out}'}\n>>> with patch('builtins.print') as mock_print:\n...     scorer.add_response(response)\n...     scorer.submit()\n>>> assert None == out, 'The function should return None for both index and value when no pH level below the threshold is detected.'\n",
         "hidden": false,
         "locked": false,
         "points": 3,
         "success_message": "default acidity detection is implemented correctly."
        },
        {
         "code": ">>> import drexel_jupyter_logger\n>>> from unittest.mock import patch\n>>> from ENGR131_Util_2024 import submit_score\n>>> scorer = submit_score()\n>>> question_id = 'q2_5'\n>>> with patch('builtins.print') as mock_print:\n...     assert acidic_solution == (5, 4.8), 'The acidic solution index and pH value do not match the expected output.'\n>>> if acidic_solution == (5, 4.8):\n...     score = 4\n...     drexel_jupyter_logger.variable_logger_csv('4, 4', question_id)\n... else:\n...     score = 0\n>>> response = {'question_id': question_id, 'score': score, 'max_score': 4, 'student_response': f'{acidic_solution}'}\n>>> with patch('builtins.print') as mock_print:\n...     scorer.add_response(response)\n...     scorer.submit()\n",
         "hidden": false,
         "locked": false,
         "points": 4,
         "success_message": "acidic_solution does not return the correct value."
        }
       ],
       "scored": true,
       "setup": "",
       "teardown": "",
       "type": "doctest"
      }
     ]
    }
   }
  },
  "varInspector": {
   "cols": {
    "lenName": 16,
    "lenType": 16,
    "lenVar": 40
   },
   "kernels_config": {
    "python": {
     "delete_cmd_postfix": "",
     "delete_cmd_prefix": "del ",
     "library": "var_list.py",
     "varRefreshCmd": "print(var_dic_list())"
    },
    "r": {
     "delete_cmd_postfix": ") ",
     "delete_cmd_prefix": "rm(",
     "library": "var_list.r",
     "varRefreshCmd": "cat(var_dic_list()) "
    }
   },
   "types_to_exclude": [
    "module",
    "function",
    "builtin_function_or_method",
    "instance",
    "_Feature"
   ],
   "window_display": false
  },
  "vscode": {
   "interpreter": {
    "hash": "31f2aee4e71d21fbe5cf8b01ff0e069b9275f58929596ceb00d14d90e3e16cd6"
   }
  }
 },
 "nbformat": 4,
 "nbformat_minor": 4
}
