{
 "cells": [
  {
   "cell_type": "markdown",
   "metadata": {
    "slideshow": {
     "slide_type": "slide"
    }
   },
   "source": [
    "# 📝 Introduction to Plotting in Python\n",
    "\n",
    "- Python would serve you well as your primary tool for visualizing quantitative data for most classes you will take as well as in your career.\n",
    "\n",
    "- Matplotlib is the most common used Python package for 2-dimensional graphics.\n"
   ]
  },
  {
   "cell_type": "markdown",
   "metadata": {
    "slideshow": {
     "slide_type": "subslide"
    }
   },
   "source": [
    "## Data visualization\n",
    "\n",
    "- Graphics display information using a coordinate system, numbers, lines, symbols, words, shading, and color.\n"
   ]
  },
  {
   "cell_type": "markdown",
   "metadata": {
    "slideshow": {
     "slide_type": "fragment"
    }
   },
   "source": [
    "- Graphics are instruments for reasoning about quantitative information.\n",
    "\n",
    "- Valuable graphics allow large collections of data to be turned into actionable information.\n",
    "\n",
    "- For engineers, making **easy-to-interpret, honest graphical representations of information** is often the most effective way of communicating scientific information.\n",
    "\n",
    "- **Graphics can be more informative than statistics!**\n",
    "\n"
   ]
  },
  {
   "cell_type": "markdown",
   "metadata": {
    "slideshow": {
     "slide_type": "subslide"
    }
   },
   "source": [
    "### What characterizes a valuable graphic?\n"
   ]
  },
  {
   "cell_type": "markdown",
   "metadata": {
    "slideshow": {
     "slide_type": "fragment"
    }
   },
   "source": [
    "- Presents data accurately, clearly, and efficiently\n"
   ]
  },
  {
   "cell_type": "markdown",
   "metadata": {
    "slideshow": {
     "slide_type": "fragment"
    }
   },
   "source": [
    "- Encourages the viewer to relate important pieces of information\n"
   ]
  },
  {
   "cell_type": "markdown",
   "metadata": {
    "slideshow": {
     "slide_type": "slide"
    }
   },
   "source": [
    "## Examples of data visualization\n",
    "Famous dot map of deaths from Cholera in central London in September 1854 by Dr. John Snow \n",
    "\n",
    "**What could someone learn from reading this graphic?**\n",
    "\n",
    "![title](figs/snow.png)\n",
    "\n"
   ]
  },
  {
   "cell_type": "markdown",
   "metadata": {
    "slideshow": {
     "slide_type": "slide"
    }
   },
   "source": [
    "### Including Various Dimensions\n",
    "\n",
    "- Most data have at least two dimensions, which are represented on an x-axis and y-axis.\n",
    "\n",
    "- Color, size, and marker type are common ways to represent additional dimensions of data.\n"
   ]
  },
  {
   "cell_type": "markdown",
   "metadata": {
    "slideshow": {
     "slide_type": "fragment"
    }
   },
   "source": [
    "**What are the dimensions of data shown here and which feature on the figure is used to show each one?**"
   ]
  },
  {
   "cell_type": "markdown",
   "metadata": {
    "slideshow": {
     "slide_type": "fragment"
    }
   },
   "source": [
    "<img src=https://raw.githubusercontent.com/DrexelEngineering/ENGR131_W2023/main/jupyterbook/week10/lecture10/median-annual-wages-in-2.png>\n"
   ]
  },
  {
   "cell_type": "markdown",
   "metadata": {
    "slideshow": {
     "slide_type": "slide"
    }
   },
   "source": [
    "## Principles of Graphical Excellence\n",
    "\n",
    "- Presentation of data needs to consider _substance, statistics, and design_\n"
   ]
  },
  {
   "cell_type": "markdown",
   "metadata": {
    "slideshow": {
     "slide_type": "fragment"
    }
   },
   "source": [
    "- Complex ideas should be communicated with _clarity, precision, and efficiency_\n"
   ]
  },
  {
   "cell_type": "markdown",
   "metadata": {
    "slideshow": {
     "slide_type": "fragment"
    }
   },
   "source": [
    "- Graphics must not deceive the audience, intentionally or unintentionally."
   ]
  },
  {
   "cell_type": "markdown",
   "metadata": {
    "slideshow": {
     "slide_type": "subslide"
    }
   },
   "source": [
    "### What is wrong with this figure?\n",
    "\n",
    "<img src=\"figs/Army_Figure.png\" width=\"1200\">\n"
   ]
  },
  {
   "cell_type": "markdown",
   "metadata": {
    "slideshow": {
     "slide_type": "subslide"
    }
   },
   "source": [
    "## Guiding Principles\n"
   ]
  },
  {
   "cell_type": "markdown",
   "metadata": {
    "slideshow": {
     "slide_type": "subslide"
    }
   },
   "source": [
    "### Appropriate visualization for the data\n",
    "\n",
    "- Avoid if possible since people are not good at determining angles.\n",
    "\n",
    "  ![title](Figs/pie_chart_1.png)\n"
   ]
  },
  {
   "cell_type": "markdown",
   "metadata": {
    "slideshow": {
     "slide_type": "fragment"
    }
   },
   "source": [
    "- A bar chart or a line chart is much more informative\n",
    "\n",
    "    ![title](Figs/bar_chart_1.png)\n",
    "\n"
   ]
  },
  {
   "cell_type": "markdown",
   "metadata": {
    "slideshow": {
     "slide_type": "subslide"
    }
   },
   "source": [
    "### Plots with multiple y-axes\n",
    "\n",
    "- Multiple y-axes are possible when it is important to show the interrelationship of two variables with different absolute values.\n",
    "\n",
    "- Be intentional and careful when choosing this strategy.\n"
   ]
  },
  {
   "cell_type": "markdown",
   "metadata": {
    "slideshow": {
     "slide_type": "fragment"
    }
   },
   "source": [
    "![title](Figs/two_lines_1.png)\n"
   ]
  },
  {
   "cell_type": "markdown",
   "metadata": {
    "slideshow": {
     "slide_type": "fragment"
    }
   },
   "source": [
    "![title](Figs/two_lines_2.png)\n"
   ]
  },
  {
   "cell_type": "markdown",
   "metadata": {
    "slideshow": {
     "slide_type": "fragment"
    }
   },
   "source": [
    "### Make the y-value zero at the origin\n",
    "\n",
    "- Most bar charts and figures with physical quantities are best represented with a value of zero at the origin.\n",
    "- If the reference point and all of the values are greater than zero, it may be acceptable to have a non-zero value at the origin.\n"
   ]
  },
  {
   "cell_type": "markdown",
   "metadata": {
    "slideshow": {
     "slide_type": "slide"
    }
   },
   "source": [
    "## How to plot in Python\n",
    "\n",
    "Plotting is easy using matplotlib."
   ]
  },
  {
   "cell_type": "code",
   "execution_count": 1,
   "metadata": {
    "slideshow": {
     "slide_type": "fragment"
    }
   },
   "outputs": [
    {
     "data": {
      "image/png": "[encoded data removed]",
      "text/plain": [
       "<Figure size 640x480 with 1 Axes>"
      ]
     },
     "metadata": {},
     "output_type": "display_data"
    }
   ],
   "source": [
    "import matplotlib.pyplot as plt\n",
    "\n",
    "# some example data\n",
    "x = [1, 2, 3, 4, 5]\n",
    "y = [2, 4, 6, 8, 10]\n",
    "\n",
    "# try to plot the data\n",
    "try:\n",
    "    plt.plot(x, y)\n",
    "    plt.show()\n",
    "except:\n",
    "    print(\"Something went wrong with the plot!\")\n"
   ]
  },
  {
   "cell_type": "markdown",
   "metadata": {
    "slideshow": {
     "slide_type": "fragment"
    }
   },
   "source": [
    "You might have noticed we used `try` and `except` this is called exception handling."
   ]
  },
  {
   "cell_type": "markdown",
   "metadata": {
    "slideshow": {
     "slide_type": "fragment"
    }
   },
   "source": [
    "If a code in a try statement encounters an error it continues with the except statement. \n",
    "* This is helpful in making code where it is not easy to define a branching statement for all cases.\n",
    "* This is also the basis of error handeling, which makes your code fail gracefully."
   ]
  },
  {
   "cell_type": "code",
   "execution_count": 9,
   "metadata": {},
   "outputs": [
    {
     "name": "stdout",
     "output_type": "stream",
     "text": [
      "Something went wrong with the plot!\n"
     ]
    },
    {
     "data": {
      "image/png": "[encoded data removed]",
      "text/plain": [
       "<Figure size 640x480 with 1 Axes>"
      ]
     },
     "metadata": {},
     "output_type": "display_data"
    }
   ],
   "source": [
    "import matplotlib.pyplot as plt\n",
    "\n",
    "# some example data\n",
    "x = [1, 2, 3, 4, plt]\n",
    "y = [2, 4, 6, 8, 10]\n",
    "\n",
    "# try to plot the data\n",
    "try:\n",
    "    plt.plot(x, y)\n",
    "except:\n",
    "    print(\"Something went wrong with the plot!\")"
   ]
  },
  {
   "cell_type": "code",
   "execution_count": null,
   "metadata": {},
   "outputs": [],
   "source": []
  }
 ],
 "metadata": {
  "celltoolbar": "Slideshow",
  "kernelspec": {
   "display_name": "Python 3 (ipykernel)",
   "language": "python",
   "name": "python3"
  },
  "language_info": {
   "codemirror_mode": {
    "name": "ipython",
    "version": 3
   },
   "file_extension": ".py",
   "mimetype": "text/x-python",
   "name": "python",
   "nbconvert_exporter": "python",
   "pygments_lexer": "ipython3",
   "version": "3.10.8"
  },
  "varInspector": {
   "cols": {
    "lenName": 16,
    "lenType": 16,
    "lenVar": 40
   },
   "kernels_config": {
    "python": {
     "delete_cmd_postfix": "",
     "delete_cmd_prefix": "del ",
     "library": "var_list.py",
     "varRefreshCmd": "print(var_dic_list())"
    },
    "r": {
     "delete_cmd_postfix": ") ",
     "delete_cmd_prefix": "rm(",
     "library": "var_list.r",
     "varRefreshCmd": "cat(var_dic_list()) "
    }
   },
   "types_to_exclude": [
    "module",
    "function",
    "builtin_function_or_method",
    "instance",
    "_Feature"
   ],
   "window_display": false
  },
  "vscode": {
   "interpreter": {
    "hash": "e835d8de9a0409e820855848a60c95be96ca5080ca1ac35ced475904bcfc4405"
   }
  }
 },
 "nbformat": 4,
 "nbformat_minor": 2
}
