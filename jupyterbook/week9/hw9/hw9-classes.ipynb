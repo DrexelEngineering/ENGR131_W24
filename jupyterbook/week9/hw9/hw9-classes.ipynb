{
 "cells": [
  {
   "cell_type": "code",
   "execution_count": null,
   "metadata": {
    "deletable": false,
    "editable": false,
    "tags": [
     "skip-execution"
    ]
   },
   "outputs": [],
   "source": [
    "# Initialize Otter\n",
    "import otter\n",
    "grader = otter.Notebook(\"hw9-classes.ipynb\")"
   ]
  },
  {
   "attachments": {},
   "cell_type": "markdown",
   "metadata": {
    "editable": false
   },
   "source": [
    "# Homework 9\n",
    "\n",
    "This assignment includes three problems on the topic of classes.\n",
    "\n"
   ]
  },
  {
   "cell_type": "markdown",
   "metadata": {
    "editable": false
   },
   "source": [
    "## Entering Your Information for Credit\n",
    "\n",
    "To receive credit for assignments it is important we can identify your work from others. To do this we will ask you to enter your information in the following code block.\n",
    "\n",
    "### Before you begin\n",
    "\n",
    "Run the block of code at the top of the notebook that imports and sets up the autograder. This will allow you to check your work. "
   ]
  },
  {
   "cell_type": "code",
   "execution_count": null,
   "metadata": {
    "tags": [
     "skip-execution"
    ]
   },
   "outputs": [],
   "source": [
    "# Please provide your first name, last name, Drexel ID, and Drexel email. Make sure these are provided as strings. \"STRINGS ARE TEXT ENCLOSED IN QUOTATION MARKS.\"\n",
    "\n",
    "# In the assignments you will see sections of code that you need to fill in that are marked with ... (three dots). Replace the ... with your code.\n",
    "first_name = ...\n",
    "last_name = ...\n",
    "drexel_id = ...\n",
    "drexel_email = ...\n"
   ]
  },
  {
   "cell_type": "code",
   "execution_count": null,
   "metadata": {
    "deletable": false,
    "editable": false,
    "tags": [
     "skip-execution"
    ]
   },
   "outputs": [],
   "source": [
    "grader.check(\"q0-Checking-Your-Name\")"
   ]
  },
  {
   "cell_type": "markdown",
   "metadata": {
    "editable": false
   },
   "source": [
    "## Entering Your Information for Credit\n",
    "\n",
    "To receive credit for assignments, it is important we can identify your work from others. To do this, we will ask you to enter your information in the following code block.\n",
    "\n",
    "### Before you begin\n",
    "\n",
    "Run the block of code at the top of the notebook that imports and sets up the autograder. This will allow you to check your work. "
   ]
  },
  {
   "attachments": {},
   "cell_type": "markdown",
   "metadata": {
    "deletable": false,
    "editable": false
   },
   "source": [
    "**Question 1: Nutritional Information** \n",
    "\n",
    "Your task is to write a class called `FoodItem`. The class constructor should initialize a new food item given a name and amounts of fat, carbs, and protein (in grams). The class should also have a method called `get_calories` which returns the estimated amount of calories in a serving of the food item.\n",
    "\n",
    "To estimate calories $x$ given the grams of fat $f$, carbs $c$, and protein $p$, you should use the following approximation:\n",
    "\n",
    "$$x = 9f + 4c + 4p$$\n",
    "\n",
    "\n",
    "Write python code to do the following:\n",
    "\n",
    "* Define a class called `FoodItem`.\n",
    "* Define the class constructor to accept as arguments a string `name` and floats `fat`, `carbs`, and `protein`. The values from these argument should be stored as data members, so that they can be used in other methods. \n",
    "* Define a method within `FoodItem` called `get_calories`, which accepts no arguments (other than `self`) and returns the estimated calories, as a float.\n",
    "\n",
    "Your code replaces the prompt:  `...`"
   ]
  },
  {
   "cell_type": "code",
   "execution_count": null,
   "metadata": {
    "tags": [
     "skip-execution"
    ]
   },
   "outputs": [],
   "source": [
    "...\n",
    "\n",
    "\n",
    "# This creates a FoodItem object so you can test your class\n",
    "snack = FoodItem(\"M&Ms\", 10.0, 34.0, 2.0)\n",
    "# This calls the get_calories method on the newly created FoodItem object\n",
    "print(snack.get_calories())"
   ]
  },
  {
   "cell_type": "code",
   "execution_count": null,
   "metadata": {
    "deletable": false,
    "editable": false,
    "tags": [
     "skip-execution"
    ]
   },
   "outputs": [],
   "source": [
    "grader.check(\"q1-nutrition\")"
   ]
  },
  {
   "attachments": {},
   "cell_type": "markdown",
   "metadata": {
    "deletable": false,
    "editable": false
   },
   "source": [
    "**Question 2: Area and Perimeter of a Circle** \n",
    "\n",
    "Your task is to write a class called `Circle`. The class constructor should take as input a radius that defaults to a value of `1.0`. The class should have methods called `area` and `perimeter` which return as floats the area and perimeter of the circle, respectively.\n",
    "\n",
    "Be sure to reference `math.pi` in your calculations.\n",
    "\n",
    "\n",
    "Write python code to do the following:\n",
    "\n",
    "* Define a class called `Circle`.\n",
    "* Define the class constructor to accept as argument a float `radius` with a default value of `1.0`. This value should be stored as a data member, so that it can be used in other methods. \n",
    "* Define a method within `Circle` called `area`, which accepts no arguments (other than `self`) and returns the area, as a float.\n",
    "* Define a method within `Circle` called `perimeter`, which accepts no arguments (other than `self`) and returns the perimeter, as a float.\n",
    "\n",
    "Your code replaces the prompt:  `...`\n"
   ]
  },
  {
   "cell_type": "code",
   "execution_count": null,
   "metadata": {
    "tags": [
     "skip-execution"
    ]
   },
   "outputs": [],
   "source": [
    "...\n",
    "\n",
    "\n",
    "# This creates a Circle object so you can test your class\n",
    "c = Circle(8.0)\n",
    "# These call the area and perimeter methods on the newly created Circle object\n",
    "print(c.area())\n",
    "print(c.perimeter())"
   ]
  },
  {
   "cell_type": "code",
   "execution_count": null,
   "metadata": {
    "deletable": false,
    "editable": false,
    "tags": [
     "skip-execution"
    ]
   },
   "outputs": [],
   "source": [
    "grader.check(\"q2-area-perimeter-circle\")"
   ]
  },
  {
   "attachments": {},
   "cell_type": "markdown",
   "metadata": {
    "deletable": false,
    "editable": false
   },
   "source": [
    "**Question 3: 3D Point Class** \n",
    "\n",
    "Your task is to create a class called Point3D that implements a point in 3-D space. Objects of this class are constructed with three arguments `x`,`y`,and `z`, which all default to zero.\n",
    "\n",
    "Inside the class you will implement a number of \"magic\" methods in python, the methods with names surrounded by double underscores. Specifically, you will implement the proper methods to allow addition, subtraction and equality checking between two Point3D instances. You will also implement the proper method to control how a Point3D object is printed.\n",
    "\n",
    "Specifics regarding how these should be implemented follow.\n",
    "\n",
    "Write python code to do the following:\n",
    "\n",
    "* Define a class called `Point3D`.\n",
    "* Define the class constructor to accept as arguments 3 numbers `x`, `y`, and `z` which all default to `0`. These values should be stored as data members (called `x`, `y`, and `z`), so that they can be used in the other methods. \n",
    "* Addition: define a method such that, given Point3D objects `a` and `b`, `a + b` returns a new Point3D object whose `x`, `y`, and `z` values are the sums of the `x`, `y` and `z` values of points `a` and `b`. (Hint: the built in function for addition is `__add__()`)\n",
    "* Subtraction: define a method such that, given Point3D objects `a` and `b`, `a - b` returns a float representing the Euclidean distance between points `a` and `b`.\n",
    "* Equality: define a method such that, given Point3D objects `a` and `b`, `a == b` returns True if and only if the `x`, `y` and `z` values of point `a` and `b` are equal.\n",
    "* Printing: define a method such that, given a Point3D object `a`, `print(a)` prints in the format `<a.x, b.y, c.z>`. (Hint: the built in `print` function will call the `__str__()` method on the input to convert the input into a string before printing.)"
   ]
  },
  {
   "attachments": {},
   "cell_type": "markdown",
   "metadata": {
    "deletable": false,
    "editable": false
   },
   "source": [
    "After your class has been implemented, it should be able to be used as follows:"
   ]
  },
  {
   "cell_type": "raw",
   "metadata": {
    "deletable": false,
    "editable": false
   },
   "source": [
    "p1=Point3D(1,1,1)\n",
    "p2=Point3D(2,2,2)\n",
    "print(p1 + p2)\n",
    "[output]: <3, 3, 3>\n",
    "\n",
    "print(p1-p2)\n",
    "[output]: 1.7320508075688772\n",
    "\n",
    "p1==p2\n",
    "[output]: False\n",
    "\n",
    "p1+p1==p2\n",
    "[output]: True\n",
    "\n",
    "p1==p2+Point3D(-1,-1,-1)\n",
    "[output]: True"
   ]
  },
  {
   "attachments": {},
   "cell_type": "markdown",
   "metadata": {
    "deletable": false,
    "editable": false
   },
   "source": [
    "Your code replaces the prompt:  `...`"
   ]
  },
  {
   "cell_type": "code",
   "execution_count": null,
   "metadata": {
    "tags": [
     "skip-execution"
    ]
   },
   "outputs": [],
   "source": [
    "...\n",
    "\n",
    "\n",
    "# You can manipulate these points (and make others!) to test your class \n",
    "p1 = Point3D(1,1,1)\n",
    "p2 = Point3D(2,2,2)"
   ]
  },
  {
   "cell_type": "code",
   "execution_count": null,
   "metadata": {
    "deletable": false,
    "editable": false,
    "tags": [
     "skip-execution"
    ]
   },
   "outputs": [],
   "source": [
    "grader.check(\"q3-point3d\")"
   ]
  },
  {
   "cell_type": "markdown",
   "metadata": {
    "editable": false
   },
   "source": [
    "## Submitting Your Assignment\n",
    "\n",
    "To submit your assignment please use the following link the assignment on GitHub classroom.\n",
    "   \n",
    "Use this [link](https://classroom.github.com/a/cxTEzdqI) to navigate to the assignment on GitHub classroom.\n",
    "\n",
    "If you need further instructions on submitting your assignment please look at Lab 1. \n",
    "\n",
    "## Viewing your score\n",
    "\n",
    "**It is your responsibility to ensure that your grade report shows correctly. We can only provide corrections to grades if a grading error is determined. If you do not receive a grade report your grade has not been recorded. It is your responsibility either resubmit the assignment correctly or contact the instructors before the assignment due date.**\n",
    "\n",
    "Each `.ipynb` file you have uploaded will have a file with the name of your file + `Grade_Report.md`. You can view this file by clicking on the file name. This will show you the results of the autograder. \n",
    "\n",
    "We have both public and hidden tests. You will be able to see the score of both tests, but not the specific details of why the test passed or failed. \n",
    "\n",
    "```{note}\n",
    "In python and particularly jupyter notebooks it is common that during testing you run cells in a different order, or run cells and modify them. This can cause there to be local variables needed for your solution that would not be recreated on running your code again from scratch. Your assignment will be graded based on running your code from scratch. This means before you submit your assignment you should restart the kernel and run all cells. You can do this by clicking `Kernel` and selecting `Restart and Run All`. If you code does not run as expected after restarting the kernel and running all cells it means you have an error in your code. \n",
    "```\n",
    "\n",
    "## Fin"
   ]
  }
 ],
 "metadata": {
  "kernelspec": {
   "display_name": "base",
   "language": "python",
   "name": "python3"
  },
  "language_info": {
   "codemirror_mode": {
    "name": "ipython",
    "version": 3
   },
   "file_extension": ".py",
   "mimetype": "text/x-python",
   "name": "python",
   "nbconvert_exporter": "python",
   "pygments_lexer": "ipython3",
   "version": "3.9.13"
  },
  "otter": {
   "OK_FORMAT": true,
   "tests": {
    "q0-Checking-Your-Name": {
     "name": "q0-Checking-Your-Name",
     "points": null,
     "suites": [
      {
       "cases": [
        {
         "code": ">>> def get_local_part(email):\n...     return email.split('@')[0]\n>>> local_part_email = get_local_part(drexel_email)\n>>> assert local_part_email == drexel_id, f\"The DrexelID extracted from the email '{local_part_email}' does not match the Drexel ID '{drexel_id}'.\"\n",
         "failure_message": "It does not appear that you entered your information correctly. Please try again.",
         "hidden": false,
         "locked": false,
         "points": 0,
         "success_message": "You have entered your information correctly."
        }
       ],
       "scored": true,
       "setup": "",
       "teardown": "",
       "type": "doctest"
      }
     ]
    },
    "q1-nutrition": {
     "name": "q1-nutrition",
     "points": null,
     "suites": [
      {
       "cases": [
        {
         "code": ">>> assert '__init__' in dir(FoodItem)\n",
         "failure_message": "constructor not correctly defined.",
         "hidden": false,
         "locked": false,
         "points": 1,
         "success_message": "constructor is defined."
        },
        {
         "code": ">>> assert 'get_calories' in dir(FoodItem)\n",
         "failure_message": "you have no method called get_calories.",
         "hidden": false,
         "locked": false,
         "points": 1,
         "success_message": "you have a method called get_calories."
        },
        {
         "code": ">>> test_cals = FoodItem('apple', 1, 20, 1).get_calories()\n>>> assert type(test_cals) == type(1.0)\n",
         "failure_message": "your method get_calories does not return a float.",
         "hidden": false,
         "locked": false,
         "points": 1,
         "success_message": "your method get_calories returns a float."
        },
        {
         "code": ">>> test_cals = FoodItem('apple', 1, 20, 1).get_calories()\n>>> assert test_cals == 93.0\n",
         "failure_message": "an incorrect amount of calories are given for FoodItem(\"apple\", 1, 20, 1).",
         "hidden": false,
         "locked": false,
         "points": 1,
         "success_message": "the correct amount of calories are given for FoodItem(\"apple\", 1, 20, 1)."
        },
        {
         "code": ">>> test_cals = FoodItem('cookie', 19.0, 52.0, 4.5).get_calories()\n>>> assert test_cals == 397.0\n",
         "failure_message": "an incorrect amount of calories are given for FoodItem(\"cookie\", 19.0, 52.0, 4.5).",
         "hidden": false,
         "locked": false,
         "points": 1,
         "success_message": "the correct amount of calories are given for FoodItem(\"cookie\", 19.0, 52.0, 4.5)."
        }
       ],
       "scored": true,
       "setup": "",
       "teardown": "",
       "type": "doctest"
      }
     ]
    },
    "q2-area-perimeter-circle": {
     "name": "q2-area-perimeter-circle",
     "points": null,
     "suites": [
      {
       "cases": [
        {
         "code": ">>> assert '__init__' in dir(Circle)\n",
         "failure_message": "constructor not correctly defined.",
         "hidden": false,
         "locked": false,
         "points": 1,
         "success_message": "constructor is defined."
        },
        {
         "code": ">>> assert 'area' in dir(Circle) and 'perimeter' in dir(Circle)\n",
         "failure_message": "you are missing at least one of these methods - area, perimeter.",
         "hidden": false,
         "locked": false,
         "points": 1,
         "success_message": "you have methods called area and perimeter."
        },
        {
         "code": ">>> test_circle = Circle(8.0)\n>>> test_a = test_circle.area()\n>>> test_p = test_circle.perimeter()\n>>> assert type(test_a) == type(1.0) and type(test_p) == type(1.0)\n",
         "failure_message": "at least one of the following methods does not return a float - area, perimeter",
         "hidden": false,
         "locked": false,
         "points": 1,
         "success_message": "your methods area and perimeter both return a float."
        },
        {
         "code": ">>> import numpy as np\n>>> test_circle = Circle(8.0)\n>>> test_a = test_circle.area()\n>>> test_p = test_circle.perimeter()\n>>> assert np.isclose([test_a, test_p], [201.06192982974676, 50.26548245743669]).all()\n",
         "failure_message": "incorrect area and/or perimeter for Circle(8.0).",
         "hidden": false,
         "locked": false,
         "points": 1,
         "success_message": "correct area and perimeter for Circle(8.0)."
        },
        {
         "code": ">>> import numpy as np\n>>> test_circle = Circle()\n>>> test_a = test_circle.area()\n>>> test_p = test_circle.perimeter()\n>>> assert np.isclose([test_a, test_p], [3.141592653589793, 6.283185307179586]).all()\n",
         "failure_message": "incorrect area and/or perimeter for Circle with default radius.",
         "hidden": false,
         "locked": false,
         "points": 1,
         "success_message": "correct area and perimeter for Circle with default radius."
        }
       ],
       "scored": true,
       "setup": "",
       "teardown": "",
       "type": "doctest"
      }
     ]
    },
    "q3-point3d": {
     "name": "q3-point3d",
     "points": null,
     "suites": [
      {
       "cases": [
        {
         "code": ">>> assert '__init__' in dir(Point3D)\n",
         "failure_message": "constructor not correctly defined.",
         "hidden": false,
         "locked": false,
         "points": 1,
         "success_message": "constructor is defined."
        },
        {
         "code": ">>> assert '__add__' in dir(Point3D)\n",
         "failure_message": "addition is not defined.",
         "hidden": false,
         "locked": false,
         "points": 1,
         "success_message": "addition is defined."
        },
        {
         "code": ">>> assert '__sub__' in dir(Point3D)\n",
         "failure_message": "subtraction is not defined.",
         "hidden": false,
         "locked": false,
         "points": 1,
         "success_message": "subtraction is defined."
        },
        {
         "code": ">>> assert '__eq__' in dir(Point3D)\n",
         "failure_message": "equality checking is not defined.",
         "hidden": false,
         "locked": false,
         "points": 1,
         "success_message": "equality checking is defined."
        },
        {
         "code": ">>> assert '__str__' in dir(Point3D) or '__repr__' in dir(Point3D)\n",
         "failure_message": "print controlling is not defined.",
         "hidden": false,
         "locked": false,
         "points": 1,
         "success_message": "print controlling is defined."
        },
        {
         "code": ">>> default_point = Point3D()\n>>> assert default_point.x == 0 and default_point.y == 0 and (default_point.z == 0)\n",
         "failure_message": "default values incorrectly assigned.",
         "hidden": false,
         "locked": false,
         "points": 1,
         "success_message": "default values correctly assigned."
        },
        {
         "code": ">>> p1 = Point3D(3.58, 2, -7)\n>>> p2 = Point3D(0.1, -2, 4)\n>>> p3 = p1 + p2\n>>> assert p3.x == 3.68 and p3.y == 0 and (p3.z == -3) and (type(p3) == type(Point3D()))\n",
         "failure_message": "addition test failed.",
         "hidden": false,
         "locked": false,
         "points": 1,
         "success_message": "addition test passed."
        },
        {
         "code": ">>> import numpy as np\n>>> p1 = Point3D(3.58, 2, -7)\n>>> p2 = Point3D(0.1, -2, 4)\n>>> dist = p1 - p2\n>>> assert np.isclose([dist], 12.211076938583263).all()\n",
         "failure_message": "subtraction test failed.",
         "hidden": false,
         "locked": false,
         "points": 1,
         "success_message": "subtraction test passed."
        },
        {
         "code": ">>> import numpy as np\n>>> p0 = Point3D(0, 0, 0)\n>>> p1 = Point3D(1, 1, 1)\n>>> pd = Point3D()\n>>> assert p0 != p1 and p0 == pd\n",
         "failure_message": "equality test failed.",
         "hidden": false,
         "locked": false,
         "points": 1,
         "success_message": "equality test passed."
        },
        {
         "code": ">>> import numpy as np\n>>> p0 = Point3D(1, 2, 3)\n>>> assert str(p0) == '<1, 2, 3>' or repr(p0) == '<1, 2, 3>'\n",
         "failure_message": "printing test failed.",
         "hidden": false,
         "locked": false,
         "points": 1,
         "success_message": "printing test passed."
        }
       ],
       "scored": true,
       "setup": "",
       "teardown": "",
       "type": "doctest"
      }
     ]
    }
   }
  },
  "varInspector": {
   "cols": {
    "lenName": 16,
    "lenType": 16,
    "lenVar": 40
   },
   "kernels_config": {
    "python": {
     "delete_cmd_postfix": "",
     "delete_cmd_prefix": "del ",
     "library": "var_list.py",
     "varRefreshCmd": "print(var_dic_list())"
    },
    "r": {
     "delete_cmd_postfix": ") ",
     "delete_cmd_prefix": "rm(",
     "library": "var_list.r",
     "varRefreshCmd": "cat(var_dic_list()) "
    }
   },
   "types_to_exclude": [
    "module",
    "function",
    "builtin_function_or_method",
    "instance",
    "_Feature"
   ],
   "window_display": false
  },
  "vscode": {
   "interpreter": {
    "hash": "d5b418e505f4528d10acf0213fd49b7bcb757f0a07f8b53d30dfcb3b049c93cc"
   }
  }
 },
 "nbformat": 4,
 "nbformat_minor": 4
}
