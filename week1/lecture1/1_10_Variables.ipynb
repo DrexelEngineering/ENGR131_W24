{
 "cells": [
  {
   "attachments": {},
   "cell_type": "markdown",
   "id": "8ecc890f",
   "metadata": {
    "slideshow": {
     "slide_type": "slide"
    }
   },
   "source": [
    "# 📝 Variables and Objects"
   ]
  },
  {
   "cell_type": "markdown",
   "id": "8d032c31",
   "metadata": {
    "slideshow": {
     "slide_type": "fragment"
    }
   },
   "source": [
    "Variables are containers for storing data values.\n"
   ]
  },
  {
   "cell_type": "markdown",
   "id": "2ce5e252",
   "metadata": {
    "slideshow": {
     "slide_type": "fragment"
    }
   },
   "source": [
    "Python does note require that you declare variables, they are created once assigned with the `=` operator"
   ]
  },
  {
   "cell_type": "code",
   "execution_count": null,
   "id": "c4a0a2e9",
   "metadata": {
    "slideshow": {
     "slide_type": "fragment"
    }
   },
   "outputs": [],
   "source": [
    "x = 5"
   ]
  },
  {
   "cell_type": "code",
   "execution_count": null,
   "id": "0ffa6858",
   "metadata": {
    "slideshow": {
     "slide_type": "fragment"
    }
   },
   "outputs": [],
   "source": [
    "y = \"Drexel\""
   ]
  },
  {
   "cell_type": "code",
   "execution_count": null,
   "id": "704656f0",
   "metadata": {
    "slideshow": {
     "slide_type": "fragment"
    }
   },
   "outputs": [],
   "source": [
    "print(x)"
   ]
  },
  {
   "cell_type": "code",
   "execution_count": null,
   "id": "9340e1f7",
   "metadata": {
    "slideshow": {
     "slide_type": "fragment"
    }
   },
   "outputs": [],
   "source": [
    "print(y)"
   ]
  },
  {
   "cell_type": "markdown",
   "id": "53ca1a6e",
   "metadata": {
    "slideshow": {
     "slide_type": "fragment"
    }
   },
   "source": [
    "You do not need to declare the DataType of a variable it is inferred"
   ]
  },
  {
   "cell_type": "code",
   "execution_count": null,
   "id": "9d400314",
   "metadata": {
    "slideshow": {
     "slide_type": "fragment"
    }
   },
   "outputs": [],
   "source": [
    "x = 5\n",
    "print(type(x))"
   ]
  },
  {
   "cell_type": "code",
   "execution_count": null,
   "id": "d2ad54f9",
   "metadata": {
    "slideshow": {
     "slide_type": "fragment"
    }
   },
   "outputs": [],
   "source": [
    "x = 5.0\n",
    "print(type(x))"
   ]
  },
  {
   "cell_type": "code",
   "execution_count": null,
   "id": "9869c9b4",
   "metadata": {
    "slideshow": {
     "slide_type": "fragment"
    }
   },
   "outputs": [],
   "source": [
    "x = 'Drexel'\n",
    "print(type(x))"
   ]
  },
  {
   "cell_type": "markdown",
   "id": "2dd55c8e",
   "metadata": {
    "slideshow": {
     "slide_type": "slide"
    }
   },
   "source": [
    "## Assigning Strings\n",
    "\n",
    "Strings can be assigned with \" or ' quotes"
   ]
  },
  {
   "cell_type": "code",
   "execution_count": null,
   "id": "03356c5b",
   "metadata": {
    "slideshow": {
     "slide_type": "fragment"
    }
   },
   "outputs": [],
   "source": [
    "x = \"Drexel\""
   ]
  },
  {
   "cell_type": "code",
   "execution_count": null,
   "id": "d36c6327",
   "metadata": {
    "slideshow": {
     "slide_type": "fragment"
    }
   },
   "outputs": [],
   "source": [
    "y = 'Drexel'"
   ]
  },
  {
   "cell_type": "markdown",
   "id": "91347913",
   "metadata": {
    "slideshow": {
     "slide_type": "fragment"
    }
   },
   "source": [
    "You can check if two variable have the same value using the `==` operator"
   ]
  },
  {
   "cell_type": "code",
   "execution_count": null,
   "id": "93fef0b8",
   "metadata": {
    "slideshow": {
     "slide_type": "fragment"
    }
   },
   "outputs": [],
   "source": [
    "x == y"
   ]
  },
  {
   "cell_type": "markdown",
   "id": "da894d7a",
   "metadata": {
    "slideshow": {
     "slide_type": "slide"
    }
   },
   "source": [
    "## Case Sensitive\n",
    "\n",
    "Variables are case sensitive"
   ]
  },
  {
   "cell_type": "code",
   "execution_count": null,
   "id": "21f0663f",
   "metadata": {
    "slideshow": {
     "slide_type": "fragment"
    }
   },
   "outputs": [],
   "source": [
    "a = \"Drexel\"\n",
    "A = 5\n",
    "print(a)\n",
    "print(A)"
   ]
  },
  {
   "cell_type": "markdown",
   "id": "6a35a858",
   "metadata": {
    "slideshow": {
     "slide_type": "slide"
    }
   },
   "source": [
    "## Variable Names"
   ]
  },
  {
   "cell_type": "markdown",
   "id": "7ea64571",
   "metadata": {
    "slideshow": {
     "slide_type": "fragment"
    }
   },
   "source": [
    "* A variable name must start with a letter or the underscore character\n",
    "* A variable name cannot start with a number\n",
    "* A variable name can only contain alpha-numeric characters and underscores (A-z, 0-9, and _ )\n",
    "* Variable names are case-sensitive (age, Age and AGE are three different variables)"
   ]
  },
  {
   "cell_type": "code",
   "execution_count": null,
   "id": "5757bb18",
   "metadata": {
    "slideshow": {
     "slide_type": "fragment"
    }
   },
   "outputs": [],
   "source": [
    "myvar = \"Drexel\"\n",
    "my_var = \"Drexel\"\n",
    "_my_var = \"Drexel\"\n",
    "myVar = \"Drexel\"\n",
    "MYVAR = \"Drexel\"\n",
    "myvar2 = \"Drexel\""
   ]
  },
  {
   "cell_type": "markdown",
   "id": "7a418c9a",
   "metadata": {
    "slideshow": {
     "slide_type": "slide"
    }
   },
   "source": [
    "## Assigning Multiple Variables\n",
    "\n",
    "Python allows you to assign values to multiple variables in one line:\n"
   ]
  },
  {
   "cell_type": "code",
   "execution_count": null,
   "id": "1d650569",
   "metadata": {
    "slideshow": {
     "slide_type": "fragment"
    }
   },
   "outputs": [],
   "source": [
    "x, y, z = \"Drexel\", \"University\", \"Engineering\"\n",
    "print(x)\n",
    "print(y)\n",
    "print(z)"
   ]
  },
  {
   "cell_type": "markdown",
   "id": "63c52f2a",
   "metadata": {
    "slideshow": {
     "slide_type": "slide"
    }
   },
   "source": [
    "## Objects\n",
    "\n",
    "All Python variables are objects who have behaviors based on their datatype. \n",
    "\n",
    "An object could be a:\n",
    "* Integer\n",
    "* String\n",
    "* Floating point number\n",
    "* Method\n",
    "\n",
    "Or any other data type"
   ]
  },
  {
   "cell_type": "markdown",
   "id": "067715a4",
   "metadata": {
    "slideshow": {
     "slide_type": "slide"
    }
   },
   "source": [
    "### String Objects\n",
    "\n",
    "When you define a string there are built-in method that can be applied. "
   ]
  },
  {
   "cell_type": "code",
   "execution_count": null,
   "id": "4a7192ee",
   "metadata": {
    "slideshow": {
     "slide_type": "fragment"
    }
   },
   "outputs": [],
   "source": [
    "DU = \"Drexel University Engineering\"\n",
    "\n",
    "# splits based on a character\n",
    "print(DU.rsplit(\" \"))"
   ]
  },
  {
   "cell_type": "code",
   "execution_count": null,
   "id": "2793e404",
   "metadata": {
    "slideshow": {
     "slide_type": "fragment"
    }
   },
   "outputs": [],
   "source": [
    "print(DU.upper())"
   ]
  },
  {
   "cell_type": "markdown",
   "id": "7ff64f2d",
   "metadata": {
    "slideshow": {
     "slide_type": "slide"
    }
   },
   "source": [
    "### Float Objects"
   ]
  },
  {
   "cell_type": "code",
   "execution_count": null,
   "id": "1fb3114e",
   "metadata": {
    "slideshow": {
     "slide_type": "fragment"
    }
   },
   "outputs": [],
   "source": [
    "num = 500."
   ]
  },
  {
   "cell_type": "code",
   "execution_count": null,
   "id": "359943ff",
   "metadata": {
    "slideshow": {
     "slide_type": "fragment"
    }
   },
   "outputs": [],
   "source": [
    "num.is_integer()"
   ]
  },
  {
   "cell_type": "code",
   "execution_count": null,
   "id": "a989ce5f",
   "metadata": {
    "slideshow": {
     "slide_type": "fragment"
    }
   },
   "outputs": [],
   "source": [
    "print(type(num))"
   ]
  }
 ],
 "metadata": {
  "celltoolbar": "Slideshow",
  "kernelspec": {
   "display_name": "Python 3 (ipykernel)",
   "language": "python",
   "name": "python3"
  },
  "language_info": {
   "codemirror_mode": {
    "name": "ipython",
    "version": 3
   },
   "file_extension": ".py",
   "mimetype": "text/x-python",
   "name": "python",
   "nbconvert_exporter": "python",
   "pygments_lexer": "ipython3",
   "version": "3.10.8 (main, Nov 24 2022, 14:13:03) [GCC 11.2.0]"
  },
  "vscode": {
   "interpreter": {
    "hash": "db982e328663a2db3b6f47ccd278f30154ccd8de8e195897b14b89b93466dc3c"
   }
  }
 },
 "nbformat": 4,
 "nbformat_minor": 5
}
